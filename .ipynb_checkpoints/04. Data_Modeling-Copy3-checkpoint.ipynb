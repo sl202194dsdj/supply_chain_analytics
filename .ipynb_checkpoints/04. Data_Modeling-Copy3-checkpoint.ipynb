{
 "cells": [
  {
   "cell_type": "code",
   "execution_count": 1,
   "metadata": {},
   "outputs": [],
   "source": [
    "'''This script pulls in salary data, builds and tests several predictive models,\n",
    "   and then makes salary predictions on test data using the best model.'''\n",
    "   \n",
    "__author__ = 'Sam M. Mfalila'\n",
    "__email__ = 'sam.mfalila@gmail.com'"
   ]
  },
  {
   "cell_type": "code",
   "execution_count": 55,
   "metadata": {},
   "outputs": [],
   "source": [
    "import numpy as np \n",
    "import pandas as pd\n",
    "from sklearn.base import BaseEstimator, TransformerMixin\n",
    "from sklearn.preprocessing import OneHotEncoder, StandardScaler\n",
    "from sklearn.impute import SimpleImputer\n",
    "from sklearn.pipeline import FeatureUnion, Pipeline\n",
    "from sklearn.pipeline import make_pipeline\n",
    "import sklearn.preprocessing\n",
    "from sklearn.compose import make_column_transformer\n",
    "from sklearn.compose import ColumnTransformer\n",
    "from sklearn.preprocessing import OneHotEncoder\n",
    "from sklearn.preprocessing import OrdinalEncoder\n",
    "from sklearn.preprocessing import StandardScaler\n",
    "#from sklearn.ensemble import RandomForestRegressor, GradientBoostingRegressor\n",
    "#from sklearn.linear_model import Lasso, Ridge, ElasticNet\n",
    "from sklearn.linear_model import LogisticRegression\n",
    "#from sklearn import svm\n",
    "from sklearn.svm import SVC\n",
    "from sklearn.ensemble import RandomForestClassifier, GradientBoostingClassifier\n",
    "from catboost import CatBoostClassifier\n",
    "\n",
    "\n",
    "#from sklearn.model_selection import GridSearchCV\n",
    "from sklearn.model_selection import RandomizedSearchCV\n",
    "import pickle\n",
    "from sklearn.feature_selection import SelectKBest\n",
    "from sklearn.feature_selection import chi2\n",
    "import matplotlib.pyplot as plt\n",
    "\n",
    "import warnings\n",
    "warnings.filterwarnings('ignore')\n",
    "\n",
    "#to adjust figsize of plots\n",
    "plt.rcParams['figure.figsize'] = (20,6)\n",
    "pd.set_option('display.max_columns', None)"
   ]
  },
  {
   "cell_type": "code",
   "execution_count": 4,
   "metadata": {},
   "outputs": [],
   "source": [
    "#Define data file path and target variable\n",
    "file = 'derived_data/train_data_abt.csv'\n",
    "target = 'got_a_TV'\n",
    "test_features = pd.read_csv('derived_data/test_data.csv')\n",
    "\n",
    "#list of categorical columns for numerical encoding\n",
    "catcols = ['member','promotion','shop_competitor','prize_won','require_financing','did_a_purchase',\n",
    "'nb_electronics','female','email','live_with_parents','work','family','state','education']\n",
    "\n",
    "class Data():\n",
    "    '''Loads data, samples training data if specified, assigns features_df and target_df\n",
    "    '''\n",
    "    def __init__(self, file, target, sample=False, n_samples=None):\n",
    "        self.file = file\n",
    "        self. sample = sample\n",
    "        self.n_sample = n_sample\n",
    "        self.target = target\n",
    "    \n",
    "    def get_data(file, sample=False, n_samples=None):\n",
    "        '''Loads train data with option to sample'''\n",
    "        data = pd.read_csv(file)\n",
    "        if sample:\n",
    "            '''Sample train data due to resource limitation'''\n",
    "            data = data.sample(n_samples, random_state=123)\n",
    "        else:\n",
    "            data = data\n",
    "        print(data.shape, 'data loaded')\n",
    "        return data\n",
    "         \n",
    "    def get_features():\n",
    "        '''Assigns features dataframe'''\n",
    "        features_df = data.drop(target, axis = 1)\n",
    "        print(features_df.shape, 'features assigned')\n",
    "        return features_df\n",
    "        \n",
    "    def get_target():\n",
    "        '''Assigns target'''\n",
    "        target_df = data[target].values\n",
    "        print(target_df.shape, '...target rows loaded')\n",
    "        return target_df\n",
    "\n",
    "class FeatureSelector(BaseEstimator, TransformerMixin):\n",
    "    '''Custum transformer to extract columns passed as arguments'''\n",
    "    \n",
    "    def __init__(self, feature_names):\n",
    "        '''Class constructor'''\n",
    "        self._feature_names = feature_names\n",
    "        \n",
    "    def fit(self, features_df, target = None):\n",
    "        '''Returns self and nothing else'''\n",
    "        return self\n",
    "    \n",
    "    def transform( self, features_df, target = None):\n",
    "        '''This method returns selected features'''\n",
    "        return features_df[ self._feature_names]    \n",
    "    \n",
    "class CategoricalFeatsAdded(BaseEstimator, TransformerMixin):\n",
    "    '''A custom transformer that adds categorical \n",
    "       engineered features        \n",
    "    '''\n",
    "    def __init__(self, amount_purchase_low=False, amount_purchase_mid=False, age_mid=False):\n",
    "        '''Class constructor'''\n",
    "        #self._prize_amount_mid = prize_amount_mid\n",
    "        #self._prize_amount_low = prize_amount_low\n",
    "        self._amount_purchase_low = amount_purchase_low\n",
    "        self._amount_purchase_mid = amount_purchase_mid\n",
    "        #self._age_low = age_low\n",
    "        self._age_mid = age_mid\n",
    "        \n",
    "    def fit( self, features_df, target = None):\n",
    "        ''' Returns self, nothing else is done here'''\n",
    "        return self\n",
    "\n",
    "    def transform(self, features_df, target = None):\n",
    "        ''' A custom transformer that creates aformentioned features and drops redundant ones'''\n",
    "        #if self._prize_amount_mid:\n",
    "           #''' Check if needed, create new column'''\n",
    "           #features_df['prize_amount_mid'] = (np.logical_and(features_df.prize_amount > 69.86, \n",
    "                       #features_df.prize_amount < 208.55)).astype(int)           \n",
    "           \n",
    "        if self._amount_purchase_low:\n",
    "           ''' Check if needed, create new column'''\n",
    "           features_df['amount_purchase_low'] = (features_df.amount_purchase < 1200).astype(int)           \n",
    "\n",
    "        if self._amount_purchase_mid:\n",
    "           ''' Check if needed, create new column'''\n",
    "           features_df['amount_purchase_mid'] = (np.logical_and(features_df.amount_purchase > 1200, \n",
    "                       features_df.amount_purchase < 2500)).astype(int)           \n",
    "\n",
    "        if self._age_mid:\n",
    "           ''' Check if needed, create new column'''\n",
    "           features_df['age_mid'] = (np.logical_and(features_df.age > 44, \n",
    "                       features_df.age < 66)).astype(int)\n",
    "\n",
    "        ''' Converting any infinity values in the dataset to Nan'''\n",
    "        features_df = features_df.replace( [ np.inf, -np.inf ], np.nan )\n",
    "        '''returns a numpy array'''    \n",
    "        return features_df\n",
    "    \n",
    "class OneHotEncoder(BaseEstimator, TransformerMixin, object):\n",
    "    '''Takes df, Performs one hot encoding\n",
    "    '''\n",
    "    updated_features = []\n",
    "    def __init__(self, features_df):\n",
    "        self.features_df = features_df\n",
    "        \n",
    "    def fit(self, features_df=None, target=None):\n",
    "        return self\n",
    "    \n",
    "    def transform(self, features_df=None, target=None):\n",
    "        '''Slices work, family, and state features to apply one-hot encoding'''\n",
    "        categories = features_df.iloc[:, np.r_[7,8,9]]\n",
    "        dummies_df = pd.get_dummies(categories)\n",
    "        print(\"Debug 0: \", categories)\n",
    "        features_df = pd.concat([features_df, dummies_df], axis=1)\n",
    "        OneHotEncoder.updated_features = list(features_df.columns) #Get updated columns list\n",
    "        #dfcolumns = pd.DataFrame(features_df.columns)\n",
    "        #dfcolumns = dfcolumns.drop(dfcolumns.columns[[15, 15, 16]], axis = 1, inplace = True)#for columns later        \n",
    "        return features_df\n",
    "        \n",
    "        \n",
    "        \n",
    "    \n",
    "class CategorizeOrdinal(BaseEstimator, TransformerMixin):\n",
    "    ''' A transformer to ordinal encode the 'degee' feature\n",
    "        This transformer we'll encode the degree feature as follows:\n",
    "        NONE:0,HIGH_SCHOOL:1, BACHELORS:2,MASTERs:3, and DOCTORAL:4 \n",
    "    '''\n",
    "    def __init__(self, features_df):\n",
    "        self.features_df = features_df\n",
    "               \n",
    "    def fit(self,features_df=None, target=None):\n",
    "        return self\n",
    "    \n",
    "    def transform(self, features_df=None, target=None):\n",
    "        categories = pd.Categorical(features_df.iloc[:,1],\n",
    "                                categories = ['NONE','HIGH_SCHOOL','BACHELORS','MASTERS','DOCTORAL'],\n",
    "                                ordered = True)\n",
    "        labels, unique = pd.factorize(categories, sort = True)\n",
    "        features_df.iloc[:,1] = labels\n",
    "        return features_df\n",
    "\n",
    "class CategoricalFactorize(BaseEstimator, TransformerMixin):\n",
    "    '''This class transforms categorical features using pandas pd.factorize()'''\n",
    "    def __init__(self, catcols):\n",
    "        self.catcols = catcols\n",
    "        \n",
    "    def fit(self, features_df, target=None):\n",
    "        return self\n",
    "    \n",
    "    def transform(self, features_df, target=None):\n",
    "        for c in catcols:\n",
    "            encoded, categories = features_df[c].factorize()\n",
    "            #replace selected column with encoded values\n",
    "            features_df[c] = encoded\n",
    "        return features_df.values   \n",
    "\n",
    "class DelUnusedCols(BaseEstimator, TransformerMixin):\n",
    "    '''This transformer deletes unused columns from a data pipeline\n",
    "       Column 14,15, and 16 holds original columns that were transformed through one-hot encoding.\n",
    "       These columns are no longer needed \n",
    "    '''\n",
    "    def __init__(self, features_df, target=None):\n",
    "        self.features_df = features_df\n",
    "        \n",
    "    def fit(self, features_df, target=None):\n",
    "        return self\n",
    "    \n",
    "    def transform(self, features_df, target=None):\n",
    "        a = features_df.values\n",
    "        #Delete work, family, and state features\n",
    "        a = np.delete(a,[7,8,9],1)\n",
    "        features_df = a\n",
    "        return features_df\n",
    "    \n",
    "class NumericalTransformer( BaseEstimator, TransformerMixin):\n",
    "    ''' Custom transformer we wrote to engineer  numerical features \n",
    "        Passed as boolean arguments to its constructor\n",
    "    '''\n",
    "    pass    \n",
    "\n",
    "class StandardScalerTransformer(BaseEstimator, TransformerMixin):\n",
    "    ''' This transformer standardizes all numerical features'''\n",
    "    def __init__(self, features_df, target=None):\n",
    "        self.features_df = features_df\n",
    "        \n",
    "    def fit(self, features_df, target=None):\n",
    "        return self\n",
    "    \n",
    "    def transform(self, features_df, target=None):\n",
    "        col_names = numerical_features\n",
    "        features = features_df[col_names]\n",
    "        scaler = StandardScaler().fit(features.values)\n",
    "        features_df = scaler.transform(features.values)\n",
    "        return features_df    \n",
    "    \n",
    "\n",
    "class Models(object):\n",
    "    '''This class holds all modeling objects\n",
    "       Note: Instantiate any additional models to test as class variables below    \n",
    "    '''\n",
    "    #class variables\n",
    "    estimators = {}\n",
    "    fitted_grid = {}\n",
    "    param_grids = {}\n",
    "    best_models = {}\n",
    "    best_score = None #Initiating an empty variable\n",
    "    best_model = []\n",
    "    best_params = {}\n",
    "    best_model_params = []\n",
    "    best_model_list = []\n",
    "    best_estimator = {}\n",
    "    lr = LogisticRegression(random_state=123)\n",
    "    sv = SVC(random_state=123)\n",
    "    cb = CatBoostClassifier(random_state=123)\n",
    "    rf = RandomForestClassifier(random_state=123)\n",
    "    gb = GradientBoostingClassifier(random_state = 123)\n",
    "    \n",
    "    def __init__(self, master, logreg, svc, CatBoost, randforest,gradboost, \n",
    "                 n_iter, scoring, n_jobs, train_features):\n",
    "        self.master = master\n",
    "        self.logreg = logreg\n",
    "        self.svc = svc\n",
    "        self.catboost = catboost\n",
    "        self.randforest= randforest\n",
    "        self.gradboost = gradboost\n",
    "        self.n_iter = n_iter\n",
    "        self.scoring = scoring\n",
    "        self.n_jobs = n_jobs\n",
    "        self.train_features   \n",
    "        \n",
    "    def hyperparameters(logreg=True, svc=True, catboost=True,\n",
    "                        randforest=True, gradboost=True):\n",
    "        '''Defines model hyperparameters for tuning\n",
    "           Add aditional models hyperparameters for tuning here as needed        \n",
    "        '''\n",
    "        if logreg:\n",
    "            '''Set LogisticRegressionClassifier hyperparameters for tuning'''\n",
    "            #Select hyperparameters for logreg\n",
    "            lr_C_options = [0.001,0.01,0.1,1,10,100]\n",
    "            #Set param grid for lr\n",
    "            lr_param_grid = dict(C = lr_C_options)\n",
    "            Models.param_grids['lr'] = lr_param_grid\n",
    "\n",
    "        if svc:\n",
    "            '''Setting svc hyperparameters for tuning'''\n",
    "            #Select hyperparameters for svc\n",
    "            sv_kernal_options = ['linear','rbf', 'poly', 'sigmoid']\n",
    "            sv_C_options = [0.001,0.01,0.1,1,10,100]\n",
    "            \n",
    "            #Set param grid for svc\n",
    "            sv_param_grid = dict(kernal = sv_kernal_options)\n",
    "            sv_param_grid = dict(C = sv_C_options)\n",
    "            Models.param_grids['sv'] = sv_param_grid\n",
    "\n",
    "        if catboost:\n",
    "            '''Set CatBoost hyperparameters for tuning'''\n",
    "            #Select hyperparameters for cb\n",
    "            cb_depth_options = [3,1,2,6,4,5,7,8,9,10]\n",
    "            cb_iterations_options = [250,100,500,1000]\n",
    "            cb_learning_rate_options = [0.03,0.001,0.01,0.1,0.2,0.3]\n",
    "            cb_leaf_reg_options = [3,1,5,10,100]\n",
    "            cb_border_count_options = [32,5,10,20,50,100,200]\n",
    "            cb_ctr_border_count_options = [50,5,10,20,100,200]\n",
    "            cb_thread_count_options = [4]\n",
    "                        \n",
    "            #Setting param grid for cb\n",
    "            cb_param_grid = dict(depth = cb_depth_options)\n",
    "            cb_param_grid = dict(iterations = cb_iterations_options)\n",
    "            cb_param_grid = dict(learning_rate = cb_learning_rate_options)\n",
    "            cb_param_grid = dict(leaf_reg = cb_leaf_reg_options)\n",
    "            cb_param_grid = dict(border_count = cb_border_count_options)\n",
    "            cb_param_grid = dict(ctr_border_count = cb_ctr_border_count_options)\n",
    "            cb_param_grid = dict(thread_count = cb_thread_count_options)\n",
    "            Models.param_grids['cb'] = cb_param_grid  \n",
    "       \n",
    "        if randforest:\n",
    "            '''Setting RandomForestRegressor hyperparameters for tuning'''\n",
    "            #Selecting hyperparameters for rf\n",
    "            rf_n_estimators_options =[10,75,100,150,200,1000]\n",
    "            rf_max_features_options = ['auto','sqrt', 'log2',  0.33]\n",
    "            #Setting param grid for rf\n",
    "            rf_param_grid = dict(n_estimators = rf_n_estimators_options, \n",
    "                     max_features = rf_max_features_options)\n",
    "            #Adding param grid for rf to param_grids\n",
    "            Models.param_grids['rf'] = rf_param_grid\n",
    "        \n",
    "        if gradboost:\n",
    "            '''Setting GradientBoostingRegressor hyperparameters for tuning'''\n",
    "            #Selecting hyperparameters for gb\n",
    "            gb_n_estimators_options = [10, 100, 200, 1000]\n",
    "            gb_learning_rate_options = [0.001, 0.01, 0.05, 0.1, 0.2]\n",
    "            gb_max_depth_options = [1, 3, 5, 7, 9]\n",
    "            gb_subsample_options = [0.5,0.7,1.0]\n",
    "            #Setting param grid for gb\n",
    "            gb_param_grid = dict(learning_rate = gb_learning_rate_options,\n",
    "                     n_estimators = gb_n_estimators_options,\n",
    "                     subsample = gb_subsample_options,\n",
    "                     max_depth = gb_max_depth_options)\n",
    "            Models.param_grids['gb'] = gb_param_grid\n",
    "               \n",
    "        print(\"Hyperparameter grid is set\")\n",
    "                                                        \n",
    "                \n",
    "    def setting_gridsearch(logreg=False, svc=False, catboost=False,\n",
    "            randforest=False, gradboost=False):\n",
    "        '''Selects and estimators to tune and holds them in a dictionary\n",
    "           Add any additional models for fiting here as needed        \n",
    "        '''\n",
    "        #Creating a class empty dict \"estimators\" to hold estimators for GridSearchCV\n",
    "        #Add estimators to estimators dict\n",
    "        if logreg:\n",
    "            Models.estimators['lr'] = Models.lr\n",
    "        if svc:\n",
    "            Models.estimators['sv'] = Models.sv\n",
    "        if catboost:\n",
    "            Models.estimators['cb'] = Models.cb\n",
    "        if randforest:\n",
    "            Models.estimators['rf'] = Models.rf       \n",
    "        if gradboost:\n",
    "            Models.estimators['gb'] = Models.gb            \n",
    "            \n",
    "        print(\"GridSearch set and ready for fitting\")\n",
    "    \n",
    "                \n",
    "    def check_hyperparams_settings():\n",
    "        '''Running code to check that hyperparameters is set up correctly.\n",
    "        '''\n",
    "        for key in ['lr','sv','cb','rf', 'gb']:\n",
    "            if key in Models.param_grids:\n",
    "                if type(Models.param_grids[key]) is dict:\n",
    "                    print( key, 'was found in hyperparameters, and it is a grid.' )\n",
    "                else:\n",
    "                    print( key, 'was found in hyperparameters, but it is not a grid.' )\n",
    "            else:\n",
    "                print( key, 'was not found in hyperparameters')\n",
    "\n",
    "                         \n",
    "    def fit_models(n_iter, scoring, n_jobs, train_features):\n",
    "        '''Fits all models in GridSearch with k-folds cross validation\n",
    "           cv: Number of cross validation splits\n",
    "           scoring: Scoring metric\n",
    "           n_jobs: Number of processors to use if parrallel processing available(-1 means using all processors)\n",
    "        \n",
    "           Created a class dict 'fitted_grid' to hold each of fitted model\n",
    "           \n",
    "           Note that GridSearch only stores results from cross_val for the last fitted model.\n",
    "           We need to append results of each model fit to the dictionary above so we can access those attributes as needed.\n",
    "        '''\n",
    "        print('Model fitting started...')\n",
    "        for Models.name, Models.estimator in Models.estimators.items():\n",
    "            full_grid = RandomizedSearchCV(Models.estimators[Models.name], \n",
    "                                     Models.param_grids[Models.name], n_iter=n_iter, scoring = scoring,\n",
    "                                     n_jobs = n_jobs)  \n",
    "            \n",
    "            #Fit data to GridSearchCV object\n",
    "            full_grid.fit(train_features, target_df)    \n",
    "            \n",
    "            #Store fitted model\n",
    "            Models.fitted_grid[Models.name] = full_grid    \n",
    "            \n",
    "            #Print '{name} has been fitted'\n",
    "            print(Models.name,'has been fitted,')\n",
    "        \n",
    "        print('Model fitting completed.')\n",
    "                         \n",
    "    def get_best_models():\n",
    "        '''loop and iterates through Models.fitted_grids dict, \n",
    "           Selects the best model name and best scores during cross validation for each estimator group, \n",
    "           and stores the name and best score for each estimator in a dict we call \"best_models\"\n",
    "        '''\n",
    "        #Best score per model\n",
    "        for Models.name, Models.model in Models.fitted_grid.items():\n",
    "            Models.best_models[Models.name] = ( abs(Models.model.best_score_))\n",
    "        print(\"Best models and scores stored in best_models dict\")\n",
    "    \n",
    "    def get_best_score():\n",
    "        '''Here we create a variable \"best_score\" to hold the minimum mse calculated from estimator attributes strored \n",
    "           in the best_models dict above\n",
    "        '''\n",
    "        Models.best_score = max(Models.best_models.values())\n",
    "        print('\\nBest model score:', Models.best_score)\n",
    "    \n",
    "    def get_best_model_name():\n",
    "        '''Here we create a variable \"best_model\" to hold the name of the model in the best_models dict that matches\n",
    "           the minimum mse value stored in the variable best_score in part 2 above\n",
    "        '''\n",
    "        Models.best_model = [Models.key for Models.key in Models.best_models \n",
    "                             if Models.best_models[Models.key] == Models.best_score]\n",
    "        \n",
    "    def get_best_models_params():\n",
    "        '''This code loops through our dictionary holding fitted models from cross_val (\"fitted_grid\") and selects the\n",
    "           best model name and best hyparameter settings during cross_val for each estimator group and stores them on \n",
    "           best_params dict\n",
    "        '''\n",
    "        for Models.name, Models.model in Models.fitted_grid.items():\n",
    "            Models.best_params[Models.name] = (Models.model.best_params_)\n",
    "    \n",
    "    def print_best_model_params():\n",
    "        '''This code loops through the best_params dict created in step 4 above and returns paramaters\n",
    "           (i.e. the value of the key) that matches name of the model stored in the best_model list created in step 3\n",
    "        '''\n",
    "        Models.best_model_params = [(Models.key, Models.value) for Models.key, Models.value in Models.best_params.items() \n",
    "                                    if Models.key.startswith(Models.best_model[0])]   \n",
    "\n",
    "    def update_wining_hyperparams():\n",
    "        '''Updates our best model with wining hyperparameters by\n",
    "           1. Creating a dict to hold the name and hyperparameter values of our model\n",
    "           2. Using .update() to update params_grid with key, values from our dict created in 1\n",
    "        '''\n",
    "        Models.best_model_list = [(Models.model) for Models.model, Models.params in Models.best_params.items()\n",
    "                           if Models.model.startswith(Models.best_model[0])]\n",
    "\n",
    "        '''This code creates a dict to hold the name and best params of our best model\n",
    "           Creating this dict enables us to pull the key of our best model using best_model_dict[0] so we can\n",
    "           use it in our next code\n",
    "        '''        \n",
    "        Models.best_estimator[Models.best_model_list[0]] = Models.best_params[Models.best_model[0]]    \n",
    "\n",
    "        #Here we use the best_estimator dict created above to update param_grid with best hyerparameter values\n",
    "        Models.param_grids.update(Models.best_estimator)\n",
    "        print(\"Best model hyperparameters updated to hyperparameter grid\")\n",
    "        \n",
    "    def save_best_model(name):\n",
    "        '''Saves our best model as a pkl file\n",
    "           name: Given name.pkl for saving the model\n",
    "        '''\n",
    "        with open(name, 'wb') as f:\n",
    "            pickle.dump(Models.fitted_grid[Models.best_model[0]].best_estimator_, f)            \n",
    "             \n",
    "                \n",
    "                            \n",
    "class TestModels(object):\n",
    "    #Class variables\n",
    "    #Initiating the following empty dataframes as class variables\n",
    "    test_df = pd.DataFrame()\n",
    "    prepared_test_features = pd.DataFrame()\n",
    "    pred = []\n",
    "    loaded_model=[]\n",
    "    \n",
    "    ''' Holds all model testing objects'''\n",
    "    def __init__(self, fitted_grid, best_model, data, df, test_data=True):\n",
    "        self.test_data = test_data\n",
    "        self.fitted_grid = fitted_grid\n",
    "        self.best_model = best_model\n",
    "        self.data = data\n",
    "        self.n_samples = df\n",
    "    \n",
    "    def sample_test_df(n_samples):\n",
    "        '''Samples test_df created above for testing and \n",
    "           updates TestModels.prepared_features_test\n",
    "        '''\n",
    "        TestModels.prepared_features_test = TestModels.test_df.sample(n_samples, random_state = 12345)\n",
    "        print(\"prepared features for test sample\", TestModels.prepared_features_test.shape)          \n",
    "\n",
    "    def predict():\n",
    "        '''Calls ppredict on test data\n",
    "        '''\n",
    "        #TestModels.pred = Models.fitted_grid[Models.best_model[0]].predict(data)\n",
    "        TestModels.pred = TestModels.loaded_model.predict(test_features_transformed)#Use to verify loaded model works                           \n",
    "        print(\"Predictions Returned: \", TestModels.pred)\n",
    "\n",
    "    def load_saved_model(name):\n",
    "        '''Loads saved pkl file'''\n",
    "        with open(name, 'rb') as f:\n",
    "            TestModels.loaded_model = pickle.load(f)\n",
    "    \n",
    "    def save_predictions(name):\n",
    "        '''Writes predictions to csv'''\n",
    "        #Add results back to test data\n",
    "        test_features['salary'] = TestModels.pred        \n",
    "        # Remove uneeded columns and saving to a new dataframe 'predictions'\n",
    "        predictions = test_features.drop(test_features.columns[[1,2,3,4,5,6,7]], axis = 1)        \n",
    "        #Write to csv without compression\n",
    "        predictions.to_csv(name, index=False)\n",
    "        print('Predictions saved to: ', name)\n",
    "        \n",
    "    def print_summary():\n",
    "        '''Prints summary results for best model'''\n",
    "        print('\\nModel Summaries: \\n')\n",
    "        #for Models.name, Models.model in Models.fitted_grid.items():\n",
    "            #print('\\n', Models.name, 'MSE' ( abs(Models.model.best_score_))) \n",
    "        for Models.model, Models.score in Models.best_models.items():\n",
    "            print('\\n', Models.model, 'Accuracy:', round((Models.score),4))\n",
    "        print('\\nBest Model: ', (Models.best_model[0]))        \n",
    "        print('\\nBest Score: ', round(Models.best_score, 2))\n",
    "        \n",
    "    def get_impactful_feats(score_func, k):\n",
    "        '''Calculates and returns k best impactful features'''\n",
    "        #apply SelectKBest class to extract top k best features\n",
    "        bestfeatures = SelectKBest(score_func=score_func, k=k)\n",
    "        fit = bestfeatures.fit(np.absolute(prepared_features_df),target_df)#X values should be non-negative\n",
    "        dfscores = pd.DataFrame(fit.scores_)\n",
    "        \n",
    "        updated_cols = OneHotEncoder.updated_features + numerical_features #concatenate lists\n",
    "        print(\"Debug 1.1:\\n \", updated_cols)\n",
    "        dfcolumns = pd.DataFrame(updated_cols)#get updated column names\n",
    "        print(\"Debug 1.2:\\n \", dfcolumns)\n",
    "        \n",
    "        #dfcolumns = pd.DataFrame(features_df.columns)\n",
    "        #concat two dataframes for better visualization\n",
    "        TestModels.featureScores = pd.concat([dfcolumns,dfscores],axis=1)\n",
    "        \n",
    "        TestModels.featureScores.columns = ['Feats','Score']  #naming the dataframe columns\n",
    "        TestModels.featureScores = TestModels.featureScores.sort_values('Score', ascending=False) #sorting bars on plot\n",
    "        print('\\nBest', k, 'impactful features: \\n', TestModels.featureScores.nlargest(k,'Score'))  #print k best features\n",
    "        TestModels.featureScores.plot.bar() #Plot featureScores"
   ]
  },
  {
   "cell_type": "markdown",
   "metadata": {},
   "source": [
    "# 1. Loading Data"
   ]
  },
  {
   "cell_type": "code",
   "execution_count": 5,
   "metadata": {},
   "outputs": [
    {
     "name": "stdout",
     "output_type": "stream",
     "text": [
      "(10000, 24) data loaded\n"
     ]
    }
   ],
   "source": [
    "data = Data.get_data(file, sample=True, n_samples=10000)"
   ]
  },
  {
   "cell_type": "code",
   "execution_count": 6,
   "metadata": {},
   "outputs": [
    {
     "name": "stdout",
     "output_type": "stream",
     "text": [
      "(10000, 23) features assigned\n"
     ]
    }
   ],
   "source": [
    "#Get Features\n",
    "features_df = Data.get_features()"
   ]
  },
  {
   "cell_type": "code",
   "execution_count": 7,
   "metadata": {},
   "outputs": [
    {
     "name": "stdout",
     "output_type": "stream",
     "text": [
      "(10000,) ...target rows loaded\n"
     ]
    }
   ],
   "source": [
    "#Get target\n",
    "target_df = Data.get_target()"
   ]
  },
  {
   "cell_type": "markdown",
   "metadata": {},
   "source": [
    "# 2. Transforming Data"
   ]
  },
  {
   "cell_type": "code",
   "execution_count": 8,
   "metadata": {},
   "outputs": [],
   "source": [
    "#Categrical features to pass down the categorical pipeline \n",
    "categorical_features = ['member','shop_competitor','prize_won','did_a_purchase',\n",
    "                        'female','email','live_with_parents','work','family','state','education']"
   ]
  },
  {
   "cell_type": "code",
   "execution_count": 9,
   "metadata": {},
   "outputs": [],
   "source": [
    "#Numerical features to pass down the numerical pipeline \n",
    "numerical_features = ['prize_amount','age','monthly_spent_electronics',\n",
    "              'amount_financing','amount_purchase']"
   ]
  },
  {
   "cell_type": "code",
   "execution_count": 10,
   "metadata": {},
   "outputs": [],
   "source": [
    "#Defining steps in the categorical pipeline \n",
    "categorical_pipeline = Pipeline( steps = [ ( 'cat_selector', FeatureSelector(categorical_features)),\n",
    "                                                                                                                              \n",
    "                                           #( 'cat_feats_add', CategoricalFeatsAdded()),\n",
    "                                                                                                                         \n",
    "                                           #('cat_ordinal', CategorizeOrdinal(features_df)),\n",
    "                                          \n",
    "                                           #('cat_factorize', CategoricalFactorize(catcols)),\n",
    "                                                                                                                   \n",
    "                                          ('cat_onehot', OneHotEncoder(features_df)),\n",
    "                                          \n",
    "                                          ('delete_unused', DelUnusedCols(features_df))\n",
    "                                         \n",
    "                                         ])"
   ]
  },
  {
   "cell_type": "code",
   "execution_count": 11,
   "metadata": {},
   "outputs": [],
   "source": [
    "#Defining the steps in the numerical pipeline \n",
    "numerical_pipeline = Pipeline( steps = [ ( 'num_selector', FeatureSelector(numerical_features) ),\n",
    "                                        \n",
    "                                         ( 'cat_feats_add', CategoricalFeatsAdded()),\n",
    "                                  \n",
    "                                         ('standard_trans', StandardScalerTransformer(features_df))\n",
    "                                   \n",
    "                                       ] )"
   ]
  },
  {
   "cell_type": "code",
   "execution_count": 12,
   "metadata": {},
   "outputs": [],
   "source": [
    "#Combining numerical and categorical piepline into one full big pipeline horizontally using FeatureUnion\n",
    "full_pipeline = FeatureUnion( transformer_list = [ ( 'categorical_pipeline', categorical_pipeline ), \n",
    "                                                  \n",
    "                                                   ( 'numerical_pipeline', numerical_pipeline  ) ] )"
   ]
  },
  {
   "cell_type": "code",
   "execution_count": 13,
   "metadata": {},
   "outputs": [],
   "source": [
    "#Disabling pandas chained_assignment warning\n",
    "pd.options.mode.chained_assignment = None"
   ]
  },
  {
   "cell_type": "code",
   "execution_count": 14,
   "metadata": {},
   "outputs": [
    {
     "name": "stdout",
     "output_type": "stream",
     "text": [
      "Debug 0:                 work       family     state\n",
      "6955   professional      0_child     Maine\n",
      "17258  professional  4+_children  Colorado\n",
      "11145  professional      0_child     Maine\n",
      "8308    blue_collar      0_child  Illinois\n",
      "23620   blue_collar   2_children  Illinois\n",
      "...             ...          ...       ...\n",
      "2314   professional  4+_children     Maine\n",
      "8425   white_collar      0_child   Vermont\n",
      "549    white_collar  4+_children    Hawaii\n",
      "23585       manager      0_child    Hawaii\n",
      "20371       manager   2_children   Vermont\n",
      "\n",
      "[10000 rows x 3 columns]\n"
     ]
    }
   ],
   "source": [
    "#Fitting our data to our data transformation pipeline\n",
    "prepared_features_df = full_pipeline.fit_transform(features_df, target_df)"
   ]
  },
  {
   "cell_type": "code",
   "execution_count": 15,
   "metadata": {},
   "outputs": [
    {
     "data": {
      "text/plain": [
       "array([[1.0, 1.0, 0.0, ..., 0.9146186057666497, -0.5697790192294597,\n",
       "        -1.324944003194137],\n",
       "       [0.0, 0.0, 0.0, ..., 0.24503329046966238, -0.5697790192294597,\n",
       "        -0.5634202385274706],\n",
       "       [1.0, 1.0, 0.0, ..., -0.3663272146951762, -0.5697790192294597,\n",
       "        -0.6826950450415268],\n",
       "       ...,\n",
       "       [0.0, 0.0, 0.0, ..., 0.04124645553116596, -0.5697790192294597,\n",
       "        0.8862274098741355],\n",
       "       [1.0, 1.0, 1.0, ..., -0.45366442971872456, 1.195751600777252,\n",
       "        0.15222860055686654],\n",
       "       [0.0, 0.0, 0.0, ..., -0.3372148098037763, -0.5697790192294597,\n",
       "        1.2165268740669064]], dtype=object)"
      ]
     },
     "execution_count": 15,
     "metadata": {},
     "output_type": "execute_result"
    }
   ],
   "source": [
    "prepared_features_df"
   ]
  },
  {
   "cell_type": "code",
   "execution_count": 16,
   "metadata": {},
   "outputs": [],
   "source": [
    "#df = pd.DataFrame(data=numpy_data, index=[\"row1\", \"row2\"], columns=[\"column1\", \"column2\"])"
   ]
  },
  {
   "cell_type": "code",
   "execution_count": 17,
   "metadata": {},
   "outputs": [],
   "source": [
    "#Sanity check engineered and preprocessed features\n",
    "df = pd.DataFrame(data=prepared_features_df)"
   ]
  },
  {
   "cell_type": "code",
   "execution_count": 18,
   "metadata": {},
   "outputs": [
    {
     "data": {
      "text/html": [
       "<div>\n",
       "<style scoped>\n",
       "    .dataframe tbody tr th:only-of-type {\n",
       "        vertical-align: middle;\n",
       "    }\n",
       "\n",
       "    .dataframe tbody tr th {\n",
       "        vertical-align: top;\n",
       "    }\n",
       "\n",
       "    .dataframe thead th {\n",
       "        text-align: right;\n",
       "    }\n",
       "</style>\n",
       "<table border=\"1\" class=\"dataframe\">\n",
       "  <thead>\n",
       "    <tr style=\"text-align: right;\">\n",
       "      <th></th>\n",
       "      <th>0</th>\n",
       "      <th>1</th>\n",
       "      <th>2</th>\n",
       "      <th>3</th>\n",
       "      <th>4</th>\n",
       "      <th>5</th>\n",
       "      <th>6</th>\n",
       "      <th>7</th>\n",
       "      <th>8</th>\n",
       "      <th>9</th>\n",
       "      <th>10</th>\n",
       "      <th>11</th>\n",
       "      <th>12</th>\n",
       "      <th>13</th>\n",
       "      <th>14</th>\n",
       "      <th>15</th>\n",
       "      <th>16</th>\n",
       "      <th>17</th>\n",
       "      <th>18</th>\n",
       "      <th>19</th>\n",
       "      <th>20</th>\n",
       "      <th>21</th>\n",
       "      <th>22</th>\n",
       "      <th>23</th>\n",
       "      <th>24</th>\n",
       "      <th>25</th>\n",
       "      <th>26</th>\n",
       "      <th>27</th>\n",
       "      <th>28</th>\n",
       "      <th>29</th>\n",
       "    </tr>\n",
       "  </thead>\n",
       "  <tbody>\n",
       "    <tr>\n",
       "      <th>0</th>\n",
       "      <td>1</td>\n",
       "      <td>1</td>\n",
       "      <td>0</td>\n",
       "      <td>1</td>\n",
       "      <td>0</td>\n",
       "      <td>1</td>\n",
       "      <td>1</td>\n",
       "      <td>3</td>\n",
       "      <td>0</td>\n",
       "      <td>0</td>\n",
       "      <td>0</td>\n",
       "      <td>1</td>\n",
       "      <td>0</td>\n",
       "      <td>0</td>\n",
       "      <td>1</td>\n",
       "      <td>0</td>\n",
       "      <td>0</td>\n",
       "      <td>0</td>\n",
       "      <td>0</td>\n",
       "      <td>0</td>\n",
       "      <td>0</td>\n",
       "      <td>0</td>\n",
       "      <td>0</td>\n",
       "      <td>1</td>\n",
       "      <td>0</td>\n",
       "      <td>-0.714763</td>\n",
       "      <td>1.18441</td>\n",
       "      <td>0.914619</td>\n",
       "      <td>-0.569779</td>\n",
       "      <td>-1.32494</td>\n",
       "    </tr>\n",
       "    <tr>\n",
       "      <th>1</th>\n",
       "      <td>0</td>\n",
       "      <td>0</td>\n",
       "      <td>0</td>\n",
       "      <td>1</td>\n",
       "      <td>0</td>\n",
       "      <td>1</td>\n",
       "      <td>1</td>\n",
       "      <td>1</td>\n",
       "      <td>0</td>\n",
       "      <td>0</td>\n",
       "      <td>0</td>\n",
       "      <td>1</td>\n",
       "      <td>0</td>\n",
       "      <td>0</td>\n",
       "      <td>0</td>\n",
       "      <td>0</td>\n",
       "      <td>0</td>\n",
       "      <td>0</td>\n",
       "      <td>1</td>\n",
       "      <td>0</td>\n",
       "      <td>1</td>\n",
       "      <td>0</td>\n",
       "      <td>0</td>\n",
       "      <td>0</td>\n",
       "      <td>0</td>\n",
       "      <td>0.888696</td>\n",
       "      <td>-1.13588</td>\n",
       "      <td>0.245033</td>\n",
       "      <td>-0.569779</td>\n",
       "      <td>-0.56342</td>\n",
       "    </tr>\n",
       "    <tr>\n",
       "      <th>2</th>\n",
       "      <td>1</td>\n",
       "      <td>1</td>\n",
       "      <td>0</td>\n",
       "      <td>1</td>\n",
       "      <td>1</td>\n",
       "      <td>1</td>\n",
       "      <td>1</td>\n",
       "      <td>1</td>\n",
       "      <td>0</td>\n",
       "      <td>0</td>\n",
       "      <td>0</td>\n",
       "      <td>1</td>\n",
       "      <td>0</td>\n",
       "      <td>0</td>\n",
       "      <td>1</td>\n",
       "      <td>0</td>\n",
       "      <td>0</td>\n",
       "      <td>0</td>\n",
       "      <td>0</td>\n",
       "      <td>0</td>\n",
       "      <td>0</td>\n",
       "      <td>0</td>\n",
       "      <td>0</td>\n",
       "      <td>1</td>\n",
       "      <td>0</td>\n",
       "      <td>-0.714763</td>\n",
       "      <td>0.410983</td>\n",
       "      <td>-0.366327</td>\n",
       "      <td>-0.569779</td>\n",
       "      <td>-0.682695</td>\n",
       "    </tr>\n",
       "    <tr>\n",
       "      <th>3</th>\n",
       "      <td>1</td>\n",
       "      <td>0</td>\n",
       "      <td>0</td>\n",
       "      <td>1</td>\n",
       "      <td>0</td>\n",
       "      <td>1</td>\n",
       "      <td>1</td>\n",
       "      <td>1</td>\n",
       "      <td>1</td>\n",
       "      <td>0</td>\n",
       "      <td>0</td>\n",
       "      <td>0</td>\n",
       "      <td>0</td>\n",
       "      <td>0</td>\n",
       "      <td>1</td>\n",
       "      <td>0</td>\n",
       "      <td>0</td>\n",
       "      <td>0</td>\n",
       "      <td>0</td>\n",
       "      <td>0</td>\n",
       "      <td>0</td>\n",
       "      <td>0</td>\n",
       "      <td>1</td>\n",
       "      <td>0</td>\n",
       "      <td>0</td>\n",
       "      <td>-0.714763</td>\n",
       "      <td>1.71987</td>\n",
       "      <td>0.361483</td>\n",
       "      <td>1.54463</td>\n",
       "      <td>-0.80197</td>\n",
       "    </tr>\n",
       "    <tr>\n",
       "      <th>4</th>\n",
       "      <td>1</td>\n",
       "      <td>0</td>\n",
       "      <td>0</td>\n",
       "      <td>1</td>\n",
       "      <td>0</td>\n",
       "      <td>0</td>\n",
       "      <td>0</td>\n",
       "      <td>5</td>\n",
       "      <td>1</td>\n",
       "      <td>0</td>\n",
       "      <td>0</td>\n",
       "      <td>0</td>\n",
       "      <td>0</td>\n",
       "      <td>0</td>\n",
       "      <td>0</td>\n",
       "      <td>0</td>\n",
       "      <td>1</td>\n",
       "      <td>0</td>\n",
       "      <td>0</td>\n",
       "      <td>0</td>\n",
       "      <td>0</td>\n",
       "      <td>0</td>\n",
       "      <td>1</td>\n",
       "      <td>0</td>\n",
       "      <td>0</td>\n",
       "      <td>-0.714763</td>\n",
       "      <td>-1.37386</td>\n",
       "      <td>-0.249878</td>\n",
       "      <td>1.20632</td>\n",
       "      <td>-0.664345</td>\n",
       "    </tr>\n",
       "  </tbody>\n",
       "</table>\n",
       "</div>"
      ],
      "text/plain": [
       "   0  1  2  3  4  5  6  7  8  9 10 11 12 13 14 15 16 17 18 19 20 21 22 23 24  \\\n",
       "0  1  1  0  1  0  1  1  3  0  0  0  1  0  0  1  0  0  0  0  0  0  0  0  1  0   \n",
       "1  0  0  0  1  0  1  1  1  0  0  0  1  0  0  0  0  0  0  1  0  1  0  0  0  0   \n",
       "2  1  1  0  1  1  1  1  1  0  0  0  1  0  0  1  0  0  0  0  0  0  0  0  1  0   \n",
       "3  1  0  0  1  0  1  1  1  1  0  0  0  0  0  1  0  0  0  0  0  0  0  1  0  0   \n",
       "4  1  0  0  1  0  0  0  5  1  0  0  0  0  0  0  0  1  0  0  0  0  0  1  0  0   \n",
       "\n",
       "         25        26        27        28        29  \n",
       "0 -0.714763   1.18441  0.914619 -0.569779  -1.32494  \n",
       "1  0.888696  -1.13588  0.245033 -0.569779  -0.56342  \n",
       "2 -0.714763  0.410983 -0.366327 -0.569779 -0.682695  \n",
       "3 -0.714763   1.71987  0.361483   1.54463  -0.80197  \n",
       "4 -0.714763  -1.37386 -0.249878   1.20632 -0.664345  "
      ]
     },
     "execution_count": 18,
     "metadata": {},
     "output_type": "execute_result"
    }
   ],
   "source": [
    "df.head()"
   ]
  },
  {
   "cell_type": "markdown",
   "metadata": {},
   "source": [
    "# 3. Modeling Data\n",
    "\n",
    "## Setting Hyperparameter Grids"
   ]
  },
  {
   "cell_type": "code",
   "execution_count": 19,
   "metadata": {},
   "outputs": [
    {
     "name": "stdout",
     "output_type": "stream",
     "text": [
      "Hyperparameter grid is set\n"
     ]
    }
   ],
   "source": [
    "#Setting hyperparameters grid\n",
    "Models.hyperparameters(logreg=True, svc=False, catboost=False, randforest=True, gradboost=False)"
   ]
  },
  {
   "cell_type": "code",
   "execution_count": 20,
   "metadata": {},
   "outputs": [
    {
     "name": "stdout",
     "output_type": "stream",
     "text": [
      "lr was found in hyperparameters, and it is a grid.\n",
      "sv was not found in hyperparameters\n",
      "cb was not found in hyperparameters\n",
      "rf was found in hyperparameters, and it is a grid.\n",
      "gb was not found in hyperparameters\n"
     ]
    }
   ],
   "source": [
    "#Validating hyperparameters set correctly\n",
    "Models.check_hyperparams_settings()"
   ]
  },
  {
   "cell_type": "markdown",
   "metadata": {},
   "source": [
    "## Setting GridSearch\n",
    ", svc=False, catboost=False, randforest=False,gradboost=False"
   ]
  },
  {
   "cell_type": "code",
   "execution_count": 21,
   "metadata": {},
   "outputs": [
    {
     "name": "stdout",
     "output_type": "stream",
     "text": [
      "GridSearch set and ready for fitting\n"
     ]
    }
   ],
   "source": [
    "#Setting models for fitting\n",
    "Models.setting_gridsearch(logreg=True, svc=False, randforest=True)"
   ]
  },
  {
   "cell_type": "markdown",
   "metadata": {},
   "source": [
    "## Model Fitting"
   ]
  },
  {
   "cell_type": "code",
   "execution_count": 22,
   "metadata": {},
   "outputs": [
    {
     "name": "stdout",
     "output_type": "stream",
     "text": [
      "Model fitting started...\n"
     ]
    },
    {
     "name": "stderr",
     "output_type": "stream",
     "text": [
      "/home/sl202194/miniconda3/lib/python3.7/site-packages/sklearn/model_selection/_search.py:281: UserWarning: The total space of parameters 6 is smaller than n_iter=10. Running 6 iterations. For exhaustive searches, use GridSearchCV.\n",
      "  % (grid_size, self.n_iter, grid_size), UserWarning)\n"
     ]
    },
    {
     "name": "stdout",
     "output_type": "stream",
     "text": [
      "lr has been fitted,\n",
      "rf has been fitted,\n",
      "Model fitting completed.\n"
     ]
    }
   ],
   "source": [
    "#Fitting models that were set manually in GridSearchCV \n",
    "Models.fit_models(n_iter=10, scoring= 'recall', n_jobs = -1,\n",
    "                  train_features = prepared_features_df )"
   ]
  },
  {
   "cell_type": "markdown",
   "metadata": {},
   "source": [
    "## Model Selection"
   ]
  },
  {
   "cell_type": "code",
   "execution_count": 23,
   "metadata": {},
   "outputs": [
    {
     "name": "stdout",
     "output_type": "stream",
     "text": [
      "Best models and scores stored in best_models dict\n",
      "\n",
      "Best model score: 0.9349544181825781\n",
      "Best model hyperparameters updated to hyperparameter grid\n",
      "\n",
      "Model Summaries: \n",
      "\n",
      "\n",
      " lr Accuracy: 0.5385\n",
      "\n",
      " rf Accuracy: 0.935\n",
      "\n",
      "Best Model:  rf\n",
      "\n",
      "Best Score:  0.93\n",
      "Debug 1.1:\n",
      "  ['member', 'shop_competitor', 'prize_won', 'did_a_purchase', 'female', 'email', 'live_with_parents', 'work', 'family', 'state', 'education', 'work_blue_collar', 'work_manager', 'work_no_job', 'work_professional', 'work_retired', 'work_white_collar', 'family_0_child', 'family_1_child', 'family_2_children', 'family_3_children', 'family_4+_children', 'state_California', 'state_Colorado', 'state_Hawaii', 'state_Illinois', 'state_Maine', 'state_Vermont', 'prize_amount', 'age', 'monthly_spent_electronics', 'amount_financing', 'amount_purchase']\n",
      "Debug 1.2:\n",
      "                              0\n",
      "0                      member\n",
      "1             shop_competitor\n",
      "2                   prize_won\n",
      "3              did_a_purchase\n",
      "4                      female\n",
      "5                       email\n",
      "6           live_with_parents\n",
      "7                        work\n",
      "8                      family\n",
      "9                       state\n",
      "10                  education\n",
      "11           work_blue_collar\n",
      "12               work_manager\n",
      "13                work_no_job\n",
      "14          work_professional\n",
      "15               work_retired\n",
      "16          work_white_collar\n",
      "17             family_0_child\n",
      "18             family_1_child\n",
      "19          family_2_children\n",
      "20          family_3_children\n",
      "21         family_4+_children\n",
      "22           state_California\n",
      "23             state_Colorado\n",
      "24               state_Hawaii\n",
      "25             state_Illinois\n",
      "26                state_Maine\n",
      "27              state_Vermont\n",
      "28               prize_amount\n",
      "29                        age\n",
      "30  monthly_spent_electronics\n",
      "31           amount_financing\n",
      "32            amount_purchase\n",
      "\n",
      "Best 5 impactful features: \n",
      "                Feats      Score\n",
      "2          prize_won  62.113420\n",
      "28      prize_amount  49.277682\n",
      "1    shop_competitor  10.987093\n",
      "17    family_0_child   5.531347\n",
      "22  state_California   5.355913\n"
     ]
    },
    {
     "data": {
      "image/png": "[encoded data removed]",
      "text/plain": [
       "<Figure size 1440x432 with 1 Axes>"
      ]
     },
     "metadata": {
      "needs_background": "light"
     },
     "output_type": "display_data"
    }
   ],
   "source": [
    "#Get model summaries\n",
    "Models.get_best_models()    \n",
    "Models.get_best_score()\n",
    "Models.get_best_model_name()\n",
    "Models.get_best_models_params()\n",
    "Models.print_best_model_params()\n",
    "Models.update_wining_hyperparams()\n",
    "TestModels.print_summary()\n",
    "TestModels.get_impactful_feats(chi2,5)"
   ]
  },
  {
   "cell_type": "code",
   "execution_count": null,
   "metadata": {},
   "outputs": [],
   "source": []
  },
  {
   "cell_type": "code",
   "execution_count": null,
   "metadata": {},
   "outputs": [],
   "source": [
    "$$$$$$$$$Next @ 9:27am 05/22/2020 START BELOW Try Bagging 10 svm classifiers"
   ]
  },
  {
   "cell_type": "code",
   "execution_count": 15,
   "metadata": {},
   "outputs": [
    {
     "data": {
      "text/plain": [
       "array([[1.0, 1.0, 0.0, ..., 0.8089189057940155, -0.5618940309903243,\n",
       "        -1.2716883260351008],\n",
       "       [0.0, 0.0, 0.0, ..., 0.2253382516704021, -0.5618940309903243,\n",
       "        -0.5508750402716518],\n",
       "       [1.0, 1.0, 0.0, ..., -0.3074962585237084, -0.5618940309903243,\n",
       "        -0.6637735067165293],\n",
       "       ...,\n",
       "       [1.0, 0.0, 1.0, ..., -0.028392467368158078, 1.3891623170535083,\n",
       "        0.9254895209305933],\n",
       "       [0.0, 0.0, 0.0, ..., -0.4597346900077399, -0.5618940309903243,\n",
       "        -1.4888007615060193],\n",
       "       [0.0, 0.0, 0.0, ..., -0.5358539057497557, -0.5618940309903243,\n",
       "        0.8125910544857158]], dtype=object)"
      ]
     },
     "execution_count": 15,
     "metadata": {},
     "output_type": "execute_result"
    }
   ],
   "source": [
    "#get data\n",
    "prepared_features_df"
   ]
  },
  {
   "cell_type": "code",
   "execution_count": 16,
   "metadata": {},
   "outputs": [
    {
     "data": {
      "text/plain": [
       "array([0., 1., 0., 0., 1., 0., 1., 1., 0., 1., 0., 0., 1., 0., 1., 1., 1.,\n",
       "       1., 0., 0., 0., 1., 0., 0., 0., 0., 1., 1., 0., 1., 1., 1., 0., 0.,\n",
       "       0., 1., 0., 0., 0., 1., 1., 1., 0., 0., 0., 0., 1., 1., 0., 0., 1.,\n",
       "       0., 0., 0., 1., 0., 1., 1., 1., 0., 1., 1., 0., 1., 0., 0., 1., 0.,\n",
       "       0., 1., 0., 0., 1., 0., 1., 1., 1., 0., 1., 0., 1., 1., 0., 0., 0.,\n",
       "       0., 0., 1., 1., 0., 1., 0., 1., 1., 0., 0., 0., 0., 0., 0., 0., 1.,\n",
       "       0., 0., 1., 1., 1., 1., 0., 0., 0., 0., 0., 0., 0., 1., 1., 1., 1.,\n",
       "       0., 1., 0., 1., 1., 1., 1., 0., 0., 0., 0., 0., 1., 1., 1., 0., 1.,\n",
       "       0., 0., 1., 0., 1., 1., 1., 1., 1., 0., 1., 1., 1., 0., 0., 1., 1.,\n",
       "       0., 1., 1., 1., 0., 0., 1., 1., 1., 0., 0., 0., 1., 0., 0., 1., 1.,\n",
       "       1., 1., 1., 1., 0., 0., 1., 0., 0., 0., 0., 0., 0., 0., 1., 0., 1.,\n",
       "       0., 1., 0., 1., 1., 1., 1., 1., 1., 0., 0., 0., 1., 1., 0., 0., 0.,\n",
       "       1., 0., 0., 1., 1., 0., 1., 1., 0., 1., 0., 0., 0., 0., 1., 1., 0.,\n",
       "       0., 1., 1., 1., 1., 0., 0., 1., 1., 0., 1., 1., 0., 1., 0., 1., 0.,\n",
       "       0., 0., 1., 0., 1., 0., 1., 1., 1., 0., 0., 1., 0., 1., 1., 1., 0.,\n",
       "       1., 0., 1., 0., 1., 1., 0., 1., 0., 1., 1., 0., 0., 0., 0., 0., 1.,\n",
       "       1., 1., 1., 0., 0., 0., 1., 0., 1., 1., 0., 1., 1., 1., 1., 1., 0.,\n",
       "       1., 1., 0., 0., 0., 0., 1., 1., 1., 1., 0., 1., 1., 1., 1., 0., 0.,\n",
       "       1., 1., 0., 0., 1., 1., 0., 0., 0., 1., 1., 1., 1., 0., 0., 0., 1.,\n",
       "       0., 0., 1., 0., 0., 0., 1., 0., 1., 0., 1., 0., 1., 1., 1., 0., 0.,\n",
       "       1., 0., 1., 1., 1., 1., 0., 1., 0., 1., 0., 1., 1., 0., 0., 1., 0.,\n",
       "       0., 1., 0., 1., 0., 0., 0., 0., 0., 0., 0., 0., 0., 0., 0., 1., 1.,\n",
       "       0., 0., 0., 1., 1., 0., 1., 1., 1., 1., 0., 0., 0., 1., 0., 0., 1.,\n",
       "       0., 0., 1., 0., 1., 0., 1., 1., 0., 0., 1., 1., 0., 0., 1., 1., 1.,\n",
       "       0., 0., 0., 0., 1., 1., 0., 0., 1., 1., 0., 1., 1., 1., 1., 1., 0.,\n",
       "       1., 1., 0., 0., 1., 0., 0., 0., 0., 1., 1., 1., 1., 0., 1., 0., 0.,\n",
       "       0., 0., 0., 0., 1., 0., 0., 1., 1., 0., 1., 0., 0., 0., 0., 0., 0.,\n",
       "       1., 0., 1., 0., 0., 0., 1., 1., 1., 1., 0., 0., 0., 0., 1., 0., 0.,\n",
       "       1., 1., 0., 0., 1., 1., 0., 1., 0., 0., 1., 0., 1., 1., 1., 0., 0.,\n",
       "       1., 0., 1., 0., 1., 0., 1., 0., 1., 0., 1., 1., 1., 1., 1., 1., 1.,\n",
       "       1., 0., 0., 1., 1., 0., 1., 0., 0., 1., 1., 0., 0., 1., 1., 0., 1.,\n",
       "       0., 1., 1., 1., 0., 0., 0., 0., 0., 0., 1., 1., 1., 0., 0., 1., 1.,\n",
       "       1., 1., 0., 0., 1., 1., 0., 0., 1., 0., 1., 1., 1., 1., 1., 1., 1.,\n",
       "       0., 1., 1., 1., 1., 0., 0., 1., 0., 1., 0., 0., 1., 1., 0., 0., 0.,\n",
       "       0., 0., 1., 1., 0., 1., 1., 0., 1., 1., 1., 0., 0., 0., 1., 1., 0.,\n",
       "       1., 0., 1., 0., 0., 0., 1., 0., 1., 0., 0., 1., 1., 1., 0., 0., 1.,\n",
       "       1., 0., 1., 1., 1., 0., 1., 0., 1., 1., 0., 1., 1., 1., 0., 0., 1.,\n",
       "       0., 1., 1., 1., 0., 1., 1., 1., 0., 1., 1., 1., 1., 1., 1., 1., 0.,\n",
       "       0., 1., 1., 0., 0., 1., 1., 0., 1., 0., 0., 1., 0., 1., 1., 1., 1.,\n",
       "       1., 1., 0., 0., 0., 1., 0., 0., 0., 1., 1., 0., 0., 0., 0., 1., 0.,\n",
       "       1., 0., 1., 1., 0., 0., 1., 0., 1., 1., 1., 0., 1., 0., 0., 0., 1.,\n",
       "       0., 1., 1., 1., 1., 1., 0., 0., 0., 1., 0., 1., 1., 1., 1., 0., 1.,\n",
       "       0., 1., 0., 0., 0., 1., 0., 0., 1., 0., 1., 1., 0., 0., 1., 0., 1.,\n",
       "       1., 0., 1., 0., 0., 1., 1., 0., 1., 1., 0., 0., 0., 0., 0., 1., 1.,\n",
       "       1., 1., 1., 1., 1., 1., 0., 1., 0., 0., 0., 0., 1., 1., 0., 0., 0.,\n",
       "       0., 0., 1., 0., 1., 1., 0., 1., 1., 1., 0., 0., 1., 0., 0., 1., 1.,\n",
       "       0., 1., 0., 0., 0., 1., 0., 1., 1., 0., 1., 0., 1., 0., 1., 1., 1.,\n",
       "       1., 0., 0., 1., 0., 0., 0., 1., 1., 0., 0., 0., 1., 1., 0., 1., 0.,\n",
       "       1., 1., 0., 0., 1., 1., 0., 0., 1., 0., 1., 0., 1., 1., 1., 1., 0.,\n",
       "       0., 1., 1., 0., 0., 1., 1., 0., 1., 0., 0., 0., 0., 1., 0., 1., 0.,\n",
       "       1., 0., 0., 1., 0., 1., 1., 0., 1., 0., 1., 1., 1., 0., 0., 0., 1.,\n",
       "       1., 0., 0., 0., 0., 0., 0., 0., 1., 0., 0., 1., 1., 0., 1., 1., 1.,\n",
       "       1., 1., 1., 1., 0., 1., 0., 1., 0., 1., 0., 1., 1., 0., 1., 1., 0.,\n",
       "       0., 0., 0., 1., 0., 0., 1., 0., 0., 0., 1., 0., 0., 0., 1., 1., 0.,\n",
       "       1., 0., 0., 1., 0., 0., 0., 0., 1., 1., 1., 0., 1., 0., 1., 0., 1.,\n",
       "       1., 0., 0., 1., 0., 0., 0., 0., 0., 0., 0., 0., 0., 0., 0., 0., 0.,\n",
       "       0., 1., 0., 1., 1., 1., 1., 0., 1., 0., 1., 1., 0., 1., 0., 0., 1.,\n",
       "       1., 0., 1., 0., 1., 1., 1., 0., 0., 1., 0., 1., 1., 1., 1., 1., 0.,\n",
       "       0., 0., 0., 1., 1., 1., 0., 0., 0., 1., 1., 1., 1., 0.])"
      ]
     },
     "execution_count": 16,
     "metadata": {},
     "output_type": "execute_result"
    }
   ],
   "source": [
    "#Get target\n",
    "target_df "
   ]
  },
  {
   "cell_type": "code",
   "execution_count": 47,
   "metadata": {},
   "outputs": [],
   "source": [
    "#Split train test data\n",
    "from sklearn.model_selection import train_test_split"
   ]
  },
  {
   "cell_type": "code",
   "execution_count": 57,
   "metadata": {},
   "outputs": [],
   "source": [
    "X_train, X_test, y_train, y_test = train_test_split(prepared_features_df, target_df , test_size=0.2)"
   ]
  },
  {
   "cell_type": "code",
   "execution_count": 49,
   "metadata": {},
   "outputs": [],
   "source": [
    "from sklearn.ensemble import BaggingClassifier "
   ]
  },
  {
   "cell_type": "code",
   "execution_count": 58,
   "metadata": {},
   "outputs": [],
   "source": [
    "from sklearn.svm import SVC"
   ]
  },
  {
   "cell_type": "code",
   "execution_count": 59,
   "metadata": {},
   "outputs": [],
   "source": [
    "bag_clf = BaggingClassifier(\n",
    "SVC(), n_estimators=100, max_samples=100, bootstrap=True, n_jobs=-1)"
   ]
  },
  {
   "cell_type": "code",
   "execution_count": 60,
   "metadata": {},
   "outputs": [
    {
     "data": {
      "text/plain": [
       "BaggingClassifier(base_estimator=SVC(C=1.0, break_ties=False, cache_size=200,\n",
       "                                     class_weight=None, coef0=0.0,\n",
       "                                     decision_function_shape='ovr', degree=3,\n",
       "                                     gamma='scale', kernel='rbf', max_iter=-1,\n",
       "                                     probability=False, random_state=None,\n",
       "                                     shrinking=True, tol=0.001, verbose=False),\n",
       "                  bootstrap=True, bootstrap_features=False, max_features=1.0,\n",
       "                  max_samples=100, n_estimators=10, n_jobs=-1, oob_score=False,\n",
       "                  random_state=None, verbose=0, warm_start=False)"
      ]
     },
     "execution_count": 60,
     "metadata": {},
     "output_type": "execute_result"
    }
   ],
   "source": [
    "bag_clf.fit(X_train, y_train)"
   ]
  },
  {
   "cell_type": "code",
   "execution_count": 61,
   "metadata": {},
   "outputs": [],
   "source": [
    "y_pred = bag_clf.predict(X_test)"
   ]
  },
  {
   "cell_type": "code",
   "execution_count": 62,
   "metadata": {},
   "outputs": [
    {
     "data": {
      "text/plain": [
       "array([1., 0., 1., 0., 0., 0., 0., 1., 1., 0., 1., 0., 1., 0., 1., 1., 1.,\n",
       "       1., 1., 1., 1., 1., 0., 0., 0., 0., 1., 1., 1., 0., 1., 0., 0., 1.,\n",
       "       1., 0., 0., 1., 0., 1., 1., 1., 1., 0., 0., 1., 0., 0., 0., 1., 1.,\n",
       "       0., 1., 1., 1., 1., 0., 1., 0., 0., 1., 1., 0., 0., 1., 1., 1., 1.,\n",
       "       0., 1., 1., 0., 0., 0., 1., 0., 0., 1., 1., 1., 1., 0., 0., 1., 1.,\n",
       "       1., 0., 1., 1., 1., 0., 1., 1., 1., 0., 0., 0., 0., 1., 1., 0., 0.,\n",
       "       1., 1., 0., 1., 0., 1., 0., 0., 1., 0., 0., 0., 1., 1., 1., 0., 0.,\n",
       "       1., 0., 1., 1., 1., 1., 0., 0., 0., 0., 0., 1., 0., 0., 1., 0., 1.,\n",
       "       0., 1., 0., 1., 1., 0., 1., 0., 1., 0., 0., 1., 1., 0., 0., 1., 0.,\n",
       "       0., 0., 1., 1., 1., 1., 1., 1., 0., 0., 1., 1., 1., 0., 1., 0., 1.,\n",
       "       1., 1., 0., 1., 1., 0., 1., 1., 0., 1., 1., 1., 0., 0., 1., 1., 1.,\n",
       "       1., 0., 0., 0., 0., 0., 1., 0., 1., 1., 0., 1., 0.])"
      ]
     },
     "execution_count": 62,
     "metadata": {},
     "output_type": "execute_result"
    }
   ],
   "source": [
    "y_pred"
   ]
  },
  {
   "cell_type": "code",
   "execution_count": 44,
   "metadata": {},
   "outputs": [],
   "source": [
    "#Get confusion matrix\n",
    "#Import module\n",
    "from sklearn.metrics import confusion_matrix"
   ]
  },
  {
   "cell_type": "code",
   "execution_count": 63,
   "metadata": {},
   "outputs": [
    {
     "name": "stdout",
     "output_type": "stream",
     "text": [
      "[[49 56]\n",
      " [42 53]]\n"
     ]
    }
   ],
   "source": [
    "#Get the confusion matrix\n",
    "cf_matrix = confusion_matrix(y_test, y_pred)\n",
    "print(cf_matrix)"
   ]
  },
  {
   "cell_type": "code",
   "execution_count": 31,
   "metadata": {},
   "outputs": [],
   "source": [
    "from helpers import make_confusion_matrix"
   ]
  },
  {
   "cell_type": "code",
   "execution_count": 64,
   "metadata": {},
   "outputs": [
    {
     "data": {
      "image/png": "[encoded data removed]",
      "text/plain": [
       "<Figure size 864x648 with 2 Axes>"
      ]
     },
     "metadata": {
      "needs_background": "light"
     },
     "output_type": "display_data"
    }
   ],
   "source": [
    "#Beautify confusion_matrix\n",
    "labels = ['True Neg','False Pos','False Neg','True Pos']\n",
    "categories = ['Zero', 'One']\n",
    "make_confusion_matrix.make_confusion_matrix(cf_matrix, \n",
    "                      group_names=labels,\n",
    "                      categories=categories,\n",
    "                      figsize=(12, 9)\n",
    "                      #cmap='binary'\n",
    "                     )"
   ]
  },
  {
   "cell_type": "code",
   "execution_count": null,
   "metadata": {},
   "outputs": [],
   "source": []
  },
  {
   "cell_type": "code",
   "execution_count": null,
   "metadata": {},
   "outputs": [],
   "source": [
    "$$$$$$$$$Next @ 9:27am 05/22/2020 END ABOVE Try Bagging 10 svm classifiers"
   ]
  },
  {
   "cell_type": "code",
   "execution_count": null,
   "metadata": {},
   "outputs": [],
   "source": []
  },
  {
   "cell_type": "code",
   "execution_count": null,
   "metadata": {},
   "outputs": [],
   "source": [
    "@@@@@@@@@@@@@@@@@@@@@@@Next @ 3:04pm 05/22/2020 START BELOW Try Feature Selection"
   ]
  },
  {
   "cell_type": "code",
   "execution_count": 69,
   "metadata": {},
   "outputs": [],
   "source": [
    "#RandomForestClassifier\n",
    "from sklearn.ensemble import RandomForestClassifier"
   ]
  },
  {
   "cell_type": "code",
   "execution_count": 56,
   "metadata": {},
   "outputs": [],
   "source": [
    "# Recursive Feature Elimination\n",
    "from sklearn.feature_selection import RFE"
   ]
  },
  {
   "cell_type": "code",
   "execution_count": 70,
   "metadata": {},
   "outputs": [],
   "source": [
    "# create a base classifier used to evaluate a subset of attributes\n",
    "#model = SVC(random_state=707)\n",
    "model = RandomForestClassifier(random_state=101)"
   ]
  },
  {
   "cell_type": "code",
   "execution_count": 60,
   "metadata": {},
   "outputs": [],
   "source": [
    "#Sanity check engineered and preprocessed features\n",
    "df = pd.DataFrame(data=prepared_features_df)"
   ]
  },
  {
   "cell_type": "code",
   "execution_count": 61,
   "metadata": {},
   "outputs": [
    {
     "data": {
      "text/html": [
       "<div>\n",
       "<style scoped>\n",
       "    .dataframe tbody tr th:only-of-type {\n",
       "        vertical-align: middle;\n",
       "    }\n",
       "\n",
       "    .dataframe tbody tr th {\n",
       "        vertical-align: top;\n",
       "    }\n",
       "\n",
       "    .dataframe thead th {\n",
       "        text-align: right;\n",
       "    }\n",
       "</style>\n",
       "<table border=\"1\" class=\"dataframe\">\n",
       "  <thead>\n",
       "    <tr style=\"text-align: right;\">\n",
       "      <th></th>\n",
       "      <th>0</th>\n",
       "      <th>1</th>\n",
       "      <th>2</th>\n",
       "      <th>3</th>\n",
       "      <th>4</th>\n",
       "      <th>5</th>\n",
       "      <th>6</th>\n",
       "      <th>7</th>\n",
       "      <th>8</th>\n",
       "      <th>9</th>\n",
       "      <th>10</th>\n",
       "      <th>11</th>\n",
       "      <th>12</th>\n",
       "      <th>13</th>\n",
       "      <th>14</th>\n",
       "      <th>15</th>\n",
       "      <th>16</th>\n",
       "      <th>17</th>\n",
       "      <th>18</th>\n",
       "      <th>19</th>\n",
       "      <th>20</th>\n",
       "      <th>21</th>\n",
       "      <th>22</th>\n",
       "      <th>23</th>\n",
       "      <th>24</th>\n",
       "      <th>25</th>\n",
       "      <th>26</th>\n",
       "      <th>27</th>\n",
       "      <th>28</th>\n",
       "      <th>29</th>\n",
       "    </tr>\n",
       "  </thead>\n",
       "  <tbody>\n",
       "    <tr>\n",
       "      <th>0</th>\n",
       "      <td>1</td>\n",
       "      <td>1</td>\n",
       "      <td>0</td>\n",
       "      <td>1</td>\n",
       "      <td>0</td>\n",
       "      <td>1</td>\n",
       "      <td>1</td>\n",
       "      <td>3</td>\n",
       "      <td>0</td>\n",
       "      <td>0</td>\n",
       "      <td>0</td>\n",
       "      <td>1</td>\n",
       "      <td>0</td>\n",
       "      <td>0</td>\n",
       "      <td>1</td>\n",
       "      <td>0</td>\n",
       "      <td>0</td>\n",
       "      <td>0</td>\n",
       "      <td>0</td>\n",
       "      <td>0</td>\n",
       "      <td>0</td>\n",
       "      <td>0</td>\n",
       "      <td>0</td>\n",
       "      <td>1</td>\n",
       "      <td>0</td>\n",
       "      <td>-0.714763</td>\n",
       "      <td>1.18441</td>\n",
       "      <td>0.914619</td>\n",
       "      <td>-0.569779</td>\n",
       "      <td>-1.32494</td>\n",
       "    </tr>\n",
       "    <tr>\n",
       "      <th>1</th>\n",
       "      <td>0</td>\n",
       "      <td>0</td>\n",
       "      <td>0</td>\n",
       "      <td>1</td>\n",
       "      <td>0</td>\n",
       "      <td>1</td>\n",
       "      <td>1</td>\n",
       "      <td>1</td>\n",
       "      <td>0</td>\n",
       "      <td>0</td>\n",
       "      <td>0</td>\n",
       "      <td>1</td>\n",
       "      <td>0</td>\n",
       "      <td>0</td>\n",
       "      <td>0</td>\n",
       "      <td>0</td>\n",
       "      <td>0</td>\n",
       "      <td>0</td>\n",
       "      <td>1</td>\n",
       "      <td>0</td>\n",
       "      <td>1</td>\n",
       "      <td>0</td>\n",
       "      <td>0</td>\n",
       "      <td>0</td>\n",
       "      <td>0</td>\n",
       "      <td>0.888696</td>\n",
       "      <td>-1.13588</td>\n",
       "      <td>0.245033</td>\n",
       "      <td>-0.569779</td>\n",
       "      <td>-0.56342</td>\n",
       "    </tr>\n",
       "    <tr>\n",
       "      <th>2</th>\n",
       "      <td>1</td>\n",
       "      <td>1</td>\n",
       "      <td>0</td>\n",
       "      <td>1</td>\n",
       "      <td>1</td>\n",
       "      <td>1</td>\n",
       "      <td>1</td>\n",
       "      <td>1</td>\n",
       "      <td>0</td>\n",
       "      <td>0</td>\n",
       "      <td>0</td>\n",
       "      <td>1</td>\n",
       "      <td>0</td>\n",
       "      <td>0</td>\n",
       "      <td>1</td>\n",
       "      <td>0</td>\n",
       "      <td>0</td>\n",
       "      <td>0</td>\n",
       "      <td>0</td>\n",
       "      <td>0</td>\n",
       "      <td>0</td>\n",
       "      <td>0</td>\n",
       "      <td>0</td>\n",
       "      <td>1</td>\n",
       "      <td>0</td>\n",
       "      <td>-0.714763</td>\n",
       "      <td>0.410983</td>\n",
       "      <td>-0.366327</td>\n",
       "      <td>-0.569779</td>\n",
       "      <td>-0.682695</td>\n",
       "    </tr>\n",
       "    <tr>\n",
       "      <th>3</th>\n",
       "      <td>1</td>\n",
       "      <td>0</td>\n",
       "      <td>0</td>\n",
       "      <td>1</td>\n",
       "      <td>0</td>\n",
       "      <td>1</td>\n",
       "      <td>1</td>\n",
       "      <td>1</td>\n",
       "      <td>1</td>\n",
       "      <td>0</td>\n",
       "      <td>0</td>\n",
       "      <td>0</td>\n",
       "      <td>0</td>\n",
       "      <td>0</td>\n",
       "      <td>1</td>\n",
       "      <td>0</td>\n",
       "      <td>0</td>\n",
       "      <td>0</td>\n",
       "      <td>0</td>\n",
       "      <td>0</td>\n",
       "      <td>0</td>\n",
       "      <td>0</td>\n",
       "      <td>1</td>\n",
       "      <td>0</td>\n",
       "      <td>0</td>\n",
       "      <td>-0.714763</td>\n",
       "      <td>1.71987</td>\n",
       "      <td>0.361483</td>\n",
       "      <td>1.54463</td>\n",
       "      <td>-0.80197</td>\n",
       "    </tr>\n",
       "    <tr>\n",
       "      <th>4</th>\n",
       "      <td>1</td>\n",
       "      <td>0</td>\n",
       "      <td>0</td>\n",
       "      <td>1</td>\n",
       "      <td>0</td>\n",
       "      <td>0</td>\n",
       "      <td>0</td>\n",
       "      <td>5</td>\n",
       "      <td>1</td>\n",
       "      <td>0</td>\n",
       "      <td>0</td>\n",
       "      <td>0</td>\n",
       "      <td>0</td>\n",
       "      <td>0</td>\n",
       "      <td>0</td>\n",
       "      <td>0</td>\n",
       "      <td>1</td>\n",
       "      <td>0</td>\n",
       "      <td>0</td>\n",
       "      <td>0</td>\n",
       "      <td>0</td>\n",
       "      <td>0</td>\n",
       "      <td>1</td>\n",
       "      <td>0</td>\n",
       "      <td>0</td>\n",
       "      <td>-0.714763</td>\n",
       "      <td>-1.37386</td>\n",
       "      <td>-0.249878</td>\n",
       "      <td>1.20632</td>\n",
       "      <td>-0.664345</td>\n",
       "    </tr>\n",
       "  </tbody>\n",
       "</table>\n",
       "</div>"
      ],
      "text/plain": [
       "   0  1  2  3  4  5  6  7  8  9 10 11 12 13 14 15 16 17 18 19 20 21 22 23 24  \\\n",
       "0  1  1  0  1  0  1  1  3  0  0  0  1  0  0  1  0  0  0  0  0  0  0  0  1  0   \n",
       "1  0  0  0  1  0  1  1  1  0  0  0  1  0  0  0  0  0  0  1  0  1  0  0  0  0   \n",
       "2  1  1  0  1  1  1  1  1  0  0  0  1  0  0  1  0  0  0  0  0  0  0  0  1  0   \n",
       "3  1  0  0  1  0  1  1  1  1  0  0  0  0  0  1  0  0  0  0  0  0  0  1  0  0   \n",
       "4  1  0  0  1  0  0  0  5  1  0  0  0  0  0  0  0  1  0  0  0  0  0  1  0  0   \n",
       "\n",
       "         25        26        27        28        29  \n",
       "0 -0.714763   1.18441  0.914619 -0.569779  -1.32494  \n",
       "1  0.888696  -1.13588  0.245033 -0.569779  -0.56342  \n",
       "2 -0.714763  0.410983 -0.366327 -0.569779 -0.682695  \n",
       "3 -0.714763   1.71987  0.361483   1.54463  -0.80197  \n",
       "4 -0.714763  -1.37386 -0.249878   1.20632 -0.664345  "
      ]
     },
     "execution_count": 61,
     "metadata": {},
     "output_type": "execute_result"
    }
   ],
   "source": [
    "df.head()"
   ]
  },
  {
   "cell_type": "code",
   "execution_count": 84,
   "metadata": {},
   "outputs": [],
   "source": [
    "target_df = pd.DataFrame(data=target_df)"
   ]
  },
  {
   "cell_type": "code",
   "execution_count": 88,
   "metadata": {},
   "outputs": [
    {
     "data": {
      "text/html": [
       "<div>\n",
       "<style scoped>\n",
       "    .dataframe tbody tr th:only-of-type {\n",
       "        vertical-align: middle;\n",
       "    }\n",
       "\n",
       "    .dataframe tbody tr th {\n",
       "        vertical-align: top;\n",
       "    }\n",
       "\n",
       "    .dataframe thead th {\n",
       "        text-align: right;\n",
       "    }\n",
       "</style>\n",
       "<table border=\"1\" class=\"dataframe\">\n",
       "  <thead>\n",
       "    <tr style=\"text-align: right;\">\n",
       "      <th></th>\n",
       "      <th>0</th>\n",
       "    </tr>\n",
       "  </thead>\n",
       "  <tbody>\n",
       "    <tr>\n",
       "      <th>0</th>\n",
       "      <td>0.0</td>\n",
       "    </tr>\n",
       "    <tr>\n",
       "      <th>1</th>\n",
       "      <td>1.0</td>\n",
       "    </tr>\n",
       "    <tr>\n",
       "      <th>2</th>\n",
       "      <td>0.0</td>\n",
       "    </tr>\n",
       "    <tr>\n",
       "      <th>3</th>\n",
       "      <td>0.0</td>\n",
       "    </tr>\n",
       "    <tr>\n",
       "      <th>4</th>\n",
       "      <td>1.0</td>\n",
       "    </tr>\n",
       "    <tr>\n",
       "      <th>...</th>\n",
       "      <td>...</td>\n",
       "    </tr>\n",
       "    <tr>\n",
       "      <th>995</th>\n",
       "      <td>1.0</td>\n",
       "    </tr>\n",
       "    <tr>\n",
       "      <th>996</th>\n",
       "      <td>1.0</td>\n",
       "    </tr>\n",
       "    <tr>\n",
       "      <th>997</th>\n",
       "      <td>1.0</td>\n",
       "    </tr>\n",
       "    <tr>\n",
       "      <th>998</th>\n",
       "      <td>1.0</td>\n",
       "    </tr>\n",
       "    <tr>\n",
       "      <th>999</th>\n",
       "      <td>0.0</td>\n",
       "    </tr>\n",
       "  </tbody>\n",
       "</table>\n",
       "<p>1000 rows × 1 columns</p>\n",
       "</div>"
      ],
      "text/plain": [
       "       0\n",
       "0    0.0\n",
       "1    1.0\n",
       "2    0.0\n",
       "3    0.0\n",
       "4    1.0\n",
       "..   ...\n",
       "995  1.0\n",
       "996  1.0\n",
       "997  1.0\n",
       "998  1.0\n",
       "999  0.0\n",
       "\n",
       "[1000 rows x 1 columns]"
      ]
     },
     "execution_count": 88,
     "metadata": {},
     "output_type": "execute_result"
    }
   ],
   "source": [
    "target_df"
   ]
  },
  {
   "cell_type": "code",
   "execution_count": null,
   "metadata": {},
   "outputs": [],
   "source": []
  },
  {
   "cell_type": "code",
   "execution_count": null,
   "metadata": {},
   "outputs": [],
   "source": []
  },
  {
   "cell_type": "code",
   "execution_count": 71,
   "metadata": {},
   "outputs": [],
   "source": [
    "from sklearn.model_selection import StratifiedKFold\n",
    "from sklearn.feature_selection import RFECV"
   ]
  },
  {
   "cell_type": "code",
   "execution_count": 72,
   "metadata": {},
   "outputs": [],
   "source": [
    "model_ecv = RFECV(estimator=model, step=1, cv=StratifiedKFold(10), scoring='accuracy')"
   ]
  },
  {
   "cell_type": "code",
   "execution_count": 73,
   "metadata": {},
   "outputs": [
    {
     "data": {
      "text/plain": [
       "RFECV(cv=StratifiedKFold(n_splits=10, random_state=None, shuffle=False),\n",
       "      estimator=RandomForestClassifier(bootstrap=True, ccp_alpha=0.0,\n",
       "                                       class_weight=None, criterion='gini',\n",
       "                                       max_depth=None, max_features='auto',\n",
       "                                       max_leaf_nodes=None, max_samples=None,\n",
       "                                       min_impurity_decrease=0.0,\n",
       "                                       min_impurity_split=None,\n",
       "                                       min_samples_leaf=1, min_samples_split=2,\n",
       "                                       min_weight_fraction_leaf=0.0,\n",
       "                                       n_estimators=100, n_jobs=None,\n",
       "                                       oob_score=False, random_state=101,\n",
       "                                       verbose=0, warm_start=False),\n",
       "      min_features_to_select=1, n_jobs=None, scoring='accuracy', step=1,\n",
       "      verbose=0)"
      ]
     },
     "execution_count": 73,
     "metadata": {},
     "output_type": "execute_result"
    }
   ],
   "source": [
    "model_ecv.fit(prepared_features_df, target_df)"
   ]
  },
  {
   "cell_type": "code",
   "execution_count": 75,
   "metadata": {},
   "outputs": [
    {
     "name": "stdout",
     "output_type": "stream",
     "text": [
      "Optimal number of features: 30\n"
     ]
    }
   ],
   "source": [
    "print('Optimal number of features: {}'.format(model_ecv.n_features_))"
   ]
  },
  {
   "cell_type": "code",
   "execution_count": 76,
   "metadata": {},
   "outputs": [
    {
     "data": {
      "image/png": "[encoded data removed]",
      "text/plain": [
       "<Figure size 1152x648 with 1 Axes>"
      ]
     },
     "metadata": {
      "needs_background": "light"
     },
     "output_type": "display_data"
    }
   ],
   "source": [
    "plt.figure(figsize=(16, 9))\n",
    "plt.title('Recursive Feature Elimination with Cross-Validation', fontsize=18, fontweight='bold', pad=20)\n",
    "plt.xlabel('Number of features selected', fontsize=14, labelpad=20)\n",
    "plt.ylabel('% Correct Classification', fontsize=14, labelpad=20)\n",
    "plt.plot(range(1, len(model_ecv.grid_scores_) + 1), model_ecv.grid_scores_, color='#303F9F', linewidth=3)\n",
    "\n",
    "plt.show()"
   ]
  },
  {
   "cell_type": "code",
   "execution_count": 78,
   "metadata": {},
   "outputs": [],
   "source": [
    "X = prepared_features_df"
   ]
  },
  {
   "cell_type": "code",
   "execution_count": 80,
   "metadata": {},
   "outputs": [
    {
     "name": "stdout",
     "output_type": "stream",
     "text": [
      "[]\n"
     ]
    }
   ],
   "source": [
    "print(np.where(model_ecv.support_ == False)[0])\n",
    "\n",
    "#X.drop(X.columns[np.where(model_ecv.support_ == False)[0]], axis=1, inplace=True)"
   ]
  },
  {
   "cell_type": "code",
   "execution_count": null,
   "metadata": {},
   "outputs": [],
   "source": []
  },
  {
   "cell_type": "code",
   "execution_count": 64,
   "metadata": {},
   "outputs": [
    {
     "ename": "RuntimeError",
     "evalue": "The classifier does not expose \"coef_\" or \"feature_importances_\" attributes",
     "output_type": "error",
     "traceback": [
      "\u001b[0;31m---------------------------------------------------------------------------\u001b[0m",
      "\u001b[0;31mRuntimeError\u001b[0m                              Traceback (most recent call last)",
      "\u001b[0;32m<ipython-input-64-627b596afc60>\u001b[0m in \u001b[0;36m<module>\u001b[0;34m\u001b[0m\n\u001b[1;32m      1\u001b[0m \u001b[0;31m# create the RFE model and select 3 attributes\u001b[0m\u001b[0;34m\u001b[0m\u001b[0;34m\u001b[0m\u001b[0;34m\u001b[0m\u001b[0m\n\u001b[1;32m      2\u001b[0m \u001b[0mrfe\u001b[0m \u001b[0;34m=\u001b[0m \u001b[0mRFE\u001b[0m\u001b[0;34m(\u001b[0m\u001b[0mmodel\u001b[0m\u001b[0;34m,\u001b[0m \u001b[0;36m10\u001b[0m\u001b[0;34m)\u001b[0m\u001b[0;34m\u001b[0m\u001b[0;34m\u001b[0m\u001b[0m\n\u001b[0;32m----> 3\u001b[0;31m \u001b[0mrfe\u001b[0m \u001b[0;34m=\u001b[0m \u001b[0mrfe\u001b[0m\u001b[0;34m.\u001b[0m\u001b[0mfit\u001b[0m\u001b[0;34m(\u001b[0m\u001b[0mprepared_features_df\u001b[0m\u001b[0;34m,\u001b[0m \u001b[0mtarget_df\u001b[0m\u001b[0;34m)\u001b[0m\u001b[0;34m\u001b[0m\u001b[0;34m\u001b[0m\u001b[0m\n\u001b[0m",
      "\u001b[0;32m~/miniconda3/lib/python3.7/site-packages/sklearn/feature_selection/_rfe.py\u001b[0m in \u001b[0;36mfit\u001b[0;34m(self, X, y)\u001b[0m\n\u001b[1;32m    147\u001b[0m             \u001b[0mThe\u001b[0m \u001b[0mtarget\u001b[0m \u001b[0mvalues\u001b[0m\u001b[0;34m.\u001b[0m\u001b[0;34m\u001b[0m\u001b[0;34m\u001b[0m\u001b[0m\n\u001b[1;32m    148\u001b[0m         \"\"\"\n\u001b[0;32m--> 149\u001b[0;31m         \u001b[0;32mreturn\u001b[0m \u001b[0mself\u001b[0m\u001b[0;34m.\u001b[0m\u001b[0m_fit\u001b[0m\u001b[0;34m(\u001b[0m\u001b[0mX\u001b[0m\u001b[0;34m,\u001b[0m \u001b[0my\u001b[0m\u001b[0;34m)\u001b[0m\u001b[0;34m\u001b[0m\u001b[0;34m\u001b[0m\u001b[0m\n\u001b[0m\u001b[1;32m    150\u001b[0m \u001b[0;34m\u001b[0m\u001b[0m\n\u001b[1;32m    151\u001b[0m     \u001b[0;32mdef\u001b[0m \u001b[0m_fit\u001b[0m\u001b[0;34m(\u001b[0m\u001b[0mself\u001b[0m\u001b[0;34m,\u001b[0m \u001b[0mX\u001b[0m\u001b[0;34m,\u001b[0m \u001b[0my\u001b[0m\u001b[0;34m,\u001b[0m \u001b[0mstep_score\u001b[0m\u001b[0;34m=\u001b[0m\u001b[0;32mNone\u001b[0m\u001b[0;34m)\u001b[0m\u001b[0;34m:\u001b[0m\u001b[0;34m\u001b[0m\u001b[0;34m\u001b[0m\u001b[0m\n",
      "\u001b[0;32m~/miniconda3/lib/python3.7/site-packages/sklearn/feature_selection/_rfe.py\u001b[0m in \u001b[0;36m_fit\u001b[0;34m(self, X, y, step_score)\u001b[0m\n\u001b[1;32m    196\u001b[0m                 \u001b[0mcoefs\u001b[0m \u001b[0;34m=\u001b[0m \u001b[0mgetattr\u001b[0m\u001b[0;34m(\u001b[0m\u001b[0mestimator\u001b[0m\u001b[0;34m,\u001b[0m \u001b[0;34m'feature_importances_'\u001b[0m\u001b[0;34m,\u001b[0m \u001b[0;32mNone\u001b[0m\u001b[0;34m)\u001b[0m\u001b[0;34m\u001b[0m\u001b[0;34m\u001b[0m\u001b[0m\n\u001b[1;32m    197\u001b[0m             \u001b[0;32mif\u001b[0m \u001b[0mcoefs\u001b[0m \u001b[0;32mis\u001b[0m \u001b[0;32mNone\u001b[0m\u001b[0;34m:\u001b[0m\u001b[0;34m\u001b[0m\u001b[0;34m\u001b[0m\u001b[0m\n\u001b[0;32m--> 198\u001b[0;31m                 raise RuntimeError('The classifier does not expose '\n\u001b[0m\u001b[1;32m    199\u001b[0m                                    \u001b[0;34m'\"coef_\" or \"feature_importances_\" '\u001b[0m\u001b[0;34m\u001b[0m\u001b[0;34m\u001b[0m\u001b[0m\n\u001b[1;32m    200\u001b[0m                                    'attributes')\n",
      "\u001b[0;31mRuntimeError\u001b[0m: The classifier does not expose \"coef_\" or \"feature_importances_\" attributes"
     ]
    }
   ],
   "source": [
    "# create the RFE model and select 3 attributes\n",
    "rfe = RFE(model, 10)\n",
    "rfe = rfe.fit(prepared_features_df, target_df)"
   ]
  },
  {
   "cell_type": "code",
   "execution_count": null,
   "metadata": {},
   "outputs": [],
   "source": [
    "# summarize the selection of the attributes\n",
    "\n"
   ]
  },
  {
   "cell_type": "code",
   "execution_count": 50,
   "metadata": {},
   "outputs": [],
   "source": [
    "# Recursive Feature Elimination\n",
    "from sklearn import datasets\n",
    "from sklearn.feature_selection import RFE\n",
    "from sklearn.linear_model import LogisticRegression"
   ]
  },
  {
   "cell_type": "code",
   "execution_count": 52,
   "metadata": {},
   "outputs": [],
   "source": [
    "# load the iris datasets\n",
    "dataset = datasets.load_iris()\n",
    "# create a base classifier used to evaluate a subset of attributes\n",
    "model = LogisticRegression()"
   ]
  },
  {
   "cell_type": "code",
   "execution_count": 46,
   "metadata": {
    "scrolled": false
   },
   "outputs": [
    {
     "data": {
      "text/plain": [
       "array([[5.1, 3.5, 1.4, 0.2],\n",
       "       [4.9, 3. , 1.4, 0.2],\n",
       "       [4.7, 3.2, 1.3, 0.2],\n",
       "       [4.6, 3.1, 1.5, 0.2],\n",
       "       [5. , 3.6, 1.4, 0.2],\n",
       "       [5.4, 3.9, 1.7, 0.4],\n",
       "       [4.6, 3.4, 1.4, 0.3],\n",
       "       [5. , 3.4, 1.5, 0.2],\n",
       "       [4.4, 2.9, 1.4, 0.2],\n",
       "       [4.9, 3.1, 1.5, 0.1],\n",
       "       [5.4, 3.7, 1.5, 0.2],\n",
       "       [4.8, 3.4, 1.6, 0.2],\n",
       "       [4.8, 3. , 1.4, 0.1],\n",
       "       [4.3, 3. , 1.1, 0.1],\n",
       "       [5.8, 4. , 1.2, 0.2],\n",
       "       [5.7, 4.4, 1.5, 0.4],\n",
       "       [5.4, 3.9, 1.3, 0.4],\n",
       "       [5.1, 3.5, 1.4, 0.3],\n",
       "       [5.7, 3.8, 1.7, 0.3],\n",
       "       [5.1, 3.8, 1.5, 0.3],\n",
       "       [5.4, 3.4, 1.7, 0.2],\n",
       "       [5.1, 3.7, 1.5, 0.4],\n",
       "       [4.6, 3.6, 1. , 0.2],\n",
       "       [5.1, 3.3, 1.7, 0.5],\n",
       "       [4.8, 3.4, 1.9, 0.2],\n",
       "       [5. , 3. , 1.6, 0.2],\n",
       "       [5. , 3.4, 1.6, 0.4],\n",
       "       [5.2, 3.5, 1.5, 0.2],\n",
       "       [5.2, 3.4, 1.4, 0.2],\n",
       "       [4.7, 3.2, 1.6, 0.2],\n",
       "       [4.8, 3.1, 1.6, 0.2],\n",
       "       [5.4, 3.4, 1.5, 0.4],\n",
       "       [5.2, 4.1, 1.5, 0.1],\n",
       "       [5.5, 4.2, 1.4, 0.2],\n",
       "       [4.9, 3.1, 1.5, 0.2],\n",
       "       [5. , 3.2, 1.2, 0.2],\n",
       "       [5.5, 3.5, 1.3, 0.2],\n",
       "       [4.9, 3.6, 1.4, 0.1],\n",
       "       [4.4, 3. , 1.3, 0.2],\n",
       "       [5.1, 3.4, 1.5, 0.2],\n",
       "       [5. , 3.5, 1.3, 0.3],\n",
       "       [4.5, 2.3, 1.3, 0.3],\n",
       "       [4.4, 3.2, 1.3, 0.2],\n",
       "       [5. , 3.5, 1.6, 0.6],\n",
       "       [5.1, 3.8, 1.9, 0.4],\n",
       "       [4.8, 3. , 1.4, 0.3],\n",
       "       [5.1, 3.8, 1.6, 0.2],\n",
       "       [4.6, 3.2, 1.4, 0.2],\n",
       "       [5.3, 3.7, 1.5, 0.2],\n",
       "       [5. , 3.3, 1.4, 0.2],\n",
       "       [7. , 3.2, 4.7, 1.4],\n",
       "       [6.4, 3.2, 4.5, 1.5],\n",
       "       [6.9, 3.1, 4.9, 1.5],\n",
       "       [5.5, 2.3, 4. , 1.3],\n",
       "       [6.5, 2.8, 4.6, 1.5],\n",
       "       [5.7, 2.8, 4.5, 1.3],\n",
       "       [6.3, 3.3, 4.7, 1.6],\n",
       "       [4.9, 2.4, 3.3, 1. ],\n",
       "       [6.6, 2.9, 4.6, 1.3],\n",
       "       [5.2, 2.7, 3.9, 1.4],\n",
       "       [5. , 2. , 3.5, 1. ],\n",
       "       [5.9, 3. , 4.2, 1.5],\n",
       "       [6. , 2.2, 4. , 1. ],\n",
       "       [6.1, 2.9, 4.7, 1.4],\n",
       "       [5.6, 2.9, 3.6, 1.3],\n",
       "       [6.7, 3.1, 4.4, 1.4],\n",
       "       [5.6, 3. , 4.5, 1.5],\n",
       "       [5.8, 2.7, 4.1, 1. ],\n",
       "       [6.2, 2.2, 4.5, 1.5],\n",
       "       [5.6, 2.5, 3.9, 1.1],\n",
       "       [5.9, 3.2, 4.8, 1.8],\n",
       "       [6.1, 2.8, 4. , 1.3],\n",
       "       [6.3, 2.5, 4.9, 1.5],\n",
       "       [6.1, 2.8, 4.7, 1.2],\n",
       "       [6.4, 2.9, 4.3, 1.3],\n",
       "       [6.6, 3. , 4.4, 1.4],\n",
       "       [6.8, 2.8, 4.8, 1.4],\n",
       "       [6.7, 3. , 5. , 1.7],\n",
       "       [6. , 2.9, 4.5, 1.5],\n",
       "       [5.7, 2.6, 3.5, 1. ],\n",
       "       [5.5, 2.4, 3.8, 1.1],\n",
       "       [5.5, 2.4, 3.7, 1. ],\n",
       "       [5.8, 2.7, 3.9, 1.2],\n",
       "       [6. , 2.7, 5.1, 1.6],\n",
       "       [5.4, 3. , 4.5, 1.5],\n",
       "       [6. , 3.4, 4.5, 1.6],\n",
       "       [6.7, 3.1, 4.7, 1.5],\n",
       "       [6.3, 2.3, 4.4, 1.3],\n",
       "       [5.6, 3. , 4.1, 1.3],\n",
       "       [5.5, 2.5, 4. , 1.3],\n",
       "       [5.5, 2.6, 4.4, 1.2],\n",
       "       [6.1, 3. , 4.6, 1.4],\n",
       "       [5.8, 2.6, 4. , 1.2],\n",
       "       [5. , 2.3, 3.3, 1. ],\n",
       "       [5.6, 2.7, 4.2, 1.3],\n",
       "       [5.7, 3. , 4.2, 1.2],\n",
       "       [5.7, 2.9, 4.2, 1.3],\n",
       "       [6.2, 2.9, 4.3, 1.3],\n",
       "       [5.1, 2.5, 3. , 1.1],\n",
       "       [5.7, 2.8, 4.1, 1.3],\n",
       "       [6.3, 3.3, 6. , 2.5],\n",
       "       [5.8, 2.7, 5.1, 1.9],\n",
       "       [7.1, 3. , 5.9, 2.1],\n",
       "       [6.3, 2.9, 5.6, 1.8],\n",
       "       [6.5, 3. , 5.8, 2.2],\n",
       "       [7.6, 3. , 6.6, 2.1],\n",
       "       [4.9, 2.5, 4.5, 1.7],\n",
       "       [7.3, 2.9, 6.3, 1.8],\n",
       "       [6.7, 2.5, 5.8, 1.8],\n",
       "       [7.2, 3.6, 6.1, 2.5],\n",
       "       [6.5, 3.2, 5.1, 2. ],\n",
       "       [6.4, 2.7, 5.3, 1.9],\n",
       "       [6.8, 3. , 5.5, 2.1],\n",
       "       [5.7, 2.5, 5. , 2. ],\n",
       "       [5.8, 2.8, 5.1, 2.4],\n",
       "       [6.4, 3.2, 5.3, 2.3],\n",
       "       [6.5, 3. , 5.5, 1.8],\n",
       "       [7.7, 3.8, 6.7, 2.2],\n",
       "       [7.7, 2.6, 6.9, 2.3],\n",
       "       [6. , 2.2, 5. , 1.5],\n",
       "       [6.9, 3.2, 5.7, 2.3],\n",
       "       [5.6, 2.8, 4.9, 2. ],\n",
       "       [7.7, 2.8, 6.7, 2. ],\n",
       "       [6.3, 2.7, 4.9, 1.8],\n",
       "       [6.7, 3.3, 5.7, 2.1],\n",
       "       [7.2, 3.2, 6. , 1.8],\n",
       "       [6.2, 2.8, 4.8, 1.8],\n",
       "       [6.1, 3. , 4.9, 1.8],\n",
       "       [6.4, 2.8, 5.6, 2.1],\n",
       "       [7.2, 3. , 5.8, 1.6],\n",
       "       [7.4, 2.8, 6.1, 1.9],\n",
       "       [7.9, 3.8, 6.4, 2. ],\n",
       "       [6.4, 2.8, 5.6, 2.2],\n",
       "       [6.3, 2.8, 5.1, 1.5],\n",
       "       [6.1, 2.6, 5.6, 1.4],\n",
       "       [7.7, 3. , 6.1, 2.3],\n",
       "       [6.3, 3.4, 5.6, 2.4],\n",
       "       [6.4, 3.1, 5.5, 1.8],\n",
       "       [6. , 3. , 4.8, 1.8],\n",
       "       [6.9, 3.1, 5.4, 2.1],\n",
       "       [6.7, 3.1, 5.6, 2.4],\n",
       "       [6.9, 3.1, 5.1, 2.3],\n",
       "       [5.8, 2.7, 5.1, 1.9],\n",
       "       [6.8, 3.2, 5.9, 2.3],\n",
       "       [6.7, 3.3, 5.7, 2.5],\n",
       "       [6.7, 3. , 5.2, 2.3],\n",
       "       [6.3, 2.5, 5. , 1.9],\n",
       "       [6.5, 3. , 5.2, 2. ],\n",
       "       [6.2, 3.4, 5.4, 2.3],\n",
       "       [5.9, 3. , 5.1, 1.8]])"
      ]
     },
     "execution_count": 46,
     "metadata": {},
     "output_type": "execute_result"
    }
   ],
   "source": [
    "dataset.data"
   ]
  },
  {
   "cell_type": "code",
   "execution_count": 47,
   "metadata": {},
   "outputs": [
    {
     "data": {
      "text/plain": [
       "array([0, 0, 0, 0, 0, 0, 0, 0, 0, 0, 0, 0, 0, 0, 0, 0, 0, 0, 0, 0, 0, 0,\n",
       "       0, 0, 0, 0, 0, 0, 0, 0, 0, 0, 0, 0, 0, 0, 0, 0, 0, 0, 0, 0, 0, 0,\n",
       "       0, 0, 0, 0, 0, 0, 1, 1, 1, 1, 1, 1, 1, 1, 1, 1, 1, 1, 1, 1, 1, 1,\n",
       "       1, 1, 1, 1, 1, 1, 1, 1, 1, 1, 1, 1, 1, 1, 1, 1, 1, 1, 1, 1, 1, 1,\n",
       "       1, 1, 1, 1, 1, 1, 1, 1, 1, 1, 1, 1, 2, 2, 2, 2, 2, 2, 2, 2, 2, 2,\n",
       "       2, 2, 2, 2, 2, 2, 2, 2, 2, 2, 2, 2, 2, 2, 2, 2, 2, 2, 2, 2, 2, 2,\n",
       "       2, 2, 2, 2, 2, 2, 2, 2, 2, 2, 2, 2, 2, 2, 2, 2, 2, 2])"
      ]
     },
     "execution_count": 47,
     "metadata": {},
     "output_type": "execute_result"
    }
   ],
   "source": [
    "dataset.target"
   ]
  },
  {
   "cell_type": "code",
   "execution_count": 48,
   "metadata": {},
   "outputs": [],
   "source": [
    "import warnings\n",
    "warnings.filterwarnings('ignore')"
   ]
  },
  {
   "cell_type": "code",
   "execution_count": 53,
   "metadata": {},
   "outputs": [],
   "source": [
    "# create the RFE model and select 3 attributes\n",
    "rfe = RFE(model, 3)\n",
    "rfe = rfe.fit(dataset.data, dataset.target)"
   ]
  },
  {
   "cell_type": "code",
   "execution_count": 54,
   "metadata": {},
   "outputs": [
    {
     "name": "stdout",
     "output_type": "stream",
     "text": [
      "[False  True  True  True]\n",
      "[2 1 1 1]\n"
     ]
    }
   ],
   "source": [
    "# summarize the selection of the attributes\n",
    "print(rfe.support_)\n",
    "print(rfe.ranking_)"
   ]
  },
  {
   "cell_type": "code",
   "execution_count": null,
   "metadata": {},
   "outputs": [],
   "source": [
    "# Recursive Feature Eliminationhttps://scikit-learn.org/stable/modules/linear_model.html#logistic-regression\n",
    "from sklearn import datasets\n",
    "from sklearn.feature_selection import RFE\n",
    "from sklearn.linear_model import LogisticRegression\n",
    "# load the iris datasets\n",
    "dataset = datasets.load_iris()\n",
    "# create a base classifier used to evaluate a subset of attributes\n",
    "model = LogisticRegression()\n",
    "# create the RFE model and select 3 attributes\n",
    "rfe = RFE(model, 3)\n",
    "rfe = rfe.fit(dataset.data, dataset.target)\n",
    "# summarize the selection of the attributes\n",
    "print(rfe.support_)\n",
    "print(rfe.ranking_)"
   ]
  },
  {
   "cell_type": "code",
   "execution_count": null,
   "metadata": {},
   "outputs": [],
   "source": []
  },
  {
   "cell_type": "code",
   "execution_count": 104,
   "metadata": {},
   "outputs": [
    {
     "name": "stdout",
     "output_type": "stream",
     "text": [
      "[0.0783159  0.04330063 0.42740272 0.45098075]\n"
     ]
    }
   ],
   "source": [
    "# Feature Importance\n",
    "from sklearn import datasets\n",
    "from sklearn import metrics\n",
    "from sklearn.ensemble import ExtraTreesClassifier\n",
    "# load the iris datasets\n",
    "dataset = datasets.load_iris()\n",
    "# fit an Extra Trees model to the data\n",
    "model = ExtraTreesClassifier()\n",
    "model.fit(dataset.data, dataset.target)\n",
    "# display the relative importance of each attribute\n",
    "print(model.feature_importances_)"
   ]
  },
  {
   "cell_type": "code",
   "execution_count": null,
   "metadata": {},
   "outputs": [],
   "source": []
  },
  {
   "cell_type": "code",
   "execution_count": null,
   "metadata": {},
   "outputs": [],
   "source": []
  },
  {
   "cell_type": "code",
   "execution_count": null,
   "metadata": {},
   "outputs": [],
   "source": []
  },
  {
   "cell_type": "code",
   "execution_count": null,
   "metadata": {},
   "outputs": [],
   "source": [
    "@@@@@@@@@@@@@@@@@@@@@@@Next @ 3:04pm 05/22/2020 END ABOVE Try Feature Selection"
   ]
  },
  {
   "cell_type": "code",
   "execution_count": null,
   "metadata": {},
   "outputs": [],
   "source": []
  },
  {
   "cell_type": "code",
   "execution_count": null,
   "metadata": {},
   "outputs": [],
   "source": []
  },
  {
   "cell_type": "code",
   "execution_count": null,
   "metadata": {},
   "outputs": [],
   "source": []
  },
  {
   "cell_type": "code",
   "execution_count": null,
   "metadata": {},
   "outputs": [],
   "source": [
    "&&&&&&&&&&&&&&&&&&&&Next @ 10:01am 05/22/2020 START BELOW Try Ensembling"
   ]
  },
  {
   "cell_type": "code",
   "execution_count": 68,
   "metadata": {},
   "outputs": [],
   "source": [
    "#Get classifiers\n",
    "from sklearn.ensemble import RandomForestClassifier\n",
    "from sklearn.linear_model import LogisticRegression\n",
    "from sklearn.svm import SVC\n",
    "from sklearn.ensemble import VotingClassifier #Methods to vote classifiers"
   ]
  },
  {
   "cell_type": "code",
   "execution_count": 69,
   "metadata": {},
   "outputs": [],
   "source": [
    "#instantiate classes\n",
    "rnd_clf = RandomForestClassifier()\n",
    "log_clf = LogisticRegression()\n",
    "svm_clf = SVC()"
   ]
  },
  {
   "cell_type": "code",
   "execution_count": 70,
   "metadata": {},
   "outputs": [],
   "source": [
    "#instantiate voting classifier\n",
    "voting_clf = VotingClassifier(\n",
    "estimators = [('rf', rnd_clf),\n",
    "              ('lr', log_clf),\n",
    "              ('svc', svm_clf)],\n",
    "    voting = 'hard'\n",
    ")"
   ]
  },
  {
   "cell_type": "code",
   "execution_count": 71,
   "metadata": {},
   "outputs": [
    {
     "data": {
      "text/plain": [
       "VotingClassifier(estimators=[('rf',\n",
       "                              RandomForestClassifier(bootstrap=True,\n",
       "                                                     ccp_alpha=0.0,\n",
       "                                                     class_weight=None,\n",
       "                                                     criterion='gini',\n",
       "                                                     max_depth=None,\n",
       "                                                     max_features='auto',\n",
       "                                                     max_leaf_nodes=None,\n",
       "                                                     max_samples=None,\n",
       "                                                     min_impurity_decrease=0.0,\n",
       "                                                     min_impurity_split=None,\n",
       "                                                     min_samples_leaf=1,\n",
       "                                                     min_samples_split=2,\n",
       "                                                     min_weight_fraction_leaf=0.0,\n",
       "                                                     n_estimators=100,\n",
       "                                                     n_jobs=None,\n",
       "                                                     oob_score...\n",
       "                                                 solver='lbfgs', tol=0.0001,\n",
       "                                                 verbose=0, warm_start=False)),\n",
       "                             ('svc',\n",
       "                              SVC(C=1.0, break_ties=False, cache_size=200,\n",
       "                                  class_weight=None, coef0=0.0,\n",
       "                                  decision_function_shape='ovr', degree=3,\n",
       "                                  gamma='scale', kernel='rbf', max_iter=-1,\n",
       "                                  probability=False, random_state=None,\n",
       "                                  shrinking=True, tol=0.001, verbose=False))],\n",
       "                 flatten_transform=True, n_jobs=None, voting='hard',\n",
       "                 weights=None)"
      ]
     },
     "execution_count": 71,
     "metadata": {},
     "output_type": "execute_result"
    }
   ],
   "source": [
    "#fit data\n",
    "voting_clf.fit(X_train, y_train)"
   ]
  },
  {
   "cell_type": "code",
   "execution_count": null,
   "metadata": {},
   "outputs": [],
   "source": [
    "#Get each classifiers accuracy on test set"
   ]
  },
  {
   "cell_type": "code",
   "execution_count": 72,
   "metadata": {},
   "outputs": [],
   "source": [
    "from sklearn.metrics import accuracy_score"
   ]
  },
  {
   "cell_type": "code",
   "execution_count": 73,
   "metadata": {},
   "outputs": [
    {
     "name": "stdout",
     "output_type": "stream",
     "text": [
      "RandomForestClassifier 0.6\n",
      "LogisticRegression 0.545\n",
      "SVC 0.535\n",
      "VotingClassifier 0.545\n"
     ]
    }
   ],
   "source": [
    "for clf in (rnd_clf, log_clf, svm_clf, voting_clf):\n",
    "    clf.fit(X_train, y_train)\n",
    "    y_pred = clf.predict(X_test)\n",
    "    print(clf.__class__.__name__, accuracy_score(y_test, y_pred))"
   ]
  },
  {
   "cell_type": "markdown",
   "metadata": {},
   "source": [
    "* Sure there is a problem with the features\n",
    "* Both models are only performing a little better than guessing"
   ]
  },
  {
   "cell_type": "code",
   "execution_count": null,
   "metadata": {},
   "outputs": [],
   "source": []
  },
  {
   "cell_type": "code",
   "execution_count": null,
   "metadata": {},
   "outputs": [],
   "source": [
    "&&&&&&&&&&&&&&Next @ 10:01am  05/22/2020 END ABOVE Try Ensembling"
   ]
  },
  {
   "cell_type": "code",
   "execution_count": null,
   "metadata": {},
   "outputs": [],
   "source": []
  },
  {
   "cell_type": "code",
   "execution_count": null,
   "metadata": {},
   "outputs": [],
   "source": [
    "$$$$$$$$$Next @ 3:18pm 05/21/2020 START BELOW Run held-out test validation set"
   ]
  },
  {
   "cell_type": "code",
   "execution_count": 24,
   "metadata": {},
   "outputs": [],
   "source": [
    "test_data = pd.read_csv('derived_data/test_data.csv')"
   ]
  },
  {
   "cell_type": "code",
   "execution_count": 25,
   "metadata": {},
   "outputs": [],
   "source": [
    "from helpers import helpers"
   ]
  },
  {
   "cell_type": "code",
   "execution_count": 26,
   "metadata": {},
   "outputs": [
    {
     "name": "stdout",
     "output_type": "stream",
     "text": [
      "\n",
      "***************** Total and Percentage of Missing Values Found *****************\n",
      "\n",
      "                   Total   Percent\n",
      "amount_purchase      211  0.051463\n",
      "month                  4  0.000976\n",
      "prize_amount           4  0.000976\n",
      "previously_shoped      4  0.000976\n",
      "member                 4  0.000976\n",
      "promotion              4  0.000976\n",
      "shop_competitor        4  0.000976\n",
      "prize_won              4  0.000976\n",
      "require_financing      4  0.000976\n",
      "got_a_TV               4  0.000976\n",
      "did_a_purchase         4  0.000976\n",
      "promotions_used        4  0.000976\n",
      "LT_clients             4  0.000976\n",
      "amount_financing       4  0.000976\n",
      "year                   4  0.000976\n",
      "nb_electronics         4  0.000976\n",
      "date                   4  0.000976\n",
      "family                 3  0.000732\n"
     ]
    }
   ],
   "source": [
    "#Are there any missing values\n",
    "helpers.check_missing(test_data)"
   ]
  },
  {
   "cell_type": "code",
   "execution_count": 27,
   "metadata": {},
   "outputs": [],
   "source": [
    "#For 'amount_purchase\", replace Nans with 0\n",
    "#test_data['amount_purchase'].fillna(0, inplace=True)\n",
    "# Delete all remaining rows with missing values\n",
    "test_data.dropna(axis = 0, how = 'any', inplace = True)"
   ]
  },
  {
   "cell_type": "code",
   "execution_count": 28,
   "metadata": {},
   "outputs": [
    {
     "name": "stdout",
     "output_type": "stream",
     "text": [
      "No Missing Values found.\n"
     ]
    }
   ],
   "source": [
    "#Confirm no missing\n",
    "helpers.check_missing(test_data)"
   ]
  },
  {
   "cell_type": "code",
   "execution_count": 29,
   "metadata": {},
   "outputs": [
    {
     "data": {
      "text/plain": [
       "(4093, 27)"
      ]
     },
     "execution_count": 29,
     "metadata": {},
     "output_type": "execute_result"
    }
   ],
   "source": [
    "test_data.shape"
   ]
  },
  {
   "cell_type": "code",
   "execution_count": 30,
   "metadata": {},
   "outputs": [
    {
     "data": {
      "text/html": [
       "<div>\n",
       "<style scoped>\n",
       "    .dataframe tbody tr th:only-of-type {\n",
       "        vertical-align: middle;\n",
       "    }\n",
       "\n",
       "    .dataframe tbody tr th {\n",
       "        vertical-align: top;\n",
       "    }\n",
       "\n",
       "    .dataframe thead th {\n",
       "        text-align: right;\n",
       "    }\n",
       "</style>\n",
       "<table border=\"1\" class=\"dataframe\">\n",
       "  <thead>\n",
       "    <tr style=\"text-align: right;\">\n",
       "      <th></th>\n",
       "      <th>date</th>\n",
       "      <th>client_id</th>\n",
       "      <th>previously_shoped</th>\n",
       "      <th>member</th>\n",
       "      <th>promotion</th>\n",
       "      <th>shop_competitor</th>\n",
       "      <th>prize_won</th>\n",
       "      <th>require_financing</th>\n",
       "      <th>got_a_TV</th>\n",
       "      <th>did_a_purchase</th>\n",
       "      <th>promotions_used</th>\n",
       "      <th>LT_clients</th>\n",
       "      <th>prize_amount</th>\n",
       "      <th>amount_financing</th>\n",
       "      <th>amount_purchase</th>\n",
       "      <th>nb_electronics</th>\n",
       "      <th>female</th>\n",
       "      <th>email</th>\n",
       "      <th>live_with_parents</th>\n",
       "      <th>work</th>\n",
       "      <th>family</th>\n",
       "      <th>state</th>\n",
       "      <th>education</th>\n",
       "      <th>age</th>\n",
       "      <th>monthly_spent_electronics</th>\n",
       "      <th>year</th>\n",
       "      <th>month</th>\n",
       "    </tr>\n",
       "  </thead>\n",
       "  <tbody>\n",
       "    <tr>\n",
       "      <th>0</th>\n",
       "      <td>2018-02-28</td>\n",
       "      <td>9456</td>\n",
       "      <td>0.0</td>\n",
       "      <td>0.0</td>\n",
       "      <td>1.0</td>\n",
       "      <td>0.0</td>\n",
       "      <td>0.0</td>\n",
       "      <td>0.0</td>\n",
       "      <td>0.0</td>\n",
       "      <td>1.0</td>\n",
       "      <td>1.0</td>\n",
       "      <td>9.0</td>\n",
       "      <td>180.694444</td>\n",
       "      <td>0.0</td>\n",
       "      <td>1690.0</td>\n",
       "      <td>1.0</td>\n",
       "      <td>0</td>\n",
       "      <td>1</td>\n",
       "      <td>0</td>\n",
       "      <td>white_collar</td>\n",
       "      <td>0_child</td>\n",
       "      <td>Illinois</td>\n",
       "      <td>4</td>\n",
       "      <td>37</td>\n",
       "      <td>5916.666667</td>\n",
       "      <td>2018.0</td>\n",
       "      <td>2.0</td>\n",
       "    </tr>\n",
       "    <tr>\n",
       "      <th>1</th>\n",
       "      <td>2018-09-30</td>\n",
       "      <td>13434</td>\n",
       "      <td>0.0</td>\n",
       "      <td>0.0</td>\n",
       "      <td>1.0</td>\n",
       "      <td>0.0</td>\n",
       "      <td>1.0</td>\n",
       "      <td>0.0</td>\n",
       "      <td>0.0</td>\n",
       "      <td>1.0</td>\n",
       "      <td>2.0</td>\n",
       "      <td>6.0</td>\n",
       "      <td>126.041667</td>\n",
       "      <td>0.0</td>\n",
       "      <td>2600.0</td>\n",
       "      <td>0.0</td>\n",
       "      <td>0</td>\n",
       "      <td>1</td>\n",
       "      <td>0</td>\n",
       "      <td>retired</td>\n",
       "      <td>0_child</td>\n",
       "      <td>Illinois</td>\n",
       "      <td>1</td>\n",
       "      <td>30</td>\n",
       "      <td>3666.666667</td>\n",
       "      <td>2018.0</td>\n",
       "      <td>9.0</td>\n",
       "    </tr>\n",
       "    <tr>\n",
       "      <th>2</th>\n",
       "      <td>2017-12-31</td>\n",
       "      <td>10496</td>\n",
       "      <td>0.0</td>\n",
       "      <td>0.0</td>\n",
       "      <td>0.0</td>\n",
       "      <td>0.0</td>\n",
       "      <td>0.0</td>\n",
       "      <td>1.0</td>\n",
       "      <td>0.0</td>\n",
       "      <td>1.0</td>\n",
       "      <td>2.0</td>\n",
       "      <td>8.0</td>\n",
       "      <td>0.000000</td>\n",
       "      <td>15125.0</td>\n",
       "      <td>2940.0</td>\n",
       "      <td>0.0</td>\n",
       "      <td>0</td>\n",
       "      <td>0</td>\n",
       "      <td>1</td>\n",
       "      <td>white_collar</td>\n",
       "      <td>0_child</td>\n",
       "      <td>California</td>\n",
       "      <td>5</td>\n",
       "      <td>37</td>\n",
       "      <td>5833.333333</td>\n",
       "      <td>2017.0</td>\n",
       "      <td>12.0</td>\n",
       "    </tr>\n",
       "    <tr>\n",
       "      <th>3</th>\n",
       "      <td>2017-12-31</td>\n",
       "      <td>9274</td>\n",
       "      <td>0.0</td>\n",
       "      <td>1.0</td>\n",
       "      <td>0.0</td>\n",
       "      <td>1.0</td>\n",
       "      <td>0.0</td>\n",
       "      <td>0.0</td>\n",
       "      <td>0.0</td>\n",
       "      <td>1.0</td>\n",
       "      <td>1.0</td>\n",
       "      <td>13.0</td>\n",
       "      <td>0.000000</td>\n",
       "      <td>0.0</td>\n",
       "      <td>4710.0</td>\n",
       "      <td>1.0</td>\n",
       "      <td>0</td>\n",
       "      <td>1</td>\n",
       "      <td>1</td>\n",
       "      <td>no_job</td>\n",
       "      <td>0_child</td>\n",
       "      <td>Illinois</td>\n",
       "      <td>1</td>\n",
       "      <td>79</td>\n",
       "      <td>8166.666667</td>\n",
       "      <td>2017.0</td>\n",
       "      <td>12.0</td>\n",
       "    </tr>\n",
       "    <tr>\n",
       "      <th>4</th>\n",
       "      <td>2018-08-31</td>\n",
       "      <td>1906</td>\n",
       "      <td>0.0</td>\n",
       "      <td>1.0</td>\n",
       "      <td>1.0</td>\n",
       "      <td>1.0</td>\n",
       "      <td>0.0</td>\n",
       "      <td>1.0</td>\n",
       "      <td>0.0</td>\n",
       "      <td>1.0</td>\n",
       "      <td>2.0</td>\n",
       "      <td>11.0</td>\n",
       "      <td>118.819444</td>\n",
       "      <td>19500.0</td>\n",
       "      <td>1670.0</td>\n",
       "      <td>0.0</td>\n",
       "      <td>1</td>\n",
       "      <td>1</td>\n",
       "      <td>0</td>\n",
       "      <td>white_collar</td>\n",
       "      <td>0_child</td>\n",
       "      <td>Hawaii</td>\n",
       "      <td>1</td>\n",
       "      <td>36</td>\n",
       "      <td>5083.333333</td>\n",
       "      <td>2018.0</td>\n",
       "      <td>8.0</td>\n",
       "    </tr>\n",
       "  </tbody>\n",
       "</table>\n",
       "</div>"
      ],
      "text/plain": [
       "         date  client_id  previously_shoped  member  promotion  \\\n",
       "0  2018-02-28       9456                0.0     0.0        1.0   \n",
       "1  2018-09-30      13434                0.0     0.0        1.0   \n",
       "2  2017-12-31      10496                0.0     0.0        0.0   \n",
       "3  2017-12-31       9274                0.0     1.0        0.0   \n",
       "4  2018-08-31       1906                0.0     1.0        1.0   \n",
       "\n",
       "   shop_competitor  prize_won  require_financing  got_a_TV  did_a_purchase  \\\n",
       "0              0.0        0.0                0.0       0.0             1.0   \n",
       "1              0.0        1.0                0.0       0.0             1.0   \n",
       "2              0.0        0.0                1.0       0.0             1.0   \n",
       "3              1.0        0.0                0.0       0.0             1.0   \n",
       "4              1.0        0.0                1.0       0.0             1.0   \n",
       "\n",
       "   promotions_used  LT_clients  prize_amount  amount_financing  \\\n",
       "0              1.0         9.0    180.694444               0.0   \n",
       "1              2.0         6.0    126.041667               0.0   \n",
       "2              2.0         8.0      0.000000           15125.0   \n",
       "3              1.0        13.0      0.000000               0.0   \n",
       "4              2.0        11.0    118.819444           19500.0   \n",
       "\n",
       "   amount_purchase  nb_electronics  female  email  live_with_parents  \\\n",
       "0           1690.0             1.0       0      1                  0   \n",
       "1           2600.0             0.0       0      1                  0   \n",
       "2           2940.0             0.0       0      0                  1   \n",
       "3           4710.0             1.0       0      1                  1   \n",
       "4           1670.0             0.0       1      1                  0   \n",
       "\n",
       "           work   family       state  education  age  \\\n",
       "0  white_collar  0_child    Illinois          4   37   \n",
       "1       retired  0_child    Illinois          1   30   \n",
       "2  white_collar  0_child  California          5   37   \n",
       "3        no_job  0_child    Illinois          1   79   \n",
       "4  white_collar  0_child      Hawaii          1   36   \n",
       "\n",
       "   monthly_spent_electronics    year  month  \n",
       "0                5916.666667  2018.0    2.0  \n",
       "1                3666.666667  2018.0    9.0  \n",
       "2                5833.333333  2017.0   12.0  \n",
       "3                8166.666667  2017.0   12.0  \n",
       "4                5083.333333  2018.0    8.0  "
      ]
     },
     "execution_count": 30,
     "metadata": {},
     "output_type": "execute_result"
    }
   ],
   "source": [
    "test_data.head()"
   ]
  },
  {
   "cell_type": "code",
   "execution_count": 31,
   "metadata": {},
   "outputs": [],
   "source": [
    "#get y\n",
    "y = test_data['got_a_TV'].values"
   ]
  },
  {
   "cell_type": "code",
   "execution_count": 32,
   "metadata": {},
   "outputs": [
    {
     "data": {
      "text/plain": [
       "array([0., 0., 0., ..., 0., 1., 0.])"
      ]
     },
     "execution_count": 32,
     "metadata": {},
     "output_type": "execute_result"
    }
   ],
   "source": [
    "y"
   ]
  },
  {
   "cell_type": "code",
   "execution_count": 33,
   "metadata": {},
   "outputs": [],
   "source": [
    "#get y_pred\n",
    "test_features = test_data.drop('got_a_TV', axis = 1)"
   ]
  },
  {
   "cell_type": "code",
   "execution_count": 34,
   "metadata": {},
   "outputs": [
    {
     "data": {
      "text/plain": [
       "(4093, 26)"
      ]
     },
     "execution_count": 34,
     "metadata": {},
     "output_type": "execute_result"
    }
   ],
   "source": [
    "test_features.shape"
   ]
  },
  {
   "cell_type": "code",
   "execution_count": 35,
   "metadata": {},
   "outputs": [
    {
     "data": {
      "text/html": [
       "<div>\n",
       "<style scoped>\n",
       "    .dataframe tbody tr th:only-of-type {\n",
       "        vertical-align: middle;\n",
       "    }\n",
       "\n",
       "    .dataframe tbody tr th {\n",
       "        vertical-align: top;\n",
       "    }\n",
       "\n",
       "    .dataframe thead th {\n",
       "        text-align: right;\n",
       "    }\n",
       "</style>\n",
       "<table border=\"1\" class=\"dataframe\">\n",
       "  <thead>\n",
       "    <tr style=\"text-align: right;\">\n",
       "      <th></th>\n",
       "      <th>date</th>\n",
       "      <th>client_id</th>\n",
       "      <th>previously_shoped</th>\n",
       "      <th>member</th>\n",
       "      <th>promotion</th>\n",
       "      <th>shop_competitor</th>\n",
       "      <th>prize_won</th>\n",
       "      <th>require_financing</th>\n",
       "      <th>did_a_purchase</th>\n",
       "      <th>promotions_used</th>\n",
       "      <th>LT_clients</th>\n",
       "      <th>prize_amount</th>\n",
       "      <th>amount_financing</th>\n",
       "      <th>amount_purchase</th>\n",
       "      <th>nb_electronics</th>\n",
       "      <th>female</th>\n",
       "      <th>email</th>\n",
       "      <th>live_with_parents</th>\n",
       "      <th>work</th>\n",
       "      <th>family</th>\n",
       "      <th>state</th>\n",
       "      <th>education</th>\n",
       "      <th>age</th>\n",
       "      <th>monthly_spent_electronics</th>\n",
       "      <th>year</th>\n",
       "      <th>month</th>\n",
       "    </tr>\n",
       "  </thead>\n",
       "  <tbody>\n",
       "    <tr>\n",
       "      <th>0</th>\n",
       "      <td>2018-02-28</td>\n",
       "      <td>9456</td>\n",
       "      <td>0.0</td>\n",
       "      <td>0.0</td>\n",
       "      <td>1.0</td>\n",
       "      <td>0.0</td>\n",
       "      <td>0.0</td>\n",
       "      <td>0.0</td>\n",
       "      <td>1.0</td>\n",
       "      <td>1.0</td>\n",
       "      <td>9.0</td>\n",
       "      <td>180.694444</td>\n",
       "      <td>0.0</td>\n",
       "      <td>1690.0</td>\n",
       "      <td>1.0</td>\n",
       "      <td>0</td>\n",
       "      <td>1</td>\n",
       "      <td>0</td>\n",
       "      <td>white_collar</td>\n",
       "      <td>0_child</td>\n",
       "      <td>Illinois</td>\n",
       "      <td>4</td>\n",
       "      <td>37</td>\n",
       "      <td>5916.666667</td>\n",
       "      <td>2018.0</td>\n",
       "      <td>2.0</td>\n",
       "    </tr>\n",
       "    <tr>\n",
       "      <th>1</th>\n",
       "      <td>2018-09-30</td>\n",
       "      <td>13434</td>\n",
       "      <td>0.0</td>\n",
       "      <td>0.0</td>\n",
       "      <td>1.0</td>\n",
       "      <td>0.0</td>\n",
       "      <td>1.0</td>\n",
       "      <td>0.0</td>\n",
       "      <td>1.0</td>\n",
       "      <td>2.0</td>\n",
       "      <td>6.0</td>\n",
       "      <td>126.041667</td>\n",
       "      <td>0.0</td>\n",
       "      <td>2600.0</td>\n",
       "      <td>0.0</td>\n",
       "      <td>0</td>\n",
       "      <td>1</td>\n",
       "      <td>0</td>\n",
       "      <td>retired</td>\n",
       "      <td>0_child</td>\n",
       "      <td>Illinois</td>\n",
       "      <td>1</td>\n",
       "      <td>30</td>\n",
       "      <td>3666.666667</td>\n",
       "      <td>2018.0</td>\n",
       "      <td>9.0</td>\n",
       "    </tr>\n",
       "    <tr>\n",
       "      <th>2</th>\n",
       "      <td>2017-12-31</td>\n",
       "      <td>10496</td>\n",
       "      <td>0.0</td>\n",
       "      <td>0.0</td>\n",
       "      <td>0.0</td>\n",
       "      <td>0.0</td>\n",
       "      <td>0.0</td>\n",
       "      <td>1.0</td>\n",
       "      <td>1.0</td>\n",
       "      <td>2.0</td>\n",
       "      <td>8.0</td>\n",
       "      <td>0.000000</td>\n",
       "      <td>15125.0</td>\n",
       "      <td>2940.0</td>\n",
       "      <td>0.0</td>\n",
       "      <td>0</td>\n",
       "      <td>0</td>\n",
       "      <td>1</td>\n",
       "      <td>white_collar</td>\n",
       "      <td>0_child</td>\n",
       "      <td>California</td>\n",
       "      <td>5</td>\n",
       "      <td>37</td>\n",
       "      <td>5833.333333</td>\n",
       "      <td>2017.0</td>\n",
       "      <td>12.0</td>\n",
       "    </tr>\n",
       "    <tr>\n",
       "      <th>3</th>\n",
       "      <td>2017-12-31</td>\n",
       "      <td>9274</td>\n",
       "      <td>0.0</td>\n",
       "      <td>1.0</td>\n",
       "      <td>0.0</td>\n",
       "      <td>1.0</td>\n",
       "      <td>0.0</td>\n",
       "      <td>0.0</td>\n",
       "      <td>1.0</td>\n",
       "      <td>1.0</td>\n",
       "      <td>13.0</td>\n",
       "      <td>0.000000</td>\n",
       "      <td>0.0</td>\n",
       "      <td>4710.0</td>\n",
       "      <td>1.0</td>\n",
       "      <td>0</td>\n",
       "      <td>1</td>\n",
       "      <td>1</td>\n",
       "      <td>no_job</td>\n",
       "      <td>0_child</td>\n",
       "      <td>Illinois</td>\n",
       "      <td>1</td>\n",
       "      <td>79</td>\n",
       "      <td>8166.666667</td>\n",
       "      <td>2017.0</td>\n",
       "      <td>12.0</td>\n",
       "    </tr>\n",
       "    <tr>\n",
       "      <th>4</th>\n",
       "      <td>2018-08-31</td>\n",
       "      <td>1906</td>\n",
       "      <td>0.0</td>\n",
       "      <td>1.0</td>\n",
       "      <td>1.0</td>\n",
       "      <td>1.0</td>\n",
       "      <td>0.0</td>\n",
       "      <td>1.0</td>\n",
       "      <td>1.0</td>\n",
       "      <td>2.0</td>\n",
       "      <td>11.0</td>\n",
       "      <td>118.819444</td>\n",
       "      <td>19500.0</td>\n",
       "      <td>1670.0</td>\n",
       "      <td>0.0</td>\n",
       "      <td>1</td>\n",
       "      <td>1</td>\n",
       "      <td>0</td>\n",
       "      <td>white_collar</td>\n",
       "      <td>0_child</td>\n",
       "      <td>Hawaii</td>\n",
       "      <td>1</td>\n",
       "      <td>36</td>\n",
       "      <td>5083.333333</td>\n",
       "      <td>2018.0</td>\n",
       "      <td>8.0</td>\n",
       "    </tr>\n",
       "  </tbody>\n",
       "</table>\n",
       "</div>"
      ],
      "text/plain": [
       "         date  client_id  previously_shoped  member  promotion  \\\n",
       "0  2018-02-28       9456                0.0     0.0        1.0   \n",
       "1  2018-09-30      13434                0.0     0.0        1.0   \n",
       "2  2017-12-31      10496                0.0     0.0        0.0   \n",
       "3  2017-12-31       9274                0.0     1.0        0.0   \n",
       "4  2018-08-31       1906                0.0     1.0        1.0   \n",
       "\n",
       "   shop_competitor  prize_won  require_financing  did_a_purchase  \\\n",
       "0              0.0        0.0                0.0             1.0   \n",
       "1              0.0        1.0                0.0             1.0   \n",
       "2              0.0        0.0                1.0             1.0   \n",
       "3              1.0        0.0                0.0             1.0   \n",
       "4              1.0        0.0                1.0             1.0   \n",
       "\n",
       "   promotions_used  LT_clients  prize_amount  amount_financing  \\\n",
       "0              1.0         9.0    180.694444               0.0   \n",
       "1              2.0         6.0    126.041667               0.0   \n",
       "2              2.0         8.0      0.000000           15125.0   \n",
       "3              1.0        13.0      0.000000               0.0   \n",
       "4              2.0        11.0    118.819444           19500.0   \n",
       "\n",
       "   amount_purchase  nb_electronics  female  email  live_with_parents  \\\n",
       "0           1690.0             1.0       0      1                  0   \n",
       "1           2600.0             0.0       0      1                  0   \n",
       "2           2940.0             0.0       0      0                  1   \n",
       "3           4710.0             1.0       0      1                  1   \n",
       "4           1670.0             0.0       1      1                  0   \n",
       "\n",
       "           work   family       state  education  age  \\\n",
       "0  white_collar  0_child    Illinois          4   37   \n",
       "1       retired  0_child    Illinois          1   30   \n",
       "2  white_collar  0_child  California          5   37   \n",
       "3        no_job  0_child    Illinois          1   79   \n",
       "4  white_collar  0_child      Hawaii          1   36   \n",
       "\n",
       "   monthly_spent_electronics    year  month  \n",
       "0                5916.666667  2018.0    2.0  \n",
       "1                3666.666667  2018.0    9.0  \n",
       "2                5833.333333  2017.0   12.0  \n",
       "3                8166.666667  2017.0   12.0  \n",
       "4                5083.333333  2018.0    8.0  "
      ]
     },
     "execution_count": 35,
     "metadata": {},
     "output_type": "execute_result"
    }
   ],
   "source": [
    "test_features.head()"
   ]
  },
  {
   "cell_type": "code",
   "execution_count": 36,
   "metadata": {},
   "outputs": [
    {
     "name": "stdout",
     "output_type": "stream",
     "text": [
      "Debug 0:                work   family       state\n",
      "0     white_collar  0_child    Illinois\n",
      "1          retired  0_child    Illinois\n",
      "2     white_collar  0_child  California\n",
      "3           no_job  0_child    Illinois\n",
      "4     white_collar  0_child      Hawaii\n",
      "...            ...      ...         ...\n",
      "4095  white_collar  0_child      Hawaii\n",
      "4096       manager  0_child    Colorado\n",
      "4097  professional  0_child     Vermont\n",
      "4098       manager  1_child       Maine\n",
      "4099       manager  0_child    Colorado\n",
      "\n",
      "[4093 rows x 3 columns]\n"
     ]
    }
   ],
   "source": [
    "#transforming test_features\n",
    "test_features_transformed = full_pipeline.fit_transform(test_features)"
   ]
  },
  {
   "cell_type": "code",
   "execution_count": 37,
   "metadata": {},
   "outputs": [],
   "source": [
    "#get y_pred\n",
    "y_pred = Models.fitted_grid[Models.best_model[0]].predict(test_features_transformed)"
   ]
  },
  {
   "cell_type": "code",
   "execution_count": 38,
   "metadata": {},
   "outputs": [],
   "source": [
    "#Import module\n",
    "from sklearn.metrics import confusion_matrix"
   ]
  },
  {
   "cell_type": "code",
   "execution_count": 39,
   "metadata": {},
   "outputs": [
    {
     "name": "stdout",
     "output_type": "stream",
     "text": [
      "[[2913  776]\n",
      " [ 301  103]]\n"
     ]
    }
   ],
   "source": [
    "#Get the confusion matrix\n",
    "cf_matrix = confusion_matrix(y, y_pred)\n",
    "print(cf_matrix)"
   ]
  },
  {
   "cell_type": "code",
   "execution_count": 40,
   "metadata": {},
   "outputs": [],
   "source": [
    "from matplotlib import pyplot"
   ]
  },
  {
   "cell_type": "code",
   "execution_count": 41,
   "metadata": {},
   "outputs": [],
   "source": [
    "from helpers import make_confusion_matrix"
   ]
  },
  {
   "cell_type": "code",
   "execution_count": 42,
   "metadata": {},
   "outputs": [
    {
     "data": {
      "image/png": "[encoded data removed]",
      "text/plain": [
       "<Figure size 864x648 with 2 Axes>"
      ]
     },
     "metadata": {
      "needs_background": "light"
     },
     "output_type": "display_data"
    }
   ],
   "source": [
    "#Beautify confusion_matrix\n",
    "labels = ['True Neg','False Pos','False Neg','True Pos']\n",
    "categories = ['Zero', 'One']\n",
    "make_confusion_matrix.make_confusion_matrix(cf_matrix, \n",
    "                      group_names=labels,\n",
    "                      categories=categories,\n",
    "                      figsize=(12, 9)\n",
    "                      #cmap='binary'\n",
    "                     )"
   ]
  },
  {
   "cell_type": "code",
   "execution_count": null,
   "metadata": {},
   "outputs": [],
   "source": []
  },
  {
   "cell_type": "code",
   "execution_count": null,
   "metadata": {},
   "outputs": [],
   "source": []
  },
  {
   "cell_type": "code",
   "execution_count": null,
   "metadata": {},
   "outputs": [],
   "source": [
    "$$$$$$$$$Next @ 3:18pm 05/21/2020 END ABOVE Run held-out test validation set"
   ]
  },
  {
   "cell_type": "code",
   "execution_count": null,
   "metadata": {},
   "outputs": [],
   "source": []
  },
  {
   "cell_type": "markdown",
   "metadata": {},
   "source": [
    "## Predictions"
   ]
  },
  {
   "cell_type": "code",
   "execution_count": 410,
   "metadata": {},
   "outputs": [],
   "source": [
    "#Converting prepared data back to a pandas DataFrame\n",
    "test_df = pd.DataFrame(data = prepared_features_df)"
   ]
  },
  {
   "cell_type": "code",
   "execution_count": 411,
   "metadata": {},
   "outputs": [
    {
     "name": "stdout",
     "output_type": "stream",
     "text": [
      "(5, 30)\n"
     ]
    }
   ],
   "source": [
    "# Sampling 5 random observations to test if our model can predict\n",
    "prepared_features_test = test_df.sample(5, random_state=12345)\n",
    "print(prepared_features_test.shape)"
   ]
  },
  {
   "cell_type": "code",
   "execution_count": 412,
   "metadata": {},
   "outputs": [],
   "source": [
    "# Predict the sampled dataset using fitted best model\n",
    "pred = Models.fitted_grid[Models.best_model[0]].predict(prepared_features_test)"
   ]
  },
  {
   "cell_type": "code",
   "execution_count": 413,
   "metadata": {},
   "outputs": [
    {
     "data": {
      "text/plain": [
       "array([1., 1., 0., 0., 0.])"
      ]
     },
     "execution_count": 413,
     "metadata": {},
     "output_type": "execute_result"
    }
   ],
   "source": [
    "pred"
   ]
  },
  {
   "cell_type": "markdown",
   "metadata": {},
   "source": [
    "## Saving Best Model"
   ]
  },
  {
   "cell_type": "code",
   "execution_count": 105,
   "metadata": {},
   "outputs": [],
   "source": [
    "Models.save_best_model('final_model_customer_predictor.pkl')"
   ]
  },
  {
   "cell_type": "markdown",
   "metadata": {},
   "source": [
    "# 5. Testing Final Model"
   ]
  },
  {
   "cell_type": "markdown",
   "metadata": {},
   "source": [
    "## Loading saved model"
   ]
  },
  {
   "cell_type": "code",
   "execution_count": 106,
   "metadata": {},
   "outputs": [],
   "source": [
    "TestModels.load_saved_model('final_model_customer_predictor.pkl')"
   ]
  },
  {
   "cell_type": "code",
   "execution_count": 107,
   "metadata": {},
   "outputs": [
    {
     "data": {
      "text/plain": [
       "(4100, 27)"
      ]
     },
     "execution_count": 107,
     "metadata": {},
     "output_type": "execute_result"
    }
   ],
   "source": [
    "test_features.shape"
   ]
  },
  {
   "cell_type": "code",
   "execution_count": 108,
   "metadata": {},
   "outputs": [
    {
     "name": "stdout",
     "output_type": "stream",
     "text": [
      "              total        used        free      shared  buff/cache   available\r\n",
      "Mem:           9041        4433         196         157        4411        4151\r\n",
      "Swap:          2047           0        2047\r\n"
     ]
    }
   ],
   "source": [
    "#Assessing available sys memory\n",
    "!free -m"
   ]
  },
  {
   "cell_type": "code",
   "execution_count": null,
   "metadata": {},
   "outputs": [],
   "source": [
    "#transforming test_features\n",
    "test_features_transformed = full_pipeline.fit_transform(test_features)"
   ]
  },
  {
   "cell_type": "code",
   "execution_count": null,
   "metadata": {},
   "outputs": [],
   "source": [
    "#Sanity check\n",
    "test_features_transformed"
   ]
  },
  {
   "cell_type": "code",
   "execution_count": null,
   "metadata": {},
   "outputs": [],
   "source": [
    "#Predicting test_features_transformed with our loaded saved pkl model\n",
    "pred_test_results = TestModels.loaded_model.predict(test_features_transformed)"
   ]
  },
  {
   "cell_type": "code",
   "execution_count": null,
   "metadata": {},
   "outputs": [],
   "source": [
    "pred_test_results"
   ]
  },
  {
   "cell_type": "markdown",
   "metadata": {},
   "source": [
    "## Appending results back to test dataframe\n",
    "\n",
    "To add predictions back to the test data frame:\n",
    "    - We append the predictions array to the original test dataframe\n",
    "    - Delete any uneeded columns\n",
    "    - Save dataframe to csv"
   ]
  },
  {
   "cell_type": "code",
   "execution_count": null,
   "metadata": {},
   "outputs": [],
   "source": [
    "test_features['got_a_TV'] = pred_test_results "
   ]
  },
  {
   "cell_type": "code",
   "execution_count": null,
   "metadata": {},
   "outputs": [],
   "source": [
    "test_features.head() "
   ]
  },
  {
   "cell_type": "code",
   "execution_count": null,
   "metadata": {},
   "outputs": [],
   "source": [
    "# Remove uneeded columns and saving to a new dataframe 'predictions'\n",
    "predictions = test_features.drop(test_features.columns[[1,2,3,4,5,6,7]], axis = 1) "
   ]
  },
  {
   "cell_type": "code",
   "execution_count": null,
   "metadata": {},
   "outputs": [],
   "source": [
    "predictions.head()"
   ]
  },
  {
   "cell_type": "code",
   "execution_count": null,
   "metadata": {},
   "outputs": [],
   "source": [
    "#To csv without compression\n",
    "predictions.to_csv('customers.csv', index=False)"
   ]
  },
  {
   "cell_type": "markdown",
   "metadata": {},
   "source": [
    "<h1><center> *END* </center></h1>\n",
    "<h1><center>***Thank you!***</center></h1>"
   ]
  },
  {
   "cell_type": "code",
   "execution_count": null,
   "metadata": {},
   "outputs": [],
   "source": []
  },
  {
   "cell_type": "code",
   "execution_count": null,
   "metadata": {},
   "outputs": [],
   "source": []
  },
  {
   "cell_type": "code",
   "execution_count": null,
   "metadata": {},
   "outputs": [],
   "source": []
  }
 ],
 "metadata": {
  "kernelspec": {
   "display_name": "Python 3",
   "language": "python",
   "name": "python3"
  },
  "language_info": {
   "codemirror_mode": {
    "name": "ipython",
    "version": 3
   },
   "file_extension": ".py",
   "mimetype": "text/x-python",
   "name": "python",
   "nbconvert_exporter": "python",
   "pygments_lexer": "ipython3",
   "version": "3.7.4"
  }
 },
 "nbformat": 4,
 "nbformat_minor": 4
}
