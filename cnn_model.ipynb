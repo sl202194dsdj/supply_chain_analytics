{
  "nbformat": 4,
  "nbformat_minor": 0,
  "metadata": {
    "colab": {
      "name": "cnn_model.ipynb",
      "provenance": [],
      "authorship_tag": "ABX9TyP2LfQqlFF9JoA4Qx6NdYwR",
      "include_colab_link": true
    },
    "kernelspec": {
      "name": "python3",
      "display_name": "Python 3"
    },
    "accelerator": "GPU"
  },
  "cells": [
    {
      "cell_type": "markdown",
      "metadata": {
        "id": "view-in-github",
        "colab_type": "text"
      },
      "source": [
        "<a href=\"https://colab.research.google.com/github/sl202194dsdj/supply_chain_analytics/blob/master/cnn_model.ipynb\" target=\"_parent\"><img src=\"https://colab.research.google.com/assets/colab-badge.svg\" alt=\"Open In Colab\"/></a>"
      ]
    },
    {
      "cell_type": "code",
      "metadata": {
        "id": "ynVQRGw4aMA6",
        "colab_type": "code",
        "colab": {}
      },
      "source": [
        ""
      ],
      "execution_count": 0,
      "outputs": []
    },
    {
      "cell_type": "code",
      "metadata": {
        "id": "jv-DZdCPZetM",
        "colab_type": "code",
        "outputId": "aefe0a4b-69de-474e-c259-32a02b3a57f7",
        "colab": {
          "base_uri": "https://localhost:8080/",
          "height": 122
        }
      },
      "source": [
        "from google.colab import drive\n",
        "drive.mount('/content/drive')"
      ],
      "execution_count": 1,
      "outputs": [
        {
          "output_type": "stream",
          "text": [
            "Go to this URL in a browser: https://accounts.google.com/o/oauth2/auth?client_id=947318989803-6bn6qk8qdgf4n4g3pfee6491hc0brc4i.apps.googleusercontent.com&redirect_uri=urn%3aietf%3awg%3aoauth%3a2.0%3aoob&response_type=code&scope=email%20https%3a%2f%2fwww.googleapis.com%2fauth%2fdocs.test%20https%3a%2f%2fwww.googleapis.com%2fauth%2fdrive%20https%3a%2f%2fwww.googleapis.com%2fauth%2fdrive.photos.readonly%20https%3a%2f%2fwww.googleapis.com%2fauth%2fpeopleapi.readonly\n",
            "\n",
            "Enter your authorization code:\n",
            "··········\n",
            "Mounted at /content/drive\n"
          ],
          "name": "stdout"
        }
      ]
    },
    {
      "cell_type": "code",
      "metadata": {
        "id": "fBZ0Aib7aUUM",
        "colab_type": "code",
        "colab": {
          "base_uri": "https://localhost:8080/",
          "height": 34
        },
        "outputId": "3db405fe-677c-419e-d934-bfd4aa22f17c"
      },
      "source": [
        "!pwd"
      ],
      "execution_count": 2,
      "outputs": [
        {
          "output_type": "stream",
          "text": [
            "/content\n"
          ],
          "name": "stdout"
        }
      ]
    },
    {
      "cell_type": "code",
      "metadata": {
        "id": "b3k6HKKSashq",
        "colab_type": "code",
        "colab": {
          "base_uri": "https://localhost:8080/",
          "height": 34
        },
        "outputId": "c7d3a23c-4233-4090-e433-7fb4874cbea2"
      },
      "source": [
        "!ls"
      ],
      "execution_count": 3,
      "outputs": [
        {
          "output_type": "stream",
          "text": [
            "drive  sample_data\n"
          ],
          "name": "stdout"
        }
      ]
    },
    {
      "cell_type": "code",
      "metadata": {
        "id": "O3BchPkJawSa",
        "colab_type": "code",
        "colab": {
          "base_uri": "https://localhost:8080/",
          "height": 734
        },
        "outputId": "cd3bfa42-a991-4407-aebc-a772d1aed5b9"
      },
      "source": [
        "#Install deep learning libs\n",
        "!pip install tensorflow-gpu"
      ],
      "execution_count": 2,
      "outputs": [
        {
          "output_type": "stream",
          "text": [
            "Collecting tensorflow-gpu\n",
            "\u001b[?25l  Downloading https://files.pythonhosted.org/packages/31/bf/c28971266ca854a64f4b26f07c4112ddd61f30b4d1f18108b954a746f8ea/tensorflow_gpu-2.2.0-cp36-cp36m-manylinux2010_x86_64.whl (516.2MB)\n",
            "\u001b[K     |████████████████████████████████| 516.2MB 33kB/s \n",
            "\u001b[?25hRequirement already satisfied: wheel>=0.26; python_version >= \"3\" in /usr/local/lib/python3.6/dist-packages (from tensorflow-gpu) (0.34.2)\n",
            "Requirement already satisfied: keras-preprocessing>=1.1.0 in /usr/local/lib/python3.6/dist-packages (from tensorflow-gpu) (1.1.2)\n",
            "Requirement already satisfied: tensorflow-estimator<2.3.0,>=2.2.0 in /usr/local/lib/python3.6/dist-packages (from tensorflow-gpu) (2.2.0)\n",
            "Requirement already satisfied: grpcio>=1.8.6 in /usr/local/lib/python3.6/dist-packages (from tensorflow-gpu) (1.29.0)\n",
            "Requirement already satisfied: gast==0.3.3 in /usr/local/lib/python3.6/dist-packages (from tensorflow-gpu) (0.3.3)\n",
            "Requirement already satisfied: scipy==1.4.1; python_version >= \"3\" in /usr/local/lib/python3.6/dist-packages (from tensorflow-gpu) (1.4.1)\n",
            "Requirement already satisfied: termcolor>=1.1.0 in /usr/local/lib/python3.6/dist-packages (from tensorflow-gpu) (1.1.0)\n",
            "Requirement already satisfied: h5py<2.11.0,>=2.10.0 in /usr/local/lib/python3.6/dist-packages (from tensorflow-gpu) (2.10.0)\n",
            "Requirement already satisfied: protobuf>=3.8.0 in /usr/local/lib/python3.6/dist-packages (from tensorflow-gpu) (3.10.0)\n",
            "Requirement already satisfied: opt-einsum>=2.3.2 in /usr/local/lib/python3.6/dist-packages (from tensorflow-gpu) (3.2.1)\n",
            "Requirement already satisfied: numpy<2.0,>=1.16.0 in /usr/local/lib/python3.6/dist-packages (from tensorflow-gpu) (1.18.4)\n",
            "Requirement already satisfied: google-pasta>=0.1.8 in /usr/local/lib/python3.6/dist-packages (from tensorflow-gpu) (0.2.0)\n",
            "Requirement already satisfied: absl-py>=0.7.0 in /usr/local/lib/python3.6/dist-packages (from tensorflow-gpu) (0.9.0)\n",
            "Requirement already satisfied: wrapt>=1.11.1 in /usr/local/lib/python3.6/dist-packages (from tensorflow-gpu) (1.12.1)\n",
            "Requirement already satisfied: six>=1.12.0 in /usr/local/lib/python3.6/dist-packages (from tensorflow-gpu) (1.12.0)\n",
            "Requirement already satisfied: tensorboard<2.3.0,>=2.2.0 in /usr/local/lib/python3.6/dist-packages (from tensorflow-gpu) (2.2.1)\n",
            "Requirement already satisfied: astunparse==1.6.3 in /usr/local/lib/python3.6/dist-packages (from tensorflow-gpu) (1.6.3)\n",
            "Requirement already satisfied: setuptools in /usr/local/lib/python3.6/dist-packages (from protobuf>=3.8.0->tensorflow-gpu) (47.1.1)\n",
            "Requirement already satisfied: tensorboard-plugin-wit>=1.6.0 in /usr/local/lib/python3.6/dist-packages (from tensorboard<2.3.0,>=2.2.0->tensorflow-gpu) (1.6.0.post3)\n",
            "Requirement already satisfied: requests<3,>=2.21.0 in /usr/local/lib/python3.6/dist-packages (from tensorboard<2.3.0,>=2.2.0->tensorflow-gpu) (2.23.0)\n",
            "Requirement already satisfied: markdown>=2.6.8 in /usr/local/lib/python3.6/dist-packages (from tensorboard<2.3.0,>=2.2.0->tensorflow-gpu) (3.2.2)\n",
            "Requirement already satisfied: werkzeug>=0.11.15 in /usr/local/lib/python3.6/dist-packages (from tensorboard<2.3.0,>=2.2.0->tensorflow-gpu) (1.0.1)\n",
            "Requirement already satisfied: google-auth<2,>=1.6.3 in /usr/local/lib/python3.6/dist-packages (from tensorboard<2.3.0,>=2.2.0->tensorflow-gpu) (1.7.2)\n",
            "Requirement already satisfied: google-auth-oauthlib<0.5,>=0.4.1 in /usr/local/lib/python3.6/dist-packages (from tensorboard<2.3.0,>=2.2.0->tensorflow-gpu) (0.4.1)\n",
            "Requirement already satisfied: certifi>=2017.4.17 in /usr/local/lib/python3.6/dist-packages (from requests<3,>=2.21.0->tensorboard<2.3.0,>=2.2.0->tensorflow-gpu) (2020.4.5.1)\n",
            "Requirement already satisfied: urllib3!=1.25.0,!=1.25.1,<1.26,>=1.21.1 in /usr/local/lib/python3.6/dist-packages (from requests<3,>=2.21.0->tensorboard<2.3.0,>=2.2.0->tensorflow-gpu) (1.24.3)\n",
            "Requirement already satisfied: chardet<4,>=3.0.2 in /usr/local/lib/python3.6/dist-packages (from requests<3,>=2.21.0->tensorboard<2.3.0,>=2.2.0->tensorflow-gpu) (3.0.4)\n",
            "Requirement already satisfied: idna<3,>=2.5 in /usr/local/lib/python3.6/dist-packages (from requests<3,>=2.21.0->tensorboard<2.3.0,>=2.2.0->tensorflow-gpu) (2.9)\n",
            "Requirement already satisfied: importlib-metadata; python_version < \"3.8\" in /usr/local/lib/python3.6/dist-packages (from markdown>=2.6.8->tensorboard<2.3.0,>=2.2.0->tensorflow-gpu) (1.6.0)\n",
            "Requirement already satisfied: rsa<4.1,>=3.1.4 in /usr/local/lib/python3.6/dist-packages (from google-auth<2,>=1.6.3->tensorboard<2.3.0,>=2.2.0->tensorflow-gpu) (4.0)\n",
            "Requirement already satisfied: pyasn1-modules>=0.2.1 in /usr/local/lib/python3.6/dist-packages (from google-auth<2,>=1.6.3->tensorboard<2.3.0,>=2.2.0->tensorflow-gpu) (0.2.8)\n",
            "Requirement already satisfied: cachetools<3.2,>=2.0.0 in /usr/local/lib/python3.6/dist-packages (from google-auth<2,>=1.6.3->tensorboard<2.3.0,>=2.2.0->tensorflow-gpu) (3.1.1)\n",
            "Requirement already satisfied: requests-oauthlib>=0.7.0 in /usr/local/lib/python3.6/dist-packages (from google-auth-oauthlib<0.5,>=0.4.1->tensorboard<2.3.0,>=2.2.0->tensorflow-gpu) (1.3.0)\n",
            "Requirement already satisfied: zipp>=0.5 in /usr/local/lib/python3.6/dist-packages (from importlib-metadata; python_version < \"3.8\"->markdown>=2.6.8->tensorboard<2.3.0,>=2.2.0->tensorflow-gpu) (3.1.0)\n",
            "Requirement already satisfied: pyasn1>=0.1.3 in /usr/local/lib/python3.6/dist-packages (from rsa<4.1,>=3.1.4->google-auth<2,>=1.6.3->tensorboard<2.3.0,>=2.2.0->tensorflow-gpu) (0.4.8)\n",
            "Requirement already satisfied: oauthlib>=3.0.0 in /usr/local/lib/python3.6/dist-packages (from requests-oauthlib>=0.7.0->google-auth-oauthlib<0.5,>=0.4.1->tensorboard<2.3.0,>=2.2.0->tensorflow-gpu) (3.1.0)\n",
            "Installing collected packages: tensorflow-gpu\n",
            "Successfully installed tensorflow-gpu-2.2.0\n"
          ],
          "name": "stdout"
        }
      ]
    },
    {
      "cell_type": "code",
      "metadata": {
        "id": "llrLXqpcbt20",
        "colab_type": "code",
        "colab": {
          "base_uri": "https://localhost:8080/",
          "height": 255
        },
        "outputId": "ea882793-06a2-4537-df8b-6f00d1b6b854"
      },
      "source": [
        "!pip install mlxtend==0.17.0"
      ],
      "execution_count": 4,
      "outputs": [
        {
          "output_type": "stream",
          "text": [
            "Requirement already satisfied: mlxtend==0.17.0 in /usr/local/lib/python3.6/dist-packages (0.17.0)\n",
            "Requirement already satisfied: numpy>=1.16.2 in /usr/local/lib/python3.6/dist-packages (from mlxtend==0.17.0) (1.18.4)\n",
            "Requirement already satisfied: matplotlib>=3.0.0 in /usr/local/lib/python3.6/dist-packages (from mlxtend==0.17.0) (3.2.1)\n",
            "Requirement already satisfied: joblib>=0.13.2 in /usr/local/lib/python3.6/dist-packages (from mlxtend==0.17.0) (0.15.1)\n",
            "Requirement already satisfied: scikit-learn>=0.20.3 in /usr/local/lib/python3.6/dist-packages (from mlxtend==0.17.0) (0.22.2.post1)\n",
            "Requirement already satisfied: pandas>=0.24.2 in /usr/local/lib/python3.6/dist-packages (from mlxtend==0.17.0) (1.0.3)\n",
            "Requirement already satisfied: setuptools in /usr/local/lib/python3.6/dist-packages (from mlxtend==0.17.0) (47.1.1)\n",
            "Requirement already satisfied: scipy>=1.2.1 in /usr/local/lib/python3.6/dist-packages (from mlxtend==0.17.0) (1.4.1)\n",
            "Requirement already satisfied: pyparsing!=2.0.4,!=2.1.2,!=2.1.6,>=2.0.1 in /usr/local/lib/python3.6/dist-packages (from matplotlib>=3.0.0->mlxtend==0.17.0) (2.4.7)\n",
            "Requirement already satisfied: cycler>=0.10 in /usr/local/lib/python3.6/dist-packages (from matplotlib>=3.0.0->mlxtend==0.17.0) (0.10.0)\n",
            "Requirement already satisfied: kiwisolver>=1.0.1 in /usr/local/lib/python3.6/dist-packages (from matplotlib>=3.0.0->mlxtend==0.17.0) (1.2.0)\n",
            "Requirement already satisfied: python-dateutil>=2.1 in /usr/local/lib/python3.6/dist-packages (from matplotlib>=3.0.0->mlxtend==0.17.0) (2.8.1)\n",
            "Requirement already satisfied: pytz>=2017.2 in /usr/local/lib/python3.6/dist-packages (from pandas>=0.24.2->mlxtend==0.17.0) (2018.9)\n",
            "Requirement already satisfied: six in /usr/local/lib/python3.6/dist-packages (from cycler>=0.10->matplotlib>=3.0.0->mlxtend==0.17.0) (1.12.0)\n"
          ],
          "name": "stdout"
        }
      ]
    },
    {
      "cell_type": "code",
      "metadata": {
        "id": "UEgvWymEb_0t",
        "colab_type": "code",
        "colab": {
          "base_uri": "https://localhost:8080/",
          "height": 34
        },
        "outputId": "8ee17f78-47da-4260-caa8-6ba9ffd4ab97"
      },
      "source": [
        "import tensorflow as tf\n",
        "from tensorflow.keras import Sequential\n",
        "from tensorflow.keras.layers import  Flatten, Dense, Conv1D, MaxPool1D, Dropout\n",
        "from tensorflow.keras.layers import BatchNormalization\n",
        "from tensorflow.keras.optimizers import Adam\n",
        "print(tf.__version__)"
      ],
      "execution_count": 36,
      "outputs": [
        {
          "output_type": "stream",
          "text": [
            "2.2.0\n"
          ],
          "name": "stdout"
        }
      ]
    },
    {
      "cell_type": "code",
      "metadata": {
        "id": "b-N1a0mhb_7A",
        "colab_type": "code",
        "colab": {}
      },
      "source": [
        "import pandas as pd\n",
        "import numpy as np\n",
        "import matplotlib.pyplot as plt\n",
        "import matplotlib\n",
        "import warnings\n",
        "from sklearn.model_selection import train_test_split"
      ],
      "execution_count": 0,
      "outputs": []
    },
    {
      "cell_type": "code",
      "metadata": {
        "id": "6ml-5BbJkV3i",
        "colab_type": "code",
        "colab": {}
      },
      "source": [
        "pd.set_option('display.max_columns', None)\n",
        "warnings.filterwarnings('ignore')"
      ],
      "execution_count": 0,
      "outputs": []
    },
    {
      "cell_type": "markdown",
      "metadata": {
        "id": "2o7k-u_TlIxo",
        "colab_type": "text"
      },
      "source": [
        "# Get Data"
      ]
    },
    {
      "cell_type": "code",
      "metadata": {
        "id": "PL5UF5fnfq9D",
        "colab_type": "code",
        "colab": {
          "base_uri": "https://localhost:8080/",
          "height": 34
        },
        "outputId": "bf13ec03-8473-4aa6-a507-74e2a9e69359"
      },
      "source": [
        "#Get data\n",
        "df = pd.read_csv('/content/drive/My Drive/back_order_predictor_v2/derived_data/train_data_abt.csv')\n",
        "df.shape"
      ],
      "execution_count": 7,
      "outputs": [
        {
          "output_type": "execute_result",
          "data": {
            "text/plain": [
              "(2521286, 9)"
            ]
          },
          "metadata": {
            "tags": []
          },
          "execution_count": 7
        }
      ]
    },
    {
      "cell_type": "code",
      "metadata": {
        "id": "JygT5OTzlidc",
        "colab_type": "code",
        "colab": {
          "base_uri": "https://localhost:8080/",
          "height": 204
        },
        "outputId": "23c013a5-9846-4271-ddc9-5f023e1b52f0"
      },
      "source": [
        "df.head()"
      ],
      "execution_count": 8,
      "outputs": [
        {
          "output_type": "execute_result",
          "data": {
            "text/html": [
              "<div>\n",
              "<style scoped>\n",
              "    .dataframe tbody tr th:only-of-type {\n",
              "        vertical-align: middle;\n",
              "    }\n",
              "\n",
              "    .dataframe tbody tr th {\n",
              "        vertical-align: top;\n",
              "    }\n",
              "\n",
              "    .dataframe thead th {\n",
              "        text-align: right;\n",
              "    }\n",
              "</style>\n",
              "<table border=\"1\" class=\"dataframe\">\n",
              "  <thead>\n",
              "    <tr style=\"text-align: right;\">\n",
              "      <th></th>\n",
              "      <th>national_inv</th>\n",
              "      <th>in_transit_qty</th>\n",
              "      <th>sales_1_month</th>\n",
              "      <th>pieces_past_due</th>\n",
              "      <th>potential_issue_Yes</th>\n",
              "      <th>oe_constraint_Yes</th>\n",
              "      <th>ppap_risk_Yes</th>\n",
              "      <th>stop_auto_buy_Yes</th>\n",
              "      <th>backorder</th>\n",
              "    </tr>\n",
              "  </thead>\n",
              "  <tbody>\n",
              "    <tr>\n",
              "      <th>0</th>\n",
              "      <td>-0.005243</td>\n",
              "      <td>1.938134</td>\n",
              "      <td>1.458893</td>\n",
              "      <td>-0.127225</td>\n",
              "      <td>-0.023405</td>\n",
              "      <td>-0.012521</td>\n",
              "      <td>-0.367299</td>\n",
              "      <td>0.159142</td>\n",
              "      <td>0</td>\n",
              "    </tr>\n",
              "    <tr>\n",
              "      <th>1</th>\n",
              "      <td>-0.066974</td>\n",
              "      <td>-0.512815</td>\n",
              "      <td>1.286355</td>\n",
              "      <td>-0.127225</td>\n",
              "      <td>-0.023405</td>\n",
              "      <td>-0.012521</td>\n",
              "      <td>-0.367299</td>\n",
              "      <td>0.159142</td>\n",
              "      <td>0</td>\n",
              "    </tr>\n",
              "    <tr>\n",
              "      <th>2</th>\n",
              "      <td>1.043200</td>\n",
              "      <td>1.992982</td>\n",
              "      <td>1.696634</td>\n",
              "      <td>-0.127225</td>\n",
              "      <td>-0.023405</td>\n",
              "      <td>-0.012521</td>\n",
              "      <td>-0.367299</td>\n",
              "      <td>0.159142</td>\n",
              "      <td>0</td>\n",
              "    </tr>\n",
              "    <tr>\n",
              "      <th>3</th>\n",
              "      <td>0.148776</td>\n",
              "      <td>1.938134</td>\n",
              "      <td>1.154579</td>\n",
              "      <td>-0.127225</td>\n",
              "      <td>-0.023405</td>\n",
              "      <td>-0.012521</td>\n",
              "      <td>-0.367299</td>\n",
              "      <td>0.159142</td>\n",
              "      <td>0</td>\n",
              "    </tr>\n",
              "    <tr>\n",
              "      <th>4</th>\n",
              "      <td>-0.061233</td>\n",
              "      <td>-0.512815</td>\n",
              "      <td>-0.816526</td>\n",
              "      <td>-0.127225</td>\n",
              "      <td>-0.023405</td>\n",
              "      <td>-0.012521</td>\n",
              "      <td>-0.367299</td>\n",
              "      <td>0.159142</td>\n",
              "      <td>1</td>\n",
              "    </tr>\n",
              "  </tbody>\n",
              "</table>\n",
              "</div>"
            ],
            "text/plain": [
              "   national_inv  in_transit_qty  sales_1_month  pieces_past_due  \\\n",
              "0     -0.005243        1.938134       1.458893        -0.127225   \n",
              "1     -0.066974       -0.512815       1.286355        -0.127225   \n",
              "2      1.043200        1.992982       1.696634        -0.127225   \n",
              "3      0.148776        1.938134       1.154579        -0.127225   \n",
              "4     -0.061233       -0.512815      -0.816526        -0.127225   \n",
              "\n",
              "   potential_issue_Yes  oe_constraint_Yes  ppap_risk_Yes  stop_auto_buy_Yes  \\\n",
              "0            -0.023405          -0.012521      -0.367299           0.159142   \n",
              "1            -0.023405          -0.012521      -0.367299           0.159142   \n",
              "2            -0.023405          -0.012521      -0.367299           0.159142   \n",
              "3            -0.023405          -0.012521      -0.367299           0.159142   \n",
              "4            -0.023405          -0.012521      -0.367299           0.159142   \n",
              "\n",
              "   backorder  \n",
              "0          0  \n",
              "1          0  \n",
              "2          0  \n",
              "3          0  \n",
              "4          1  "
            ]
          },
          "metadata": {
            "tags": []
          },
          "execution_count": 8
        }
      ]
    },
    {
      "cell_type": "code",
      "metadata": {
        "id": "6hhed58sIHc1",
        "colab_type": "code",
        "colab": {
          "base_uri": "https://localhost:8080/",
          "height": 34
        },
        "outputId": "6128fc73-b1cc-402d-8364-77977c14c32c"
      },
      "source": [
        "#Sample data to manage training time\n",
        "data = df.sample(frac=0.001, random_state=7)\n",
        "print(data.shape)"
      ],
      "execution_count": 10,
      "outputs": [
        {
          "output_type": "stream",
          "text": [
            "(2521, 9)\n"
          ],
          "name": "stdout"
        }
      ]
    },
    {
      "cell_type": "code",
      "metadata": {
        "id": "gBOq9jcVlR1m",
        "colab_type": "code",
        "colab": {
          "base_uri": "https://localhost:8080/",
          "height": 34
        },
        "outputId": "4bcb31e8-79ba-4203-869e-12a00b922131"
      },
      "source": [
        "X = data.drop([\"backorder\"], axis = 1)\n",
        "y= data.backorder\n",
        "print(X.shape, y.shape)"
      ],
      "execution_count": 23,
      "outputs": [
        {
          "output_type": "stream",
          "text": [
            "(2521, 8) (2521,)\n"
          ],
          "name": "stdout"
        }
      ]
    },
    {
      "cell_type": "code",
      "metadata": {
        "id": "f0dYUL1QfrAq",
        "colab_type": "code",
        "colab": {
          "base_uri": "https://localhost:8080/",
          "height": 34
        },
        "outputId": "c492d151-8b24-49f5-8cc1-2d67d816080b"
      },
      "source": [
        "#Split data\n",
        "#Train, test split\n",
        "#Set stratify = yes so we can ensre same ratio of target instances\n",
        "X_train, X_test, y_train, y_test = train_test_split(X,y, test_size=0.2, random_state = 7, stratify=y)\n",
        "print(X_train.shape, X_test.shape)"
      ],
      "execution_count": 24,
      "outputs": [
        {
          "output_type": "stream",
          "text": [
            "(2016, 8) (505, 8)\n"
          ],
          "name": "stdout"
        }
      ]
    },
    {
      "cell_type": "code",
      "metadata": {
        "id": "PSuu3kWkKNT7",
        "colab_type": "code",
        "colab": {
          "base_uri": "https://localhost:8080/",
          "height": 419
        },
        "outputId": "dfc8e58f-d01c-4797-9943-2907591cc33c"
      },
      "source": [
        "X_train"
      ],
      "execution_count": 25,
      "outputs": [
        {
          "output_type": "execute_result",
          "data": {
            "text/html": [
              "<div>\n",
              "<style scoped>\n",
              "    .dataframe tbody tr th:only-of-type {\n",
              "        vertical-align: middle;\n",
              "    }\n",
              "\n",
              "    .dataframe tbody tr th {\n",
              "        vertical-align: top;\n",
              "    }\n",
              "\n",
              "    .dataframe thead th {\n",
              "        text-align: right;\n",
              "    }\n",
              "</style>\n",
              "<table border=\"1\" class=\"dataframe\">\n",
              "  <thead>\n",
              "    <tr style=\"text-align: right;\">\n",
              "      <th></th>\n",
              "      <th>national_inv</th>\n",
              "      <th>in_transit_qty</th>\n",
              "      <th>sales_1_month</th>\n",
              "      <th>pieces_past_due</th>\n",
              "      <th>potential_issue_Yes</th>\n",
              "      <th>oe_constraint_Yes</th>\n",
              "      <th>ppap_risk_Yes</th>\n",
              "      <th>stop_auto_buy_Yes</th>\n",
              "    </tr>\n",
              "  </thead>\n",
              "  <tbody>\n",
              "    <tr>\n",
              "      <th>619055</th>\n",
              "      <td>-0.064108</td>\n",
              "      <td>-0.512815</td>\n",
              "      <td>0.140174</td>\n",
              "      <td>-0.127225</td>\n",
              "      <td>-0.023405</td>\n",
              "      <td>-0.012521</td>\n",
              "      <td>-0.367299</td>\n",
              "      <td>0.159142</td>\n",
              "    </tr>\n",
              "    <tr>\n",
              "      <th>1884853</th>\n",
              "      <td>-0.057586</td>\n",
              "      <td>-0.512815</td>\n",
              "      <td>1.206440</td>\n",
              "      <td>-0.127225</td>\n",
              "      <td>-0.023405</td>\n",
              "      <td>-0.012521</td>\n",
              "      <td>-0.367299</td>\n",
              "      <td>0.159142</td>\n",
              "    </tr>\n",
              "    <tr>\n",
              "      <th>1633313</th>\n",
              "      <td>-0.063027</td>\n",
              "      <td>-0.512815</td>\n",
              "      <td>0.140174</td>\n",
              "      <td>-0.127225</td>\n",
              "      <td>-0.023405</td>\n",
              "      <td>-0.012521</td>\n",
              "      <td>-0.367299</td>\n",
              "      <td>0.159142</td>\n",
              "    </tr>\n",
              "    <tr>\n",
              "      <th>682793</th>\n",
              "      <td>-0.062089</td>\n",
              "      <td>1.093342</td>\n",
              "      <td>-0.816526</td>\n",
              "      <td>-0.127225</td>\n",
              "      <td>-0.023405</td>\n",
              "      <td>-0.012521</td>\n",
              "      <td>-0.367299</td>\n",
              "      <td>0.159142</td>\n",
              "    </tr>\n",
              "    <tr>\n",
              "      <th>56776</th>\n",
              "      <td>0.234507</td>\n",
              "      <td>2.128142</td>\n",
              "      <td>-0.816526</td>\n",
              "      <td>-0.127225</td>\n",
              "      <td>-0.023405</td>\n",
              "      <td>-0.012521</td>\n",
              "      <td>-0.367299</td>\n",
              "      <td>0.159142</td>\n",
              "    </tr>\n",
              "    <tr>\n",
              "      <th>...</th>\n",
              "      <td>...</td>\n",
              "      <td>...</td>\n",
              "      <td>...</td>\n",
              "      <td>...</td>\n",
              "      <td>...</td>\n",
              "      <td>...</td>\n",
              "      <td>...</td>\n",
              "      <td>...</td>\n",
              "    </tr>\n",
              "    <tr>\n",
              "      <th>476332</th>\n",
              "      <td>0.610161</td>\n",
              "      <td>2.126787</td>\n",
              "      <td>1.744838</td>\n",
              "      <td>-0.127225</td>\n",
              "      <td>-0.023405</td>\n",
              "      <td>-0.012521</td>\n",
              "      <td>-0.367299</td>\n",
              "      <td>0.159142</td>\n",
              "    </tr>\n",
              "    <tr>\n",
              "      <th>2333256</th>\n",
              "      <td>-0.064108</td>\n",
              "      <td>-0.512815</td>\n",
              "      <td>-0.816526</td>\n",
              "      <td>-0.127225</td>\n",
              "      <td>-0.023405</td>\n",
              "      <td>-0.012521</td>\n",
              "      <td>-0.367299</td>\n",
              "      <td>0.159142</td>\n",
              "    </tr>\n",
              "    <tr>\n",
              "      <th>1174094</th>\n",
              "      <td>-0.013335</td>\n",
              "      <td>2.096272</td>\n",
              "      <td>1.682738</td>\n",
              "      <td>-0.127225</td>\n",
              "      <td>-0.023405</td>\n",
              "      <td>-0.012521</td>\n",
              "      <td>-0.367299</td>\n",
              "      <td>0.159142</td>\n",
              "    </tr>\n",
              "    <tr>\n",
              "      <th>637593</th>\n",
              "      <td>-0.061233</td>\n",
              "      <td>-0.512815</td>\n",
              "      <td>0.140174</td>\n",
              "      <td>-0.127225</td>\n",
              "      <td>-0.023405</td>\n",
              "      <td>-0.012521</td>\n",
              "      <td>-0.367299</td>\n",
              "      <td>0.159142</td>\n",
              "    </tr>\n",
              "    <tr>\n",
              "      <th>2111262</th>\n",
              "      <td>-0.057474</td>\n",
              "      <td>-0.512815</td>\n",
              "      <td>1.345558</td>\n",
              "      <td>-0.127225</td>\n",
              "      <td>-0.023405</td>\n",
              "      <td>-0.012521</td>\n",
              "      <td>2.722579</td>\n",
              "      <td>0.159142</td>\n",
              "    </tr>\n",
              "  </tbody>\n",
              "</table>\n",
              "<p>2016 rows × 8 columns</p>\n",
              "</div>"
            ],
            "text/plain": [
              "         national_inv  in_transit_qty  sales_1_month  pieces_past_due  \\\n",
              "619055      -0.064108       -0.512815       0.140174        -0.127225   \n",
              "1884853     -0.057586       -0.512815       1.206440        -0.127225   \n",
              "1633313     -0.063027       -0.512815       0.140174        -0.127225   \n",
              "682793      -0.062089        1.093342      -0.816526        -0.127225   \n",
              "56776        0.234507        2.128142      -0.816526        -0.127225   \n",
              "...               ...             ...            ...              ...   \n",
              "476332       0.610161        2.126787       1.744838        -0.127225   \n",
              "2333256     -0.064108       -0.512815      -0.816526        -0.127225   \n",
              "1174094     -0.013335        2.096272       1.682738        -0.127225   \n",
              "637593      -0.061233       -0.512815       0.140174        -0.127225   \n",
              "2111262     -0.057474       -0.512815       1.345558        -0.127225   \n",
              "\n",
              "         potential_issue_Yes  oe_constraint_Yes  ppap_risk_Yes  \\\n",
              "619055             -0.023405          -0.012521      -0.367299   \n",
              "1884853            -0.023405          -0.012521      -0.367299   \n",
              "1633313            -0.023405          -0.012521      -0.367299   \n",
              "682793             -0.023405          -0.012521      -0.367299   \n",
              "56776              -0.023405          -0.012521      -0.367299   \n",
              "...                      ...                ...            ...   \n",
              "476332             -0.023405          -0.012521      -0.367299   \n",
              "2333256            -0.023405          -0.012521      -0.367299   \n",
              "1174094            -0.023405          -0.012521      -0.367299   \n",
              "637593             -0.023405          -0.012521      -0.367299   \n",
              "2111262            -0.023405          -0.012521       2.722579   \n",
              "\n",
              "         stop_auto_buy_Yes  \n",
              "619055            0.159142  \n",
              "1884853           0.159142  \n",
              "1633313           0.159142  \n",
              "682793            0.159142  \n",
              "56776             0.159142  \n",
              "...                    ...  \n",
              "476332            0.159142  \n",
              "2333256           0.159142  \n",
              "1174094           0.159142  \n",
              "637593            0.159142  \n",
              "2111262           0.159142  \n",
              "\n",
              "[2016 rows x 8 columns]"
            ]
          },
          "metadata": {
            "tags": []
          },
          "execution_count": 25
        }
      ]
    },
    {
      "cell_type": "code",
      "metadata": {
        "id": "KXM2Z5YqfrD7",
        "colab_type": "code",
        "colab": {}
      },
      "source": [
        "#Create list of classes\n",
        "classes_name = ['backorder', 'not_backorder']"
      ],
      "execution_count": 0,
      "outputs": []
    },
    {
      "cell_type": "code",
      "metadata": {
        "id": "n1b-24EnfrGw",
        "colab_type": "code",
        "colab": {
          "base_uri": "https://localhost:8080/",
          "height": 697
        },
        "outputId": "6a10a52f-14c3-42cf-e460-ace0483bdb67"
      },
      "source": [
        "#Sanity check our data is already standardized (Standardization is necessary to train a cnn)\n",
        "X_train.max"
      ],
      "execution_count": 27,
      "outputs": [
        {
          "output_type": "execute_result",
          "data": {
            "text/plain": [
              "<bound method DataFrame.max of          national_inv  in_transit_qty  sales_1_month  pieces_past_due  \\\n",
              "619055      -0.064108       -0.512815       0.140174        -0.127225   \n",
              "1884853     -0.057586       -0.512815       1.206440        -0.127225   \n",
              "1633313     -0.063027       -0.512815       0.140174        -0.127225   \n",
              "682793      -0.062089        1.093342      -0.816526        -0.127225   \n",
              "56776        0.234507        2.128142      -0.816526        -0.127225   \n",
              "...               ...             ...            ...              ...   \n",
              "476332       0.610161        2.126787       1.744838        -0.127225   \n",
              "2333256     -0.064108       -0.512815      -0.816526        -0.127225   \n",
              "1174094     -0.013335        2.096272       1.682738        -0.127225   \n",
              "637593      -0.061233       -0.512815       0.140174        -0.127225   \n",
              "2111262     -0.057474       -0.512815       1.345558        -0.127225   \n",
              "\n",
              "         potential_issue_Yes  oe_constraint_Yes  ppap_risk_Yes  \\\n",
              "619055             -0.023405          -0.012521      -0.367299   \n",
              "1884853            -0.023405          -0.012521      -0.367299   \n",
              "1633313            -0.023405          -0.012521      -0.367299   \n",
              "682793             -0.023405          -0.012521      -0.367299   \n",
              "56776              -0.023405          -0.012521      -0.367299   \n",
              "...                      ...                ...            ...   \n",
              "476332             -0.023405          -0.012521      -0.367299   \n",
              "2333256            -0.023405          -0.012521      -0.367299   \n",
              "1174094            -0.023405          -0.012521      -0.367299   \n",
              "637593             -0.023405          -0.012521      -0.367299   \n",
              "2111262            -0.023405          -0.012521       2.722579   \n",
              "\n",
              "         stop_auto_buy_Yes  \n",
              "619055            0.159142  \n",
              "1884853           0.159142  \n",
              "1633313           0.159142  \n",
              "682793            0.159142  \n",
              "56776             0.159142  \n",
              "...                    ...  \n",
              "476332            0.159142  \n",
              "2333256           0.159142  \n",
              "1174094           0.159142  \n",
              "637593            0.159142  \n",
              "2111262           0.159142  \n",
              "\n",
              "[2016 rows x 8 columns]>"
            ]
          },
          "metadata": {
            "tags": []
          },
          "execution_count": 27
        }
      ]
    },
    {
      "cell_type": "code",
      "metadata": {
        "id": "wiNj4uTgKk-X",
        "colab_type": "code",
        "colab": {}
      },
      "source": [
        "#Convert y_train, and y_test to numpy arrays\n",
        "X_train = X_train.to_numpy()\n",
        "X_test = X_test.to_numpy()\n",
        "y_train = y_train.to_numpy()\n",
        "y_test = y_test.to_numpy()"
      ],
      "execution_count": 0,
      "outputs": []
    },
    {
      "cell_type": "markdown",
      "metadata": {
        "id": "7mJo4WBILNu2",
        "colab_type": "text"
      },
      "source": [
        "# Reshape Data\n",
        "\n",
        "Not that a cnn must take a 3 dimensional input during training\n",
        "\n",
        "Since our training data is currently in 2 dimensions, we'll reshape it to 3 dimensions as below:"
      ]
    },
    {
      "cell_type": "code",
      "metadata": {
        "id": "onQYVkkILL-L",
        "colab_type": "code",
        "colab": {
          "base_uri": "https://localhost:8080/",
          "height": 34
        },
        "outputId": "2a5affc1-71cc-43d8-9568-6ec7ba2213cb"
      },
      "source": [
        "X_train.shape"
      ],
      "execution_count": 29,
      "outputs": [
        {
          "output_type": "execute_result",
          "data": {
            "text/plain": [
              "(2016, 8)"
            ]
          },
          "metadata": {
            "tags": []
          },
          "execution_count": 29
        }
      ]
    },
    {
      "cell_type": "code",
      "metadata": {
        "id": "c17lCofELH7x",
        "colab_type": "code",
        "colab": {}
      },
      "source": [
        "#Reshaping\n",
        "X_train = X_train.reshape(X_train.shape[0], X_train.shape[1], 1)\n",
        "X_test = X_test.reshape(X_test.shape[0], X_test.shape[1], 1)"
      ],
      "execution_count": 0,
      "outputs": []
    },
    {
      "cell_type": "code",
      "metadata": {
        "id": "20MBItsON81B",
        "colab_type": "code",
        "colab": {
          "base_uri": "https://localhost:8080/",
          "height": 34
        },
        "outputId": "2a26f080-4508-4055-cf17-a681a5426d06"
      },
      "source": [
        "#Sanity check we have 3 dimensional data\n",
        "print(X_train.shape, X_test.shape)"
      ],
      "execution_count": 31,
      "outputs": [
        {
          "output_type": "stream",
          "text": [
            "(2016, 8, 1) (505, 8, 1)\n"
          ],
          "name": "stdout"
        }
      ]
    },
    {
      "cell_type": "markdown",
      "metadata": {
        "id": "DXPZCPIlOIOC",
        "colab_type": "text"
      },
      "source": [
        "Now the reshaping is done, we're ready to build our cnn as below"
      ]
    },
    {
      "cell_type": "markdown",
      "metadata": {
        "id": "zeS5K4hVnr3M",
        "colab_type": "text"
      },
      "source": [
        "# CNN Model Building\n",
        "\n",
        "Building a cnn model requires:\n",
        "\n",
        "  1. A sequential object, i.e. sequential\n",
        "  2. Add the convulutional, flattern, and dense layers\n",
        "\n"
      ]
    },
    {
      "cell_type": "code",
      "metadata": {
        "id": "sMD-r8ewnoa9",
        "colab_type": "code",
        "colab": {}
      },
      "source": [
        "'''Define first layer'''\n",
        "#Define number of epochs\n",
        "epochs = 20\n",
        "#Get sequential object\n",
        "model = Sequential()\n",
        "#Add conv, flat, and dens layers\n",
        "model.add(Conv1D(filters=32, kernel_size=2, activation='relu', input_shape= X_train[0].shape))\n",
        "#Add batch normalization\n",
        "model.add(BatchNormalization())\n",
        "#Add dropout\n",
        "model.add(Dropout(0.2)) #Twenty percent of nuerons will be dropped after first layer\n",
        "\n",
        "\n",
        "'''Define second layer'''\n",
        "#Add conv, flat, and dens layers\n",
        "model.add(Conv1D(filters=64, kernel_size=2, activation='relu'))\n",
        "#Add batch normalization\n",
        "model.add(BatchNormalization())\n",
        "#Add dropout\n",
        "model.add(Dropout(0.5)) #Fifty percent of nuerons will be dropped after second layer\n",
        "\n",
        "#Convert our multidimensional data into a vector with a flattening layer\n",
        "model.add(Flatten())\n",
        "model.add(Dense(64, activation='relu'))\n",
        "model.add(Dropout(0.5))\n",
        "\n",
        "model.add(Dense(1, activation='sigmoid')) #Using sigmoid because we have a binary classification roblem"
      ],
      "execution_count": 0,
      "outputs": []
    },
    {
      "cell_type": "code",
      "metadata": {
        "id": "3sHDOOXoScwN",
        "colab_type": "code",
        "colab": {
          "base_uri": "https://localhost:8080/",
          "height": 493
        },
        "outputId": "ddf4ec7d-364e-43b8-e90b-5cedbe5c117c"
      },
      "source": [
        "#Get model summary\n",
        "model.summary()"
      ],
      "execution_count": 35,
      "outputs": [
        {
          "output_type": "stream",
          "text": [
            "Model: \"sequential_1\"\n",
            "_________________________________________________________________\n",
            "Layer (type)                 Output Shape              Param #   \n",
            "=================================================================\n",
            "conv1d (Conv1D)              (None, 7, 32)             96        \n",
            "_________________________________________________________________\n",
            "batch_normalization (BatchNo (None, 7, 32)             128       \n",
            "_________________________________________________________________\n",
            "dropout (Dropout)            (None, 7, 32)             0         \n",
            "_________________________________________________________________\n",
            "conv1d_1 (Conv1D)            (None, 6, 64)             4160      \n",
            "_________________________________________________________________\n",
            "batch_normalization_1 (Batch (None, 6, 64)             256       \n",
            "_________________________________________________________________\n",
            "dropout_1 (Dropout)          (None, 6, 64)             0         \n",
            "_________________________________________________________________\n",
            "flatten (Flatten)            (None, 384)               0         \n",
            "_________________________________________________________________\n",
            "dense (Dense)                (None, 64)                24640     \n",
            "_________________________________________________________________\n",
            "dropout_2 (Dropout)          (None, 64)                0         \n",
            "_________________________________________________________________\n",
            "dense_1 (Dense)              (None, 1)                 65        \n",
            "=================================================================\n",
            "Total params: 29,345\n",
            "Trainable params: 29,153\n",
            "Non-trainable params: 192\n",
            "_________________________________________________________________\n"
          ],
          "name": "stdout"
        }
      ]
    },
    {
      "cell_type": "markdown",
      "metadata": {
        "id": "I5KA7me8Ss0S",
        "colab_type": "text"
      },
      "source": [
        "We see that we get a total of 29,345 parameters\n",
        "\n",
        "Let's compile our model"
      ]
    },
    {
      "cell_type": "code",
      "metadata": {
        "id": "Hmase3OtScz4",
        "colab_type": "code",
        "colab": {}
      },
      "source": [
        "#Compile model\n",
        "model.compile(optimizer=Adam(lr=0.0001), loss= 'binary_crossentropy', metrics= ['accuracy'])"
      ],
      "execution_count": 0,
      "outputs": []
    },
    {
      "cell_type": "markdown",
      "metadata": {
        "id": "G0bbBpyITy9t",
        "colab_type": "text"
      },
      "source": [
        "Now our model has been compiled, we can proceed with the training step\n",
        "\n",
        "# Model Training"
      ]
    },
    {
      "cell_type": "code",
      "metadata": {
        "id": "gHOt8-FYSc24",
        "colab_type": "code",
        "colab": {
          "base_uri": "https://localhost:8080/",
          "height": 697
        },
        "outputId": "5bffd4f9-1e9f-4e1e-857e-5cba2bdbb148"
      },
      "source": [
        "history = model.fit(X_train, y_train, epochs=epochs, validation_data= (X_test, y_test), \n",
        "                    verbose=1)"
      ],
      "execution_count": 43,
      "outputs": [
        {
          "output_type": "stream",
          "text": [
            "Epoch 1/20\n",
            "63/63 [==============================] - 0s 6ms/step - loss: 0.6043 - accuracy: 0.6974 - val_loss: 0.6036 - val_accuracy: 0.7287\n",
            "Epoch 2/20\n",
            "63/63 [==============================] - 0s 5ms/step - loss: 0.6070 - accuracy: 0.7034 - val_loss: 0.6017 - val_accuracy: 0.7287\n",
            "Epoch 3/20\n",
            "63/63 [==============================] - 0s 6ms/step - loss: 0.6113 - accuracy: 0.6974 - val_loss: 0.6016 - val_accuracy: 0.7287\n",
            "Epoch 4/20\n",
            "63/63 [==============================] - 0s 6ms/step - loss: 0.6124 - accuracy: 0.6974 - val_loss: 0.6008 - val_accuracy: 0.7267\n",
            "Epoch 5/20\n",
            "63/63 [==============================] - 0s 5ms/step - loss: 0.6006 - accuracy: 0.7083 - val_loss: 0.6009 - val_accuracy: 0.7267\n",
            "Epoch 6/20\n",
            "63/63 [==============================] - 0s 5ms/step - loss: 0.6091 - accuracy: 0.6959 - val_loss: 0.5998 - val_accuracy: 0.7267\n",
            "Epoch 7/20\n",
            "63/63 [==============================] - 0s 6ms/step - loss: 0.6011 - accuracy: 0.6969 - val_loss: 0.5988 - val_accuracy: 0.7267\n",
            "Epoch 8/20\n",
            "63/63 [==============================] - 0s 5ms/step - loss: 0.6058 - accuracy: 0.6979 - val_loss: 0.5982 - val_accuracy: 0.7267\n",
            "Epoch 9/20\n",
            "63/63 [==============================] - 0s 5ms/step - loss: 0.6023 - accuracy: 0.6969 - val_loss: 0.5985 - val_accuracy: 0.7267\n",
            "Epoch 10/20\n",
            "63/63 [==============================] - 0s 6ms/step - loss: 0.6013 - accuracy: 0.7068 - val_loss: 0.5973 - val_accuracy: 0.7267\n",
            "Epoch 11/20\n",
            "63/63 [==============================] - 0s 5ms/step - loss: 0.5994 - accuracy: 0.7054 - val_loss: 0.5958 - val_accuracy: 0.7267\n",
            "Epoch 12/20\n",
            "63/63 [==============================] - 0s 5ms/step - loss: 0.6057 - accuracy: 0.7024 - val_loss: 0.5969 - val_accuracy: 0.7267\n",
            "Epoch 13/20\n",
            "63/63 [==============================] - 0s 6ms/step - loss: 0.6081 - accuracy: 0.7054 - val_loss: 0.5966 - val_accuracy: 0.7267\n",
            "Epoch 14/20\n",
            "63/63 [==============================] - 0s 6ms/step - loss: 0.5978 - accuracy: 0.7073 - val_loss: 0.5972 - val_accuracy: 0.7267\n",
            "Epoch 15/20\n",
            "63/63 [==============================] - 0s 5ms/step - loss: 0.6028 - accuracy: 0.7138 - val_loss: 0.5959 - val_accuracy: 0.7267\n",
            "Epoch 16/20\n",
            "63/63 [==============================] - 0s 6ms/step - loss: 0.6077 - accuracy: 0.6900 - val_loss: 0.5958 - val_accuracy: 0.7267\n",
            "Epoch 17/20\n",
            "63/63 [==============================] - 0s 6ms/step - loss: 0.5997 - accuracy: 0.7044 - val_loss: 0.5970 - val_accuracy: 0.7267\n",
            "Epoch 18/20\n",
            "63/63 [==============================] - 0s 6ms/step - loss: 0.5975 - accuracy: 0.7009 - val_loss: 0.5974 - val_accuracy: 0.7267\n",
            "Epoch 19/20\n",
            "63/63 [==============================] - 0s 5ms/step - loss: 0.6076 - accuracy: 0.7034 - val_loss: 0.5986 - val_accuracy: 0.7267\n",
            "Epoch 20/20\n",
            "63/63 [==============================] - 0s 6ms/step - loss: 0.5938 - accuracy: 0.7034 - val_loss: 0.5968 - val_accuracy: 0.7267\n"
          ],
          "name": "stdout"
        }
      ]
    },
    {
      "cell_type": "markdown",
      "metadata": {
        "id": "pAw3jGBAVZKf",
        "colab_type": "text"
      },
      "source": [
        "Because at 20 epochs our validation accuracy is 72.48% while our training accuracy is 66.12%  (lower than validation ccuracy), we do not appear to be overfitting\n",
        "\n",
        "Let's increase the number of epochsto 50 and observe performance"
      ]
    },
    {
      "cell_type": "code",
      "metadata": {
        "id": "JYPb8DUeSc6J",
        "colab_type": "code",
        "colab": {
          "base_uri": "https://localhost:8080/",
          "height": 1000
        },
        "outputId": "8b92b57e-85d1-48ce-dd85-f57ca9b755c1"
      },
      "source": [
        "history = model.fit(X_train, y_train, epochs=50, validation_data= (X_test, y_test), \n",
        "                    verbose=1)"
      ],
      "execution_count": 39,
      "outputs": [
        {
          "output_type": "stream",
          "text": [
            "Epoch 1/50\n",
            "63/63 [==============================] - 0s 6ms/step - loss: 0.6993 - accuracy: 0.6498 - val_loss: 0.6048 - val_accuracy: 0.7248\n",
            "Epoch 2/50\n",
            "63/63 [==============================] - 0s 6ms/step - loss: 0.6607 - accuracy: 0.6781 - val_loss: 0.6039 - val_accuracy: 0.7248\n",
            "Epoch 3/50\n",
            "63/63 [==============================] - 0s 5ms/step - loss: 0.6820 - accuracy: 0.6602 - val_loss: 0.6067 - val_accuracy: 0.7248\n",
            "Epoch 4/50\n",
            "63/63 [==============================] - 0s 6ms/step - loss: 0.6675 - accuracy: 0.6701 - val_loss: 0.6070 - val_accuracy: 0.7248\n",
            "Epoch 5/50\n",
            "63/63 [==============================] - 0s 6ms/step - loss: 0.6626 - accuracy: 0.6696 - val_loss: 0.6063 - val_accuracy: 0.7248\n",
            "Epoch 6/50\n",
            "63/63 [==============================] - 0s 6ms/step - loss: 0.6529 - accuracy: 0.6761 - val_loss: 0.6054 - val_accuracy: 0.7248\n",
            "Epoch 7/50\n",
            "63/63 [==============================] - 0s 5ms/step - loss: 0.6601 - accuracy: 0.6731 - val_loss: 0.6054 - val_accuracy: 0.7267\n",
            "Epoch 8/50\n",
            "63/63 [==============================] - 0s 6ms/step - loss: 0.6579 - accuracy: 0.6711 - val_loss: 0.6050 - val_accuracy: 0.7267\n",
            "Epoch 9/50\n",
            "63/63 [==============================] - 0s 6ms/step - loss: 0.6489 - accuracy: 0.6835 - val_loss: 0.6078 - val_accuracy: 0.7267\n",
            "Epoch 10/50\n",
            "63/63 [==============================] - 0s 6ms/step - loss: 0.6735 - accuracy: 0.6632 - val_loss: 0.6076 - val_accuracy: 0.7267\n",
            "Epoch 11/50\n",
            "63/63 [==============================] - 0s 5ms/step - loss: 0.6569 - accuracy: 0.6736 - val_loss: 0.6081 - val_accuracy: 0.7267\n",
            "Epoch 12/50\n",
            "63/63 [==============================] - 0s 5ms/step - loss: 0.6590 - accuracy: 0.6791 - val_loss: 0.6092 - val_accuracy: 0.7267\n",
            "Epoch 13/50\n",
            "63/63 [==============================] - 0s 6ms/step - loss: 0.6503 - accuracy: 0.6751 - val_loss: 0.6087 - val_accuracy: 0.7267\n",
            "Epoch 14/50\n",
            "63/63 [==============================] - 0s 5ms/step - loss: 0.6598 - accuracy: 0.6691 - val_loss: 0.6106 - val_accuracy: 0.7267\n",
            "Epoch 15/50\n",
            "63/63 [==============================] - 0s 6ms/step - loss: 0.6553 - accuracy: 0.6771 - val_loss: 0.6111 - val_accuracy: 0.7248\n",
            "Epoch 16/50\n",
            "63/63 [==============================] - 0s 6ms/step - loss: 0.6221 - accuracy: 0.6910 - val_loss: 0.6104 - val_accuracy: 0.7267\n",
            "Epoch 17/50\n",
            "63/63 [==============================] - 0s 6ms/step - loss: 0.6499 - accuracy: 0.6830 - val_loss: 0.6117 - val_accuracy: 0.7248\n",
            "Epoch 18/50\n",
            "63/63 [==============================] - 0s 5ms/step - loss: 0.6286 - accuracy: 0.6935 - val_loss: 0.6150 - val_accuracy: 0.7248\n",
            "Epoch 19/50\n",
            "63/63 [==============================] - 0s 6ms/step - loss: 0.6485 - accuracy: 0.6825 - val_loss: 0.6159 - val_accuracy: 0.7248\n",
            "Epoch 20/50\n",
            "63/63 [==============================] - 0s 6ms/step - loss: 0.6440 - accuracy: 0.6845 - val_loss: 0.6159 - val_accuracy: 0.7248\n",
            "Epoch 21/50\n",
            "63/63 [==============================] - 0s 6ms/step - loss: 0.6433 - accuracy: 0.6815 - val_loss: 0.6155 - val_accuracy: 0.7267\n",
            "Epoch 22/50\n",
            "63/63 [==============================] - 0s 6ms/step - loss: 0.6328 - accuracy: 0.6865 - val_loss: 0.6122 - val_accuracy: 0.7267\n",
            "Epoch 23/50\n",
            "63/63 [==============================] - 0s 6ms/step - loss: 0.6249 - accuracy: 0.6885 - val_loss: 0.6123 - val_accuracy: 0.7267\n",
            "Epoch 24/50\n",
            "63/63 [==============================] - 0s 6ms/step - loss: 0.6252 - accuracy: 0.6925 - val_loss: 0.6112 - val_accuracy: 0.7267\n",
            "Epoch 25/50\n",
            "63/63 [==============================] - 0s 6ms/step - loss: 0.6355 - accuracy: 0.6791 - val_loss: 0.6114 - val_accuracy: 0.7267\n",
            "Epoch 26/50\n",
            "63/63 [==============================] - 0s 5ms/step - loss: 0.6302 - accuracy: 0.6860 - val_loss: 0.6101 - val_accuracy: 0.7267\n",
            "Epoch 27/50\n",
            "63/63 [==============================] - 0s 6ms/step - loss: 0.6321 - accuracy: 0.6895 - val_loss: 0.6102 - val_accuracy: 0.7267\n",
            "Epoch 28/50\n",
            "63/63 [==============================] - 0s 6ms/step - loss: 0.6289 - accuracy: 0.6890 - val_loss: 0.6123 - val_accuracy: 0.7267\n",
            "Epoch 29/50\n",
            "63/63 [==============================] - 0s 5ms/step - loss: 0.6373 - accuracy: 0.6875 - val_loss: 0.6102 - val_accuracy: 0.7248\n",
            "Epoch 30/50\n",
            "63/63 [==============================] - 0s 6ms/step - loss: 0.6288 - accuracy: 0.7014 - val_loss: 0.6110 - val_accuracy: 0.7248\n",
            "Epoch 31/50\n",
            "63/63 [==============================] - 0s 6ms/step - loss: 0.6120 - accuracy: 0.7054 - val_loss: 0.6093 - val_accuracy: 0.7267\n",
            "Epoch 32/50\n",
            "63/63 [==============================] - 0s 6ms/step - loss: 0.6095 - accuracy: 0.7039 - val_loss: 0.6092 - val_accuracy: 0.7267\n",
            "Epoch 33/50\n",
            "63/63 [==============================] - 0s 6ms/step - loss: 0.6156 - accuracy: 0.7009 - val_loss: 0.6068 - val_accuracy: 0.7287\n",
            "Epoch 34/50\n",
            "63/63 [==============================] - 0s 5ms/step - loss: 0.6393 - accuracy: 0.6820 - val_loss: 0.6076 - val_accuracy: 0.7287\n",
            "Epoch 35/50\n",
            "63/63 [==============================] - 0s 6ms/step - loss: 0.6285 - accuracy: 0.6930 - val_loss: 0.6068 - val_accuracy: 0.7287\n",
            "Epoch 36/50\n",
            "63/63 [==============================] - 0s 6ms/step - loss: 0.6124 - accuracy: 0.7014 - val_loss: 0.6051 - val_accuracy: 0.7287\n",
            "Epoch 37/50\n",
            "63/63 [==============================] - 0s 6ms/step - loss: 0.6169 - accuracy: 0.6994 - val_loss: 0.6049 - val_accuracy: 0.7287\n",
            "Epoch 38/50\n",
            "63/63 [==============================] - 0s 6ms/step - loss: 0.6120 - accuracy: 0.6984 - val_loss: 0.6029 - val_accuracy: 0.7287\n",
            "Epoch 39/50\n",
            "63/63 [==============================] - 0s 6ms/step - loss: 0.6188 - accuracy: 0.6984 - val_loss: 0.6035 - val_accuracy: 0.7287\n",
            "Epoch 40/50\n",
            "63/63 [==============================] - 0s 5ms/step - loss: 0.6118 - accuracy: 0.6939 - val_loss: 0.6042 - val_accuracy: 0.7287\n",
            "Epoch 41/50\n",
            "63/63 [==============================] - 0s 6ms/step - loss: 0.6163 - accuracy: 0.6984 - val_loss: 0.6030 - val_accuracy: 0.7287\n",
            "Epoch 42/50\n",
            "63/63 [==============================] - 0s 6ms/step - loss: 0.6131 - accuracy: 0.6939 - val_loss: 0.6048 - val_accuracy: 0.7287\n",
            "Epoch 43/50\n",
            "63/63 [==============================] - 0s 5ms/step - loss: 0.6197 - accuracy: 0.6989 - val_loss: 0.6025 - val_accuracy: 0.7287\n",
            "Epoch 44/50\n",
            "63/63 [==============================] - 0s 6ms/step - loss: 0.6047 - accuracy: 0.7073 - val_loss: 0.6013 - val_accuracy: 0.7287\n",
            "Epoch 45/50\n",
            "63/63 [==============================] - 0s 5ms/step - loss: 0.6168 - accuracy: 0.6915 - val_loss: 0.6012 - val_accuracy: 0.7287\n",
            "Epoch 46/50\n",
            "63/63 [==============================] - 0s 6ms/step - loss: 0.6112 - accuracy: 0.6959 - val_loss: 0.6020 - val_accuracy: 0.7287\n",
            "Epoch 47/50\n",
            "63/63 [==============================] - 0s 6ms/step - loss: 0.6133 - accuracy: 0.7049 - val_loss: 0.6033 - val_accuracy: 0.7287\n",
            "Epoch 48/50\n",
            "63/63 [==============================] - 0s 6ms/step - loss: 0.6041 - accuracy: 0.6994 - val_loss: 0.6032 - val_accuracy: 0.7287\n",
            "Epoch 49/50\n",
            "63/63 [==============================] - 0s 6ms/step - loss: 0.6065 - accuracy: 0.7019 - val_loss: 0.6032 - val_accuracy: 0.7287\n",
            "Epoch 50/50\n",
            "63/63 [==============================] - 0s 6ms/step - loss: 0.6203 - accuracy: 0.6885 - val_loss: 0.6032 - val_accuracy: 0.7287\n"
          ],
          "name": "stdout"
        }
      ]
    },
    {
      "cell_type": "markdown",
      "metadata": {
        "id": "8CgNLG3DWBGk",
        "colab_type": "text"
      },
      "source": [
        "We see our accuracy has saturated at around 78% for validation and 68% for training\n",
        "\n",
        "Let's plot learning curves to ..."
      ]
    },
    {
      "cell_type": "markdown",
      "metadata": {
        "id": "JCR0JPnZW9IH",
        "colab_type": "text"
      },
      "source": [
        "# Learning Curve Plots"
      ]
    },
    {
      "cell_type": "code",
      "metadata": {
        "id": "JSxBxd6xfrMA",
        "colab_type": "code",
        "colab": {}
      },
      "source": [
        "def plot_learningCurve(history, epoch):\n",
        "  '''Plots training and validation accuracy values\n",
        "  '''\n",
        "  epoch_range = range(1, epoch+1)\n",
        "  plt.plot(epoch_range, history.history['accuracy'])\n",
        "  plt.plot(epoch_range, history.history['val_accuracy'])\n",
        "  plt.title('Model Accuracy')\n",
        "  plt.ylabel('Accuracy')\n",
        "  plt.xlabel('Epoch')\n",
        "  plt.legend(['Train', 'Val'], loc = 'upper left')\n",
        "  plt.show()\n",
        "\n",
        "  '''Plot training and validation loss values\n",
        "  '''\n",
        "  plt.plot(epoch_range, history.history['loss'])\n",
        "  plt.plot(epoch_range, history.history['val_loss'])\n",
        "  plt.title('Model Loss')\n",
        "  plt.ylabel('Loss')\n",
        "  plt.xlabel('Epoch')\n",
        "  plt.legend(['train', 'val'], loc = 'upper left')\n",
        "  plt.show()"
      ],
      "execution_count": 0,
      "outputs": []
    },
    {
      "cell_type": "code",
      "metadata": {
        "id": "0cLl90zsfrRb",
        "colab_type": "code",
        "colab": {
          "base_uri": "https://localhost:8080/",
          "height": 573
        },
        "outputId": "05fa02f5-4ea6-4eff-902c-1022f9267920"
      },
      "source": [
        "#Ploting the history of learning against epochs\n",
        "plot_learningCurve(history, epochs)"
      ],
      "execution_count": 54,
      "outputs": [
        {
          "output_type": "display_data",
          "data": {
            "image/png": "[encoded data removed]",
            "text/plain": [
              "<Figure size 432x288 with 1 Axes>"
            ]
          },
          "metadata": {
            "tags": [],
            "needs_background": "light"
          }
        },
        {
          "output_type": "display_data",
          "data": {
            "image/png": "[encoded data removed]",
            "text/plain": [
              "<Figure size 432x288 with 1 Axes>"
            ]
          },
          "metadata": {
            "tags": [],
            "needs_background": "light"
          }
        }
      ]
    },
    {
      "cell_type": "markdown",
      "metadata": {
        "id": "fwuohZq_b3p0",
        "colab_type": "text"
      },
      "source": [
        "Since the validation accuracy curve is above the training accuracy curve, our model is not overfitting\n",
        "\n",
        "We'll add maxpool to understand how our model is getting the accuracy"
      ]
    },
    {
      "cell_type": "markdown",
      "metadata": {
        "id": "-QCBUVQscVU-",
        "colab_type": "text"
      },
      "source": [
        "## Add MaxPool"
      ]
    },
    {
      "cell_type": "code",
      "metadata": {
        "id": "vLI2xvurfrPg",
        "colab_type": "code",
        "colab": {
          "base_uri": "https://localhost:8080/",
          "height": 1000
        },
        "outputId": "ee367d80-37e9-43db-f301-3612f0865843"
      },
      "source": [
        "'''Define first layer'''\n",
        "#Define number of epochs\n",
        "epochs = 20\n",
        "#Get sequential object\n",
        "model = Sequential()\n",
        "#Add conv, flat, and dens layers\n",
        "model.add(Conv1D(filters=32, kernel_size=2, activation='relu', input_shape= X_train[0].shape))\n",
        "#Add batch normalization\n",
        "model.add(BatchNormalization())\n",
        "#Add MaxPool\n",
        "model.add(MaxPool1D(2))\n",
        "#Add dropout\n",
        "model.add(Dropout(0.2)) #Twenty percent of nuerons will be dropped after first layer\n",
        "\n",
        "\n",
        "'''Define second layer'''\n",
        "#Add conv, flat, and dens layers\n",
        "model.add(Conv1D(filters=64, kernel_size=2, activation='relu'))\n",
        "#Add batch normalization\n",
        "model.add(BatchNormalization())\n",
        "#Add MaxPool\n",
        "model.add(MaxPool1D(2))\n",
        "#Add dropout\n",
        "model.add(Dropout(0.5)) #Fifty percent of nuerons will be dropped after second layer\n",
        "\n",
        "#Convert our multidimensional data into a vector with a flattening layer\n",
        "model.add(Flatten())\n",
        "model.add(Dense(64, activation='relu'))\n",
        "model.add(Dropout(0.5))\n",
        "\n",
        "model.add(Dense(1, activation='sigmoid')) #Using sigmoid because we have a binary classification roblem\n",
        "\n",
        "#Compile model\n",
        "model.compile(optimizer=Adam(lr=0.0001), loss= 'binary_crossentropy', metrics= ['accuracy'])\n",
        "\n",
        "history = model.fit(X_train, y_train, epochs=epochs, validation_data= (X_test, y_test), \n",
        "                    verbose=1)\n",
        "#Ploting the history of learning against epochs\n",
        "plot_learningCurve(history, epochs)"
      ],
      "execution_count": 55,
      "outputs": [
        {
          "output_type": "stream",
          "text": [
            "Epoch 1/20\n",
            "63/63 [==============================] - 1s 9ms/step - loss: 0.9704 - accuracy: 0.5203 - val_loss: 0.6733 - val_accuracy: 0.6376\n",
            "Epoch 2/20\n",
            "63/63 [==============================] - 0s 5ms/step - loss: 0.8952 - accuracy: 0.5441 - val_loss: 0.6637 - val_accuracy: 0.6099\n",
            "Epoch 3/20\n",
            "63/63 [==============================] - 0s 6ms/step - loss: 0.8720 - accuracy: 0.5645 - val_loss: 0.6528 - val_accuracy: 0.6931\n",
            "Epoch 4/20\n",
            "63/63 [==============================] - 0s 6ms/step - loss: 0.8708 - accuracy: 0.5650 - val_loss: 0.6396 - val_accuracy: 0.7168\n",
            "Epoch 5/20\n",
            "63/63 [==============================] - 0s 6ms/step - loss: 0.8501 - accuracy: 0.5764 - val_loss: 0.6235 - val_accuracy: 0.7149\n",
            "Epoch 6/20\n",
            "63/63 [==============================] - 0s 6ms/step - loss: 0.8287 - accuracy: 0.5794 - val_loss: 0.6089 - val_accuracy: 0.7248\n",
            "Epoch 7/20\n",
            "63/63 [==============================] - 0s 6ms/step - loss: 0.8160 - accuracy: 0.5898 - val_loss: 0.5955 - val_accuracy: 0.7248\n",
            "Epoch 8/20\n",
            "63/63 [==============================] - 0s 6ms/step - loss: 0.8386 - accuracy: 0.5744 - val_loss: 0.5874 - val_accuracy: 0.7287\n",
            "Epoch 9/20\n",
            "63/63 [==============================] - 0s 6ms/step - loss: 0.8037 - accuracy: 0.5838 - val_loss: 0.5836 - val_accuracy: 0.7287\n",
            "Epoch 10/20\n",
            "63/63 [==============================] - 0s 6ms/step - loss: 0.7689 - accuracy: 0.6086 - val_loss: 0.5804 - val_accuracy: 0.7267\n",
            "Epoch 11/20\n",
            "63/63 [==============================] - 0s 6ms/step - loss: 0.7817 - accuracy: 0.6151 - val_loss: 0.5796 - val_accuracy: 0.7248\n",
            "Epoch 12/20\n",
            "63/63 [==============================] - 0s 6ms/step - loss: 0.7696 - accuracy: 0.6106 - val_loss: 0.5781 - val_accuracy: 0.7287\n",
            "Epoch 13/20\n",
            "63/63 [==============================] - 0s 6ms/step - loss: 0.7390 - accuracy: 0.6116 - val_loss: 0.5773 - val_accuracy: 0.7267\n",
            "Epoch 14/20\n",
            "63/63 [==============================] - 0s 6ms/step - loss: 0.7538 - accuracy: 0.6186 - val_loss: 0.5768 - val_accuracy: 0.7267\n",
            "Epoch 15/20\n",
            "63/63 [==============================] - 0s 6ms/step - loss: 0.7729 - accuracy: 0.5938 - val_loss: 0.5773 - val_accuracy: 0.7248\n",
            "Epoch 16/20\n",
            "63/63 [==============================] - 0s 6ms/step - loss: 0.7584 - accuracy: 0.6096 - val_loss: 0.5779 - val_accuracy: 0.7248\n",
            "Epoch 17/20\n",
            "63/63 [==============================] - 0s 6ms/step - loss: 0.7525 - accuracy: 0.6225 - val_loss: 0.5775 - val_accuracy: 0.7248\n",
            "Epoch 18/20\n",
            "63/63 [==============================] - 0s 6ms/step - loss: 0.7359 - accuracy: 0.6096 - val_loss: 0.5782 - val_accuracy: 0.7267\n",
            "Epoch 19/20\n",
            "63/63 [==============================] - 0s 6ms/step - loss: 0.7256 - accuracy: 0.6146 - val_loss: 0.5784 - val_accuracy: 0.7267\n",
            "Epoch 20/20\n",
            "63/63 [==============================] - 0s 6ms/step - loss: 0.7170 - accuracy: 0.6280 - val_loss: 0.5778 - val_accuracy: 0.7248\n"
          ],
          "name": "stdout"
        },
        {
          "output_type": "display_data",
          "data": {
            "image/png": "[encoded data removed]",
            "text/plain": [
              "<Figure size 432x288 with 1 Axes>"
            ]
          },
          "metadata": {
            "tags": [],
            "needs_background": "light"
          }
        },
        {
          "output_type": "display_data",
          "data": {
            "image/png": "[encoded data removed]",
            "text/plain": [
              "<Figure size 432x288 with 1 Axes>"
            ]
          },
          "metadata": {
            "tags": [],
            "needs_background": "light"
          }
        }
      ]
    },
    {
      "cell_type": "markdown",
      "metadata": {
        "id": "H0VdD5T4eMAw",
        "colab_type": "text"
      },
      "source": [
        "Since accuracy is still increasing, we can improve our training data to get better performance\n",
        "\n",
        "As long as validation accuracy is more than training accuracy, adding more data can improve model performance\n",
        "\n",
        "As long as training and validation accuracy has not saturated, we can increase the nuber of epochs or size of the dataset to improve performance"
      ]
    },
    {
      "cell_type": "code",
      "metadata": {
        "id": "O_H41PhXcAA-",
        "colab_type": "code",
        "colab": {}
      },
      "source": [
        ""
      ],
      "execution_count": 0,
      "outputs": []
    },
    {
      "cell_type": "code",
      "metadata": {
        "id": "-euQzvoXcAEM",
        "colab_type": "code",
        "colab": {}
      },
      "source": [
        ""
      ],
      "execution_count": 0,
      "outputs": []
    },
    {
      "cell_type": "code",
      "metadata": {
        "id": "raFfVQGhcAG1",
        "colab_type": "code",
        "colab": {}
      },
      "source": [
        ""
      ],
      "execution_count": 0,
      "outputs": []
    }
  ]
}