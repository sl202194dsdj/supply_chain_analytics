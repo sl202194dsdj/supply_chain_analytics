{
  "nbformat": 4,
  "nbformat_minor": 0,
  "metadata": {
    "colab": {
      "name": "cnn_model.ipynb",
      "provenance": [],
      "authorship_tag": "ABX9TyPWwnjgNkCXsvkR7uW1UAt7",
      "include_colab_link": true
    },
    "kernelspec": {
      "name": "python3",
      "display_name": "Python 3"
    },
    "accelerator": "GPU"
  },
  "cells": [
    {
      "cell_type": "markdown",
      "metadata": {
        "id": "view-in-github",
        "colab_type": "text"
      },
      "source": [
        "<a href=\"https://colab.research.google.com/github/sl202194dsdj/supply_chain_analytics/blob/master/cnn_model.ipynb\" target=\"_parent\"><img src=\"https://colab.research.google.com/assets/colab-badge.svg\" alt=\"Open In Colab\"/></a>"
      ]
    },
    {
      "cell_type": "code",
      "metadata": {
        "id": "ynVQRGw4aMA6",
        "colab_type": "code",
        "colab": {}
      },
      "source": [
        ""
      ],
      "execution_count": 0,
      "outputs": []
    },
    {
      "cell_type": "code",
      "metadata": {
        "id": "jv-DZdCPZetM",
        "colab_type": "code",
        "outputId": "aefe0a4b-69de-474e-c259-32a02b3a57f7",
        "colab": {
          "base_uri": "https://localhost:8080/",
          "height": 122
        }
      },
      "source": [
        "from google.colab import drive\n",
        "drive.mount('/content/drive')"
      ],
      "execution_count": 1,
      "outputs": [
        {
          "output_type": "stream",
          "text": [
            "Go to this URL in a browser: https://accounts.google.com/o/oauth2/auth?client_id=947318989803-6bn6qk8qdgf4n4g3pfee6491hc0brc4i.apps.googleusercontent.com&redirect_uri=urn%3aietf%3awg%3aoauth%3a2.0%3aoob&response_type=code&scope=email%20https%3a%2f%2fwww.googleapis.com%2fauth%2fdocs.test%20https%3a%2f%2fwww.googleapis.com%2fauth%2fdrive%20https%3a%2f%2fwww.googleapis.com%2fauth%2fdrive.photos.readonly%20https%3a%2f%2fwww.googleapis.com%2fauth%2fpeopleapi.readonly\n",
            "\n",
            "Enter your authorization code:\n",
            "··········\n",
            "Mounted at /content/drive\n"
          ],
          "name": "stdout"
        }
      ]
    },
    {
      "cell_type": "code",
      "metadata": {
        "id": "fBZ0Aib7aUUM",
        "colab_type": "code",
        "colab": {
          "base_uri": "https://localhost:8080/",
          "height": 34
        },
        "outputId": "3db405fe-677c-419e-d934-bfd4aa22f17c"
      },
      "source": [
        "!pwd"
      ],
      "execution_count": 2,
      "outputs": [
        {
          "output_type": "stream",
          "text": [
            "/content\n"
          ],
          "name": "stdout"
        }
      ]
    },
    {
      "cell_type": "code",
      "metadata": {
        "id": "b3k6HKKSashq",
        "colab_type": "code",
        "colab": {
          "base_uri": "https://localhost:8080/",
          "height": 34
        },
        "outputId": "c7d3a23c-4233-4090-e433-7fb4874cbea2"
      },
      "source": [
        "!ls"
      ],
      "execution_count": 3,
      "outputs": [
        {
          "output_type": "stream",
          "text": [
            "drive  sample_data\n"
          ],
          "name": "stdout"
        }
      ]
    },
    {
      "cell_type": "code",
      "metadata": {
        "id": "O3BchPkJawSa",
        "colab_type": "code",
        "colab": {
          "base_uri": "https://localhost:8080/",
          "height": 734
        },
        "outputId": "cd3bfa42-a991-4407-aebc-a772d1aed5b9"
      },
      "source": [
        "#Install deep learning libs\n",
        "!pip install tensorflow-gpu"
      ],
      "execution_count": 2,
      "outputs": [
        {
          "output_type": "stream",
          "text": [
            "Collecting tensorflow-gpu\n",
            "\u001b[?25l  Downloading https://files.pythonhosted.org/packages/31/bf/c28971266ca854a64f4b26f07c4112ddd61f30b4d1f18108b954a746f8ea/tensorflow_gpu-2.2.0-cp36-cp36m-manylinux2010_x86_64.whl (516.2MB)\n",
            "\u001b[K     |████████████████████████████████| 516.2MB 33kB/s \n",
            "\u001b[?25hRequirement already satisfied: wheel>=0.26; python_version >= \"3\" in /usr/local/lib/python3.6/dist-packages (from tensorflow-gpu) (0.34.2)\n",
            "Requirement already satisfied: keras-preprocessing>=1.1.0 in /usr/local/lib/python3.6/dist-packages (from tensorflow-gpu) (1.1.2)\n",
            "Requirement already satisfied: tensorflow-estimator<2.3.0,>=2.2.0 in /usr/local/lib/python3.6/dist-packages (from tensorflow-gpu) (2.2.0)\n",
            "Requirement already satisfied: grpcio>=1.8.6 in /usr/local/lib/python3.6/dist-packages (from tensorflow-gpu) (1.29.0)\n",
            "Requirement already satisfied: gast==0.3.3 in /usr/local/lib/python3.6/dist-packages (from tensorflow-gpu) (0.3.3)\n",
            "Requirement already satisfied: scipy==1.4.1; python_version >= \"3\" in /usr/local/lib/python3.6/dist-packages (from tensorflow-gpu) (1.4.1)\n",
            "Requirement already satisfied: termcolor>=1.1.0 in /usr/local/lib/python3.6/dist-packages (from tensorflow-gpu) (1.1.0)\n",
            "Requirement already satisfied: h5py<2.11.0,>=2.10.0 in /usr/local/lib/python3.6/dist-packages (from tensorflow-gpu) (2.10.0)\n",
            "Requirement already satisfied: protobuf>=3.8.0 in /usr/local/lib/python3.6/dist-packages (from tensorflow-gpu) (3.10.0)\n",
            "Requirement already satisfied: opt-einsum>=2.3.2 in /usr/local/lib/python3.6/dist-packages (from tensorflow-gpu) (3.2.1)\n",
            "Requirement already satisfied: numpy<2.0,>=1.16.0 in /usr/local/lib/python3.6/dist-packages (from tensorflow-gpu) (1.18.4)\n",
            "Requirement already satisfied: google-pasta>=0.1.8 in /usr/local/lib/python3.6/dist-packages (from tensorflow-gpu) (0.2.0)\n",
            "Requirement already satisfied: absl-py>=0.7.0 in /usr/local/lib/python3.6/dist-packages (from tensorflow-gpu) (0.9.0)\n",
            "Requirement already satisfied: wrapt>=1.11.1 in /usr/local/lib/python3.6/dist-packages (from tensorflow-gpu) (1.12.1)\n",
            "Requirement already satisfied: six>=1.12.0 in /usr/local/lib/python3.6/dist-packages (from tensorflow-gpu) (1.12.0)\n",
            "Requirement already satisfied: tensorboard<2.3.0,>=2.2.0 in /usr/local/lib/python3.6/dist-packages (from tensorflow-gpu) (2.2.1)\n",
            "Requirement already satisfied: astunparse==1.6.3 in /usr/local/lib/python3.6/dist-packages (from tensorflow-gpu) (1.6.3)\n",
            "Requirement already satisfied: setuptools in /usr/local/lib/python3.6/dist-packages (from protobuf>=3.8.0->tensorflow-gpu) (47.1.1)\n",
            "Requirement already satisfied: tensorboard-plugin-wit>=1.6.0 in /usr/local/lib/python3.6/dist-packages (from tensorboard<2.3.0,>=2.2.0->tensorflow-gpu) (1.6.0.post3)\n",
            "Requirement already satisfied: requests<3,>=2.21.0 in /usr/local/lib/python3.6/dist-packages (from tensorboard<2.3.0,>=2.2.0->tensorflow-gpu) (2.23.0)\n",
            "Requirement already satisfied: markdown>=2.6.8 in /usr/local/lib/python3.6/dist-packages (from tensorboard<2.3.0,>=2.2.0->tensorflow-gpu) (3.2.2)\n",
            "Requirement already satisfied: werkzeug>=0.11.15 in /usr/local/lib/python3.6/dist-packages (from tensorboard<2.3.0,>=2.2.0->tensorflow-gpu) (1.0.1)\n",
            "Requirement already satisfied: google-auth<2,>=1.6.3 in /usr/local/lib/python3.6/dist-packages (from tensorboard<2.3.0,>=2.2.0->tensorflow-gpu) (1.7.2)\n",
            "Requirement already satisfied: google-auth-oauthlib<0.5,>=0.4.1 in /usr/local/lib/python3.6/dist-packages (from tensorboard<2.3.0,>=2.2.0->tensorflow-gpu) (0.4.1)\n",
            "Requirement already satisfied: certifi>=2017.4.17 in /usr/local/lib/python3.6/dist-packages (from requests<3,>=2.21.0->tensorboard<2.3.0,>=2.2.0->tensorflow-gpu) (2020.4.5.1)\n",
            "Requirement already satisfied: urllib3!=1.25.0,!=1.25.1,<1.26,>=1.21.1 in /usr/local/lib/python3.6/dist-packages (from requests<3,>=2.21.0->tensorboard<2.3.0,>=2.2.0->tensorflow-gpu) (1.24.3)\n",
            "Requirement already satisfied: chardet<4,>=3.0.2 in /usr/local/lib/python3.6/dist-packages (from requests<3,>=2.21.0->tensorboard<2.3.0,>=2.2.0->tensorflow-gpu) (3.0.4)\n",
            "Requirement already satisfied: idna<3,>=2.5 in /usr/local/lib/python3.6/dist-packages (from requests<3,>=2.21.0->tensorboard<2.3.0,>=2.2.0->tensorflow-gpu) (2.9)\n",
            "Requirement already satisfied: importlib-metadata; python_version < \"3.8\" in /usr/local/lib/python3.6/dist-packages (from markdown>=2.6.8->tensorboard<2.3.0,>=2.2.0->tensorflow-gpu) (1.6.0)\n",
            "Requirement already satisfied: rsa<4.1,>=3.1.4 in /usr/local/lib/python3.6/dist-packages (from google-auth<2,>=1.6.3->tensorboard<2.3.0,>=2.2.0->tensorflow-gpu) (4.0)\n",
            "Requirement already satisfied: pyasn1-modules>=0.2.1 in /usr/local/lib/python3.6/dist-packages (from google-auth<2,>=1.6.3->tensorboard<2.3.0,>=2.2.0->tensorflow-gpu) (0.2.8)\n",
            "Requirement already satisfied: cachetools<3.2,>=2.0.0 in /usr/local/lib/python3.6/dist-packages (from google-auth<2,>=1.6.3->tensorboard<2.3.0,>=2.2.0->tensorflow-gpu) (3.1.1)\n",
            "Requirement already satisfied: requests-oauthlib>=0.7.0 in /usr/local/lib/python3.6/dist-packages (from google-auth-oauthlib<0.5,>=0.4.1->tensorboard<2.3.0,>=2.2.0->tensorflow-gpu) (1.3.0)\n",
            "Requirement already satisfied: zipp>=0.5 in /usr/local/lib/python3.6/dist-packages (from importlib-metadata; python_version < \"3.8\"->markdown>=2.6.8->tensorboard<2.3.0,>=2.2.0->tensorflow-gpu) (3.1.0)\n",
            "Requirement already satisfied: pyasn1>=0.1.3 in /usr/local/lib/python3.6/dist-packages (from rsa<4.1,>=3.1.4->google-auth<2,>=1.6.3->tensorboard<2.3.0,>=2.2.0->tensorflow-gpu) (0.4.8)\n",
            "Requirement already satisfied: oauthlib>=3.0.0 in /usr/local/lib/python3.6/dist-packages (from requests-oauthlib>=0.7.0->google-auth-oauthlib<0.5,>=0.4.1->tensorboard<2.3.0,>=2.2.0->tensorflow-gpu) (3.1.0)\n",
            "Installing collected packages: tensorflow-gpu\n",
            "Successfully installed tensorflow-gpu-2.2.0\n"
          ],
          "name": "stdout"
        }
      ]
    },
    {
      "cell_type": "code",
      "metadata": {
        "id": "llrLXqpcbt20",
        "colab_type": "code",
        "colab": {
          "base_uri": "https://localhost:8080/",
          "height": 255
        },
        "outputId": "ea882793-06a2-4537-df8b-6f00d1b6b854"
      },
      "source": [
        "!pip install mlxtend==0.17.0"
      ],
      "execution_count": 4,
      "outputs": [
        {
          "output_type": "stream",
          "text": [
            "Requirement already satisfied: mlxtend==0.17.0 in /usr/local/lib/python3.6/dist-packages (0.17.0)\n",
            "Requirement already satisfied: numpy>=1.16.2 in /usr/local/lib/python3.6/dist-packages (from mlxtend==0.17.0) (1.18.4)\n",
            "Requirement already satisfied: matplotlib>=3.0.0 in /usr/local/lib/python3.6/dist-packages (from mlxtend==0.17.0) (3.2.1)\n",
            "Requirement already satisfied: joblib>=0.13.2 in /usr/local/lib/python3.6/dist-packages (from mlxtend==0.17.0) (0.15.1)\n",
            "Requirement already satisfied: scikit-learn>=0.20.3 in /usr/local/lib/python3.6/dist-packages (from mlxtend==0.17.0) (0.22.2.post1)\n",
            "Requirement already satisfied: pandas>=0.24.2 in /usr/local/lib/python3.6/dist-packages (from mlxtend==0.17.0) (1.0.3)\n",
            "Requirement already satisfied: setuptools in /usr/local/lib/python3.6/dist-packages (from mlxtend==0.17.0) (47.1.1)\n",
            "Requirement already satisfied: scipy>=1.2.1 in /usr/local/lib/python3.6/dist-packages (from mlxtend==0.17.0) (1.4.1)\n",
            "Requirement already satisfied: pyparsing!=2.0.4,!=2.1.2,!=2.1.6,>=2.0.1 in /usr/local/lib/python3.6/dist-packages (from matplotlib>=3.0.0->mlxtend==0.17.0) (2.4.7)\n",
            "Requirement already satisfied: cycler>=0.10 in /usr/local/lib/python3.6/dist-packages (from matplotlib>=3.0.0->mlxtend==0.17.0) (0.10.0)\n",
            "Requirement already satisfied: kiwisolver>=1.0.1 in /usr/local/lib/python3.6/dist-packages (from matplotlib>=3.0.0->mlxtend==0.17.0) (1.2.0)\n",
            "Requirement already satisfied: python-dateutil>=2.1 in /usr/local/lib/python3.6/dist-packages (from matplotlib>=3.0.0->mlxtend==0.17.0) (2.8.1)\n",
            "Requirement already satisfied: pytz>=2017.2 in /usr/local/lib/python3.6/dist-packages (from pandas>=0.24.2->mlxtend==0.17.0) (2018.9)\n",
            "Requirement already satisfied: six in /usr/local/lib/python3.6/dist-packages (from cycler>=0.10->matplotlib>=3.0.0->mlxtend==0.17.0) (1.12.0)\n"
          ],
          "name": "stdout"
        }
      ]
    },
    {
      "cell_type": "code",
      "metadata": {
        "id": "UEgvWymEb_0t",
        "colab_type": "code",
        "colab": {
          "base_uri": "https://localhost:8080/",
          "height": 34
        },
        "outputId": "8ee17f78-47da-4260-caa8-6ba9ffd4ab97"
      },
      "source": [
        "import tensorflow as tf\n",
        "from tensorflow.keras import Sequential\n",
        "from tensorflow.keras.layers import  Flatten, Dense, Conv1D, MaxPool1D, Dropout\n",
        "from tensorflow.keras.layers import BatchNormalization\n",
        "from tensorflow.keras.optimizers import Adam\n",
        "print(tf.__version__)"
      ],
      "execution_count": 36,
      "outputs": [
        {
          "output_type": "stream",
          "text": [
            "2.2.0\n"
          ],
          "name": "stdout"
        }
      ]
    },
    {
      "cell_type": "code",
      "metadata": {
        "id": "b-N1a0mhb_7A",
        "colab_type": "code",
        "colab": {}
      },
      "source": [
        "import pandas as pd\n",
        "import numpy as np\n",
        "import matplotlib.pyplot as plt\n",
        "import matplotlib\n",
        "import warnings\n",
        "from sklearn.model_selection import train_test_split\n",
        "from sklearn.metrics import classification_report, confusion_matrix"
      ],
      "execution_count": 0,
      "outputs": []
    },
    {
      "cell_type": "code",
      "metadata": {
        "id": "6ml-5BbJkV3i",
        "colab_type": "code",
        "colab": {}
      },
      "source": [
        "pd.set_option('display.max_columns', None)\n",
        "warnings.filterwarnings('ignore')"
      ],
      "execution_count": 0,
      "outputs": []
    },
    {
      "cell_type": "markdown",
      "metadata": {
        "id": "2o7k-u_TlIxo",
        "colab_type": "text"
      },
      "source": [
        "# Get Data"
      ]
    },
    {
      "cell_type": "code",
      "metadata": {
        "id": "PL5UF5fnfq9D",
        "colab_type": "code",
        "colab": {
          "base_uri": "https://localhost:8080/",
          "height": 34
        },
        "outputId": "bf13ec03-8473-4aa6-a507-74e2a9e69359"
      },
      "source": [
        "#Get data\n",
        "df = pd.read_csv('/content/drive/My Drive/back_order_predictor_v2/derived_data/train_data_abt.csv')\n",
        "df.shape"
      ],
      "execution_count": 7,
      "outputs": [
        {
          "output_type": "execute_result",
          "data": {
            "text/plain": [
              "(2521286, 9)"
            ]
          },
          "metadata": {
            "tags": []
          },
          "execution_count": 7
        }
      ]
    },
    {
      "cell_type": "code",
      "metadata": {
        "id": "JygT5OTzlidc",
        "colab_type": "code",
        "colab": {
          "base_uri": "https://localhost:8080/",
          "height": 204
        },
        "outputId": "23c013a5-9846-4271-ddc9-5f023e1b52f0"
      },
      "source": [
        "df.head()"
      ],
      "execution_count": 8,
      "outputs": [
        {
          "output_type": "execute_result",
          "data": {
            "text/html": [
              "<div>\n",
              "<style scoped>\n",
              "    .dataframe tbody tr th:only-of-type {\n",
              "        vertical-align: middle;\n",
              "    }\n",
              "\n",
              "    .dataframe tbody tr th {\n",
              "        vertical-align: top;\n",
              "    }\n",
              "\n",
              "    .dataframe thead th {\n",
              "        text-align: right;\n",
              "    }\n",
              "</style>\n",
              "<table border=\"1\" class=\"dataframe\">\n",
              "  <thead>\n",
              "    <tr style=\"text-align: right;\">\n",
              "      <th></th>\n",
              "      <th>national_inv</th>\n",
              "      <th>in_transit_qty</th>\n",
              "      <th>sales_1_month</th>\n",
              "      <th>pieces_past_due</th>\n",
              "      <th>potential_issue_Yes</th>\n",
              "      <th>oe_constraint_Yes</th>\n",
              "      <th>ppap_risk_Yes</th>\n",
              "      <th>stop_auto_buy_Yes</th>\n",
              "      <th>backorder</th>\n",
              "    </tr>\n",
              "  </thead>\n",
              "  <tbody>\n",
              "    <tr>\n",
              "      <th>0</th>\n",
              "      <td>-0.005243</td>\n",
              "      <td>1.938134</td>\n",
              "      <td>1.458893</td>\n",
              "      <td>-0.127225</td>\n",
              "      <td>-0.023405</td>\n",
              "      <td>-0.012521</td>\n",
              "      <td>-0.367299</td>\n",
              "      <td>0.159142</td>\n",
              "      <td>0</td>\n",
              "    </tr>\n",
              "    <tr>\n",
              "      <th>1</th>\n",
              "      <td>-0.066974</td>\n",
              "      <td>-0.512815</td>\n",
              "      <td>1.286355</td>\n",
              "      <td>-0.127225</td>\n",
              "      <td>-0.023405</td>\n",
              "      <td>-0.012521</td>\n",
              "      <td>-0.367299</td>\n",
              "      <td>0.159142</td>\n",
              "      <td>0</td>\n",
              "    </tr>\n",
              "    <tr>\n",
              "      <th>2</th>\n",
              "      <td>1.043200</td>\n",
              "      <td>1.992982</td>\n",
              "      <td>1.696634</td>\n",
              "      <td>-0.127225</td>\n",
              "      <td>-0.023405</td>\n",
              "      <td>-0.012521</td>\n",
              "      <td>-0.367299</td>\n",
              "      <td>0.159142</td>\n",
              "      <td>0</td>\n",
              "    </tr>\n",
              "    <tr>\n",
              "      <th>3</th>\n",
              "      <td>0.148776</td>\n",
              "      <td>1.938134</td>\n",
              "      <td>1.154579</td>\n",
              "      <td>-0.127225</td>\n",
              "      <td>-0.023405</td>\n",
              "      <td>-0.012521</td>\n",
              "      <td>-0.367299</td>\n",
              "      <td>0.159142</td>\n",
              "      <td>0</td>\n",
              "    </tr>\n",
              "    <tr>\n",
              "      <th>4</th>\n",
              "      <td>-0.061233</td>\n",
              "      <td>-0.512815</td>\n",
              "      <td>-0.816526</td>\n",
              "      <td>-0.127225</td>\n",
              "      <td>-0.023405</td>\n",
              "      <td>-0.012521</td>\n",
              "      <td>-0.367299</td>\n",
              "      <td>0.159142</td>\n",
              "      <td>1</td>\n",
              "    </tr>\n",
              "  </tbody>\n",
              "</table>\n",
              "</div>"
            ],
            "text/plain": [
              "   national_inv  in_transit_qty  sales_1_month  pieces_past_due  \\\n",
              "0     -0.005243        1.938134       1.458893        -0.127225   \n",
              "1     -0.066974       -0.512815       1.286355        -0.127225   \n",
              "2      1.043200        1.992982       1.696634        -0.127225   \n",
              "3      0.148776        1.938134       1.154579        -0.127225   \n",
              "4     -0.061233       -0.512815      -0.816526        -0.127225   \n",
              "\n",
              "   potential_issue_Yes  oe_constraint_Yes  ppap_risk_Yes  stop_auto_buy_Yes  \\\n",
              "0            -0.023405          -0.012521      -0.367299           0.159142   \n",
              "1            -0.023405          -0.012521      -0.367299           0.159142   \n",
              "2            -0.023405          -0.012521      -0.367299           0.159142   \n",
              "3            -0.023405          -0.012521      -0.367299           0.159142   \n",
              "4            -0.023405          -0.012521      -0.367299           0.159142   \n",
              "\n",
              "   backorder  \n",
              "0          0  \n",
              "1          0  \n",
              "2          0  \n",
              "3          0  \n",
              "4          1  "
            ]
          },
          "metadata": {
            "tags": []
          },
          "execution_count": 8
        }
      ]
    },
    {
      "cell_type": "code",
      "metadata": {
        "id": "6hhed58sIHc1",
        "colab_type": "code",
        "colab": {
          "base_uri": "https://localhost:8080/",
          "height": 34
        },
        "outputId": "1deb64d3-f887-4679-a088-c836e38182e0"
      },
      "source": [
        "#Sample data to manage training time\n",
        "data = df.sample(frac=0.01, random_state=7)\n",
        "print(data.shape)"
      ],
      "execution_count": 56,
      "outputs": [
        {
          "output_type": "stream",
          "text": [
            "(25213, 9)\n"
          ],
          "name": "stdout"
        }
      ]
    },
    {
      "cell_type": "code",
      "metadata": {
        "id": "gBOq9jcVlR1m",
        "colab_type": "code",
        "colab": {
          "base_uri": "https://localhost:8080/",
          "height": 34
        },
        "outputId": "f7f262f7-9987-43d8-c3a2-cf26d1aa0c5a"
      },
      "source": [
        "X = data.drop([\"backorder\"], axis = 1)\n",
        "y= data.backorder\n",
        "print(X.shape, y.shape)"
      ],
      "execution_count": 57,
      "outputs": [
        {
          "output_type": "stream",
          "text": [
            "(25213, 8) (25213,)\n"
          ],
          "name": "stdout"
        }
      ]
    },
    {
      "cell_type": "code",
      "metadata": {
        "id": "f0dYUL1QfrAq",
        "colab_type": "code",
        "colab": {
          "base_uri": "https://localhost:8080/",
          "height": 34
        },
        "outputId": "e8746f15-7ae9-4f3a-cef9-4b5a2acb367b"
      },
      "source": [
        "#Split data\n",
        "#Train, test split\n",
        "#Set stratify = yes so we can ensre same ratio of target instances\n",
        "X_train, X_test, y_train, y_test = train_test_split(X,y, test_size=0.2, random_state = 7, stratify=y)\n",
        "print(X_train.shape, X_test.shape)"
      ],
      "execution_count": 58,
      "outputs": [
        {
          "output_type": "stream",
          "text": [
            "(20170, 8) (5043, 8)\n"
          ],
          "name": "stdout"
        }
      ]
    },
    {
      "cell_type": "code",
      "metadata": {
        "id": "PSuu3kWkKNT7",
        "colab_type": "code",
        "colab": {
          "base_uri": "https://localhost:8080/",
          "height": 419
        },
        "outputId": "8786a92d-fa09-4655-cfaa-9a82377fed1d"
      },
      "source": [
        "X_train"
      ],
      "execution_count": 59,
      "outputs": [
        {
          "output_type": "execute_result",
          "data": {
            "text/html": [
              "<div>\n",
              "<style scoped>\n",
              "    .dataframe tbody tr th:only-of-type {\n",
              "        vertical-align: middle;\n",
              "    }\n",
              "\n",
              "    .dataframe tbody tr th {\n",
              "        vertical-align: top;\n",
              "    }\n",
              "\n",
              "    .dataframe thead th {\n",
              "        text-align: right;\n",
              "    }\n",
              "</style>\n",
              "<table border=\"1\" class=\"dataframe\">\n",
              "  <thead>\n",
              "    <tr style=\"text-align: right;\">\n",
              "      <th></th>\n",
              "      <th>national_inv</th>\n",
              "      <th>in_transit_qty</th>\n",
              "      <th>sales_1_month</th>\n",
              "      <th>pieces_past_due</th>\n",
              "      <th>potential_issue_Yes</th>\n",
              "      <th>oe_constraint_Yes</th>\n",
              "      <th>ppap_risk_Yes</th>\n",
              "      <th>stop_auto_buy_Yes</th>\n",
              "    </tr>\n",
              "  </thead>\n",
              "  <tbody>\n",
              "    <tr>\n",
              "      <th>72012</th>\n",
              "      <td>-0.061233</td>\n",
              "      <td>-0.512815</td>\n",
              "      <td>-0.816526</td>\n",
              "      <td>-0.127225</td>\n",
              "      <td>-0.023405</td>\n",
              "      <td>-0.012521</td>\n",
              "      <td>-0.367299</td>\n",
              "      <td>0.159142</td>\n",
              "    </tr>\n",
              "    <tr>\n",
              "      <th>307970</th>\n",
              "      <td>0.213485</td>\n",
              "      <td>-0.512815</td>\n",
              "      <td>-0.816526</td>\n",
              "      <td>-0.127225</td>\n",
              "      <td>-0.023405</td>\n",
              "      <td>-0.012521</td>\n",
              "      <td>-0.367299</td>\n",
              "      <td>0.159142</td>\n",
              "    </tr>\n",
              "    <tr>\n",
              "      <th>1695721</th>\n",
              "      <td>-0.068139</td>\n",
              "      <td>2.119238</td>\n",
              "      <td>1.694497</td>\n",
              "      <td>-0.127225</td>\n",
              "      <td>-0.023405</td>\n",
              "      <td>-0.012521</td>\n",
              "      <td>-0.367299</td>\n",
              "      <td>0.159142</td>\n",
              "    </tr>\n",
              "    <tr>\n",
              "      <th>1630290</th>\n",
              "      <td>-0.060434</td>\n",
              "      <td>-0.512815</td>\n",
              "      <td>0.904437</td>\n",
              "      <td>-0.127225</td>\n",
              "      <td>-0.023405</td>\n",
              "      <td>-0.012521</td>\n",
              "      <td>-0.367299</td>\n",
              "      <td>0.159142</td>\n",
              "    </tr>\n",
              "    <tr>\n",
              "      <th>1874746</th>\n",
              "      <td>-0.058955</td>\n",
              "      <td>-0.512815</td>\n",
              "      <td>-0.816526</td>\n",
              "      <td>-0.127225</td>\n",
              "      <td>-0.023405</td>\n",
              "      <td>-0.012521</td>\n",
              "      <td>-0.367299</td>\n",
              "      <td>0.159142</td>\n",
              "    </tr>\n",
              "    <tr>\n",
              "      <th>...</th>\n",
              "      <td>...</td>\n",
              "      <td>...</td>\n",
              "      <td>...</td>\n",
              "      <td>...</td>\n",
              "      <td>...</td>\n",
              "      <td>...</td>\n",
              "      <td>...</td>\n",
              "      <td>...</td>\n",
              "    </tr>\n",
              "    <tr>\n",
              "      <th>824892</th>\n",
              "      <td>-0.056934</td>\n",
              "      <td>-0.512815</td>\n",
              "      <td>0.756950</td>\n",
              "      <td>-0.127225</td>\n",
              "      <td>-0.023405</td>\n",
              "      <td>-0.012521</td>\n",
              "      <td>-0.367299</td>\n",
              "      <td>0.159142</td>\n",
              "    </tr>\n",
              "    <tr>\n",
              "      <th>1133996</th>\n",
              "      <td>-0.058955</td>\n",
              "      <td>-0.512815</td>\n",
              "      <td>-0.816526</td>\n",
              "      <td>-0.127225</td>\n",
              "      <td>-0.023405</td>\n",
              "      <td>-0.012521</td>\n",
              "      <td>2.722579</td>\n",
              "      <td>-6.283682</td>\n",
              "    </tr>\n",
              "    <tr>\n",
              "      <th>86301</th>\n",
              "      <td>0.001558</td>\n",
              "      <td>1.530063</td>\n",
              "      <td>1.010393</td>\n",
              "      <td>-0.127225</td>\n",
              "      <td>-0.023405</td>\n",
              "      <td>-0.012521</td>\n",
              "      <td>-0.367299</td>\n",
              "      <td>0.159142</td>\n",
              "    </tr>\n",
              "    <tr>\n",
              "      <th>73140</th>\n",
              "      <td>-0.054480</td>\n",
              "      <td>-0.512815</td>\n",
              "      <td>0.533298</td>\n",
              "      <td>-0.127225</td>\n",
              "      <td>-0.023405</td>\n",
              "      <td>-0.012521</td>\n",
              "      <td>-0.367299</td>\n",
              "      <td>0.159142</td>\n",
              "    </tr>\n",
              "    <tr>\n",
              "      <th>524635</th>\n",
              "      <td>-0.064108</td>\n",
              "      <td>-0.512815</td>\n",
              "      <td>-0.816526</td>\n",
              "      <td>-0.127225</td>\n",
              "      <td>-0.023405</td>\n",
              "      <td>-0.012521</td>\n",
              "      <td>-0.367299</td>\n",
              "      <td>0.159142</td>\n",
              "    </tr>\n",
              "  </tbody>\n",
              "</table>\n",
              "<p>20170 rows × 8 columns</p>\n",
              "</div>"
            ],
            "text/plain": [
              "         national_inv  in_transit_qty  sales_1_month  pieces_past_due  \\\n",
              "72012       -0.061233       -0.512815      -0.816526        -0.127225   \n",
              "307970       0.213485       -0.512815      -0.816526        -0.127225   \n",
              "1695721     -0.068139        2.119238       1.694497        -0.127225   \n",
              "1630290     -0.060434       -0.512815       0.904437        -0.127225   \n",
              "1874746     -0.058955       -0.512815      -0.816526        -0.127225   \n",
              "...               ...             ...            ...              ...   \n",
              "824892      -0.056934       -0.512815       0.756950        -0.127225   \n",
              "1133996     -0.058955       -0.512815      -0.816526        -0.127225   \n",
              "86301        0.001558        1.530063       1.010393        -0.127225   \n",
              "73140       -0.054480       -0.512815       0.533298        -0.127225   \n",
              "524635      -0.064108       -0.512815      -0.816526        -0.127225   \n",
              "\n",
              "         potential_issue_Yes  oe_constraint_Yes  ppap_risk_Yes  \\\n",
              "72012              -0.023405          -0.012521      -0.367299   \n",
              "307970             -0.023405          -0.012521      -0.367299   \n",
              "1695721            -0.023405          -0.012521      -0.367299   \n",
              "1630290            -0.023405          -0.012521      -0.367299   \n",
              "1874746            -0.023405          -0.012521      -0.367299   \n",
              "...                      ...                ...            ...   \n",
              "824892             -0.023405          -0.012521      -0.367299   \n",
              "1133996            -0.023405          -0.012521       2.722579   \n",
              "86301              -0.023405          -0.012521      -0.367299   \n",
              "73140              -0.023405          -0.012521      -0.367299   \n",
              "524635             -0.023405          -0.012521      -0.367299   \n",
              "\n",
              "         stop_auto_buy_Yes  \n",
              "72012             0.159142  \n",
              "307970            0.159142  \n",
              "1695721           0.159142  \n",
              "1630290           0.159142  \n",
              "1874746           0.159142  \n",
              "...                    ...  \n",
              "824892            0.159142  \n",
              "1133996          -6.283682  \n",
              "86301             0.159142  \n",
              "73140             0.159142  \n",
              "524635            0.159142  \n",
              "\n",
              "[20170 rows x 8 columns]"
            ]
          },
          "metadata": {
            "tags": []
          },
          "execution_count": 59
        }
      ]
    },
    {
      "cell_type": "code",
      "metadata": {
        "id": "KXM2Z5YqfrD7",
        "colab_type": "code",
        "colab": {}
      },
      "source": [
        "#Create list of classes\n",
        "classes_name = ['backorder', 'not_backorder']"
      ],
      "execution_count": 0,
      "outputs": []
    },
    {
      "cell_type": "code",
      "metadata": {
        "id": "n1b-24EnfrGw",
        "colab_type": "code",
        "colab": {
          "base_uri": "https://localhost:8080/",
          "height": 697
        },
        "outputId": "60b851ea-bfe4-49f9-f43d-2ad9e61ebbe6"
      },
      "source": [
        "#Sanity check our data is already standardized (Standardization is necessary to train a cnn)\n",
        "X_train.max"
      ],
      "execution_count": 60,
      "outputs": [
        {
          "output_type": "execute_result",
          "data": {
            "text/plain": [
              "<bound method DataFrame.max of          national_inv  in_transit_qty  sales_1_month  pieces_past_due  \\\n",
              "72012       -0.061233       -0.512815      -0.816526        -0.127225   \n",
              "307970       0.213485       -0.512815      -0.816526        -0.127225   \n",
              "1695721     -0.068139        2.119238       1.694497        -0.127225   \n",
              "1630290     -0.060434       -0.512815       0.904437        -0.127225   \n",
              "1874746     -0.058955       -0.512815      -0.816526        -0.127225   \n",
              "...               ...             ...            ...              ...   \n",
              "824892      -0.056934       -0.512815       0.756950        -0.127225   \n",
              "1133996     -0.058955       -0.512815      -0.816526        -0.127225   \n",
              "86301        0.001558        1.530063       1.010393        -0.127225   \n",
              "73140       -0.054480       -0.512815       0.533298        -0.127225   \n",
              "524635      -0.064108       -0.512815      -0.816526        -0.127225   \n",
              "\n",
              "         potential_issue_Yes  oe_constraint_Yes  ppap_risk_Yes  \\\n",
              "72012              -0.023405          -0.012521      -0.367299   \n",
              "307970             -0.023405          -0.012521      -0.367299   \n",
              "1695721            -0.023405          -0.012521      -0.367299   \n",
              "1630290            -0.023405          -0.012521      -0.367299   \n",
              "1874746            -0.023405          -0.012521      -0.367299   \n",
              "...                      ...                ...            ...   \n",
              "824892             -0.023405          -0.012521      -0.367299   \n",
              "1133996            -0.023405          -0.012521       2.722579   \n",
              "86301              -0.023405          -0.012521      -0.367299   \n",
              "73140              -0.023405          -0.012521      -0.367299   \n",
              "524635             -0.023405          -0.012521      -0.367299   \n",
              "\n",
              "         stop_auto_buy_Yes  \n",
              "72012             0.159142  \n",
              "307970            0.159142  \n",
              "1695721           0.159142  \n",
              "1630290           0.159142  \n",
              "1874746           0.159142  \n",
              "...                    ...  \n",
              "824892            0.159142  \n",
              "1133996          -6.283682  \n",
              "86301             0.159142  \n",
              "73140             0.159142  \n",
              "524635            0.159142  \n",
              "\n",
              "[20170 rows x 8 columns]>"
            ]
          },
          "metadata": {
            "tags": []
          },
          "execution_count": 60
        }
      ]
    },
    {
      "cell_type": "code",
      "metadata": {
        "id": "wiNj4uTgKk-X",
        "colab_type": "code",
        "colab": {}
      },
      "source": [
        "#Convert y_train, and y_test to numpy arrays\n",
        "X_train = X_train.to_numpy()\n",
        "X_test = X_test.to_numpy()\n",
        "y_train = y_train.to_numpy()\n",
        "y_test = y_test.to_numpy()"
      ],
      "execution_count": 0,
      "outputs": []
    },
    {
      "cell_type": "markdown",
      "metadata": {
        "id": "7mJo4WBILNu2",
        "colab_type": "text"
      },
      "source": [
        "# Reshape Data\n",
        "\n",
        "Not that a cnn must take a 3 dimensional input during training\n",
        "\n",
        "Since our training data is currently in 2 dimensions, we'll reshape it to 3 dimensions as below:"
      ]
    },
    {
      "cell_type": "code",
      "metadata": {
        "id": "onQYVkkILL-L",
        "colab_type": "code",
        "colab": {
          "base_uri": "https://localhost:8080/",
          "height": 34
        },
        "outputId": "50d18f78-2eee-4e58-e7f6-07dad145ded7"
      },
      "source": [
        "X_train.shape"
      ],
      "execution_count": 62,
      "outputs": [
        {
          "output_type": "execute_result",
          "data": {
            "text/plain": [
              "(20170, 8)"
            ]
          },
          "metadata": {
            "tags": []
          },
          "execution_count": 62
        }
      ]
    },
    {
      "cell_type": "code",
      "metadata": {
        "id": "c17lCofELH7x",
        "colab_type": "code",
        "colab": {}
      },
      "source": [
        "#Reshaping\n",
        "X_train = X_train.reshape(X_train.shape[0], X_train.shape[1], 1)\n",
        "X_test = X_test.reshape(X_test.shape[0], X_test.shape[1], 1)"
      ],
      "execution_count": 0,
      "outputs": []
    },
    {
      "cell_type": "code",
      "metadata": {
        "id": "20MBItsON81B",
        "colab_type": "code",
        "colab": {
          "base_uri": "https://localhost:8080/",
          "height": 34
        },
        "outputId": "a2a289e3-bb03-402f-cd1d-faecd571daee"
      },
      "source": [
        "#Sanity check we have 3 dimensional data\n",
        "print(X_train.shape, X_test.shape)"
      ],
      "execution_count": 64,
      "outputs": [
        {
          "output_type": "stream",
          "text": [
            "(20170, 8, 1) (5043, 8, 1)\n"
          ],
          "name": "stdout"
        }
      ]
    },
    {
      "cell_type": "markdown",
      "metadata": {
        "id": "DXPZCPIlOIOC",
        "colab_type": "text"
      },
      "source": [
        "Now the reshaping is done, we're ready to build our cnn as below"
      ]
    },
    {
      "cell_type": "markdown",
      "metadata": {
        "id": "zeS5K4hVnr3M",
        "colab_type": "text"
      },
      "source": [
        "# CNN Model Building\n",
        "\n",
        "Building a cnn model requires:\n",
        "\n",
        "  1. A sequential object, i.e. sequential\n",
        "  2. Add the convulutional, flattern, and dense layers\n",
        "\n"
      ]
    },
    {
      "cell_type": "code",
      "metadata": {
        "id": "sMD-r8ewnoa9",
        "colab_type": "code",
        "colab": {}
      },
      "source": [
        "'''Define first layer'''\n",
        "#Define number of epochs\n",
        "epochs = 20\n",
        "#Get sequential object\n",
        "model = Sequential()\n",
        "#Add conv, flat, and dens layers\n",
        "model.add(Conv1D(filters=32, kernel_size=2, activation='relu', input_shape= X_train[0].shape))\n",
        "#Add batch normalization\n",
        "model.add(BatchNormalization())\n",
        "#Add dropout\n",
        "model.add(Dropout(0.2)) #Twenty percent of nuerons will be dropped after first layer\n",
        "\n",
        "\n",
        "'''Define second layer'''\n",
        "#Add conv, flat, and dens layers\n",
        "model.add(Conv1D(filters=64, kernel_size=2, activation='relu'))\n",
        "#Add batch normalization\n",
        "model.add(BatchNormalization())\n",
        "#Add dropout\n",
        "model.add(Dropout(0.5)) #Fifty percent of nuerons will be dropped after second layer\n",
        "\n",
        "#Convert our multidimensional data into a vector with a flattening layer\n",
        "model.add(Flatten())\n",
        "model.add(Dense(64, activation='relu'))\n",
        "model.add(Dropout(0.5))\n",
        "\n",
        "model.add(Dense(1, activation='sigmoid')) #Using sigmoid because we have a binary classification roblem"
      ],
      "execution_count": 0,
      "outputs": []
    },
    {
      "cell_type": "code",
      "metadata": {
        "id": "3sHDOOXoScwN",
        "colab_type": "code",
        "colab": {
          "base_uri": "https://localhost:8080/",
          "height": 493
        },
        "outputId": "9fcfa0a6-0c8e-4048-b649-77b028fdce07"
      },
      "source": [
        "#Get model summary\n",
        "model.summary()"
      ],
      "execution_count": 84,
      "outputs": [
        {
          "output_type": "stream",
          "text": [
            "Model: \"sequential_6\"\n",
            "_________________________________________________________________\n",
            "Layer (type)                 Output Shape              Param #   \n",
            "=================================================================\n",
            "conv1d_10 (Conv1D)           (None, 7, 32)             96        \n",
            "_________________________________________________________________\n",
            "batch_normalization_10 (Batc (None, 7, 32)             128       \n",
            "_________________________________________________________________\n",
            "dropout_15 (Dropout)         (None, 7, 32)             0         \n",
            "_________________________________________________________________\n",
            "conv1d_11 (Conv1D)           (None, 6, 64)             4160      \n",
            "_________________________________________________________________\n",
            "batch_normalization_11 (Batc (None, 6, 64)             256       \n",
            "_________________________________________________________________\n",
            "dropout_16 (Dropout)         (None, 6, 64)             0         \n",
            "_________________________________________________________________\n",
            "flatten_5 (Flatten)          (None, 384)               0         \n",
            "_________________________________________________________________\n",
            "dense_10 (Dense)             (None, 64)                24640     \n",
            "_________________________________________________________________\n",
            "dropout_17 (Dropout)         (None, 64)                0         \n",
            "_________________________________________________________________\n",
            "dense_11 (Dense)             (None, 1)                 65        \n",
            "=================================================================\n",
            "Total params: 29,345\n",
            "Trainable params: 29,153\n",
            "Non-trainable params: 192\n",
            "_________________________________________________________________\n"
          ],
          "name": "stdout"
        }
      ]
    },
    {
      "cell_type": "markdown",
      "metadata": {
        "id": "I5KA7me8Ss0S",
        "colab_type": "text"
      },
      "source": [
        "We see that we get a total of 29,345 parameters\n",
        "\n",
        "Let's compile our model"
      ]
    },
    {
      "cell_type": "code",
      "metadata": {
        "id": "Hmase3OtScz4",
        "colab_type": "code",
        "colab": {}
      },
      "source": [
        "#Compile model\n",
        "model.compile(optimizer=Adam(lr=0.0001), loss= 'binary_crossentropy', metrics= ['accuracy'])"
      ],
      "execution_count": 0,
      "outputs": []
    },
    {
      "cell_type": "markdown",
      "metadata": {
        "id": "G0bbBpyITy9t",
        "colab_type": "text"
      },
      "source": [
        "Now our model has been compiled, we can proceed with the training step\n",
        "\n",
        "# Model Training"
      ]
    },
    {
      "cell_type": "code",
      "metadata": {
        "id": "gHOt8-FYSc24",
        "colab_type": "code",
        "colab": {
          "base_uri": "https://localhost:8080/",
          "height": 697
        },
        "outputId": "d000548a-37e7-415d-a3df-ba8257820782"
      },
      "source": [
        "history = model.fit(X_train, y_train, epochs=epochs, validation_data= (X_test, y_test), \n",
        "                    verbose=1)"
      ],
      "execution_count": 86,
      "outputs": [
        {
          "output_type": "stream",
          "text": [
            "Epoch 1/20\n",
            "631/631 [==============================] - 4s 7ms/step - loss: 0.7651 - accuracy: 0.6213 - val_loss: 0.6248 - val_accuracy: 0.6996\n",
            "Epoch 2/20\n",
            "631/631 [==============================] - 4s 7ms/step - loss: 0.6870 - accuracy: 0.6538 - val_loss: 0.6384 - val_accuracy: 0.7006\n",
            "Epoch 3/20\n",
            "631/631 [==============================] - 4s 7ms/step - loss: 0.6648 - accuracy: 0.6640 - val_loss: 0.6402 - val_accuracy: 0.7101\n",
            "Epoch 4/20\n",
            "631/631 [==============================] - 4s 7ms/step - loss: 0.6442 - accuracy: 0.6720 - val_loss: 0.6370 - val_accuracy: 0.7097\n",
            "Epoch 5/20\n",
            "631/631 [==============================] - 5s 7ms/step - loss: 0.6315 - accuracy: 0.6791 - val_loss: 0.6322 - val_accuracy: 0.7103\n",
            "Epoch 6/20\n",
            "631/631 [==============================] - 5s 7ms/step - loss: 0.6276 - accuracy: 0.6831 - val_loss: 0.6337 - val_accuracy: 0.7099\n",
            "Epoch 7/20\n",
            "631/631 [==============================] - 4s 7ms/step - loss: 0.6234 - accuracy: 0.6862 - val_loss: 0.6388 - val_accuracy: 0.7103\n",
            "Epoch 8/20\n",
            "631/631 [==============================] - 4s 7ms/step - loss: 0.6168 - accuracy: 0.6919 - val_loss: 0.6357 - val_accuracy: 0.7107\n",
            "Epoch 9/20\n",
            "631/631 [==============================] - 4s 7ms/step - loss: 0.6131 - accuracy: 0.6909 - val_loss: 0.6234 - val_accuracy: 0.7109\n",
            "Epoch 10/20\n",
            "631/631 [==============================] - 4s 7ms/step - loss: 0.6103 - accuracy: 0.6919 - val_loss: 0.6249 - val_accuracy: 0.7115\n",
            "Epoch 11/20\n",
            "631/631 [==============================] - 4s 7ms/step - loss: 0.6101 - accuracy: 0.6937 - val_loss: 0.6177 - val_accuracy: 0.7121\n",
            "Epoch 12/20\n",
            "631/631 [==============================] - 4s 7ms/step - loss: 0.6077 - accuracy: 0.6983 - val_loss: 0.6146 - val_accuracy: 0.7115\n",
            "Epoch 13/20\n",
            "631/631 [==============================] - 4s 7ms/step - loss: 0.6012 - accuracy: 0.6973 - val_loss: 0.6153 - val_accuracy: 0.7115\n",
            "Epoch 14/20\n",
            "631/631 [==============================] - 4s 7ms/step - loss: 0.6050 - accuracy: 0.7004 - val_loss: 0.6054 - val_accuracy: 0.7133\n",
            "Epoch 15/20\n",
            "631/631 [==============================] - 4s 7ms/step - loss: 0.5992 - accuracy: 0.7001 - val_loss: 0.6012 - val_accuracy: 0.7145\n",
            "Epoch 16/20\n",
            "631/631 [==============================] - 4s 7ms/step - loss: 0.5979 - accuracy: 0.7045 - val_loss: 0.6020 - val_accuracy: 0.7133\n",
            "Epoch 17/20\n",
            "631/631 [==============================] - 4s 7ms/step - loss: 0.5969 - accuracy: 0.7040 - val_loss: 0.6079 - val_accuracy: 0.7133\n",
            "Epoch 18/20\n",
            "631/631 [==============================] - 4s 7ms/step - loss: 0.5914 - accuracy: 0.7045 - val_loss: 0.6048 - val_accuracy: 0.7149\n",
            "Epoch 19/20\n",
            "631/631 [==============================] - 4s 7ms/step - loss: 0.5918 - accuracy: 0.7055 - val_loss: 0.5851 - val_accuracy: 0.7224\n",
            "Epoch 20/20\n",
            "631/631 [==============================] - 4s 7ms/step - loss: 0.5881 - accuracy: 0.7108 - val_loss: 0.5913 - val_accuracy: 0.7202\n"
          ],
          "name": "stdout"
        }
      ]
    },
    {
      "cell_type": "markdown",
      "metadata": {
        "id": "pAw3jGBAVZKf",
        "colab_type": "text"
      },
      "source": [
        "Because at 20 epochs our validation accuracy is 72.48% while our training accuracy is 66.12%  (lower than validation ccuracy), we do not appear to be overfitting\n",
        "\n",
        "Let's increase the number of epochsto 50 and observe performance"
      ]
    },
    {
      "cell_type": "code",
      "metadata": {
        "id": "JYPb8DUeSc6J",
        "colab_type": "code",
        "colab": {
          "base_uri": "https://localhost:8080/",
          "height": 1000
        },
        "outputId": "8b92b57e-85d1-48ce-dd85-f57ca9b755c1"
      },
      "source": [
        "history = model.fit(X_train, y_train, epochs=50, validation_data= (X_test, y_test), \n",
        "                    verbose=1)"
      ],
      "execution_count": 39,
      "outputs": [
        {
          "output_type": "stream",
          "text": [
            "Epoch 1/50\n",
            "63/63 [==============================] - 0s 6ms/step - loss: 0.6993 - accuracy: 0.6498 - val_loss: 0.6048 - val_accuracy: 0.7248\n",
            "Epoch 2/50\n",
            "63/63 [==============================] - 0s 6ms/step - loss: 0.6607 - accuracy: 0.6781 - val_loss: 0.6039 - val_accuracy: 0.7248\n",
            "Epoch 3/50\n",
            "63/63 [==============================] - 0s 5ms/step - loss: 0.6820 - accuracy: 0.6602 - val_loss: 0.6067 - val_accuracy: 0.7248\n",
            "Epoch 4/50\n",
            "63/63 [==============================] - 0s 6ms/step - loss: 0.6675 - accuracy: 0.6701 - val_loss: 0.6070 - val_accuracy: 0.7248\n",
            "Epoch 5/50\n",
            "63/63 [==============================] - 0s 6ms/step - loss: 0.6626 - accuracy: 0.6696 - val_loss: 0.6063 - val_accuracy: 0.7248\n",
            "Epoch 6/50\n",
            "63/63 [==============================] - 0s 6ms/step - loss: 0.6529 - accuracy: 0.6761 - val_loss: 0.6054 - val_accuracy: 0.7248\n",
            "Epoch 7/50\n",
            "63/63 [==============================] - 0s 5ms/step - loss: 0.6601 - accuracy: 0.6731 - val_loss: 0.6054 - val_accuracy: 0.7267\n",
            "Epoch 8/50\n",
            "63/63 [==============================] - 0s 6ms/step - loss: 0.6579 - accuracy: 0.6711 - val_loss: 0.6050 - val_accuracy: 0.7267\n",
            "Epoch 9/50\n",
            "63/63 [==============================] - 0s 6ms/step - loss: 0.6489 - accuracy: 0.6835 - val_loss: 0.6078 - val_accuracy: 0.7267\n",
            "Epoch 10/50\n",
            "63/63 [==============================] - 0s 6ms/step - loss: 0.6735 - accuracy: 0.6632 - val_loss: 0.6076 - val_accuracy: 0.7267\n",
            "Epoch 11/50\n",
            "63/63 [==============================] - 0s 5ms/step - loss: 0.6569 - accuracy: 0.6736 - val_loss: 0.6081 - val_accuracy: 0.7267\n",
            "Epoch 12/50\n",
            "63/63 [==============================] - 0s 5ms/step - loss: 0.6590 - accuracy: 0.6791 - val_loss: 0.6092 - val_accuracy: 0.7267\n",
            "Epoch 13/50\n",
            "63/63 [==============================] - 0s 6ms/step - loss: 0.6503 - accuracy: 0.6751 - val_loss: 0.6087 - val_accuracy: 0.7267\n",
            "Epoch 14/50\n",
            "63/63 [==============================] - 0s 5ms/step - loss: 0.6598 - accuracy: 0.6691 - val_loss: 0.6106 - val_accuracy: 0.7267\n",
            "Epoch 15/50\n",
            "63/63 [==============================] - 0s 6ms/step - loss: 0.6553 - accuracy: 0.6771 - val_loss: 0.6111 - val_accuracy: 0.7248\n",
            "Epoch 16/50\n",
            "63/63 [==============================] - 0s 6ms/step - loss: 0.6221 - accuracy: 0.6910 - val_loss: 0.6104 - val_accuracy: 0.7267\n",
            "Epoch 17/50\n",
            "63/63 [==============================] - 0s 6ms/step - loss: 0.6499 - accuracy: 0.6830 - val_loss: 0.6117 - val_accuracy: 0.7248\n",
            "Epoch 18/50\n",
            "63/63 [==============================] - 0s 5ms/step - loss: 0.6286 - accuracy: 0.6935 - val_loss: 0.6150 - val_accuracy: 0.7248\n",
            "Epoch 19/50\n",
            "63/63 [==============================] - 0s 6ms/step - loss: 0.6485 - accuracy: 0.6825 - val_loss: 0.6159 - val_accuracy: 0.7248\n",
            "Epoch 20/50\n",
            "63/63 [==============================] - 0s 6ms/step - loss: 0.6440 - accuracy: 0.6845 - val_loss: 0.6159 - val_accuracy: 0.7248\n",
            "Epoch 21/50\n",
            "63/63 [==============================] - 0s 6ms/step - loss: 0.6433 - accuracy: 0.6815 - val_loss: 0.6155 - val_accuracy: 0.7267\n",
            "Epoch 22/50\n",
            "63/63 [==============================] - 0s 6ms/step - loss: 0.6328 - accuracy: 0.6865 - val_loss: 0.6122 - val_accuracy: 0.7267\n",
            "Epoch 23/50\n",
            "63/63 [==============================] - 0s 6ms/step - loss: 0.6249 - accuracy: 0.6885 - val_loss: 0.6123 - val_accuracy: 0.7267\n",
            "Epoch 24/50\n",
            "63/63 [==============================] - 0s 6ms/step - loss: 0.6252 - accuracy: 0.6925 - val_loss: 0.6112 - val_accuracy: 0.7267\n",
            "Epoch 25/50\n",
            "63/63 [==============================] - 0s 6ms/step - loss: 0.6355 - accuracy: 0.6791 - val_loss: 0.6114 - val_accuracy: 0.7267\n",
            "Epoch 26/50\n",
            "63/63 [==============================] - 0s 5ms/step - loss: 0.6302 - accuracy: 0.6860 - val_loss: 0.6101 - val_accuracy: 0.7267\n",
            "Epoch 27/50\n",
            "63/63 [==============================] - 0s 6ms/step - loss: 0.6321 - accuracy: 0.6895 - val_loss: 0.6102 - val_accuracy: 0.7267\n",
            "Epoch 28/50\n",
            "63/63 [==============================] - 0s 6ms/step - loss: 0.6289 - accuracy: 0.6890 - val_loss: 0.6123 - val_accuracy: 0.7267\n",
            "Epoch 29/50\n",
            "63/63 [==============================] - 0s 5ms/step - loss: 0.6373 - accuracy: 0.6875 - val_loss: 0.6102 - val_accuracy: 0.7248\n",
            "Epoch 30/50\n",
            "63/63 [==============================] - 0s 6ms/step - loss: 0.6288 - accuracy: 0.7014 - val_loss: 0.6110 - val_accuracy: 0.7248\n",
            "Epoch 31/50\n",
            "63/63 [==============================] - 0s 6ms/step - loss: 0.6120 - accuracy: 0.7054 - val_loss: 0.6093 - val_accuracy: 0.7267\n",
            "Epoch 32/50\n",
            "63/63 [==============================] - 0s 6ms/step - loss: 0.6095 - accuracy: 0.7039 - val_loss: 0.6092 - val_accuracy: 0.7267\n",
            "Epoch 33/50\n",
            "63/63 [==============================] - 0s 6ms/step - loss: 0.6156 - accuracy: 0.7009 - val_loss: 0.6068 - val_accuracy: 0.7287\n",
            "Epoch 34/50\n",
            "63/63 [==============================] - 0s 5ms/step - loss: 0.6393 - accuracy: 0.6820 - val_loss: 0.6076 - val_accuracy: 0.7287\n",
            "Epoch 35/50\n",
            "63/63 [==============================] - 0s 6ms/step - loss: 0.6285 - accuracy: 0.6930 - val_loss: 0.6068 - val_accuracy: 0.7287\n",
            "Epoch 36/50\n",
            "63/63 [==============================] - 0s 6ms/step - loss: 0.6124 - accuracy: 0.7014 - val_loss: 0.6051 - val_accuracy: 0.7287\n",
            "Epoch 37/50\n",
            "63/63 [==============================] - 0s 6ms/step - loss: 0.6169 - accuracy: 0.6994 - val_loss: 0.6049 - val_accuracy: 0.7287\n",
            "Epoch 38/50\n",
            "63/63 [==============================] - 0s 6ms/step - loss: 0.6120 - accuracy: 0.6984 - val_loss: 0.6029 - val_accuracy: 0.7287\n",
            "Epoch 39/50\n",
            "63/63 [==============================] - 0s 6ms/step - loss: 0.6188 - accuracy: 0.6984 - val_loss: 0.6035 - val_accuracy: 0.7287\n",
            "Epoch 40/50\n",
            "63/63 [==============================] - 0s 5ms/step - loss: 0.6118 - accuracy: 0.6939 - val_loss: 0.6042 - val_accuracy: 0.7287\n",
            "Epoch 41/50\n",
            "63/63 [==============================] - 0s 6ms/step - loss: 0.6163 - accuracy: 0.6984 - val_loss: 0.6030 - val_accuracy: 0.7287\n",
            "Epoch 42/50\n",
            "63/63 [==============================] - 0s 6ms/step - loss: 0.6131 - accuracy: 0.6939 - val_loss: 0.6048 - val_accuracy: 0.7287\n",
            "Epoch 43/50\n",
            "63/63 [==============================] - 0s 5ms/step - loss: 0.6197 - accuracy: 0.6989 - val_loss: 0.6025 - val_accuracy: 0.7287\n",
            "Epoch 44/50\n",
            "63/63 [==============================] - 0s 6ms/step - loss: 0.6047 - accuracy: 0.7073 - val_loss: 0.6013 - val_accuracy: 0.7287\n",
            "Epoch 45/50\n",
            "63/63 [==============================] - 0s 5ms/step - loss: 0.6168 - accuracy: 0.6915 - val_loss: 0.6012 - val_accuracy: 0.7287\n",
            "Epoch 46/50\n",
            "63/63 [==============================] - 0s 6ms/step - loss: 0.6112 - accuracy: 0.6959 - val_loss: 0.6020 - val_accuracy: 0.7287\n",
            "Epoch 47/50\n",
            "63/63 [==============================] - 0s 6ms/step - loss: 0.6133 - accuracy: 0.7049 - val_loss: 0.6033 - val_accuracy: 0.7287\n",
            "Epoch 48/50\n",
            "63/63 [==============================] - 0s 6ms/step - loss: 0.6041 - accuracy: 0.6994 - val_loss: 0.6032 - val_accuracy: 0.7287\n",
            "Epoch 49/50\n",
            "63/63 [==============================] - 0s 6ms/step - loss: 0.6065 - accuracy: 0.7019 - val_loss: 0.6032 - val_accuracy: 0.7287\n",
            "Epoch 50/50\n",
            "63/63 [==============================] - 0s 6ms/step - loss: 0.6203 - accuracy: 0.6885 - val_loss: 0.6032 - val_accuracy: 0.7287\n"
          ],
          "name": "stdout"
        }
      ]
    },
    {
      "cell_type": "markdown",
      "metadata": {
        "id": "8CgNLG3DWBGk",
        "colab_type": "text"
      },
      "source": [
        "We see our accuracy has saturated at around 78% for validation and 68% for training\n",
        "\n",
        "Let's plot learning curves to ..."
      ]
    },
    {
      "cell_type": "markdown",
      "metadata": {
        "id": "JCR0JPnZW9IH",
        "colab_type": "text"
      },
      "source": [
        "# Learning Curve Plots"
      ]
    },
    {
      "cell_type": "code",
      "metadata": {
        "id": "JSxBxd6xfrMA",
        "colab_type": "code",
        "colab": {}
      },
      "source": [
        "def plot_learningCurve(history, epoch):\n",
        "  '''Plots training and validation accuracy values\n",
        "  '''\n",
        "  epoch_range = range(1, epoch+1)\n",
        "  plt.plot(epoch_range, history.history['accuracy'])\n",
        "  plt.plot(epoch_range, history.history['val_accuracy'])\n",
        "  plt.title('Model Accuracy')\n",
        "  plt.ylabel('Accuracy')\n",
        "  plt.xlabel('Epoch')\n",
        "  plt.legend(['Train', 'Val'], loc = 'upper left')\n",
        "  plt.show()\n",
        "\n",
        "  '''Plot training and validation loss values\n",
        "  '''\n",
        "  plt.plot(epoch_range, history.history['loss'])\n",
        "  plt.plot(epoch_range, history.history['val_loss'])\n",
        "  plt.title('Model Loss')\n",
        "  plt.ylabel('Loss')\n",
        "  plt.xlabel('Epoch')\n",
        "  plt.legend(['train', 'val'], loc = 'upper left')\n",
        "  plt.show()"
      ],
      "execution_count": 0,
      "outputs": []
    },
    {
      "cell_type": "code",
      "metadata": {
        "id": "0cLl90zsfrRb",
        "colab_type": "code",
        "colab": {
          "base_uri": "https://localhost:8080/",
          "height": 573
        },
        "outputId": "cbcd396e-3848-4ee6-c21e-40d62a00f8f7"
      },
      "source": [
        "#Ploting the history of learning against epochs\n",
        "plot_learningCurve(history, epochs)"
      ],
      "execution_count": 69,
      "outputs": [
        {
          "output_type": "display_data",
          "data": {
            "image/png": "[encoded data removed]",
            "text/plain": [
              "<Figure size 432x288 with 1 Axes>"
            ]
          },
          "metadata": {
            "tags": [],
            "needs_background": "light"
          }
        },
        {
          "output_type": "display_data",
          "data": {
            "image/png": "[encoded data removed]",
            "text/plain": [
              "<Figure size 432x288 with 1 Axes>"
            ]
          },
          "metadata": {
            "tags": [],
            "needs_background": "light"
          }
        }
      ]
    },
    {
      "cell_type": "markdown",
      "metadata": {
        "id": "fwuohZq_b3p0",
        "colab_type": "text"
      },
      "source": [
        "Since the validation accuracy curve is above the training accuracy curve, our model is not overfitting\n",
        "\n",
        "We'll add maxpool to understand how our model is getting the accuracy"
      ]
    },
    {
      "cell_type": "markdown",
      "metadata": {
        "id": "-QCBUVQscVU-",
        "colab_type": "text"
      },
      "source": [
        "## Add MaxPool"
      ]
    },
    {
      "cell_type": "code",
      "metadata": {
        "id": "vLI2xvurfrPg",
        "colab_type": "code",
        "colab": {
          "base_uri": "https://localhost:8080/",
          "height": 1000
        },
        "outputId": "9d5aa9d3-8d12-437b-ccd5-6d2a9686690d"
      },
      "source": [
        "'''Define first layer'''\n",
        "#Define number of epochs\n",
        "epochs = 20\n",
        "#Get sequential object\n",
        "model = Sequential()\n",
        "#Add conv, flat, and dens layers\n",
        "model.add(Conv1D(filters=32, kernel_size=2, activation='relu', input_shape= X_train[0].shape))\n",
        "#Add batch normalization\n",
        "model.add(BatchNormalization())\n",
        "#Add MaxPool\n",
        "model.add(MaxPool1D(2))\n",
        "#Add dropout\n",
        "model.add(Dropout(0.2)) #Twenty percent of nuerons will be dropped after first layer\n",
        "\n",
        "\n",
        "'''Define second layer'''\n",
        "#Add conv, flat, and dens layers\n",
        "model.add(Conv1D(filters=64, kernel_size=2, activation='relu'))\n",
        "#Add batch normalization\n",
        "model.add(BatchNormalization())\n",
        "#Add MaxPool\n",
        "model.add(MaxPool1D(2))\n",
        "#Add dropout\n",
        "model.add(Dropout(0.5)) #Fifty percent of nuerons will be dropped after second layer\n",
        "\n",
        "#Convert our multidimensional data into a vector with a flattening layer\n",
        "model.add(Flatten())\n",
        "model.add(Dense(64, activation='relu'))\n",
        "model.add(Dropout(0.5))\n",
        "\n",
        "model.add(Dense(1, activation='sigmoid')) #Using sigmoid because we have a binary classification roblem\n",
        "\n",
        "#Compile model\n",
        "model.compile(optimizer=Adam(lr=0.0001), loss= 'binary_crossentropy', metrics= ['accuracy'])\n",
        "\n",
        "history = model.fit(X_train, y_train, epochs=epochs, validation_data= (X_test, y_test), \n",
        "                    verbose=1)\n",
        "#Ploting the history of learning against epochs\n",
        "plot_learningCurve(history, epochs)"
      ],
      "execution_count": 70,
      "outputs": [
        {
          "output_type": "stream",
          "text": [
            "Epoch 1/20\n",
            "631/631 [==============================] - 5s 7ms/step - loss: 0.8934 - accuracy: 0.5620 - val_loss: 0.6453 - val_accuracy: 0.6899\n",
            "Epoch 2/20\n",
            "631/631 [==============================] - 4s 7ms/step - loss: 0.7995 - accuracy: 0.5915 - val_loss: 0.6122 - val_accuracy: 0.7067\n",
            "Epoch 3/20\n",
            "631/631 [==============================] - 4s 7ms/step - loss: 0.7416 - accuracy: 0.6052 - val_loss: 0.6124 - val_accuracy: 0.7079\n",
            "Epoch 4/20\n",
            "631/631 [==============================] - 4s 7ms/step - loss: 0.7127 - accuracy: 0.6206 - val_loss: 0.6058 - val_accuracy: 0.7087\n",
            "Epoch 5/20\n",
            "631/631 [==============================] - 4s 7ms/step - loss: 0.6897 - accuracy: 0.6359 - val_loss: 0.6059 - val_accuracy: 0.7089\n",
            "Epoch 6/20\n",
            "631/631 [==============================] - 4s 7ms/step - loss: 0.6729 - accuracy: 0.6431 - val_loss: 0.6236 - val_accuracy: 0.7101\n",
            "Epoch 7/20\n",
            "631/631 [==============================] - 4s 7ms/step - loss: 0.6561 - accuracy: 0.6516 - val_loss: 0.6063 - val_accuracy: 0.7099\n",
            "Epoch 8/20\n",
            "631/631 [==============================] - 5s 8ms/step - loss: 0.6476 - accuracy: 0.6594 - val_loss: 0.6028 - val_accuracy: 0.7087\n",
            "Epoch 9/20\n",
            "631/631 [==============================] - 5s 7ms/step - loss: 0.6429 - accuracy: 0.6629 - val_loss: 0.6035 - val_accuracy: 0.7093\n",
            "Epoch 10/20\n",
            "631/631 [==============================] - 4s 7ms/step - loss: 0.6398 - accuracy: 0.6682 - val_loss: 0.6053 - val_accuracy: 0.7077\n",
            "Epoch 11/20\n",
            "631/631 [==============================] - 4s 7ms/step - loss: 0.6361 - accuracy: 0.6687 - val_loss: 0.6066 - val_accuracy: 0.7095\n",
            "Epoch 12/20\n",
            "631/631 [==============================] - 4s 7ms/step - loss: 0.6275 - accuracy: 0.6775 - val_loss: 0.6047 - val_accuracy: 0.7087\n",
            "Epoch 13/20\n",
            "631/631 [==============================] - 4s 7ms/step - loss: 0.6267 - accuracy: 0.6827 - val_loss: 0.6041 - val_accuracy: 0.7095\n",
            "Epoch 14/20\n",
            "631/631 [==============================] - 4s 7ms/step - loss: 0.6269 - accuracy: 0.6773 - val_loss: 0.6057 - val_accuracy: 0.7093\n",
            "Epoch 15/20\n",
            "631/631 [==============================] - 4s 7ms/step - loss: 0.6228 - accuracy: 0.6839 - val_loss: 0.6085 - val_accuracy: 0.7109\n",
            "Epoch 16/20\n",
            "631/631 [==============================] - 4s 7ms/step - loss: 0.6211 - accuracy: 0.6845 - val_loss: 0.6004 - val_accuracy: 0.7101\n",
            "Epoch 17/20\n",
            "631/631 [==============================] - 4s 7ms/step - loss: 0.6197 - accuracy: 0.6856 - val_loss: 0.5994 - val_accuracy: 0.7103\n",
            "Epoch 18/20\n",
            "631/631 [==============================] - 4s 7ms/step - loss: 0.6180 - accuracy: 0.6881 - val_loss: 0.6025 - val_accuracy: 0.7109\n",
            "Epoch 19/20\n",
            "631/631 [==============================] - 4s 7ms/step - loss: 0.6175 - accuracy: 0.6864 - val_loss: 0.5979 - val_accuracy: 0.7099\n",
            "Epoch 20/20\n",
            "631/631 [==============================] - 4s 7ms/step - loss: 0.6147 - accuracy: 0.6887 - val_loss: 0.6015 - val_accuracy: 0.7119\n"
          ],
          "name": "stdout"
        },
        {
          "output_type": "display_data",
          "data": {
            "image/png": "[encoded data removed]",
            "text/plain": [
              "<Figure size 432x288 with 1 Axes>"
            ]
          },
          "metadata": {
            "tags": [],
            "needs_background": "light"
          }
        },
        {
          "output_type": "display_data",
          "data": {
            "image/png": "[encoded data removed]",
            "text/plain": [
              "<Figure size 432x288 with 1 Axes>"
            ]
          },
          "metadata": {
            "tags": [],
            "needs_background": "light"
          }
        }
      ]
    },
    {
      "cell_type": "markdown",
      "metadata": {
        "id": "H0VdD5T4eMAw",
        "colab_type": "text"
      },
      "source": [
        "Since accuracy is still increasing, we can improve our training data to get better performance\n",
        "\n",
        "As long as validation accuracy is more than training accuracy, adding more data can improve model performance\n",
        "\n",
        "As long as training and validation accuracy has not saturated, we can increase the nuber of epochs or size of the dataset to improve performance"
      ]
    },
    {
      "cell_type": "code",
      "metadata": {
        "id": "O_H41PhXcAA-",
        "colab_type": "code",
        "colab": {
          "base_uri": "https://localhost:8080/",
          "height": 1000
        },
        "outputId": "62b81df4-d6cd-48b4-86e6-6defa169fc4b"
      },
      "source": [
        "'''Define first layer'''\n",
        "#Define number of epochs\n",
        "epochs = 50\n",
        "#Get sequential object\n",
        "model = Sequential()\n",
        "#Add conv, flat, and dens layers\n",
        "model.add(Conv1D(filters=32, kernel_size=2, activation='relu', input_shape= X_train[0].shape))\n",
        "#Add batch normalization\n",
        "model.add(BatchNormalization())\n",
        "#Add MaxPool\n",
        "model.add(MaxPool1D(2))\n",
        "#Add dropout\n",
        "model.add(Dropout(0.2)) #Twenty percent of nuerons will be dropped after first layer\n",
        "\n",
        "\n",
        "'''Define second layer'''\n",
        "#Add conv, flat, and dens layers\n",
        "model.add(Conv1D(filters=64, kernel_size=2, activation='relu'))\n",
        "#Add batch normalization\n",
        "model.add(BatchNormalization())\n",
        "#Add MaxPool\n",
        "model.add(MaxPool1D(2))\n",
        "#Add dropout\n",
        "model.add(Dropout(0.5)) #Fifty percent of nuerons will be dropped after second layer\n",
        "\n",
        "#Convert our multidimensional data into a vector with a flattening layer\n",
        "model.add(Flatten())\n",
        "model.add(Dense(64, activation='relu'))\n",
        "model.add(Dropout(0.5))\n",
        "\n",
        "model.add(Dense(1, activation='sigmoid')) #Using sigmoid because we have a binary classification roblem\n",
        "\n",
        "#Compile model\n",
        "model.compile(optimizer=Adam(lr=0.0001), loss= 'binary_crossentropy', metrics= ['accuracy'])\n",
        "\n",
        "history = model.fit(X_train, y_train, epochs=epochs, validation_data= (X_test, y_test), \n",
        "                    verbose=1)\n",
        "#Ploting the history of learning against epochs\n",
        "plot_learningCurve(history, epochs)"
      ],
      "execution_count": 71,
      "outputs": [
        {
          "output_type": "stream",
          "text": [
            "Epoch 1/50\n",
            "631/631 [==============================] - 5s 7ms/step - loss: 0.9304 - accuracy: 0.5714 - val_loss: 0.6846 - val_accuracy: 0.5739\n",
            "Epoch 2/50\n",
            "631/631 [==============================] - 4s 7ms/step - loss: 0.8182 - accuracy: 0.6012 - val_loss: 0.6358 - val_accuracy: 0.7069\n",
            "Epoch 3/50\n",
            "631/631 [==============================] - 4s 7ms/step - loss: 0.7543 - accuracy: 0.6169 - val_loss: 0.6401 - val_accuracy: 0.6895\n",
            "Epoch 4/50\n",
            "631/631 [==============================] - 4s 7ms/step - loss: 0.7238 - accuracy: 0.6304 - val_loss: 0.6217 - val_accuracy: 0.7089\n",
            "Epoch 5/50\n",
            "631/631 [==============================] - 4s 7ms/step - loss: 0.6986 - accuracy: 0.6360 - val_loss: 0.6158 - val_accuracy: 0.7095\n",
            "Epoch 6/50\n",
            "631/631 [==============================] - 4s 7ms/step - loss: 0.6815 - accuracy: 0.6467 - val_loss: 0.6126 - val_accuracy: 0.7095\n",
            "Epoch 7/50\n",
            "631/631 [==============================] - 4s 7ms/step - loss: 0.6631 - accuracy: 0.6532 - val_loss: 0.6112 - val_accuracy: 0.7101\n",
            "Epoch 8/50\n",
            "631/631 [==============================] - 4s 7ms/step - loss: 0.6551 - accuracy: 0.6608 - val_loss: 0.6178 - val_accuracy: 0.6922\n",
            "Epoch 9/50\n",
            "631/631 [==============================] - 4s 7ms/step - loss: 0.6461 - accuracy: 0.6630 - val_loss: 0.6102 - val_accuracy: 0.7087\n",
            "Epoch 10/50\n",
            "631/631 [==============================] - 4s 7ms/step - loss: 0.6459 - accuracy: 0.6661 - val_loss: 0.6131 - val_accuracy: 0.7101\n",
            "Epoch 11/50\n",
            "631/631 [==============================] - 4s 7ms/step - loss: 0.6354 - accuracy: 0.6718 - val_loss: 0.6135 - val_accuracy: 0.6928\n",
            "Epoch 12/50\n",
            "631/631 [==============================] - 4s 7ms/step - loss: 0.6330 - accuracy: 0.6760 - val_loss: 0.6072 - val_accuracy: 0.7095\n",
            "Epoch 13/50\n",
            "631/631 [==============================] - 4s 7ms/step - loss: 0.6304 - accuracy: 0.6800 - val_loss: 0.6109 - val_accuracy: 0.7143\n",
            "Epoch 14/50\n",
            "631/631 [==============================] - 4s 7ms/step - loss: 0.6254 - accuracy: 0.6814 - val_loss: 0.6066 - val_accuracy: 0.7103\n",
            "Epoch 15/50\n",
            "631/631 [==============================] - 4s 7ms/step - loss: 0.6258 - accuracy: 0.6820 - val_loss: 0.6052 - val_accuracy: 0.7105\n",
            "Epoch 16/50\n",
            "631/631 [==============================] - 4s 7ms/step - loss: 0.6215 - accuracy: 0.6867 - val_loss: 0.6038 - val_accuracy: 0.7101\n",
            "Epoch 17/50\n",
            "631/631 [==============================] - 5s 7ms/step - loss: 0.6194 - accuracy: 0.6880 - val_loss: 0.6061 - val_accuracy: 0.7172\n",
            "Epoch 18/50\n",
            "631/631 [==============================] - 4s 7ms/step - loss: 0.6217 - accuracy: 0.6874 - val_loss: 0.6032 - val_accuracy: 0.7109\n",
            "Epoch 19/50\n",
            "631/631 [==============================] - 4s 7ms/step - loss: 0.6185 - accuracy: 0.6875 - val_loss: 0.6055 - val_accuracy: 0.7186\n",
            "Epoch 20/50\n",
            "631/631 [==============================] - 4s 7ms/step - loss: 0.6173 - accuracy: 0.6914 - val_loss: 0.6013 - val_accuracy: 0.7109\n",
            "Epoch 21/50\n",
            "631/631 [==============================] - 4s 7ms/step - loss: 0.6140 - accuracy: 0.6916 - val_loss: 0.6049 - val_accuracy: 0.7218\n",
            "Epoch 22/50\n",
            "631/631 [==============================] - 4s 7ms/step - loss: 0.6152 - accuracy: 0.6916 - val_loss: 0.6061 - val_accuracy: 0.6944\n",
            "Epoch 23/50\n",
            "631/631 [==============================] - 4s 7ms/step - loss: 0.6156 - accuracy: 0.6902 - val_loss: 0.5991 - val_accuracy: 0.7109\n",
            "Epoch 24/50\n",
            "631/631 [==============================] - 4s 7ms/step - loss: 0.6125 - accuracy: 0.6917 - val_loss: 0.5973 - val_accuracy: 0.7111\n",
            "Epoch 25/50\n",
            "631/631 [==============================] - 4s 7ms/step - loss: 0.6122 - accuracy: 0.6954 - val_loss: 0.5976 - val_accuracy: 0.7109\n",
            "Epoch 26/50\n",
            "631/631 [==============================] - 4s 7ms/step - loss: 0.6117 - accuracy: 0.6952 - val_loss: 0.6046 - val_accuracy: 0.7252\n",
            "Epoch 27/50\n",
            "631/631 [==============================] - 4s 7ms/step - loss: 0.6107 - accuracy: 0.6959 - val_loss: 0.5962 - val_accuracy: 0.7113\n",
            "Epoch 28/50\n",
            "631/631 [==============================] - 5s 7ms/step - loss: 0.6089 - accuracy: 0.6943 - val_loss: 0.5949 - val_accuracy: 0.7115\n",
            "Epoch 29/50\n",
            "631/631 [==============================] - 5s 7ms/step - loss: 0.6093 - accuracy: 0.6967 - val_loss: 0.5949 - val_accuracy: 0.7113\n",
            "Epoch 30/50\n",
            "631/631 [==============================] - 4s 7ms/step - loss: 0.6088 - accuracy: 0.6967 - val_loss: 0.5951 - val_accuracy: 0.7127\n",
            "Epoch 31/50\n",
            "631/631 [==============================] - 4s 7ms/step - loss: 0.6074 - accuracy: 0.6969 - val_loss: 0.5946 - val_accuracy: 0.7158\n",
            "Epoch 32/50\n",
            "631/631 [==============================] - 4s 7ms/step - loss: 0.6078 - accuracy: 0.6958 - val_loss: 0.5940 - val_accuracy: 0.7125\n",
            "Epoch 33/50\n",
            "631/631 [==============================] - 4s 7ms/step - loss: 0.6048 - accuracy: 0.6952 - val_loss: 0.6009 - val_accuracy: 0.6972\n",
            "Epoch 34/50\n",
            "631/631 [==============================] - 4s 7ms/step - loss: 0.6050 - accuracy: 0.6984 - val_loss: 0.5885 - val_accuracy: 0.7139\n",
            "Epoch 35/50\n",
            "631/631 [==============================] - 4s 7ms/step - loss: 0.6012 - accuracy: 0.6980 - val_loss: 0.5908 - val_accuracy: 0.7166\n",
            "Epoch 36/50\n",
            "631/631 [==============================] - 4s 7ms/step - loss: 0.6044 - accuracy: 0.6980 - val_loss: 0.5952 - val_accuracy: 0.7236\n",
            "Epoch 37/50\n",
            "631/631 [==============================] - 4s 7ms/step - loss: 0.6028 - accuracy: 0.6994 - val_loss: 0.5889 - val_accuracy: 0.7162\n",
            "Epoch 38/50\n",
            "631/631 [==============================] - 4s 7ms/step - loss: 0.6035 - accuracy: 0.7010 - val_loss: 0.5877 - val_accuracy: 0.7158\n",
            "Epoch 39/50\n",
            "631/631 [==============================] - 4s 7ms/step - loss: 0.6032 - accuracy: 0.6986 - val_loss: 0.5850 - val_accuracy: 0.7154\n",
            "Epoch 40/50\n",
            "631/631 [==============================] - 4s 7ms/step - loss: 0.6000 - accuracy: 0.7000 - val_loss: 0.5845 - val_accuracy: 0.7172\n",
            "Epoch 41/50\n",
            "631/631 [==============================] - 4s 7ms/step - loss: 0.6010 - accuracy: 0.6991 - val_loss: 0.5913 - val_accuracy: 0.7327\n",
            "Epoch 42/50\n",
            "631/631 [==============================] - 4s 7ms/step - loss: 0.6005 - accuracy: 0.7027 - val_loss: 0.5889 - val_accuracy: 0.7373\n",
            "Epoch 43/50\n",
            "631/631 [==============================] - 4s 7ms/step - loss: 0.5954 - accuracy: 0.7042 - val_loss: 0.5825 - val_accuracy: 0.7202\n",
            "Epoch 44/50\n",
            "631/631 [==============================] - 4s 7ms/step - loss: 0.5975 - accuracy: 0.7057 - val_loss: 0.5821 - val_accuracy: 0.7244\n",
            "Epoch 45/50\n",
            "631/631 [==============================] - 4s 7ms/step - loss: 0.5941 - accuracy: 0.7035 - val_loss: 0.5802 - val_accuracy: 0.7295\n",
            "Epoch 46/50\n",
            "631/631 [==============================] - 4s 7ms/step - loss: 0.5969 - accuracy: 0.7038 - val_loss: 0.5779 - val_accuracy: 0.7240\n",
            "Epoch 47/50\n",
            "631/631 [==============================] - 4s 7ms/step - loss: 0.5936 - accuracy: 0.7055 - val_loss: 0.5870 - val_accuracy: 0.7077\n",
            "Epoch 48/50\n",
            "631/631 [==============================] - 4s 7ms/step - loss: 0.5921 - accuracy: 0.7066 - val_loss: 0.5765 - val_accuracy: 0.7287\n",
            "Epoch 49/50\n",
            "631/631 [==============================] - 4s 7ms/step - loss: 0.5916 - accuracy: 0.7068 - val_loss: 0.5788 - val_accuracy: 0.7315\n",
            "Epoch 50/50\n",
            "631/631 [==============================] - 4s 7ms/step - loss: 0.5891 - accuracy: 0.7061 - val_loss: 0.5714 - val_accuracy: 0.7293\n"
          ],
          "name": "stdout"
        },
        {
          "output_type": "display_data",
          "data": {
            "image/png": "[encoded data removed]",
            "text/plain": [
              "<Figure size 432x288 with 1 Axes>"
            ]
          },
          "metadata": {
            "tags": [],
            "needs_background": "light"
          }
        },
        {
          "output_type": "display_data",
          "data": {
            "image/png": "[encoded data removed]",
            "text/plain": [
              "<Figure size 432x288 with 1 Axes>"
            ]
          },
          "metadata": {
            "tags": [],
            "needs_background": "light"
          }
        }
      ]
    },
    {
      "cell_type": "code",
      "metadata": {
        "id": "cu6SUmoFlvoV",
        "colab_type": "code",
        "colab": {}
      },
      "source": [
        ""
      ],
      "execution_count": 0,
      "outputs": []
    }
  ]
}