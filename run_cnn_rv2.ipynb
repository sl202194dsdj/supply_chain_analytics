{
  "nbformat": 4,
  "nbformat_minor": 0,
  "metadata": {
    "colab": {
      "name": "run_cnn_rv2.ipynb",
      "provenance": [],
      "collapsed_sections": [],
      "toc_visible": true,
      "authorship_tag": "ABX9TyPglMjKLDVsZW1DWkdw7jvD",
      "include_colab_link": true
    },
    "kernelspec": {
      "name": "python3",
      "display_name": "Python 3"
    },
    "accelerator": "GPU"
  },
  "cells": [
    {
      "cell_type": "markdown",
      "metadata": {
        "id": "view-in-github",
        "colab_type": "text"
      },
      "source": [
        "<a href=\"https://colab.research.google.com/github/sl202194dsdj/supply_chain_analytics/blob/master/run_cnn_rv2.ipynb\" target=\"_parent\"><img src=\"https://colab.research.google.com/assets/colab-badge.svg\" alt=\"Open In Colab\"/></a>"
      ]
    },
    {
      "cell_type": "code",
      "metadata": {
        "id": "3p0BYcEMTGK6",
        "colab_type": "code",
        "outputId": "7368a44e-2a40-4979-e5d6-e09712b628d5",
        "colab": {
          "base_uri": "https://localhost:8080/",
          "height": 122
        }
      },
      "source": [
        "from google.colab import drive\n",
        "drive.mount('/content/drive')"
      ],
      "execution_count": 2,
      "outputs": [
        {
          "output_type": "stream",
          "text": [
            "Go to this URL in a browser: https://accounts.google.com/o/oauth2/auth?client_id=947318989803-6bn6qk8qdgf4n4g3pfee6491hc0brc4i.apps.googleusercontent.com&redirect_uri=urn%3aietf%3awg%3aoauth%3a2.0%3aoob&response_type=code&scope=email%20https%3a%2f%2fwww.googleapis.com%2fauth%2fdocs.test%20https%3a%2f%2fwww.googleapis.com%2fauth%2fdrive%20https%3a%2f%2fwww.googleapis.com%2fauth%2fdrive.photos.readonly%20https%3a%2f%2fwww.googleapis.com%2fauth%2fpeopleapi.readonly\n",
            "\n",
            "Enter your authorization code:\n",
            "··········\n",
            "Mounted at /content/drive\n"
          ],
          "name": "stdout"
        }
      ]
    },
    {
      "cell_type": "code",
      "metadata": {
        "id": "8aSDvx6pTt-Y",
        "colab_type": "code",
        "outputId": "7ae9d933-8816-4ce9-b0cc-112329849984",
        "colab": {
          "base_uri": "https://localhost:8080/",
          "height": 734
        }
      },
      "source": [
        "#Install deep learning libs\n",
        "!pip install tensorflow-gpu"
      ],
      "execution_count": 3,
      "outputs": [
        {
          "output_type": "stream",
          "text": [
            "Collecting tensorflow-gpu\n",
            "\u001b[?25l  Downloading https://files.pythonhosted.org/packages/31/bf/c28971266ca854a64f4b26f07c4112ddd61f30b4d1f18108b954a746f8ea/tensorflow_gpu-2.2.0-cp36-cp36m-manylinux2010_x86_64.whl (516.2MB)\n",
            "\u001b[K     |████████████████████████████████| 516.2MB 27kB/s \n",
            "\u001b[?25hRequirement already satisfied: wrapt>=1.11.1 in /usr/local/lib/python3.6/dist-packages (from tensorflow-gpu) (1.12.1)\n",
            "Requirement already satisfied: wheel>=0.26; python_version >= \"3\" in /usr/local/lib/python3.6/dist-packages (from tensorflow-gpu) (0.34.2)\n",
            "Requirement already satisfied: tensorboard<2.3.0,>=2.2.0 in /usr/local/lib/python3.6/dist-packages (from tensorflow-gpu) (2.2.2)\n",
            "Requirement already satisfied: termcolor>=1.1.0 in /usr/local/lib/python3.6/dist-packages (from tensorflow-gpu) (1.1.0)\n",
            "Requirement already satisfied: google-pasta>=0.1.8 in /usr/local/lib/python3.6/dist-packages (from tensorflow-gpu) (0.2.0)\n",
            "Requirement already satisfied: gast==0.3.3 in /usr/local/lib/python3.6/dist-packages (from tensorflow-gpu) (0.3.3)\n",
            "Requirement already satisfied: keras-preprocessing>=1.1.0 in /usr/local/lib/python3.6/dist-packages (from tensorflow-gpu) (1.1.2)\n",
            "Requirement already satisfied: tensorflow-estimator<2.3.0,>=2.2.0 in /usr/local/lib/python3.6/dist-packages (from tensorflow-gpu) (2.2.0)\n",
            "Requirement already satisfied: h5py<2.11.0,>=2.10.0 in /usr/local/lib/python3.6/dist-packages (from tensorflow-gpu) (2.10.0)\n",
            "Requirement already satisfied: astunparse==1.6.3 in /usr/local/lib/python3.6/dist-packages (from tensorflow-gpu) (1.6.3)\n",
            "Requirement already satisfied: opt-einsum>=2.3.2 in /usr/local/lib/python3.6/dist-packages (from tensorflow-gpu) (3.2.1)\n",
            "Requirement already satisfied: protobuf>=3.8.0 in /usr/local/lib/python3.6/dist-packages (from tensorflow-gpu) (3.10.0)\n",
            "Requirement already satisfied: grpcio>=1.8.6 in /usr/local/lib/python3.6/dist-packages (from tensorflow-gpu) (1.29.0)\n",
            "Requirement already satisfied: scipy==1.4.1; python_version >= \"3\" in /usr/local/lib/python3.6/dist-packages (from tensorflow-gpu) (1.4.1)\n",
            "Requirement already satisfied: six>=1.12.0 in /usr/local/lib/python3.6/dist-packages (from tensorflow-gpu) (1.12.0)\n",
            "Requirement already satisfied: absl-py>=0.7.0 in /usr/local/lib/python3.6/dist-packages (from tensorflow-gpu) (0.9.0)\n",
            "Requirement already satisfied: numpy<2.0,>=1.16.0 in /usr/local/lib/python3.6/dist-packages (from tensorflow-gpu) (1.18.5)\n",
            "Requirement already satisfied: markdown>=2.6.8 in /usr/local/lib/python3.6/dist-packages (from tensorboard<2.3.0,>=2.2.0->tensorflow-gpu) (3.2.2)\n",
            "Requirement already satisfied: werkzeug>=0.11.15 in /usr/local/lib/python3.6/dist-packages (from tensorboard<2.3.0,>=2.2.0->tensorflow-gpu) (1.0.1)\n",
            "Requirement already satisfied: google-auth-oauthlib<0.5,>=0.4.1 in /usr/local/lib/python3.6/dist-packages (from tensorboard<2.3.0,>=2.2.0->tensorflow-gpu) (0.4.1)\n",
            "Requirement already satisfied: setuptools>=41.0.0 in /usr/local/lib/python3.6/dist-packages (from tensorboard<2.3.0,>=2.2.0->tensorflow-gpu) (47.1.1)\n",
            "Requirement already satisfied: google-auth<2,>=1.6.3 in /usr/local/lib/python3.6/dist-packages (from tensorboard<2.3.0,>=2.2.0->tensorflow-gpu) (1.7.2)\n",
            "Requirement already satisfied: requests<3,>=2.21.0 in /usr/local/lib/python3.6/dist-packages (from tensorboard<2.3.0,>=2.2.0->tensorflow-gpu) (2.23.0)\n",
            "Requirement already satisfied: tensorboard-plugin-wit>=1.6.0 in /usr/local/lib/python3.6/dist-packages (from tensorboard<2.3.0,>=2.2.0->tensorflow-gpu) (1.6.0.post3)\n",
            "Requirement already satisfied: importlib-metadata; python_version < \"3.8\" in /usr/local/lib/python3.6/dist-packages (from markdown>=2.6.8->tensorboard<2.3.0,>=2.2.0->tensorflow-gpu) (1.6.0)\n",
            "Requirement already satisfied: requests-oauthlib>=0.7.0 in /usr/local/lib/python3.6/dist-packages (from google-auth-oauthlib<0.5,>=0.4.1->tensorboard<2.3.0,>=2.2.0->tensorflow-gpu) (1.3.0)\n",
            "Requirement already satisfied: pyasn1-modules>=0.2.1 in /usr/local/lib/python3.6/dist-packages (from google-auth<2,>=1.6.3->tensorboard<2.3.0,>=2.2.0->tensorflow-gpu) (0.2.8)\n",
            "Requirement already satisfied: rsa<4.1,>=3.1.4 in /usr/local/lib/python3.6/dist-packages (from google-auth<2,>=1.6.3->tensorboard<2.3.0,>=2.2.0->tensorflow-gpu) (4.0)\n",
            "Requirement already satisfied: cachetools<3.2,>=2.0.0 in /usr/local/lib/python3.6/dist-packages (from google-auth<2,>=1.6.3->tensorboard<2.3.0,>=2.2.0->tensorflow-gpu) (3.1.1)\n",
            "Requirement already satisfied: urllib3!=1.25.0,!=1.25.1,<1.26,>=1.21.1 in /usr/local/lib/python3.6/dist-packages (from requests<3,>=2.21.0->tensorboard<2.3.0,>=2.2.0->tensorflow-gpu) (1.24.3)\n",
            "Requirement already satisfied: chardet<4,>=3.0.2 in /usr/local/lib/python3.6/dist-packages (from requests<3,>=2.21.0->tensorboard<2.3.0,>=2.2.0->tensorflow-gpu) (3.0.4)\n",
            "Requirement already satisfied: idna<3,>=2.5 in /usr/local/lib/python3.6/dist-packages (from requests<3,>=2.21.0->tensorboard<2.3.0,>=2.2.0->tensorflow-gpu) (2.9)\n",
            "Requirement already satisfied: certifi>=2017.4.17 in /usr/local/lib/python3.6/dist-packages (from requests<3,>=2.21.0->tensorboard<2.3.0,>=2.2.0->tensorflow-gpu) (2020.4.5.1)\n",
            "Requirement already satisfied: zipp>=0.5 in /usr/local/lib/python3.6/dist-packages (from importlib-metadata; python_version < \"3.8\"->markdown>=2.6.8->tensorboard<2.3.0,>=2.2.0->tensorflow-gpu) (3.1.0)\n",
            "Requirement already satisfied: oauthlib>=3.0.0 in /usr/local/lib/python3.6/dist-packages (from requests-oauthlib>=0.7.0->google-auth-oauthlib<0.5,>=0.4.1->tensorboard<2.3.0,>=2.2.0->tensorflow-gpu) (3.1.0)\n",
            "Requirement already satisfied: pyasn1<0.5.0,>=0.4.6 in /usr/local/lib/python3.6/dist-packages (from pyasn1-modules>=0.2.1->google-auth<2,>=1.6.3->tensorboard<2.3.0,>=2.2.0->tensorflow-gpu) (0.4.8)\n",
            "Installing collected packages: tensorflow-gpu\n",
            "Successfully installed tensorflow-gpu-2.2.0\n"
          ],
          "name": "stdout"
        }
      ]
    },
    {
      "cell_type": "code",
      "metadata": {
        "id": "zjx5Z4DEUWOG",
        "colab_type": "code",
        "outputId": "e9afd1fb-2451-47a1-cb7c-0e0084fd0f36",
        "colab": {
          "base_uri": "https://localhost:8080/",
          "height": 374
        }
      },
      "source": [
        "!pip install mlxtend==0.17.0"
      ],
      "execution_count": 4,
      "outputs": [
        {
          "output_type": "stream",
          "text": [
            "Collecting mlxtend==0.17.0\n",
            "\u001b[?25l  Downloading https://files.pythonhosted.org/packages/52/04/c362f34f666f0ddc7cf593805e64d64fa670ed96fd9302e68549dd48287d/mlxtend-0.17.0-py2.py3-none-any.whl (1.3MB)\n",
            "\r\u001b[K     |▎                               | 10kB 15.1MB/s eta 0:00:01\r\u001b[K     |▌                               | 20kB 21.1MB/s eta 0:00:01\r\u001b[K     |▊                               | 30kB 24.7MB/s eta 0:00:01\r\u001b[K     |█                               | 40kB 21.8MB/s eta 0:00:01\r\u001b[K     |█▎                              | 51kB 14.7MB/s eta 0:00:01\r\u001b[K     |█▌                              | 61kB 13.8MB/s eta 0:00:01\r\u001b[K     |█▊                              | 71kB 12.7MB/s eta 0:00:01\r\u001b[K     |██                              | 81kB 12.5MB/s eta 0:00:01\r\u001b[K     |██▏                             | 92kB 13.2MB/s eta 0:00:01\r\u001b[K     |██▌                             | 102kB 12.9MB/s eta 0:00:01\r\u001b[K     |██▊                             | 112kB 12.9MB/s eta 0:00:01\r\u001b[K     |███                             | 122kB 12.9MB/s eta 0:00:01\r\u001b[K     |███▏                            | 133kB 12.9MB/s eta 0:00:01\r\u001b[K     |███▍                            | 143kB 12.9MB/s eta 0:00:01\r\u001b[K     |███▊                            | 153kB 12.9MB/s eta 0:00:01\r\u001b[K     |████                            | 163kB 12.9MB/s eta 0:00:01\r\u001b[K     |████▏                           | 174kB 12.9MB/s eta 0:00:01\r\u001b[K     |████▍                           | 184kB 12.9MB/s eta 0:00:01\r\u001b[K     |████▊                           | 194kB 12.9MB/s eta 0:00:01\r\u001b[K     |█████                           | 204kB 12.9MB/s eta 0:00:01\r\u001b[K     |█████▏                          | 215kB 12.9MB/s eta 0:00:01\r\u001b[K     |█████▍                          | 225kB 12.9MB/s eta 0:00:01\r\u001b[K     |█████▋                          | 235kB 12.9MB/s eta 0:00:01\r\u001b[K     |██████                          | 245kB 12.9MB/s eta 0:00:01\r\u001b[K     |██████▏                         | 256kB 12.9MB/s eta 0:00:01\r\u001b[K     |██████▍                         | 266kB 12.9MB/s eta 0:00:01\r\u001b[K     |██████▋                         | 276kB 12.9MB/s eta 0:00:01\r\u001b[K     |██████▉                         | 286kB 12.9MB/s eta 0:00:01\r\u001b[K     |███████▏                        | 296kB 12.9MB/s eta 0:00:01\r\u001b[K     |███████▍                        | 307kB 12.9MB/s eta 0:00:01\r\u001b[K     |███████▋                        | 317kB 12.9MB/s eta 0:00:01\r\u001b[K     |███████▉                        | 327kB 12.9MB/s eta 0:00:01\r\u001b[K     |████████                        | 337kB 12.9MB/s eta 0:00:01\r\u001b[K     |████████▍                       | 348kB 12.9MB/s eta 0:00:01\r\u001b[K     |████████▋                       | 358kB 12.9MB/s eta 0:00:01\r\u001b[K     |████████▉                       | 368kB 12.9MB/s eta 0:00:01\r\u001b[K     |█████████                       | 378kB 12.9MB/s eta 0:00:01\r\u001b[K     |█████████▍                      | 389kB 12.9MB/s eta 0:00:01\r\u001b[K     |█████████▋                      | 399kB 12.9MB/s eta 0:00:01\r\u001b[K     |█████████▉                      | 409kB 12.9MB/s eta 0:00:01\r\u001b[K     |██████████                      | 419kB 12.9MB/s eta 0:00:01\r\u001b[K     |██████████▎                     | 430kB 12.9MB/s eta 0:00:01\r\u001b[K     |██████████▋                     | 440kB 12.9MB/s eta 0:00:01\r\u001b[K     |██████████▉                     | 450kB 12.9MB/s eta 0:00:01\r\u001b[K     |███████████                     | 460kB 12.9MB/s eta 0:00:01\r\u001b[K     |███████████▎                    | 471kB 12.9MB/s eta 0:00:01\r\u001b[K     |███████████▌                    | 481kB 12.9MB/s eta 0:00:01\r\u001b[K     |███████████▉                    | 491kB 12.9MB/s eta 0:00:01\r\u001b[K     |████████████                    | 501kB 12.9MB/s eta 0:00:01\r\u001b[K     |████████████▎                   | 512kB 12.9MB/s eta 0:00:01\r\u001b[K     |████████████▌                   | 522kB 12.9MB/s eta 0:00:01\r\u001b[K     |████████████▊                   | 532kB 12.9MB/s eta 0:00:01\r\u001b[K     |█████████████                   | 542kB 12.9MB/s eta 0:00:01\r\u001b[K     |█████████████▎                  | 552kB 12.9MB/s eta 0:00:01\r\u001b[K     |█████████████▌                  | 563kB 12.9MB/s eta 0:00:01\r\u001b[K     |█████████████▊                  | 573kB 12.9MB/s eta 0:00:01\r\u001b[K     |██████████████                  | 583kB 12.9MB/s eta 0:00:01\r\u001b[K     |██████████████▎                 | 593kB 12.9MB/s eta 0:00:01\r\u001b[K     |██████████████▌                 | 604kB 12.9MB/s eta 0:00:01\r\u001b[K     |██████████████▊                 | 614kB 12.9MB/s eta 0:00:01\r\u001b[K     |███████████████                 | 624kB 12.9MB/s eta 0:00:01\r\u001b[K     |███████████████▎                | 634kB 12.9MB/s eta 0:00:01\r\u001b[K     |███████████████▌                | 645kB 12.9MB/s eta 0:00:01\r\u001b[K     |███████████████▊                | 655kB 12.9MB/s eta 0:00:01\r\u001b[K     |████████████████                | 665kB 12.9MB/s eta 0:00:01\r\u001b[K     |████████████████▏               | 675kB 12.9MB/s eta 0:00:01\r\u001b[K     |████████████████▌               | 686kB 12.9MB/s eta 0:00:01\r\u001b[K     |████████████████▊               | 696kB 12.9MB/s eta 0:00:01\r\u001b[K     |█████████████████               | 706kB 12.9MB/s eta 0:00:01\r\u001b[K     |█████████████████▏              | 716kB 12.9MB/s eta 0:00:01\r\u001b[K     |█████████████████▍              | 727kB 12.9MB/s eta 0:00:01\r\u001b[K     |█████████████████▊              | 737kB 12.9MB/s eta 0:00:01\r\u001b[K     |██████████████████              | 747kB 12.9MB/s eta 0:00:01\r\u001b[K     |██████████████████▏             | 757kB 12.9MB/s eta 0:00:01\r\u001b[K     |██████████████████▍             | 768kB 12.9MB/s eta 0:00:01\r\u001b[K     |██████████████████▊             | 778kB 12.9MB/s eta 0:00:01\r\u001b[K     |███████████████████             | 788kB 12.9MB/s eta 0:00:01\r\u001b[K     |███████████████████▏            | 798kB 12.9MB/s eta 0:00:01\r\u001b[K     |███████████████████▍            | 808kB 12.9MB/s eta 0:00:01\r\u001b[K     |███████████████████▋            | 819kB 12.9MB/s eta 0:00:01\r\u001b[K     |████████████████████            | 829kB 12.9MB/s eta 0:00:01\r\u001b[K     |████████████████████▏           | 839kB 12.9MB/s eta 0:00:01\r\u001b[K     |████████████████████▍           | 849kB 12.9MB/s eta 0:00:01\r\u001b[K     |████████████████████▋           | 860kB 12.9MB/s eta 0:00:01\r\u001b[K     |████████████████████▉           | 870kB 12.9MB/s eta 0:00:01\r\u001b[K     |█████████████████████▏          | 880kB 12.9MB/s eta 0:00:01\r\u001b[K     |█████████████████████▍          | 890kB 12.9MB/s eta 0:00:01\r\u001b[K     |█████████████████████▋          | 901kB 12.9MB/s eta 0:00:01\r\u001b[K     |█████████████████████▉          | 911kB 12.9MB/s eta 0:00:01\r\u001b[K     |██████████████████████          | 921kB 12.9MB/s eta 0:00:01\r\u001b[K     |██████████████████████▍         | 931kB 12.9MB/s eta 0:00:01\r\u001b[K     |██████████████████████▋         | 942kB 12.9MB/s eta 0:00:01\r\u001b[K     |██████████████████████▉         | 952kB 12.9MB/s eta 0:00:01\r\u001b[K     |███████████████████████         | 962kB 12.9MB/s eta 0:00:01\r\u001b[K     |███████████████████████▍        | 972kB 12.9MB/s eta 0:00:01\r\u001b[K     |███████████████████████▋        | 983kB 12.9MB/s eta 0:00:01\r\u001b[K     |███████████████████████▉        | 993kB 12.9MB/s eta 0:00:01\r\u001b[K     |████████████████████████        | 1.0MB 12.9MB/s eta 0:00:01\r\u001b[K     |████████████████████████▎       | 1.0MB 12.9MB/s eta 0:00:01\r\u001b[K     |████████████████████████▋       | 1.0MB 12.9MB/s eta 0:00:01\r\u001b[K     |████████████████████████▉       | 1.0MB 12.9MB/s eta 0:00:01\r\u001b[K     |█████████████████████████       | 1.0MB 12.9MB/s eta 0:00:01\r\u001b[K     |█████████████████████████▎      | 1.1MB 12.9MB/s eta 0:00:01\r\u001b[K     |█████████████████████████▌      | 1.1MB 12.9MB/s eta 0:00:01\r\u001b[K     |█████████████████████████▉      | 1.1MB 12.9MB/s eta 0:00:01\r\u001b[K     |██████████████████████████      | 1.1MB 12.9MB/s eta 0:00:01\r\u001b[K     |██████████████████████████▎     | 1.1MB 12.9MB/s eta 0:00:01\r\u001b[K     |██████████████████████████▌     | 1.1MB 12.9MB/s eta 0:00:01\r\u001b[K     |██████████████████████████▊     | 1.1MB 12.9MB/s eta 0:00:01\r\u001b[K     |███████████████████████████     | 1.1MB 12.9MB/s eta 0:00:01\r\u001b[K     |███████████████████████████▎    | 1.1MB 12.9MB/s eta 0:00:01\r\u001b[K     |███████████████████████████▌    | 1.1MB 12.9MB/s eta 0:00:01\r\u001b[K     |███████████████████████████▊    | 1.2MB 12.9MB/s eta 0:00:01\r\u001b[K     |████████████████████████████    | 1.2MB 12.9MB/s eta 0:00:01\r\u001b[K     |████████████████████████████▎   | 1.2MB 12.9MB/s eta 0:00:01\r\u001b[K     |████████████████████████████▌   | 1.2MB 12.9MB/s eta 0:00:01\r\u001b[K     |████████████████████████████▊   | 1.2MB 12.9MB/s eta 0:00:01\r\u001b[K     |█████████████████████████████   | 1.2MB 12.9MB/s eta 0:00:01\r\u001b[K     |█████████████████████████████▎  | 1.2MB 12.9MB/s eta 0:00:01\r\u001b[K     |█████████████████████████████▌  | 1.2MB 12.9MB/s eta 0:00:01\r\u001b[K     |█████████████████████████████▊  | 1.2MB 12.9MB/s eta 0:00:01\r\u001b[K     |██████████████████████████████  | 1.2MB 12.9MB/s eta 0:00:01\r\u001b[K     |██████████████████████████████▏ | 1.3MB 12.9MB/s eta 0:00:01\r\u001b[K     |██████████████████████████████▌ | 1.3MB 12.9MB/s eta 0:00:01\r\u001b[K     |██████████████████████████████▊ | 1.3MB 12.9MB/s eta 0:00:01\r\u001b[K     |███████████████████████████████ | 1.3MB 12.9MB/s eta 0:00:01\r\u001b[K     |███████████████████████████████▏| 1.3MB 12.9MB/s eta 0:00:01\r\u001b[K     |███████████████████████████████▌| 1.3MB 12.9MB/s eta 0:00:01\r\u001b[K     |███████████████████████████████▊| 1.3MB 12.9MB/s eta 0:00:01\r\u001b[K     |████████████████████████████████| 1.3MB 12.9MB/s eta 0:00:01\r\u001b[K     |████████████████████████████████| 1.3MB 12.9MB/s \n",
            "\u001b[?25hRequirement already satisfied: numpy>=1.16.2 in /usr/local/lib/python3.6/dist-packages (from mlxtend==0.17.0) (1.18.5)\n",
            "Requirement already satisfied: joblib>=0.13.2 in /usr/local/lib/python3.6/dist-packages (from mlxtend==0.17.0) (0.15.1)\n",
            "Requirement already satisfied: matplotlib>=3.0.0 in /usr/local/lib/python3.6/dist-packages (from mlxtend==0.17.0) (3.2.1)\n",
            "Requirement already satisfied: setuptools in /usr/local/lib/python3.6/dist-packages (from mlxtend==0.17.0) (47.1.1)\n",
            "Requirement already satisfied: scikit-learn>=0.20.3 in /usr/local/lib/python3.6/dist-packages (from mlxtend==0.17.0) (0.22.2.post1)\n",
            "Requirement already satisfied: pandas>=0.24.2 in /usr/local/lib/python3.6/dist-packages (from mlxtend==0.17.0) (1.0.4)\n",
            "Requirement already satisfied: scipy>=1.2.1 in /usr/local/lib/python3.6/dist-packages (from mlxtend==0.17.0) (1.4.1)\n",
            "Requirement already satisfied: pyparsing!=2.0.4,!=2.1.2,!=2.1.6,>=2.0.1 in /usr/local/lib/python3.6/dist-packages (from matplotlib>=3.0.0->mlxtend==0.17.0) (2.4.7)\n",
            "Requirement already satisfied: cycler>=0.10 in /usr/local/lib/python3.6/dist-packages (from matplotlib>=3.0.0->mlxtend==0.17.0) (0.10.0)\n",
            "Requirement already satisfied: python-dateutil>=2.1 in /usr/local/lib/python3.6/dist-packages (from matplotlib>=3.0.0->mlxtend==0.17.0) (2.8.1)\n",
            "Requirement already satisfied: kiwisolver>=1.0.1 in /usr/local/lib/python3.6/dist-packages (from matplotlib>=3.0.0->mlxtend==0.17.0) (1.2.0)\n",
            "Requirement already satisfied: pytz>=2017.2 in /usr/local/lib/python3.6/dist-packages (from pandas>=0.24.2->mlxtend==0.17.0) (2018.9)\n",
            "Requirement already satisfied: six in /usr/local/lib/python3.6/dist-packages (from cycler>=0.10->matplotlib>=3.0.0->mlxtend==0.17.0) (1.12.0)\n",
            "Installing collected packages: mlxtend\n",
            "  Found existing installation: mlxtend 0.14.0\n",
            "    Uninstalling mlxtend-0.14.0:\n",
            "      Successfully uninstalled mlxtend-0.14.0\n",
            "Successfully installed mlxtend-0.17.0\n"
          ],
          "name": "stdout"
        }
      ]
    },
    {
      "cell_type": "code",
      "metadata": {
        "id": "9QqE48CLYgff",
        "colab_type": "code",
        "outputId": "6ad151c6-96f9-40a4-ae6f-8e708c210636",
        "colab": {
          "base_uri": "https://localhost:8080/",
          "height": 595
        }
      },
      "source": [
        "#Install ABOD\n",
        "!pip install pyod"
      ],
      "execution_count": 5,
      "outputs": [
        {
          "output_type": "stream",
          "text": [
            "Collecting pyod\n",
            "\u001b[?25l  Downloading https://files.pythonhosted.org/packages/cf/68/99df05e5666248e9c10359457e2da1b89943f5ac96749ceb1c131001eb88/pyod-0.8.0.tar.gz (93kB)\n",
            "\r\u001b[K     |███▌                            | 10kB 19.9MB/s eta 0:00:01\r\u001b[K     |███████                         | 20kB 23.1MB/s eta 0:00:01\r\u001b[K     |██████████▋                     | 30kB 26.0MB/s eta 0:00:01\r\u001b[K     |██████████████                  | 40kB 27.1MB/s eta 0:00:01\r\u001b[K     |█████████████████▋              | 51kB 15.6MB/s eta 0:00:01\r\u001b[K     |█████████████████████▏          | 61kB 14.0MB/s eta 0:00:01\r\u001b[K     |████████████████████████▋       | 71kB 13.0MB/s eta 0:00:01\r\u001b[K     |████████████████████████████▏   | 81kB 14.1MB/s eta 0:00:01\r\u001b[K     |███████████████████████████████▊| 92kB 12.5MB/s eta 0:00:01\r\u001b[K     |████████████████████████████████| 102kB 7.6MB/s \n",
            "\u001b[?25hCollecting combo\n",
            "  Downloading https://files.pythonhosted.org/packages/78/52/e880bd923eba122515307d29ab43c1c356bad60610c27bed2cdec25d0240/combo-0.1.0.tar.gz\n",
            "Requirement already satisfied: joblib in /usr/local/lib/python3.6/dist-packages (from pyod) (0.15.1)\n",
            "Requirement already satisfied: matplotlib in /usr/local/lib/python3.6/dist-packages (from pyod) (3.2.1)\n",
            "Requirement already satisfied: numpy>=1.13 in /usr/local/lib/python3.6/dist-packages (from pyod) (1.18.5)\n",
            "Requirement already satisfied: numba>=0.35 in /usr/local/lib/python3.6/dist-packages (from pyod) (0.48.0)\n",
            "Requirement already satisfied: scipy>=0.19.1 in /usr/local/lib/python3.6/dist-packages (from pyod) (1.4.1)\n",
            "Requirement already satisfied: scikit_learn>=0.19.1 in /usr/local/lib/python3.6/dist-packages (from pyod) (0.22.2.post1)\n",
            "Requirement already satisfied: six in /usr/local/lib/python3.6/dist-packages (from pyod) (1.12.0)\n",
            "Collecting suod\n",
            "\u001b[?25l  Downloading https://files.pythonhosted.org/packages/a1/87/9170cabe1b5e10a7d095c0e28f2e30e7c1886a13f063de85d3cfacc06f4b/suod-0.0.4.tar.gz (2.1MB)\n",
            "\u001b[K     |████████████████████████████████| 2.1MB 13.0MB/s \n",
            "\u001b[?25hRequirement already satisfied: kiwisolver>=1.0.1 in /usr/local/lib/python3.6/dist-packages (from matplotlib->pyod) (1.2.0)\n",
            "Requirement already satisfied: pyparsing!=2.0.4,!=2.1.2,!=2.1.6,>=2.0.1 in /usr/local/lib/python3.6/dist-packages (from matplotlib->pyod) (2.4.7)\n",
            "Requirement already satisfied: cycler>=0.10 in /usr/local/lib/python3.6/dist-packages (from matplotlib->pyod) (0.10.0)\n",
            "Requirement already satisfied: python-dateutil>=2.1 in /usr/local/lib/python3.6/dist-packages (from matplotlib->pyod) (2.8.1)\n",
            "Requirement already satisfied: llvmlite<0.32.0,>=0.31.0dev0 in /usr/local/lib/python3.6/dist-packages (from numba>=0.35->pyod) (0.31.0)\n",
            "Requirement already satisfied: setuptools in /usr/local/lib/python3.6/dist-packages (from numba>=0.35->pyod) (47.1.1)\n",
            "Building wheels for collected packages: pyod, combo, suod\n",
            "  Building wheel for pyod (setup.py) ... \u001b[?25l\u001b[?25hdone\n",
            "  Created wheel for pyod: filename=pyod-0.8.0-cp36-none-any.whl size=105563 sha256=65e4657ea41345d70aecafc4b9e7cb63e396222c6cbafe66bebf2e1b050317a2\n",
            "  Stored in directory: /root/.cache/pip/wheels/ba/a6/81/2dd042e240090f3603a686b897d03402219a86e3f61bc71184\n",
            "  Building wheel for combo (setup.py) ... \u001b[?25l\u001b[?25hdone\n",
            "  Created wheel for combo: filename=combo-0.1.0-cp36-none-any.whl size=42043 sha256=1de0ddde6a3d41a62269cefecf25c1256706157cd411c078a92b28edd1de63f0\n",
            "  Stored in directory: /root/.cache/pip/wheels/00/fd/6c/8da495ef08ce61844a646df2423c2b8ecda377a89c90ecd88e\n",
            "  Building wheel for suod (setup.py) ... \u001b[?25l\u001b[?25hdone\n",
            "  Created wheel for suod: filename=suod-0.0.4-cp36-none-any.whl size=2167157 sha256=1db2649a24963dc03f049d4d923898f9e579e6c4c030e38f2ec539f419b70c6d\n",
            "  Stored in directory: /root/.cache/pip/wheels/57/55/e5/a4fca65bba231f6d0115059b589148774b41faea25b3f2aa27\n",
            "Successfully built pyod combo suod\n",
            "Installing collected packages: combo, suod, pyod\n",
            "Successfully installed combo-0.1.0 pyod-0.8.0 suod-0.0.4\n"
          ],
          "name": "stdout"
        }
      ]
    },
    {
      "cell_type": "code",
      "metadata": {
        "id": "kYIqRhldYyR7",
        "colab_type": "code",
        "outputId": "e3e32afd-d3a4-4620-b11e-5c7e5937ffe5",
        "colab": {
          "base_uri": "https://localhost:8080/",
          "height": 102
        }
      },
      "source": [
        "!pip install imbalanced-learn"
      ],
      "execution_count": 6,
      "outputs": [
        {
          "output_type": "stream",
          "text": [
            "Requirement already satisfied: imbalanced-learn in /usr/local/lib/python3.6/dist-packages (0.4.3)\n",
            "Requirement already satisfied: numpy>=1.8.2 in /usr/local/lib/python3.6/dist-packages (from imbalanced-learn) (1.18.5)\n",
            "Requirement already satisfied: scipy>=0.13.3 in /usr/local/lib/python3.6/dist-packages (from imbalanced-learn) (1.4.1)\n",
            "Requirement already satisfied: scikit-learn>=0.20 in /usr/local/lib/python3.6/dist-packages (from imbalanced-learn) (0.22.2.post1)\n",
            "Requirement already satisfied: joblib>=0.11 in /usr/local/lib/python3.6/dist-packages (from scikit-learn>=0.20->imbalanced-learn) (0.15.1)\n"
          ],
          "name": "stdout"
        }
      ]
    },
    {
      "cell_type": "code",
      "metadata": {
        "id": "vosbW3hMUdfz",
        "colab_type": "code",
        "outputId": "8d07e33d-4e78-49dd-d86c-355187644593",
        "colab": {
          "base_uri": "https://localhost:8080/",
          "height": 34
        }
      },
      "source": [
        "import tensorflow as tf\n",
        "from tensorflow.keras import Sequential\n",
        "from tensorflow.keras.layers import  Flatten, Dense, Conv1D, MaxPool1D, Dropout\n",
        "from tensorflow.keras.layers import BatchNormalization\n",
        "from tensorflow.keras.optimizers import Adam\n",
        "print(tf.__version__)"
      ],
      "execution_count": 7,
      "outputs": [
        {
          "output_type": "stream",
          "text": [
            "2.2.0\n"
          ],
          "name": "stdout"
        }
      ]
    },
    {
      "cell_type": "code",
      "metadata": {
        "id": "P7ZdEQdtYKvV",
        "colab_type": "code",
        "colab": {}
      },
      "source": [
        "#Import helpers\n",
        "!cp \"/content/drive/My Drive/back_order_predictor_v2/helpers/helpers.py\" .\n",
        "!cp \"/content/drive/My Drive/back_order_predictor_v2/helpers/make_confusion_matrix.py\" ."
      ],
      "execution_count": 0,
      "outputs": []
    },
    {
      "cell_type": "code",
      "metadata": {
        "id": "PvPBVqeTYZUk",
        "colab_type": "code",
        "colab": {}
      },
      "source": [
        "import sys"
      ],
      "execution_count": 0,
      "outputs": []
    },
    {
      "cell_type": "code",
      "metadata": {
        "id": "oOPpBRV3YZGW",
        "colab_type": "code",
        "colab": {}
      },
      "source": [
        "sys.path.append(\"/content/drive/My Drive/back_order_predictor_v2/helpers\")"
      ],
      "execution_count": 0,
      "outputs": []
    },
    {
      "cell_type": "code",
      "metadata": {
        "id": "dAVedPxxUg4b",
        "colab_type": "code",
        "colab": {}
      },
      "source": [
        "import pandas as pd\n",
        "import numpy as np\n",
        "import matplotlib.pyplot as plt\n",
        "import matplotlib\n",
        "import warnings\n",
        "from sklearn.model_selection import train_test_split\n",
        "from sklearn.metrics import classification_report, confusion_matrix\n",
        "import make_confusion_matrix\n",
        "import helpers\n",
        "import math"
      ],
      "execution_count": 0,
      "outputs": []
    },
    {
      "cell_type": "code",
      "metadata": {
        "id": "6zTwShhlnLSt",
        "colab_type": "code",
        "colab": {}
      },
      "source": [
        "import numpy as np \n",
        "import pandas as pd\n",
        "from sklearn.base import BaseEstimator, TransformerMixin\n",
        "from sklearn.preprocessing import OneHotEncoder, StandardScaler\n",
        "from sklearn.impute import SimpleImputer\n",
        "from sklearn.pipeline import FeatureUnion, Pipeline\n",
        "from sklearn.pipeline import make_pipeline\n",
        "import sklearn.preprocessing\n",
        "from sklearn.compose import make_column_transformer\n",
        "from sklearn.compose import ColumnTransformer\n",
        "from sklearn.preprocessing import OneHotEncoder\n",
        "from sklearn.preprocessing import OrdinalEncoder\n",
        "from sklearn.preprocessing import StandardScaler\n",
        "#from sklearn.ensemble import RandomForestRegressor, GradientBoostingRegressor\n",
        "#from sklearn.linear_model import Lasso, Ridge, ElasticNet\n",
        "from sklearn.linear_model import LogisticRegression\n",
        "#from sklearn import svm\n",
        "from sklearn.svm import SVC\n",
        "from sklearn.ensemble import RandomForestClassifier, GradientBoostingClassifier\n",
        "#from catboost import CatBoostClassifier\n",
        "from sklearn.preprocessing import PowerTransformer\n",
        "\n",
        "\n",
        "#from sklearn.model_selection import GridSearchCV\n",
        "from sklearn.model_selection import RandomizedSearchCV\n",
        "import pickle\n",
        "from sklearn.feature_selection import SelectKBest\n",
        "from sklearn.feature_selection import chi2\n",
        "import matplotlib.pyplot as plt\n",
        "\n",
        "import warnings\n",
        "warnings.filterwarnings('ignore')\n",
        "\n",
        "#to adjust figsize of plots\n",
        "plt.rcParams['figure.figsize'] = (20,6)\n",
        "pd.set_option('display.max_columns', None)"
      ],
      "execution_count": 0,
      "outputs": []
    },
    {
      "cell_type": "code",
      "metadata": {
        "id": "oZWn52COnLbT",
        "colab_type": "code",
        "colab": {}
      },
      "source": [
        "#Define data file path and target variable\n",
        "#file = 'derived_data/validate_data.csv'\n",
        "file = \"/content/drive/My Drive/back_order_predictor_v2/derived_data/train_data.csv\"\n",
        "target = 'went_on_backorder_Yes'\n",
        "#test_features = pd.read_csv('derived_data/test_data.csv')"
      ],
      "execution_count": 0,
      "outputs": []
    },
    {
      "cell_type": "code",
      "metadata": {
        "id": "VUgLfQbHnLgF",
        "colab_type": "code",
        "colab": {}
      },
      "source": [
        "class Data():\n",
        "    '''Loads data, samples training data if specified, assigns features_df and target_df\n",
        "    '''\n",
        "    def __init__(self, file, target, sample=False, n_samples=None):\n",
        "        self.file = file\n",
        "        self. sample = sample\n",
        "        self.n_sample = n_sample\n",
        "        self.target = target\n",
        "    \n",
        "    def get_data(file, sample=False, n_samples=None):\n",
        "        '''Loads train data with option to sample'''\n",
        "        data = pd.read_csv(file)\n",
        "        if sample:\n",
        "            '''Sample train data due to resource limitation'''\n",
        "            data = data.sample(n_samples, random_state=123)\n",
        "        else:\n",
        "            data = data\n",
        "        print(data.shape, 'data loaded')\n",
        "        return data\n",
        "         \n",
        "    def get_features():\n",
        "        '''Assigns features dataframe'''\n",
        "        features_df = data.drop(target, axis = 1)\n",
        "        print(features_df.shape, 'features assigned')\n",
        "        return features_df\n",
        "        \n",
        "    def get_target():\n",
        "        '''Assigns target'''\n",
        "        target_df = data[target].values\n",
        "        print(target_df.shape, '...target rows loaded')\n",
        "        return target_df\n",
        "    \n",
        "\n",
        "class FeatureSelector(BaseEstimator, TransformerMixin):\n",
        "    '''Custom transformer to extract columns passed as arguments'''\n",
        "    \n",
        "    def __init__(self, feature_names):\n",
        "        '''Class constructor'''\n",
        "        self._feature_names = feature_names\n",
        "        \n",
        "    def fit(self, features_df, target = None):\n",
        "        '''Returns self and nothing else'''\n",
        "        return self\n",
        "    \n",
        "    def transform( self, features_df, target = None):\n",
        "        '''This method returns selected features'''\n",
        "        return features_df[ self._feature_names] \n",
        "    \n",
        "\n",
        "class FeatureSelector(BaseEstimator, TransformerMixin):\n",
        "    '''Custom transformer to extract columns passed as arguments'''\n",
        "    \n",
        "    def __init__(self, feature_names):\n",
        "        '''Class constructor'''\n",
        "        self._feature_names = feature_names\n",
        "        \n",
        "    def fit(self, features_df, target = None):\n",
        "        '''Returns self and nothing else'''\n",
        "        return self\n",
        "    \n",
        "    def transform( self, features_df, target = None):\n",
        "        '''This method returns selected features'''\n",
        "        return features_df[ self._feature_names] \n",
        "    \n",
        "\n",
        "class DropMissing(BaseEstimator, TransformerMixin, object):\n",
        "    '''Takes df, drops all observaions with missing values\n",
        "    '''\n",
        "    features_df_test = pd.DataFrame()\n",
        "    def __init__(self, features_df):\n",
        "        self.features_df = features_df\n",
        "\n",
        "    def fit(self, features_df, target=None):\n",
        "        return self\n",
        "    \n",
        "    def transform(self, features_df, target=None):\n",
        "        features_df_test = features_df.dropna(axis = 0, how = 'any', inplace = False)\n",
        "        return features_df_test\n",
        "    \n",
        "\n",
        "class BinNumeric(BaseEstimator, TransformerMixin):\n",
        "    '''Takes numeric column, returns binned column\n",
        "     Args:\n",
        "         bins: list of class bins\n",
        "         col: Numerical column to bin\n",
        "    '''\n",
        "    #col=None\n",
        "    bins=[0,6,11,35]\n",
        "    def __init__(self, features_df):\n",
        "        self.features_df = features_df\n",
        "        #self.bins = bins\n",
        "        #self.col = col\n",
        "        \n",
        "        \n",
        "    def fit(self, features_df, target=None):\n",
        "        return self\n",
        "    \n",
        "    def transform(self, features_df, target=None):\n",
        "        #BinNumeric.col = col\n",
        "        #features_df['binned'] = np.searchsorted(bins, features_df[BinNumeric.col].values)\n",
        "        #features_df.drop\n",
        "        #bins=[0,6,11,35]\n",
        "        features_df['binned'] = np.searchsorted(BinNumeric.bins, features_df.iloc[:,0].values)\n",
        "        return features_df\n",
        "\n",
        "#bins = [0,6,11,35]\n",
        "#data['leadtime_binned'] = np.searchsorted(bins,data['lead_time'].values)    \n",
        "\n",
        "class PowerTransform(BaseEstimator, TransformerMixin):\n",
        "    '''Takes df, applies power transformation\n",
        "    '''\n",
        "    def __init__(self, features_df, target=None):\n",
        "        self.features_df = features_df\n",
        "    \n",
        "    def fit(self, features_df, target=None):\n",
        "        return self\n",
        "\n",
        "    def transform(self, features_df, target=None):\n",
        "        power = PowerTransformer(method= 'yeo-johnson', standardize=True)\n",
        "        \n",
        "        #Apply power transformation to features df\n",
        "        features_df = power.fit_transform(features_df)\n",
        "\n",
        "        return features_df\n",
        "    \n",
        "    \n",
        "class DelUnusedCols(BaseEstimator, TransformerMixin):\n",
        "    '''This transformer deletes unused columns from a data pipeline\n",
        "       Column 14,15, and 16 holds original columns that were transformed through one-hot encoding.\n",
        "       These columns are no longer needed\n",
        "    '''    \n",
        "    def __init__(self, features_df, target=None):\n",
        "        self.features_df = features_df\n",
        "        \n",
        "    def fit(self, features_df, target=None):\n",
        "        return self\n",
        "    \n",
        "    def transform(self, features_df, target=None):\n",
        "        a = features_df.values\n",
        "        #Delete work, family, and state features\n",
        "        #a = np.delete(a,[7,8,9],1)\n",
        "        a = np.delete(a,[0],1)\n",
        "        features_df = a\n",
        "        return features_df"
      ],
      "execution_count": 0,
      "outputs": []
    },
    {
      "cell_type": "code",
      "metadata": {
        "id": "y6iB6u4xnLkD",
        "colab_type": "code",
        "colab": {
          "base_uri": "https://localhost:8080/",
          "height": 68
        },
        "outputId": "9afca863-715a-49bd-afb4-4f27e348fbc6"
      },
      "source": [
        "if __name__ == '__main__':\n",
        "    \n",
        "    #Load data\n",
        "    data = Data.get_data(file, sample=True, n_samples = 10000)\n",
        "    features_df = Data.get_features()\n",
        "    target_df = Data.get_target()\n",
        "    \n",
        "    '''Data transformation pipelines'''\n",
        "    #Categrical features to pass down categorical pipeline \n",
        "    categorical_features = ['lead_time','oe_constraint_Yes', 'potential_issue_Yes',\n",
        "                       'ppap_risk_Yes','stop_auto_buy_Yes']\n",
        "\n",
        "    #Numerical features to pass down numerical pipeline \n",
        "    numerical_features = ['lead_time','national_inv','in_transit_qty', 'sales_1_month',\n",
        "                     'pieces_past_due']\n",
        "    \n",
        "    #Defining steps in the categorical pipeline \n",
        "    categorical_pipeline = Pipeline( steps = [('cat_selector', FeatureSelector(categorical_features)),\n",
        "                                                                                                                              \n",
        "                                              #('drop_missing', DropMissing(features_df)),\n",
        "                                              \n",
        "                                              ('bin_numeric', BinNumeric(features_df)),\n",
        "                                          \n",
        "                                              ('delete_unused', DelUnusedCols(features_df))\n",
        "                                         \n",
        "                                         ])\n",
        "    \n",
        "    #Defining the steps in the numerical pipeline \n",
        "    numerical_pipeline = Pipeline( steps = [('num_selector', FeatureSelector(numerical_features)),\n",
        "                                        \n",
        "                                            #('drop_missing', DropMissing(features_df)),\n",
        "                                            \n",
        "                                            ('delete_unused', DelUnusedCols(features_df)),\n",
        "                                        \n",
        "                                            ('power_transform', PowerTransform(features_df))\n",
        "                                   \n",
        "                                       ] )\n",
        "    \n",
        "    #Combine numerical and categorical pieplines horizontally using FeatureUnion\n",
        "    full_pipeline = FeatureUnion( transformer_list = [('categorical_pipeline', categorical_pipeline), \n",
        "                                                  \n",
        "                                                      ('numerical_pipeline', numerical_pipeline )])\n",
        "    #Disabling pandas chained_assignment warning\n",
        "    pd.options.mode.chained_assignment = None\n",
        "    \n",
        "    #Fitting data to data transformation pipeline\n",
        "    prepared_features_df = full_pipeline.fit_transform(features_df, target_df)"
      ],
      "execution_count": 48,
      "outputs": [
        {
          "output_type": "stream",
          "text": [
            "(10000, 23) data loaded\n",
            "(10000, 22) features assigned\n",
            "(10000,) ...target rows loaded\n"
          ],
          "name": "stdout"
        }
      ]
    },
    {
      "cell_type": "code",
      "metadata": {
        "id": "sIU2zRykpJDg",
        "colab_type": "code",
        "colab": {
          "base_uri": "https://localhost:8080/",
          "height": 238
        },
        "outputId": "bdc63085-155d-4a74-df33-ffca6187cb71"
      },
      "source": [
        "prepared_features_df"
      ],
      "execution_count": 49,
      "outputs": [
        {
          "output_type": "execute_result",
          "data": {
            "text/plain": [
              "array([[ 0.        ,  0.        ,  0.        , ..., -0.50480336,\n",
              "        -0.79919206, -0.11431791],\n",
              "       [ 0.        ,  0.        ,  1.        , ..., -0.50480336,\n",
              "        -0.79919206, -0.11431791],\n",
              "       [ 0.        ,  0.        ,  1.        , ..., -0.50480336,\n",
              "        -0.79919206, -0.11431791],\n",
              "       ...,\n",
              "       [ 0.        ,  0.        ,  0.        , ...,  1.77571404,\n",
              "         1.45214542, -0.11431791],\n",
              "       [ 0.        ,  0.        ,  0.        , ..., -0.50480336,\n",
              "        -0.79919206, -0.11431791],\n",
              "       [ 0.        ,  0.        ,  0.        , ..., -0.50480336,\n",
              "         0.19155881, -0.11431791]])"
            ]
          },
          "metadata": {
            "tags": []
          },
          "execution_count": 49
        }
      ]
    },
    {
      "cell_type": "code",
      "metadata": {
        "id": "nA54ORvipJIX",
        "colab_type": "code",
        "colab": {
          "base_uri": "https://localhost:8080/",
          "height": 34
        },
        "outputId": "af874be8-3792-48db-dfd1-dc6bfacf9856"
      },
      "source": [
        "# Split the columns of data into input and output variables.\n",
        "# split into input (X) and output (y) variables\n",
        "X = prepared_features_df\n",
        "y = target_df\n",
        "print(X.shape, y.shape)"
      ],
      "execution_count": 50,
      "outputs": [
        {
          "output_type": "stream",
          "text": [
            "(10000, 9) (10000,)\n"
          ],
          "name": "stdout"
        }
      ]
    },
    {
      "cell_type": "code",
      "metadata": {
        "id": "vkorf04dp7Hb",
        "colab_type": "code",
        "colab": {}
      },
      "source": [
        ""
      ],
      "execution_count": 0,
      "outputs": []
    },
    {
      "cell_type": "code",
      "metadata": {
        "id": "SVFUvC3mp7LM",
        "colab_type": "code",
        "colab": {
          "base_uri": "https://localhost:8080/",
          "height": 34
        },
        "outputId": "43a25dab-c8ef-4acd-d953-3d772b584c78"
      },
      "source": [
        "test_df = pd.read_csv(\"/content/drive/My Drive/back_order_predictor_v2/derived_data/train_data.csv\")\n",
        "print(test_df.shape)"
      ],
      "execution_count": 52,
      "outputs": [
        {
          "output_type": "stream",
          "text": [
            "(1350288, 23)\n"
          ],
          "name": "stdout"
        }
      ]
    },
    {
      "cell_type": "code",
      "metadata": {
        "id": "Ttw5Alqhp7OC",
        "colab_type": "code",
        "colab": {
          "base_uri": "https://localhost:8080/",
          "height": 224
        },
        "outputId": "62334f3f-f6ee-45bc-df29-7f389d76fa42"
      },
      "source": [
        "test_df.head()"
      ],
      "execution_count": 44,
      "outputs": [
        {
          "output_type": "execute_result",
          "data": {
            "text/html": [
              "<div>\n",
              "<style scoped>\n",
              "    .dataframe tbody tr th:only-of-type {\n",
              "        vertical-align: middle;\n",
              "    }\n",
              "\n",
              "    .dataframe tbody tr th {\n",
              "        vertical-align: top;\n",
              "    }\n",
              "\n",
              "    .dataframe thead th {\n",
              "        text-align: right;\n",
              "    }\n",
              "</style>\n",
              "<table border=\"1\" class=\"dataframe\">\n",
              "  <thead>\n",
              "    <tr style=\"text-align: right;\">\n",
              "      <th></th>\n",
              "      <th>sku</th>\n",
              "      <th>national_inv</th>\n",
              "      <th>lead_time</th>\n",
              "      <th>in_transit_qty</th>\n",
              "      <th>forecast_3_month</th>\n",
              "      <th>forecast_6_month</th>\n",
              "      <th>forecast_9_month</th>\n",
              "      <th>sales_1_month</th>\n",
              "      <th>sales_3_month</th>\n",
              "      <th>sales_6_month</th>\n",
              "      <th>sales_9_month</th>\n",
              "      <th>min_bank</th>\n",
              "      <th>pieces_past_due</th>\n",
              "      <th>perf_6_month_avg</th>\n",
              "      <th>perf_12_month_avg</th>\n",
              "      <th>local_bo_qty</th>\n",
              "      <th>potential_issue_Yes</th>\n",
              "      <th>deck_risk_Yes</th>\n",
              "      <th>oe_constraint_Yes</th>\n",
              "      <th>ppap_risk_Yes</th>\n",
              "      <th>stop_auto_buy_Yes</th>\n",
              "      <th>rev_stop_Yes</th>\n",
              "      <th>went_on_backorder_Yes</th>\n",
              "    </tr>\n",
              "  </thead>\n",
              "  <tbody>\n",
              "    <tr>\n",
              "      <th>0</th>\n",
              "      <td>1486266</td>\n",
              "      <td>139.0</td>\n",
              "      <td>8.0</td>\n",
              "      <td>6.0</td>\n",
              "      <td>0.0</td>\n",
              "      <td>350.0</td>\n",
              "      <td>350.0</td>\n",
              "      <td>18.0</td>\n",
              "      <td>52.0</td>\n",
              "      <td>115.0</td>\n",
              "      <td>185.0</td>\n",
              "      <td>24.0</td>\n",
              "      <td>0.0</td>\n",
              "      <td>0.98</td>\n",
              "      <td>0.99</td>\n",
              "      <td>0.0</td>\n",
              "      <td>0</td>\n",
              "      <td>0</td>\n",
              "      <td>0</td>\n",
              "      <td>0</td>\n",
              "      <td>1</td>\n",
              "      <td>0</td>\n",
              "      <td>0</td>\n",
              "    </tr>\n",
              "    <tr>\n",
              "      <th>1</th>\n",
              "      <td>1468661</td>\n",
              "      <td>-2.0</td>\n",
              "      <td>14.0</td>\n",
              "      <td>0.0</td>\n",
              "      <td>3.0</td>\n",
              "      <td>24.0</td>\n",
              "      <td>32.0</td>\n",
              "      <td>10.0</td>\n",
              "      <td>31.0</td>\n",
              "      <td>33.0</td>\n",
              "      <td>33.0</td>\n",
              "      <td>18.0</td>\n",
              "      <td>0.0</td>\n",
              "      <td>0.91</td>\n",
              "      <td>0.88</td>\n",
              "      <td>2.0</td>\n",
              "      <td>0</td>\n",
              "      <td>0</td>\n",
              "      <td>0</td>\n",
              "      <td>0</td>\n",
              "      <td>1</td>\n",
              "      <td>0</td>\n",
              "      <td>0</td>\n",
              "    </tr>\n",
              "    <tr>\n",
              "      <th>2</th>\n",
              "      <td>2140959</td>\n",
              "      <td>7529.0</td>\n",
              "      <td>8.0</td>\n",
              "      <td>8.0</td>\n",
              "      <td>2500.0</td>\n",
              "      <td>2500.0</td>\n",
              "      <td>2500.0</td>\n",
              "      <td>71.0</td>\n",
              "      <td>114.0</td>\n",
              "      <td>1563.0</td>\n",
              "      <td>2419.0</td>\n",
              "      <td>117.0</td>\n",
              "      <td>0.0</td>\n",
              "      <td>1.00</td>\n",
              "      <td>1.00</td>\n",
              "      <td>0.0</td>\n",
              "      <td>0</td>\n",
              "      <td>0</td>\n",
              "      <td>0</td>\n",
              "      <td>0</td>\n",
              "      <td>1</td>\n",
              "      <td>0</td>\n",
              "      <td>0</td>\n",
              "    </tr>\n",
              "    <tr>\n",
              "      <th>3</th>\n",
              "      <td>2197644</td>\n",
              "      <td>792.0</td>\n",
              "      <td>8.0</td>\n",
              "      <td>6.0</td>\n",
              "      <td>0.0</td>\n",
              "      <td>0.0</td>\n",
              "      <td>0.0</td>\n",
              "      <td>7.0</td>\n",
              "      <td>41.0</td>\n",
              "      <td>99.0</td>\n",
              "      <td>192.0</td>\n",
              "      <td>24.0</td>\n",
              "      <td>0.0</td>\n",
              "      <td>0.83</td>\n",
              "      <td>0.91</td>\n",
              "      <td>0.0</td>\n",
              "      <td>0</td>\n",
              "      <td>0</td>\n",
              "      <td>0</td>\n",
              "      <td>0</td>\n",
              "      <td>1</td>\n",
              "      <td>0</td>\n",
              "      <td>0</td>\n",
              "    </tr>\n",
              "    <tr>\n",
              "      <th>4</th>\n",
              "      <td>1943809</td>\n",
              "      <td>3.0</td>\n",
              "      <td>2.0</td>\n",
              "      <td>0.0</td>\n",
              "      <td>0.0</td>\n",
              "      <td>0.0</td>\n",
              "      <td>0.0</td>\n",
              "      <td>0.0</td>\n",
              "      <td>2.0</td>\n",
              "      <td>6.0</td>\n",
              "      <td>6.0</td>\n",
              "      <td>0.0</td>\n",
              "      <td>0.0</td>\n",
              "      <td>0.38</td>\n",
              "      <td>0.40</td>\n",
              "      <td>0.0</td>\n",
              "      <td>0</td>\n",
              "      <td>0</td>\n",
              "      <td>0</td>\n",
              "      <td>0</td>\n",
              "      <td>1</td>\n",
              "      <td>0</td>\n",
              "      <td>1</td>\n",
              "    </tr>\n",
              "  </tbody>\n",
              "</table>\n",
              "</div>"
            ],
            "text/plain": [
              "       sku  national_inv  lead_time  in_transit_qty  forecast_3_month  \\\n",
              "0  1486266         139.0        8.0             6.0               0.0   \n",
              "1  1468661          -2.0       14.0             0.0               3.0   \n",
              "2  2140959        7529.0        8.0             8.0            2500.0   \n",
              "3  2197644         792.0        8.0             6.0               0.0   \n",
              "4  1943809           3.0        2.0             0.0               0.0   \n",
              "\n",
              "   forecast_6_month  forecast_9_month  sales_1_month  sales_3_month  \\\n",
              "0             350.0             350.0           18.0           52.0   \n",
              "1              24.0              32.0           10.0           31.0   \n",
              "2            2500.0            2500.0           71.0          114.0   \n",
              "3               0.0               0.0            7.0           41.0   \n",
              "4               0.0               0.0            0.0            2.0   \n",
              "\n",
              "   sales_6_month  sales_9_month  min_bank  pieces_past_due  perf_6_month_avg  \\\n",
              "0          115.0          185.0      24.0              0.0              0.98   \n",
              "1           33.0           33.0      18.0              0.0              0.91   \n",
              "2         1563.0         2419.0     117.0              0.0              1.00   \n",
              "3           99.0          192.0      24.0              0.0              0.83   \n",
              "4            6.0            6.0       0.0              0.0              0.38   \n",
              "\n",
              "   perf_12_month_avg  local_bo_qty  potential_issue_Yes  deck_risk_Yes  \\\n",
              "0               0.99           0.0                    0              0   \n",
              "1               0.88           2.0                    0              0   \n",
              "2               1.00           0.0                    0              0   \n",
              "3               0.91           0.0                    0              0   \n",
              "4               0.40           0.0                    0              0   \n",
              "\n",
              "   oe_constraint_Yes  ppap_risk_Yes  stop_auto_buy_Yes  rev_stop_Yes  \\\n",
              "0                  0              0                  1             0   \n",
              "1                  0              0                  1             0   \n",
              "2                  0              0                  1             0   \n",
              "3                  0              0                  1             0   \n",
              "4                  0              0                  1             0   \n",
              "\n",
              "   went_on_backorder_Yes  \n",
              "0                      0  \n",
              "1                      0  \n",
              "2                      0  \n",
              "3                      0  \n",
              "4                      1  "
            ]
          },
          "metadata": {
            "tags": []
          },
          "execution_count": 44
        }
      ]
    },
    {
      "cell_type": "code",
      "metadata": {
        "id": "2rH0565DpJXj",
        "colab_type": "code",
        "colab": {}
      },
      "source": [
        "del test_df"
      ],
      "execution_count": 0,
      "outputs": []
    },
    {
      "cell_type": "code",
      "metadata": {
        "id": "CT7DWk7opJbR",
        "colab_type": "code",
        "colab": {}
      },
      "source": [
        ""
      ],
      "execution_count": 0,
      "outputs": []
    },
    {
      "cell_type": "code",
      "metadata": {
        "id": "QpGxvJdJpJfA",
        "colab_type": "code",
        "colab": {}
      },
      "source": [
        ""
      ],
      "execution_count": 0,
      "outputs": []
    },
    {
      "cell_type": "code",
      "metadata": {
        "id": "NpRnc2mVnLnU",
        "colab_type": "code",
        "colab": {}
      },
      "source": [
        ""
      ],
      "execution_count": 0,
      "outputs": []
    },
    {
      "cell_type": "markdown",
      "metadata": {
        "id": "zbe9vUtSaPE3",
        "colab_type": "text"
      },
      "source": [
        "# Load Data\n",
        "Note that to constract an ANN we need to have data as an array"
      ]
    },
    {
      "cell_type": "code",
      "metadata": {
        "id": "J_RYSkJZUg72",
        "colab_type": "code",
        "outputId": "1e60f6f7-3786-4e46-cdd1-f2548713a620",
        "colab": {
          "base_uri": "https://localhost:8080/",
          "height": 34
        }
      },
      "source": [
        "url = \"/content/drive/My Drive/back_order_predictor_v2/derived_data/train_data_abt.csv\"\n",
        "dataset = pd.read_csv(url, header=0)\n",
        "print(dataset.shape)"
      ],
      "execution_count": 0,
      "outputs": [
        {
          "output_type": "stream",
          "text": [
            "(2521286, 9)\n"
          ],
          "name": "stdout"
        }
      ]
    },
    {
      "cell_type": "code",
      "metadata": {
        "id": "dS8AovZtbRYH",
        "colab_type": "code",
        "outputId": "5005c010-41af-4f1f-f7ae-ec6446044309",
        "colab": {
          "base_uri": "https://localhost:8080/",
          "height": 204
        }
      },
      "source": [
        "dataset.head()"
      ],
      "execution_count": 0,
      "outputs": [
        {
          "output_type": "execute_result",
          "data": {
            "text/html": [
              "<div>\n",
              "<style scoped>\n",
              "    .dataframe tbody tr th:only-of-type {\n",
              "        vertical-align: middle;\n",
              "    }\n",
              "\n",
              "    .dataframe tbody tr th {\n",
              "        vertical-align: top;\n",
              "    }\n",
              "\n",
              "    .dataframe thead th {\n",
              "        text-align: right;\n",
              "    }\n",
              "</style>\n",
              "<table border=\"1\" class=\"dataframe\">\n",
              "  <thead>\n",
              "    <tr style=\"text-align: right;\">\n",
              "      <th></th>\n",
              "      <th>national_inv</th>\n",
              "      <th>in_transit_qty</th>\n",
              "      <th>sales_1_month</th>\n",
              "      <th>pieces_past_due</th>\n",
              "      <th>potential_issue_Yes</th>\n",
              "      <th>oe_constraint_Yes</th>\n",
              "      <th>ppap_risk_Yes</th>\n",
              "      <th>stop_auto_buy_Yes</th>\n",
              "      <th>backorder</th>\n",
              "    </tr>\n",
              "  </thead>\n",
              "  <tbody>\n",
              "    <tr>\n",
              "      <th>0</th>\n",
              "      <td>-0.005243</td>\n",
              "      <td>1.938134</td>\n",
              "      <td>1.458893</td>\n",
              "      <td>-0.127225</td>\n",
              "      <td>-0.023405</td>\n",
              "      <td>-0.012521</td>\n",
              "      <td>-0.367299</td>\n",
              "      <td>0.159142</td>\n",
              "      <td>0</td>\n",
              "    </tr>\n",
              "    <tr>\n",
              "      <th>1</th>\n",
              "      <td>-0.066974</td>\n",
              "      <td>-0.512815</td>\n",
              "      <td>1.286355</td>\n",
              "      <td>-0.127225</td>\n",
              "      <td>-0.023405</td>\n",
              "      <td>-0.012521</td>\n",
              "      <td>-0.367299</td>\n",
              "      <td>0.159142</td>\n",
              "      <td>0</td>\n",
              "    </tr>\n",
              "    <tr>\n",
              "      <th>2</th>\n",
              "      <td>1.043200</td>\n",
              "      <td>1.992982</td>\n",
              "      <td>1.696634</td>\n",
              "      <td>-0.127225</td>\n",
              "      <td>-0.023405</td>\n",
              "      <td>-0.012521</td>\n",
              "      <td>-0.367299</td>\n",
              "      <td>0.159142</td>\n",
              "      <td>0</td>\n",
              "    </tr>\n",
              "    <tr>\n",
              "      <th>3</th>\n",
              "      <td>0.148776</td>\n",
              "      <td>1.938134</td>\n",
              "      <td>1.154579</td>\n",
              "      <td>-0.127225</td>\n",
              "      <td>-0.023405</td>\n",
              "      <td>-0.012521</td>\n",
              "      <td>-0.367299</td>\n",
              "      <td>0.159142</td>\n",
              "      <td>0</td>\n",
              "    </tr>\n",
              "    <tr>\n",
              "      <th>4</th>\n",
              "      <td>-0.061233</td>\n",
              "      <td>-0.512815</td>\n",
              "      <td>-0.816526</td>\n",
              "      <td>-0.127225</td>\n",
              "      <td>-0.023405</td>\n",
              "      <td>-0.012521</td>\n",
              "      <td>-0.367299</td>\n",
              "      <td>0.159142</td>\n",
              "      <td>1</td>\n",
              "    </tr>\n",
              "  </tbody>\n",
              "</table>\n",
              "</div>"
            ],
            "text/plain": [
              "   national_inv  in_transit_qty  ...  stop_auto_buy_Yes  backorder\n",
              "0     -0.005243        1.938134  ...           0.159142          0\n",
              "1     -0.066974       -0.512815  ...           0.159142          0\n",
              "2      1.043200        1.992982  ...           0.159142          0\n",
              "3      0.148776        1.938134  ...           0.159142          0\n",
              "4     -0.061233       -0.512815  ...           0.159142          1\n",
              "\n",
              "[5 rows x 9 columns]"
            ]
          },
          "metadata": {
            "tags": []
          },
          "execution_count": 13
        }
      ]
    },
    {
      "cell_type": "code",
      "metadata": {
        "id": "0skKMqwAUg_Q",
        "colab_type": "code",
        "outputId": "150ebced-9349-4402-9dbb-1b2a824e75c4",
        "colab": {
          "base_uri": "https://localhost:8080/",
          "height": 34
        }
      },
      "source": [
        "#Sample data to manage training time\n",
        "#Sample data to manage training time\n",
        "data = dataset.sample(frac=0.01, random_state=7)\n",
        "print(data.shape)"
      ],
      "execution_count": 0,
      "outputs": [
        {
          "output_type": "stream",
          "text": [
            "(25213, 9)\n"
          ],
          "name": "stdout"
        }
      ]
    },
    {
      "cell_type": "code",
      "metadata": {
        "id": "soRKy8ETUhCm",
        "colab_type": "code",
        "colab": {}
      },
      "source": [
        "#Convert to numy array\n",
        "data = data.to_numpy()"
      ],
      "execution_count": 0,
      "outputs": []
    },
    {
      "cell_type": "code",
      "metadata": {
        "id": "hgabmjmiUhGH",
        "colab_type": "code",
        "outputId": "0747f358-2b7e-47a5-89b3-3fc9ffd7a460",
        "colab": {
          "base_uri": "https://localhost:8080/",
          "height": 238
        }
      },
      "source": [
        "data"
      ],
      "execution_count": 0,
      "outputs": [
        {
          "output_type": "execute_result",
          "data": {
            "text/plain": [
              "array([[-0.03515459, -0.51281501, -0.81652628, ..., -0.36729874,\n",
              "         0.15914236,  0.        ],\n",
              "       [-0.0606592 , -0.51281501,  1.41092772, ...,  2.72257942,\n",
              "         0.15914236,  1.        ],\n",
              "       [-0.00492803, -0.51281501,  1.59774747, ..., -0.36729874,\n",
              "         0.15914236,  0.        ],\n",
              "       ...,\n",
              "       [-0.06302699, -0.51281501, -0.81652628, ..., -0.36729874,\n",
              "         0.15914236,  1.        ],\n",
              "       [-0.06302699, -0.51281501,  0.75694978, ..., -0.36729874,\n",
              "         0.15914236,  1.        ],\n",
              "       [ 0.0214535 ,  2.0366684 ,  1.5927375 , ..., -0.36729874,\n",
              "         0.15914236,  0.        ]])"
            ]
          },
          "metadata": {
            "tags": []
          },
          "execution_count": 16
        }
      ]
    },
    {
      "cell_type": "code",
      "metadata": {
        "id": "LFiu8vlFbgqO",
        "colab_type": "code",
        "outputId": "06044c90-5b79-49a3-d7ff-1e96780aee27",
        "colab": {
          "base_uri": "https://localhost:8080/",
          "height": 34
        }
      },
      "source": [
        "# Split the columns of data into input and output variables.\n",
        "# split into input (X) and output (y) variables\n",
        "X = data[:,0:8]\n",
        "y = data[:,8]\n",
        "print(X.shape, y.shape)"
      ],
      "execution_count": 0,
      "outputs": [
        {
          "output_type": "stream",
          "text": [
            "(25213, 8) (25213,)\n"
          ],
          "name": "stdout"
        }
      ]
    },
    {
      "cell_type": "code",
      "metadata": {
        "id": "6SClIKqSbgtv",
        "colab_type": "code",
        "colab": {}
      },
      "source": [
        "#Split data\n",
        "X_train, X_test, y_train, y_test = train_test_split(X,y, test_size=0.2, \n",
        "                                                    random_state=7, stratify=y)"
      ],
      "execution_count": 0,
      "outputs": []
    },
    {
      "cell_type": "code",
      "metadata": {
        "id": "XXGFabRzrlwZ",
        "colab_type": "code",
        "colab": {}
      },
      "source": [
        ""
      ],
      "execution_count": 0,
      "outputs": []
    },
    {
      "cell_type": "code",
      "metadata": {
        "id": "fV4wZ-C4rlnS",
        "colab_type": "code",
        "colab": {}
      },
      "source": [
        ""
      ],
      "execution_count": 0,
      "outputs": []
    },
    {
      "cell_type": "code",
      "metadata": {
        "id": "K4R6_9ztrleM",
        "colab_type": "code",
        "colab": {}
      },
      "source": [
        ""
      ],
      "execution_count": 0,
      "outputs": []
    },
    {
      "cell_type": "code",
      "metadata": {
        "id": "pdnvTelarlTC",
        "colab_type": "code",
        "colab": {}
      },
      "source": [
        ""
      ],
      "execution_count": 0,
      "outputs": []
    },
    {
      "cell_type": "code",
      "metadata": {
        "id": "lx3dLXSBby0G",
        "colab_type": "code",
        "outputId": "a3a4f1a0-de44-45a6-c9a1-3ea0cb74603f",
        "colab": {
          "base_uri": "https://localhost:8080/",
          "height": 34
        }
      },
      "source": [
        "print(X_train.shape, X_test.shape)"
      ],
      "execution_count": 26,
      "outputs": [
        {
          "output_type": "stream",
          "text": [
            "(8000, 9) (2000, 9)\n"
          ],
          "name": "stdout"
        }
      ]
    },
    {
      "cell_type": "markdown",
      "metadata": {
        "id": "8dYXSc_ub_6q",
        "colab_type": "text"
      },
      "source": [
        "# Define Model"
      ]
    },
    {
      "cell_type": "code",
      "metadata": {
        "id": "m5YijefMb5nv",
        "colab_type": "code",
        "colab": {}
      },
      "source": [
        "# define the keras model\n",
        "model = Sequential()\n",
        "model.add(Dense(12, input_dim=9, activation='relu'))\n",
        "model.add(Dense(9, activation='relu'))\n",
        "model.add(Dense(1, activation='sigmoid'))"
      ],
      "execution_count": 0,
      "outputs": []
    },
    {
      "cell_type": "code",
      "metadata": {
        "id": "E_c46H7UfVyX",
        "colab_type": "code",
        "colab": {}
      },
      "source": [
        ""
      ],
      "execution_count": 0,
      "outputs": []
    },
    {
      "cell_type": "markdown",
      "metadata": {
        "id": "MIdw9ECbfYNC",
        "colab_type": "text"
      },
      "source": [
        "# Define Custom Metric"
      ]
    },
    {
      "cell_type": "code",
      "metadata": {
        "id": "PjIT37JAfXN_",
        "colab_type": "code",
        "colab": {}
      },
      "source": [
        "#Trying to use a custom metric for recall\n",
        "#See https://stackoverflow.com/questions/43345909/when-using-mectrics-in-model-compile-in-keras-report-valueerror-unknown-metr/43354147#43354147\n",
        "\n",
        "import keras.backend as K\n",
        "\n",
        "def f1_score(y_true, y_pred):\n",
        "\n",
        "    # Count positive samples.\n",
        "    c1 = K.sum(K.round(K.clip(y_true * y_pred, 0, 1)))\n",
        "    c2 = K.sum(K.round(K.clip(y_pred, 0, 1)))\n",
        "    c3 = K.sum(K.round(K.clip(y_true, 0, 1)))\n",
        "\n",
        "    # If there are no true samples, fix the F1 score at 0.\n",
        "    if c3 == 0:\n",
        "        return 0\n",
        "\n",
        "    # How many selected items are relevant?\n",
        "    precision = c1 / c2\n",
        "\n",
        "    # How many relevant items are selected?\n",
        "    recall = c1 / c3\n",
        "\n",
        "    # Calculate f1_score\n",
        "    f1_score = 2 * (precision * recall) / (precision + recall)\n",
        "    return f1_score\n"
      ],
      "execution_count": 0,
      "outputs": []
    },
    {
      "cell_type": "code",
      "metadata": {
        "id": "mQZXWHHnby3j",
        "colab_type": "code",
        "colab": {}
      },
      "source": [
        "# compile the keras model\n",
        "model.compile(loss='binary_crossentropy', optimizer='adam', metrics=['accuracy'])"
      ],
      "execution_count": 0,
      "outputs": []
    },
    {
      "cell_type": "code",
      "metadata": {
        "id": "eFWXqcKzby6u",
        "colab_type": "code",
        "colab": {}
      },
      "source": [
        "# fit the keras model on the dataset\n",
        "history = model.fit(X_train, y_train, epochs=150, batch_size=10, validation_split=0.2, verbose=0)"
      ],
      "execution_count": 0,
      "outputs": []
    },
    {
      "cell_type": "code",
      "metadata": {
        "id": "OvU6f9j7by98",
        "colab_type": "code",
        "outputId": "f67a38d6-f9d9-4447-ee54-cb6bb6af6463",
        "colab": {
          "base_uri": "https://localhost:8080/",
          "height": 51
        }
      },
      "source": [
        "# evaluate the keras model\n",
        "_, accuracy = model.evaluate(X_train, y_train)\n",
        "print('Accuracy: %.2f' % (accuracy*100))"
      ],
      "execution_count": 0,
      "outputs": [
        {
          "output_type": "stream",
          "text": [
            "631/631 [==============================] - 1s 2ms/step - loss: 0.3646 - accuracy: 0.8395\n",
            "Accuracy: 83.95\n"
          ],
          "name": "stdout"
        }
      ]
    },
    {
      "cell_type": "code",
      "metadata": {
        "id": "A7-3tYQYbgwy",
        "colab_type": "code",
        "colab": {}
      },
      "source": [
        "# make probability predictions with the model\n",
        "predictions = model.predict(X_test)\n",
        "# round predictions \n",
        "rounded = [round(x[0]) for x in predictions]"
      ],
      "execution_count": 0,
      "outputs": []
    },
    {
      "cell_type": "code",
      "metadata": {
        "id": "Iq4lwlNrbgzx",
        "colab_type": "code",
        "outputId": "729842eb-fb6e-46cd-e613-25d2a5951832",
        "colab": {
          "base_uri": "https://localhost:8080/",
          "height": 34
        }
      },
      "source": [
        "#Sanity check first five predictions\n",
        "rounded[:5]"
      ],
      "execution_count": 38,
      "outputs": [
        {
          "output_type": "execute_result",
          "data": {
            "text/plain": [
              "[0.0, 0.0, 0.0, 0.0, 0.0]"
            ]
          },
          "metadata": {
            "tags": []
          },
          "execution_count": 38
        }
      ]
    },
    {
      "cell_type": "markdown",
      "metadata": {
        "id": "zdKQFXh9cpZ_",
        "colab_type": "text"
      },
      "source": [
        "# Get Confusion Matrix"
      ]
    },
    {
      "cell_type": "code",
      "metadata": {
        "id": "bMlhaqeVcmy5",
        "colab_type": "code",
        "outputId": "f64bbd7f-692e-4d51-b833-0527d33c1920",
        "colab": {
          "base_uri": "https://localhost:8080/",
          "height": 51
        }
      },
      "source": [
        "#Get the confusion matrix\n",
        "cf_matrix = confusion_matrix(rounded, y_test)\n",
        "print(cf_matrix)"
      ],
      "execution_count": 39,
      "outputs": [
        {
          "output_type": "stream",
          "text": [
            "[[1985   11]\n",
            " [   4    0]]\n"
          ],
          "name": "stdout"
        }
      ]
    },
    {
      "cell_type": "code",
      "metadata": {
        "id": "4WZ_c_Mjcm3i",
        "colab_type": "code",
        "outputId": "0f6fafb4-c592-48a0-b5d8-f753c2e3817d",
        "colab": {
          "base_uri": "https://localhost:8080/",
          "height": 609
        }
      },
      "source": [
        "#Pretty confusion_matrix\n",
        "labels = ['True Neg','False Pos','False Neg','True Pos']\n",
        "categories = ['Zero', 'One']\n",
        "make_confusion_matrix.make_confusion_matrix(cf_matrix, \n",
        "                      group_names=labels,\n",
        "                      categories=categories,\n",
        "                      figsize=(12, 9)\n",
        "                     )"
      ],
      "execution_count": 40,
      "outputs": [
        {
          "output_type": "display_data",
          "data": {
            "image/png": "[encoded data removed]",
            "text/plain": [
              "<Figure size 864x648 with 2 Axes>"
            ]
          },
          "metadata": {
            "tags": [],
            "needs_background": "light"
          }
        }
      ]
    },
    {
      "cell_type": "markdown",
      "metadata": {
        "id": "6dzv-obMc-zG",
        "colab_type": "text"
      },
      "source": [
        "# Save Model"
      ]
    },
    {
      "cell_type": "code",
      "metadata": {
        "id": "90oLYjgKcm7M",
        "colab_type": "code",
        "outputId": "8f9d4ff9-c93e-48d2-e9b5-10699bee30f7",
        "colab": {
          "base_uri": "https://localhost:8080/",
          "height": 34
        }
      },
      "source": [
        "model"
      ],
      "execution_count": 0,
      "outputs": [
        {
          "output_type": "execute_result",
          "data": {
            "text/plain": [
              "<tensorflow.python.keras.engine.sequential.Sequential at 0x7fc1a2630710>"
            ]
          },
          "metadata": {
            "tags": []
          },
          "execution_count": 65
        }
      ]
    },
    {
      "cell_type": "code",
      "metadata": {
        "id": "VTLb7kGgcm9_",
        "colab_type": "code",
        "outputId": "93755b55-be38-46f4-c5bd-b800af8a041b",
        "colab": {
          "base_uri": "https://localhost:8080/",
          "height": 34
        }
      },
      "source": [
        "# save model and architecture to single file\n",
        "model.save(\"drive/My Drive/back_order_predictor_v2/cnn_model.h5\")\n",
        "print(\"Saved model to disk\")"
      ],
      "execution_count": 0,
      "outputs": [
        {
          "output_type": "stream",
          "text": [
            "Saved model to disk\n"
          ],
          "name": "stdout"
        }
      ]
    },
    {
      "cell_type": "markdown",
      "metadata": {
        "id": "eFo6hdA8dNlw",
        "colab_type": "text"
      },
      "source": [
        "# Load Model"
      ]
    },
    {
      "cell_type": "code",
      "metadata": {
        "id": "Rxa_KNl_eypR",
        "colab_type": "code",
        "outputId": "cdd1659a-7faa-42ef-dc6f-ef866de75c75",
        "colab": {
          "base_uri": "https://localhost:8080/",
          "height": 34
        }
      },
      "source": [
        "pwd"
      ],
      "execution_count": 0,
      "outputs": [
        {
          "output_type": "execute_result",
          "data": {
            "text/plain": [
              "'/content'"
            ]
          },
          "metadata": {
            "tags": []
          },
          "execution_count": 67
        }
      ]
    },
    {
      "cell_type": "code",
      "metadata": {
        "id": "mMPxn2tpe1IQ",
        "colab_type": "code",
        "outputId": "21d9e215-f440-4c7c-8751-974f36adb81f",
        "colab": {
          "base_uri": "https://localhost:8080/",
          "height": 34
        }
      },
      "source": [
        "!ls"
      ],
      "execution_count": 0,
      "outputs": [
        {
          "output_type": "stream",
          "text": [
            "drive  helpers.py  make_confusion_matrix.py  __pycache__  sample_data\n"
          ],
          "name": "stdout"
        }
      ]
    },
    {
      "cell_type": "code",
      "metadata": {
        "id": "O8ZiHpsFcnBI",
        "colab_type": "code",
        "outputId": "ec4fbe05-d295-4168-fd56-2b1b50893c7e",
        "colab": {
          "base_uri": "https://localhost:8080/",
          "height": 272
        }
      },
      "source": [
        "# load and evaluate a saved model\n",
        "from numpy import loadtxt\n",
        "from keras.models import load_model\n",
        " \n",
        "# load model\n",
        "#model = load_model('cnn_model.h5')\n",
        "model = tf.keras.models.load_model(\"drive/My Drive/back_order_predictor_v2/cnn_model.h5\")\n",
        "\n",
        "# summarize model.\n",
        "model.summary()\n",
        "\n",
        "# load dataset\n",
        "#Note 'url' is defined earlier\n",
        "dataset = pd.read_csv(url, header=0)\n",
        "data = dataset.to_numpy()\n",
        "\n",
        "# split into input (X) and output (y) variables\n",
        "X = data[:,0:8]\n",
        "y = data[:,8]\n",
        "\n",
        "# evaluate the model\n",
        "score = model.evaluate(X, y, verbose=0)\n",
        "print(\"%s: %.2f%%\" % (model.metrics_names[1], score[1]*100))"
      ],
      "execution_count": 0,
      "outputs": [
        {
          "output_type": "stream",
          "text": [
            "Model: \"sequential_3\"\n",
            "_________________________________________________________________\n",
            "Layer (type)                 Output Shape              Param #   \n",
            "=================================================================\n",
            "dense_9 (Dense)              (None, 12)                108       \n",
            "_________________________________________________________________\n",
            "dense_10 (Dense)             (None, 8)                 104       \n",
            "_________________________________________________________________\n",
            "dense_11 (Dense)             (None, 1)                 9         \n",
            "=================================================================\n",
            "Total params: 221\n",
            "Trainable params: 221\n",
            "Non-trainable params: 0\n",
            "_________________________________________________________________\n",
            "accuracy: 84.84%\n"
          ],
          "name": "stdout"
        }
      ]
    },
    {
      "cell_type": "markdown",
      "metadata": {
        "id": "MAsRvmOHdwmJ",
        "colab_type": "text"
      },
      "source": [
        "# Estimating a Stochastic Model's Skill\n",
        "\n",
        "Here we'll rerun our model multiple (k) times to estimate the skill of our model"
      ]
    },
    {
      "cell_type": "code",
      "metadata": {
        "id": "CEV6SZBncnDx",
        "colab_type": "code",
        "colab": {}
      },
      "source": [
        "#Selecting k\n",
        "k = range(1,10)"
      ],
      "execution_count": 0,
      "outputs": []
    },
    {
      "cell_type": "code",
      "metadata": {
        "id": "2j2rk-D6dqi-",
        "colab_type": "code",
        "outputId": "33a7e56f-e0b2-4795-94da-c75eaf579b28",
        "colab": {
          "base_uri": "https://localhost:8080/",
          "height": 476
        }
      },
      "source": [
        "scores = list()\n",
        "for i in k:\n",
        "    #train, test = split_old(data, i)\n",
        "    X_train,X_test, y_train, y_test = train_test_split(X,y, test_size = i/10,\n",
        "                                  random_state=7, stratify=y)\n",
        "    \n",
        "    # define the keras model\n",
        "    model = Sequential()\n",
        "    model.add(Dense(12, input_dim=8, activation='relu'))\n",
        "    model.add(Dense(8, activation='relu'))\n",
        "    model.add(Dense(1, activation='sigmoid'))\n",
        "    \n",
        "    # compile the keras model\n",
        "    model.compile(loss='binary_crossentropy', optimizer='adam', metrics=['accuracy'])\n",
        "         \n",
        "    #fit\n",
        "    model.fit(X_train, y_train, epochs=150, batch_size=10, verbose=0)\n",
        "    \n",
        "    # evaluate the keras model\n",
        "    _, accuracy = model.evaluate(X_test, y_test)\n",
        "    \n",
        "    #Get scores\n",
        "    scores.append(accuracy*100)\n",
        "    print('Fold ', i,' fitted\\n')\n",
        "    #print(\"%s: %.2f%%\" % (model.metrics_names[1], accuracy[1]*100))"
      ],
      "execution_count": 0,
      "outputs": [
        {
          "output_type": "stream",
          "text": [
            "79/79 [==============================] - 0s 2ms/step - loss: 0.3614 - accuracy: 0.8469\n",
            "Fold  1  fitted\n",
            "\n",
            "158/158 [==============================] - 0s 2ms/step - loss: 0.3636 - accuracy: 0.8511\n",
            "Fold  2  fitted\n",
            "\n",
            "237/237 [==============================] - 1s 2ms/step - loss: 0.5527 - accuracy: 0.8451\n",
            "Fold  3  fitted\n",
            "\n",
            "316/316 [==============================] - 1s 2ms/step - loss: 0.3632 - accuracy: 0.8529\n",
            "Fold  4  fitted\n",
            "\n",
            "394/394 [==============================] - 1s 2ms/step - loss: 0.3972 - accuracy: 0.8194\n",
            "Fold  5  fitted\n",
            "\n",
            "473/473 [==============================] - 1s 2ms/step - loss: 0.3789 - accuracy: 0.8509\n",
            "Fold  6  fitted\n",
            "\n",
            "552/552 [==============================] - 1s 2ms/step - loss: 0.3927 - accuracy: 0.8396\n",
            "Fold  7  fitted\n",
            "\n",
            "631/631 [==============================] - 1s 2ms/step - loss: 4.3984 - accuracy: 0.8333\n",
            "Fold  8  fitted\n",
            "\n",
            "710/710 [==============================] - 2s 2ms/step - loss: 1.2246 - accuracy: 0.8267\n",
            "Fold  9  fitted\n",
            "\n"
          ],
          "name": "stdout"
        }
      ]
    },
    {
      "cell_type": "code",
      "metadata": {
        "id": "oLYO7VT7dqmj",
        "colab_type": "code",
        "outputId": "6edcbd2e-d466-4b08-9ffd-79dbb2170280",
        "colab": {
          "base_uri": "https://localhost:8080/",
          "height": 34
        }
      },
      "source": [
        "#Get mean skill\n",
        "mean_skill = sum(scores) / len(scores)\n",
        "print('Mean accuracy is: ', round(mean_skill, 2))"
      ],
      "execution_count": 0,
      "outputs": [
        {
          "output_type": "stream",
          "text": [
            "Mean accuracy is:  84.06\n"
          ],
          "name": "stdout"
        }
      ]
    },
    {
      "cell_type": "code",
      "metadata": {
        "id": "9zajPfmJh5M9",
        "colab_type": "code",
        "outputId": "6193e370-0974-4cca-d35d-dd9e02cd46f6",
        "colab": {
          "base_uri": "https://localhost:8080/",
          "height": 34
        }
      },
      "source": [
        "#Get standard deviation\n",
        "b = []\n",
        "for score in scores:\n",
        "    #print (score)\n",
        "    b.append(((score - mean_skill)**2))\n",
        "    \n",
        "standard_deviation = math.sqrt(1/len(scores) * sum(b))\n",
        "print('Standard Deviation is: ', round(standard_deviation,2))"
      ],
      "execution_count": 0,
      "outputs": [
        {
          "output_type": "stream",
          "text": [
            "Standard Deviation is:  1.12\n"
          ],
          "name": "stdout"
        }
      ]
    },
    {
      "cell_type": "markdown",
      "metadata": {
        "id": "m791bKWHHDoI",
        "colab_type": "text"
      },
      "source": [
        "Our model has a mean acccuracy of 84.06% with a standard deviation of +-1.12"
      ]
    },
    {
      "cell_type": "markdown",
      "metadata": {
        "id": "ZdmRoOv_qLMK",
        "colab_type": "text"
      },
      "source": [
        "# Model Validation"
      ]
    },
    {
      "cell_type": "code",
      "metadata": {
        "id": "4x1s8l0_qJ93",
        "colab_type": "code",
        "colab": {}
      },
      "source": [
        "#Load validation data\n",
        "\n",
        "#Split validation data (X_val, y_val)"
      ],
      "execution_count": 0,
      "outputs": []
    },
    {
      "cell_type": "code",
      "metadata": {
        "id": "ZgzDS_Hlq-Yu",
        "colab_type": "code",
        "colab": {}
      },
      "source": [
        "# make probability predictions with the model\n",
        "predictions = model.predict(X_val)\n",
        "# round predictions \n",
        "rounded = [round(x[0]) for x in predictions]"
      ],
      "execution_count": 0,
      "outputs": []
    },
    {
      "cell_type": "code",
      "metadata": {
        "id": "JMpuHACwh5Q3",
        "colab_type": "code",
        "colab": {}
      },
      "source": [
        "#Get confusion matrix\n",
        "cf_matrix = confusion_matrix(rounded, y_val)\n",
        "print(cf_matrix)"
      ],
      "execution_count": 0,
      "outputs": []
    },
    {
      "cell_type": "code",
      "metadata": {
        "id": "MWtW8tk5cnG8",
        "colab_type": "code",
        "colab": {}
      },
      "source": [
        "#Pretty confusion_matrix\n",
        "labels = ['True Neg','False Pos','False Neg','True Pos']\n",
        "categories = ['Zero', 'One']\n",
        "make_confusion_matrix.make_confusion_matrix(cf_matrix, \n",
        "                      group_names=labels,\n",
        "                      categories=categories,\n",
        "                      figsize=(12, 9)\n",
        "                     )"
      ],
      "execution_count": 0,
      "outputs": []
    },
    {
      "cell_type": "markdown",
      "metadata": {
        "id": "3_19ph6p_2XI",
        "colab_type": "text"
      },
      "source": [
        "\n",
        "# Plot Learning Curves\n",
        "\n"
      ]
    },
    {
      "cell_type": "code",
      "metadata": {
        "colab_type": "code",
        "id": "KqmziAjQK1o6",
        "outputId": "4cef529b-9ce3-4de6-a109-eb02b3b16c85",
        "colab": {
          "base_uri": "https://localhost:8080/",
          "height": 573
        }
      },
      "source": [
        "'''Plot training and validation accuracy values\n",
        "'''\n",
        "#epoch_range = range(1, epoch+1)\n",
        "plt.plot(history.history['accuracy'])\n",
        "plt.plot(history.history['val_accuracy'])\n",
        "plt.title(\"Model accuracy\")\n",
        "plt.ylabel('Accuracy')\n",
        "plt.xlabel('Epoch')\n",
        "plt.legend(['Train', 'Val'], loc='upper left')\n",
        "plt.show()\n",
        "\n",
        "'''Plot training and validation loss values\n",
        "'''\n",
        "plt.plot(history.history['loss'])\n",
        "plt.plot(history.history['val_loss'])\n",
        "plt.title('Model loss')\n",
        "plt.ylabel('Loss')\n",
        "plt.xlabel('Epoch')\n",
        "plt.legend(['Train', 'Val'], loc='upper left')\n",
        "plt.show()"
      ],
      "execution_count": 0,
      "outputs": [
        {
          "output_type": "display_data",
          "data": {
            "image/png": "[encoded data removed]",
            "text/plain": [
              "<Figure size 432x288 with 1 Axes>"
            ]
          },
          "metadata": {
            "tags": [],
            "needs_background": "light"
          }
        },
        {
          "output_type": "display_data",
          "data": {
            "image/png": "[encoded data removed]",
            "text/plain": [
              "<Figure size 432x288 with 1 Axes>"
            ]
          },
          "metadata": {
            "tags": [],
            "needs_background": "light"
          }
        }
      ]
    },
    {
      "cell_type": "markdown",
      "metadata": {
        "id": "pUcL9yb4PLGM",
        "colab_type": "text"
      },
      "source": [
        "Performance seems to have saturated around 85% accuracy.\n",
        "\n",
        "Thus, increasing the training sample size will likely not improve performamnce.\n",
        "\n",
        "Our model is not overfitting as the validation accuracy is still higher than the training accuracy for the most part."
      ]
    },
    {
      "cell_type": "code",
      "metadata": {
        "id": "lWpQUe-uPG9T",
        "colab_type": "code",
        "colab": {}
      },
      "source": [
        ""
      ],
      "execution_count": 0,
      "outputs": []
    },
    {
      "cell_type": "code",
      "metadata": {
        "id": "WaONzctLK0by",
        "colab_type": "code",
        "colab": {}
      },
      "source": [
        ""
      ],
      "execution_count": 0,
      "outputs": []
    },
    {
      "cell_type": "markdown",
      "metadata": {
        "id": "7_1K2OSLTd7U",
        "colab_type": "text"
      },
      "source": [
        "# Model Testing"
      ]
    },
    {
      "cell_type": "code",
      "metadata": {
        "id": "4JsuMMhFK0ij",
        "colab_type": "code",
        "colab": {}
      },
      "source": [
        "import numpy as np \n",
        "import pandas as pd\n",
        "from sklearn.base import BaseEstimator, TransformerMixin\n",
        "from sklearn.preprocessing import OneHotEncoder, StandardScaler\n",
        "from sklearn.impute import SimpleImputer\n",
        "from sklearn.pipeline import FeatureUnion, Pipeline\n",
        "from sklearn.pipeline import make_pipeline\n",
        "import sklearn.preprocessing\n",
        "from sklearn.compose import make_column_transformer\n",
        "from sklearn.compose import ColumnTransformer\n",
        "#from sklearn.preprocessing import OneHotEncoder\n",
        "#from sklearn.preprocessing import OrdinalEncoder\n",
        "from sklearn.preprocessing import StandardScaler\n",
        "#from sklearn.ensemble import RandomForestRegressor, GradientBoostingRegressor\n",
        "#from sklearn.linear_model import Lasso, Ridge, ElasticNet\n",
        "from sklearn.linear_model import LogisticRegression\n",
        "#from sklearn import svm\n",
        "#from sklearn.svm import SVC\n",
        "#from sklearn.ensemble import RandomForestClassifier, GradientBoostingClassifier\n",
        "#from catboost import CatBoostClassifier\n",
        "from sklearn.preprocessing import PowerTransformer\n",
        "\n",
        "\n",
        "#from sklearn.model_selection import GridSearchCV\n",
        "from sklearn.model_selection import RandomizedSearchCV\n",
        "import pickle\n",
        "from sklearn.feature_selection import SelectKBest\n",
        "from sklearn.feature_selection import chi2\n",
        "import matplotlib.pyplot as plt\n",
        "\n",
        "import warnings\n",
        "warnings.filterwarnings('ignore')\n",
        "\n",
        "#to adjust figsize of plots\n",
        "plt.rcParams['figure.figsize'] = (20,6)\n",
        "pd.set_option('display.max_columns', None)"
      ],
      "execution_count": 0,
      "outputs": []
    },
    {
      "cell_type": "code",
      "metadata": {
        "id": "GU9_ZP6-ThuN",
        "colab_type": "code",
        "colab": {}
      },
      "source": [
        "#Define data file path and target variable\n",
        "file = '/content/drive/My Drive/back_order_predictor_v2/derived_data/validate_data.csv'\n",
        "target = 'went_on_backorder_Yes'\n",
        "#test_features = pd.read_csv('derived_data/test_data.csv')"
      ],
      "execution_count": 0,
      "outputs": []
    },
    {
      "cell_type": "code",
      "metadata": {
        "id": "65LKamWuThxN",
        "colab_type": "code",
        "colab": {}
      },
      "source": [
        "class Data():\n",
        "    '''Loads data, samples training data if specified, assigns features_df and target_df\n",
        "    '''\n",
        "    def __init__(self, file, target, sample=False, n_samples=None):\n",
        "        self.file = file\n",
        "        self. sample = sample\n",
        "        self.n_sample = n_sample\n",
        "        self.target = target\n",
        "    \n",
        "    def get_data(file, sample=False, n_samples=None):\n",
        "        '''Loads train data with option to sample'''\n",
        "        data = pd.read_csv(file)\n",
        "        if sample:\n",
        "            '''Sample train data due to resource limitation'''\n",
        "            data = data.sample(n_samples, random_state=123)\n",
        "        else:\n",
        "            data = data\n",
        "        print(data.shape, 'data loaded')\n",
        "        return data\n",
        "         \n",
        "    def get_features():\n",
        "        '''Assigns features dataframe'''\n",
        "        features_df = data.drop(target, axis = 1)\n",
        "        print(features_df.shape, 'features assigned')\n",
        "        return features_df\n",
        "        \n",
        "    def get_target():\n",
        "        '''Assigns target'''\n",
        "        target_df = data[target].values\n",
        "        print(target_df.shape, '...target rows loaded')\n",
        "        return target_df\n",
        "    \n",
        "\n",
        "class FeatureSelector(BaseEstimator, TransformerMixin):\n",
        "    '''Custom transformer to extract columns passed as arguments'''\n",
        "    \n",
        "    def __init__(self, feature_names):\n",
        "        '''Class constructor'''\n",
        "        self._feature_names = feature_names\n",
        "        \n",
        "    def fit(self, features_df, target = None):\n",
        "        '''Returns self and nothing else'''\n",
        "        return self\n",
        "    \n",
        "    def transform( self, features_df, target = None):\n",
        "        '''This method returns selected features'''\n",
        "        return features_df[ self._feature_names] \n",
        "    \n",
        "\n",
        "class FeatureSelector(BaseEstimator, TransformerMixin):\n",
        "    '''Custom transformer to extract columns passed as arguments'''\n",
        "    \n",
        "    def __init__(self, feature_names):\n",
        "        '''Class constructor'''\n",
        "        self._feature_names = feature_names\n",
        "        \n",
        "    def fit(self, features_df, target = None):\n",
        "        '''Returns self and nothing else'''\n",
        "        return self\n",
        "    \n",
        "    def transform( self, features_df, target = None):\n",
        "        '''This method returns selected features'''\n",
        "        return features_df[ self._feature_names] \n",
        "    \n",
        "\n",
        "class DropMissing(BaseEstimator, TransformerMixin, object):\n",
        "    '''Takes df, drops all observaions with missing values\n",
        "    '''\n",
        "    features_df_test = pd.DataFrame()\n",
        "    def __init__(self, features_df):\n",
        "        self.features_df = features_df\n",
        "\n",
        "    def fit(self, features_df, target=None):\n",
        "        return self\n",
        "    \n",
        "    def transform(self, features_df, target=None):\n",
        "        features_df_test = features_df.dropna(axis = 0, how = 'any', inplace = False)\n",
        "        return features_df_test\n",
        "    \n",
        "\n",
        "class PowerTransform(BaseEstimator, TransformerMixin):\n",
        "    '''Takes df, applies power transformation\n",
        "    '''\n",
        "    def __init__(self, features_df, target=None):\n",
        "        self.features_df = features_df\n",
        "    \n",
        "    def fit(self, features_df, target=None):\n",
        "        return self\n",
        "\n",
        "    def transform(self, features_df, target=None):\n",
        "        power = PowerTransformer(method= 'yeo-johnson', standardize=True)\n",
        "        \n",
        "        #Apply power transformation to features df\n",
        "        features_df = power.fit_transform(features_df)\n",
        "\n",
        "        return features_df\n",
        "    \n",
        "class Models(object):\n",
        "    '''This class holds all modeling objects\n",
        "       Note: Instantiate any additional models to test as class variables below    \n",
        "    '''\n",
        "    pass"
      ],
      "execution_count": 0,
      "outputs": []
    },
    {
      "cell_type": "code",
      "metadata": {
        "id": "G2cPe-lwTh2p",
        "colab_type": "code",
        "outputId": "136274ab-4863-4a10-a085-4375365c6b82",
        "colab": {
          "base_uri": "https://localhost:8080/",
          "height": 289
        }
      },
      "source": [
        "if __name__ == '__main__':\n",
        "    \n",
        "    #Load data\n",
        "    data = Data.get_data(file, sample=True, n_samples = 10000)\n",
        "    features_df = Data.get_features()\n",
        "    target_df = Data.get_target()\n",
        "    \n",
        "    '''Data transformation pipelines'''\n",
        "    #Categrical features to pass down categorical pipeline \n",
        "    categorical_features = ['oe_constraint_Yes', 'potential_issue_Yes',\n",
        "                       'ppap_risk_Yes','stop_auto_buy_Yes']\n",
        "\n",
        "    #Numerical features to pass down numerical pipeline \n",
        "    numerical_features = ['national_inv','in_transit_qty', 'sales_1_month',\n",
        "                     'pieces_past_due']\n",
        "    \n",
        "    #Defining steps in the categorical pipeline \n",
        "    categorical_pipeline = Pipeline( steps = [('cat_selector', FeatureSelector(categorical_features)),\n",
        "                                                                                                                              \n",
        "                                              ('drop_missing', DropMissing(features_df)),\n",
        "                                          \n",
        "                                              ('power_transform', PowerTransform(features_df))\n",
        "                                         \n",
        "                                         ])\n",
        "    \n",
        "    #Defining the steps in the numerical pipeline \n",
        "    numerical_pipeline = Pipeline( steps = [('num_selector', FeatureSelector(numerical_features)),\n",
        "                                        \n",
        "                                            ('drop_missing', DropMissing(features_df)),\n",
        "                                        \n",
        "                                            ('power_transform', PowerTransform(features_df))\n",
        "                                   \n",
        "                                       ] )\n",
        "    \n",
        "    #Combine numerical and categorical pieplines horizontally using FeatureUnion\n",
        "    full_pipeline = FeatureUnion( transformer_list = [('categorical_pipeline', categorical_pipeline), \n",
        "                                                  \n",
        "                                                      ('numerical_pipeline', numerical_pipeline )])\n",
        "    #Disabling pandas chained_assignment warning\n",
        "    pd.options.mode.chained_assignment = None\n",
        "    \n",
        "    #Fitting data to data transformation pipeline\n",
        "    prepared_features_df = full_pipeline.fit_transform(features_df, target_df)\n",
        "    \n",
        "    print(prepared_features_df)"
      ],
      "execution_count": 0,
      "outputs": [
        {
          "output_type": "stream",
          "text": [
            "(10000, 23) data loaded\n",
            "(10000, 22) features assigned\n",
            "(10000,) ...target rows loaded\n",
            "[[-0.01414355 -0.03001351 -0.38141234 ...  1.16704256  1.36000114\n",
            "  -0.12423609]\n",
            " [-0.01414355 -0.03001351 -0.38141234 ...  1.98863367  0.17598154\n",
            "  -0.12423609]\n",
            " [-0.01414355 -0.03001351  2.62183442 ... -0.50575267  0.17598154\n",
            "  -0.12423609]\n",
            " ...\n",
            " [-0.01414355 -0.03001351 -0.38141234 ... -0.50575267 -0.81542333\n",
            "  -0.12423609]\n",
            " [-0.01414355 -0.03001351 -0.38141234 ... -0.50575267 -0.81542333\n",
            "  -0.12423609]\n",
            " [-0.01414355 -0.03001351 -0.38141234 ... -0.50575267 -0.81542333\n",
            "  -0.12423609]]\n"
          ],
          "name": "stdout"
        }
      ]
    },
    {
      "cell_type": "code",
      "metadata": {
        "id": "AcGLsMXZcoB9",
        "colab_type": "code",
        "outputId": "3f776d1f-ec0b-4c0d-afa7-792ded186d63",
        "colab": {
          "base_uri": "https://localhost:8080/",
          "height": 238
        }
      },
      "source": [
        "prepared_features_df"
      ],
      "execution_count": 0,
      "outputs": [
        {
          "output_type": "execute_result",
          "data": {
            "text/plain": [
              "array([[-0.01414355, -0.03001351, -0.38141234, ...,  1.16704256,\n",
              "         1.36000114, -0.12423609],\n",
              "       [-0.01414355, -0.03001351, -0.38141234, ...,  1.98863367,\n",
              "         0.17598154, -0.12423609],\n",
              "       [-0.01414355, -0.03001351,  2.62183442, ..., -0.50575267,\n",
              "         0.17598154, -0.12423609],\n",
              "       ...,\n",
              "       [-0.01414355, -0.03001351, -0.38141234, ..., -0.50575267,\n",
              "        -0.81542333, -0.12423609],\n",
              "       [-0.01414355, -0.03001351, -0.38141234, ..., -0.50575267,\n",
              "        -0.81542333, -0.12423609],\n",
              "       [-0.01414355, -0.03001351, -0.38141234, ..., -0.50575267,\n",
              "        -0.81542333, -0.12423609]])"
            ]
          },
          "metadata": {
            "tags": []
          },
          "execution_count": 33
        }
      ]
    },
    {
      "cell_type": "code",
      "metadata": {
        "id": "G0RIhUNrTh5u",
        "colab_type": "code",
        "colab": {}
      },
      "source": [
        "# make probability predictions with the model\n",
        "predictions = model.predict(prepared_features_df)\n",
        "# round predictions \n",
        "rounded = [round(x[0]) for x in predictions]"
      ],
      "execution_count": 0,
      "outputs": []
    },
    {
      "cell_type": "code",
      "metadata": {
        "id": "utamQC98TiAD",
        "colab_type": "code",
        "outputId": "19cceafb-478b-4cef-f1cc-b6cb5cc8adc8",
        "colab": {
          "base_uri": "https://localhost:8080/",
          "height": 34
        }
      },
      "source": [
        "#Sanity check first five predictions\n",
        "rounded[:5]"
      ],
      "execution_count": 0,
      "outputs": [
        {
          "output_type": "execute_result",
          "data": {
            "text/plain": [
              "[1.0, 0.0, 1.0, 0.0, 0.0]"
            ]
          },
          "metadata": {
            "tags": []
          },
          "execution_count": 35
        }
      ]
    },
    {
      "cell_type": "code",
      "metadata": {
        "id": "D4HhAj6RUnrp",
        "colab_type": "code",
        "outputId": "c85aea8f-2037-435e-9303-f6461530c974",
        "colab": {
          "base_uri": "https://localhost:8080/",
          "height": 51
        }
      },
      "source": [
        "#Get the confusion matrix\n",
        "cf_matrix = confusion_matrix(rounded, target_df)\n",
        "print(cf_matrix)"
      ],
      "execution_count": 0,
      "outputs": [
        {
          "output_type": "stream",
          "text": [
            "[[7251   41]\n",
            " [2693   15]]\n"
          ],
          "name": "stdout"
        }
      ]
    },
    {
      "cell_type": "code",
      "metadata": {
        "id": "X088E2ThUnu-",
        "colab_type": "code",
        "outputId": "ffc98782-3754-40d6-8310-436328fb2a5e",
        "colab": {
          "base_uri": "https://localhost:8080/",
          "height": 609
        }
      },
      "source": [
        "#Pretty confusion_matrix\n",
        "labels = ['True Neg','False Pos','False Neg','True Pos']\n",
        "categories = ['Zero', 'One']\n",
        "make_confusion_matrix.make_confusion_matrix(cf_matrix, \n",
        "                      group_names=labels,\n",
        "                      categories=categories,\n",
        "                      figsize=(12, 9)\n",
        "                     )"
      ],
      "execution_count": 0,
      "outputs": [
        {
          "output_type": "display_data",
          "data": {
            "image/png": "[encoded data removed]",
            "text/plain": [
              "<Figure size 864x648 with 2 Axes>"
            ]
          },
          "metadata": {
            "tags": [],
            "needs_background": "light"
          }
        }
      ]
    },
    {
      "cell_type": "code",
      "metadata": {
        "id": "y1q6YoRLUnyG",
        "colab_type": "code",
        "colab": {}
      },
      "source": [
        ""
      ],
      "execution_count": 0,
      "outputs": []
    },
    {
      "cell_type": "code",
      "metadata": {
        "id": "hQ-vNYr7Th0R",
        "colab_type": "code",
        "colab": {}
      },
      "source": [
        ""
      ],
      "execution_count": 0,
      "outputs": []
    }
  ]
}